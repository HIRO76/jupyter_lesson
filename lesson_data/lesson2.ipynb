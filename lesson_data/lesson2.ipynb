{
 "cells": [
  {
   "cell_type": "code",
   "execution_count": 1,
   "metadata": {},
   "outputs": [
    {
     "name": "stdout",
     "output_type": "stream",
     "text": [
      "ham\n",
      "spam\n",
      "spam\n",
      "eggs\n",
      "spam\n",
      "ham\n",
      "eggs\n",
      "spam\n",
      "spam\n",
      "eggs\n",
      "finish!\n"
     ]
    }
   ],
   "source": [
    "for i in range(10):\n",
    "    if i % 5 == 0:\n",
    "            print('ham')\n",
    "    elif i % 3 == 0:\n",
    "            print('eggs')\n",
    "    else:\n",
    "            print(\"spam\")\n",
    "print('finish!')"
   ]
  },
  {
   "cell_type": "code",
   "execution_count": 3,
   "metadata": {},
   "outputs": [
    {
     "name": "stdout",
     "output_type": "stream",
     "text": [
      "1950年は昭和です\n",
      "1951年は昭和です\n",
      "1952年は昭和です\n",
      "1953年は昭和です\n",
      "1954年は昭和です\n",
      "1955年は昭和です\n",
      "1956年は昭和です\n",
      "1957年は昭和です\n",
      "1958年は昭和です\n",
      "1959年は昭和です\n",
      "1960年は昭和です\n",
      "1961年は昭和です\n",
      "1962年は昭和です\n",
      "1963年は昭和です\n",
      "1964年は昭和です\n",
      "1965年は昭和です\n",
      "1966年は昭和です\n",
      "1967年は昭和です\n",
      "1968年は昭和です\n",
      "1969年は昭和です\n",
      "1970年は昭和です\n",
      "1971年は昭和です\n",
      "1972年は昭和です\n",
      "1973年は昭和です\n",
      "1974年は昭和です\n",
      "1975年は昭和です\n",
      "1976年は昭和です\n",
      "1977年は昭和です\n",
      "1978年は昭和です\n",
      "1979年は昭和です\n",
      "1980年は昭和です\n",
      "1981年は昭和です\n",
      "1982年は昭和です\n",
      "1983年は昭和です\n",
      "1984年は昭和です\n",
      "1985年は昭和です\n",
      "1986年は昭和です\n",
      "1987年は昭和です\n",
      "1988年は昭和です\n",
      "1989年は平成です\n",
      "1990年は平成です\n",
      "1991年は平成です\n",
      "1992年は平成です\n",
      "1993年は平成です\n",
      "1994年は平成です\n",
      "1995年は平成です\n",
      "1996年は平成です\n",
      "1997年は平成です\n",
      "1998年は平成です\n",
      "1999年は平成です\n",
      "2000年は平成です\n",
      "2001年は平成です\n",
      "2002年は平成です\n",
      "2003年は平成です\n",
      "2004年は平成です\n",
      "2005年は平成です\n",
      "2006年は平成です\n",
      "2007年は平成です\n",
      "2008年は平成です\n",
      "2009年は平成です\n",
      "2010年は平成です\n",
      "2011年は平成です\n",
      "2012年は平成です\n",
      "2013年は平成です\n",
      "2014年は平成です\n",
      "2015年は平成です\n",
      "2016年は平成です\n",
      "2017年は平成です\n",
      "2018年は平成です\n",
      "2019年は令和です\n",
      "2020年は令和です\n"
     ]
    }
   ],
   "source": [
    "for year in range(1950,2021):\n",
    "    if year < 1989:\n",
    "        print(f\"{year}年は昭和です\")\n",
    "    elif year < 2019:\n",
    "        print(f'{year}年は平成です')\n",
    "    else:\n",
    "        print(f'{year}年は令和です')"
   ]
  },
  {
   "cell_type": "code",
   "execution_count": 4,
   "metadata": {},
   "outputs": [
    {
     "name": "stdout",
     "output_type": "stream",
     "text": [
      "0では割れません。 division by zero\n"
     ]
    }
   ],
   "source": [
    "try:\n",
    "    1/0\n",
    "except ZeroDivisionError as e:\n",
    "    print('0では割れません。', e)"
   ]
  },
  {
   "cell_type": "code",
   "execution_count": 5,
   "metadata": {},
   "outputs": [
    {
     "name": "stdout",
     "output_type": "stream",
     "text": [
      "[4, 3, 4]\n"
     ]
    }
   ],
   "source": [
    "names = ['spam', 'ham', 'eggs']\n",
    "lens = []\n",
    "for name in names:\n",
    "    lens.append(len(name))\n",
    "print(lens)"
   ]
  },
  {
   "cell_type": "code",
   "execution_count": 7,
   "metadata": {},
   "outputs": [
    {
     "name": "stdout",
     "output_type": "stream",
     "text": [
      "[4, 3, 4]\n"
     ]
    }
   ],
   "source": [
    "names = ['spam', 'ham', 'eggs']\n",
    "data = [len(name) for name in names]\n",
    "print(data)"
   ]
  },
  {
   "cell_type": "code",
   "execution_count": 8,
   "metadata": {},
   "outputs": [
    {
     "name": "stdout",
     "output_type": "stream",
     "text": [
      "{3, 4}\n"
     ]
    }
   ],
   "source": [
    "names = ['spam','ham','eggs']\n",
    "set_ = {len(name) for name in names}\n",
    "print(set_)"
   ]
  },
  {
   "cell_type": "code",
   "execution_count": 10,
   "metadata": {},
   "outputs": [
    {
     "name": "stdout",
     "output_type": "stream",
     "text": [
      "{'spam': 4, 'ham': 3, 'eggs': 4}\n"
     ]
    }
   ],
   "source": [
    "names = ['spam', 'ham', 'eggs']\n",
    "dict_ = {name: len(name) for name in names}\n",
    "print(dict_)"
   ]
  },
  {
   "cell_type": "code",
   "execution_count": 12,
   "metadata": {},
   "outputs": [
    {
     "name": "stdout",
     "output_type": "stream",
     "text": [
      "[0, 4, 16, 36, 64]\n"
     ]
    }
   ],
   "source": [
    "data = [n*n for n in range(10) if n % 2 == 0]\n",
    "print(data)"
   ]
  },
  {
   "cell_type": "code",
   "execution_count": 14,
   "metadata": {},
   "outputs": [
    {
     "name": "stdout",
     "output_type": "stream",
     "text": [
      "[[(0, 0), (0, 4), (0, 16), (0, 36), (0, 64)], [(1, 0), (1, 4), (1, 16), (1, 36), (1, 64)], [(2, 0), (2, 4), (2, 16), (2, 36), (2, 64)]]\n"
     ]
    }
   ],
   "source": [
    "data = [[(i, n*n) for n in range(10) if n%2==0] for i in range(3)]\n",
    "print(data)"
   ]
  },
  {
   "cell_type": "code",
   "execution_count": null,
   "metadata": {},
   "outputs": [],
   "source": [
    "l = [n*n for n in range(100000)]\n",
    "type(l), len(l)\n",
    "# %timeit -n 1000 -r 10  [n*n for n in range(100000)]"
   ]
  },
  {
   "cell_type": "code",
   "execution_count": 21,
   "metadata": {},
   "outputs": [
    {
     "data": {
      "text/plain": [
       "(0, 1, 4, 9, 16)"
      ]
     },
     "execution_count": 21,
     "metadata": {},
     "output_type": "execute_result"
    }
   ],
   "source": [
    "g = (n*n for n in range(100000))\n",
    "type(g)\n",
    "next(g), next(g), next(g),next(g),next(g)"
   ]
  },
  {
   "cell_type": "code",
   "execution_count": 25,
   "metadata": {},
   "outputs": [],
   "source": [
    "with open('sample.txt', 'w') as f:\n",
    "    f.write('hello\\t')\n",
    "    f.write('world & Python')"
   ]
  },
  {
   "cell_type": "code",
   "execution_count": 27,
   "metadata": {},
   "outputs": [
    {
     "data": {
      "text/plain": [
       "True"
      ]
     },
     "execution_count": 27,
     "metadata": {},
     "output_type": "execute_result"
    }
   ],
   "source": [
    "f.closed"
   ]
  },
  {
   "cell_type": "code",
   "execution_count": 28,
   "metadata": {},
   "outputs": [
    {
     "name": "stdout",
     "output_type": "stream",
     "text": [
      "hello\tworld & Python\n"
     ]
    }
   ],
   "source": [
    "with open('sample.txt', 'r') as f:\n",
    "    data = f.read()\n",
    "    print(data)"
   ]
  },
  {
   "cell_type": "code",
   "execution_count": 31,
   "metadata": {},
   "outputs": [
    {
     "name": "stdout",
     "output_type": "stream",
     "text": [
      "HELLO PYTHON\n",
      "hello python\n",
      "Hello Python\n"
     ]
    }
   ],
   "source": [
    "str_ = 'hEllo pyThon'\n",
    "print(str_.upper())\n",
    "print(str_.lower())\n",
    "print(str_.title())"
   ]
  },
  {
   "cell_type": "code",
   "execution_count": 32,
   "metadata": {},
   "outputs": [
    {
     "name": "stdout",
     "output_type": "stream",
     "text": [
      "hello Java\n"
     ]
    }
   ],
   "source": [
    "str_ = 'hello python'\n",
    "print(str_.replace('python', 'Java'))"
   ]
  },
  {
   "cell_type": "code",
   "execution_count": 35,
   "metadata": {},
   "outputs": [
    {
     "name": "stdout",
     "output_type": "stream",
     "text": [
      "['spam', 'ham', 'eggs']\n",
      "spam    ham    eggs\n"
     ]
    }
   ],
   "source": [
    "str_ = '    spam    ham    eggs    '\n",
    "print(str_.split())\n",
    "print(str_.strip())"
   ]
  },
  {
   "cell_type": "code",
   "execution_count": 39,
   "metadata": {},
   "outputs": [
    {
     "name": "stdout",
     "output_type": "stream",
     "text": [
      "True\n"
     ]
    }
   ],
   "source": [
    "str_ = 'sample.jpg'\n",
    "print(str_.endswith(('jpg', 'gif', 'png')))"
   ]
  },
  {
   "cell_type": "code",
   "execution_count": 41,
   "metadata": {},
   "outputs": [
    {
     "data": {
      "text/plain": [
       "True"
      ]
     },
     "execution_count": 41,
     "metadata": {},
     "output_type": "execute_result"
    }
   ],
   "source": [
    "'123456789'.isdigit()"
   ]
  },
  {
   "cell_type": "code",
   "execution_count": 42,
   "metadata": {},
   "outputs": [
    {
     "data": {
      "text/plain": [
       "15"
      ]
     },
     "execution_count": 42,
     "metadata": {},
     "output_type": "execute_result"
    }
   ],
   "source": [
    "str_ = 'The quick brown'\n",
    "len(str_)"
   ]
  },
  {
   "cell_type": "code",
   "execution_count": 43,
   "metadata": {},
   "outputs": [
    {
     "data": {
      "text/plain": [
       "True"
      ]
     },
     "execution_count": 43,
     "metadata": {},
     "output_type": "execute_result"
    }
   ],
   "source": [
    "str_ = 'hello python'\n",
    "'py' in str_"
   ]
  },
  {
   "cell_type": "code",
   "execution_count": 44,
   "metadata": {},
   "outputs": [
    {
     "data": {
      "text/plain": [
       "'spam@ham@eggs'"
      ]
     },
     "execution_count": 44,
     "metadata": {},
     "output_type": "execute_result"
    }
   ],
   "source": [
    "'@'.join(['spam', 'ham', 'eggs'])"
   ]
  },
  {
   "cell_type": "code",
   "execution_count": 50,
   "metadata": {},
   "outputs": [
    {
     "name": "stdout",
     "output_type": "stream",
     "text": [
      "hiroはpython歴10年です。\n",
      "10年学習したpythonはhiroのものです。\n",
      "pythonは10乗のhiroと申します。\n"
     ]
    }
   ],
   "source": [
    "lang, num, name = 'python', 10, 'hiro'\n",
    "print(\"{}は{}歴{}年です。\".format(name, lang, num))\n",
    "print(\"{2}年学習した{1}は{0}のものです。\".format(name,lang,num))\n",
    "print(\"{l}は{num}乗の{n}と申します。\".format(l=lang, num=num, n=name))"
   ]
  },
  {
   "cell_type": "code",
   "execution_count": 54,
   "metadata": {},
   "outputs": [
    {
     "data": {
      "text/plain": [
       "<re.Match object; span=(0, 6), match='python'>"
      ]
     },
     "execution_count": 54,
     "metadata": {},
     "output_type": "execute_result"
    }
   ],
   "source": [
    "import re \n",
    "\n",
    "prog = re.compile('(p(yth|l)|z)o[pn]e?')\n",
    "prog.search('python')\n"
   ]
  },
  {
   "cell_type": "code",
   "execution_count": 56,
   "metadata": {},
   "outputs": [],
   "source": [
    "import logging\n",
    "\n",
    "logging.basicConfig(\n",
    "        filename = 'example.log',\n",
    "        level = logging.INFO,\n",
    "        format = '%(asctime)s:%(levelname)s:%(message)s'\n",
    ")\n",
    "\n",
    "logging.debug('デバッグレベル１')\n",
    "logging.info('INFOレベル')\n",
    "logging.warning('警告レベル')\n",
    "logging.error('エラーレベル')\n",
    "logging.critical('重大なエラー')"
   ]
  },
  {
   "cell_type": "code",
   "execution_count": 64,
   "metadata": {},
   "outputs": [
    {
     "name": "stdout",
     "output_type": "stream",
     "text": [
      "2020-03-07 18:41:33.736103\n",
      "12663 days, 0:00:00\n",
      "2020年03月07日\n"
     ]
    },
    {
     "data": {
      "text/plain": [
       "datetime.datetime(2020, 3, 7, 0, 0)"
      ]
     },
     "execution_count": 64,
     "metadata": {},
     "output_type": "execute_result"
    }
   ],
   "source": [
    "from datetime import datetime, date\n",
    "print(datetime.now())\n",
    "# datetime.now()\n",
    "# print(datetime.today())\n",
    "print(date.today() - date(1985, 7, 6))\n",
    "datetime.now().isoformat()\n",
    "print(date.today().strftime('%Y年%m月%d日'))\n",
    "datetime.strptime('2020年3月7日', '%Y年%m月%d日')"
   ]
  },
  {
   "cell_type": "code",
   "execution_count": 66,
   "metadata": {},
   "outputs": [
    {
     "name": "stdout",
     "output_type": "stream",
     "text": [
      "{'today': datetime.date(2020, 3, 7), 'delta': datetime.timedelta(days=-66)}\n"
     ]
    },
    {
     "data": {
      "text/plain": [
       "b'\\x80\\x03}q\\x00(X\\x05\\x00\\x00\\x00todayq\\x01cdatetime\\ndate\\nq\\x02C\\x04\\x07\\xe4\\x03\\x07q\\x03\\x85q\\x04Rq\\x05X\\x05\\x00\\x00\\x00deltaq\\x06cdatetime\\ntimedelta\\nq\\x07J\\xbe\\xff\\xff\\xffK\\x00K\\x00\\x87q\\x08Rq\\tu.'"
      ]
     },
     "execution_count": 66,
     "metadata": {},
     "output_type": "execute_result"
    }
   ],
   "source": [
    "from datetime import date\n",
    "import pickle\n",
    "\n",
    "d = {'today': date.today(), 'delta': date(2020, 1, 1) - date.today()}\n",
    "\n",
    "print(d)\n",
    "pickle.dumps(d)"
   ]
  },
  {
   "cell_type": "code",
   "execution_count": 68,
   "metadata": {},
   "outputs": [],
   "source": [
    "from datetime import date\n",
    "import pickle\n",
    "d = {'today':date.today(), 'delta':date(2020, 1, 1,) - date.today()}\n",
    "\n",
    "with open('date.pkl', 'wb') as f:\n",
    "    pickle.dump(d, f)"
   ]
  },
  {
   "cell_type": "code",
   "execution_count": 69,
   "metadata": {},
   "outputs": [
    {
     "name": "stdout",
     "output_type": "stream",
     "text": [
      "{'today': datetime.date(2020, 3, 7), 'delta': datetime.timedelta(days=-66)}\n"
     ]
    }
   ],
   "source": [
    "with open('date.pkl', 'rb') as f:\n",
    "    new_d = pickle.load(f)\n",
    "    print(new_d)"
   ]
  },
  {
   "cell_type": "code",
   "execution_count": 75,
   "metadata": {},
   "outputs": [
    {
     "name": "stdout",
     "output_type": "stream",
     "text": [
      "<class 'pathlib.PosixPath'>\n"
     ]
    },
    {
     "data": {
      "text/plain": [
       "PosixPath('.')"
      ]
     },
     "execution_count": 75,
     "metadata": {},
     "output_type": "execute_result"
    }
   ],
   "source": [
    "from pathlib import Path\n",
    "\n",
    "p = Path()\n",
    "\n",
    "print(type(p))\n",
    "p"
   ]
  },
  {
   "cell_type": "code",
   "execution_count": 78,
   "metadata": {},
   "outputs": [
    {
     "data": {
      "text/plain": [
       "PosixPath('/spam/ham/eggs.txt')"
      ]
     },
     "execution_count": 78,
     "metadata": {},
     "output_type": "execute_result"
    }
   ],
   "source": [
    "for filepath in p.glob('*.txt'):\n",
    "    with open(filepath) as f:\n",
    "        data = f.read()\n",
    "\n",
    "p = Path('/spam')\n",
    "p / 'ham' / 'eggs.txt' "
   ]
  },
  {
   "cell_type": "code",
   "execution_count": 79,
   "metadata": {},
   "outputs": [
    {
     "data": {
      "text/plain": [
       "True"
      ]
     },
     "execution_count": 79,
     "metadata": {},
     "output_type": "execute_result"
    }
   ],
   "source": [
    "p = Path('date.pkl')\n",
    "p.exists()"
   ]
  },
  {
   "cell_type": "code",
   "execution_count": 80,
   "metadata": {},
   "outputs": [
    {
     "data": {
      "text/plain": [
       "False"
      ]
     },
     "execution_count": 80,
     "metadata": {},
     "output_type": "execute_result"
    }
   ],
   "source": [
    "p.is_dir()"
   ]
  },
  {
   "cell_type": "code",
   "execution_count": 84,
   "metadata": {},
   "outputs": [
    {
     "name": "stdout",
     "output_type": "stream",
     "text": [
      "Package                            Version  \r\n",
      "---------------------------------- ---------\r\n",
      "alabaster                          0.7.12   \r\n",
      "anaconda-client                    1.7.2    \r\n",
      "anaconda-navigator                 1.9.7    \r\n",
      "anaconda-project                   0.8.3    \r\n",
      "appnope                            0.1.0    \r\n",
      "appscript                          1.0.1    \r\n",
      "asn1crypto                         0.24.0   \r\n",
      "astroid                            2.2.5    \r\n",
      "astropy                            3.2.1    \r\n",
      "atomicwrites                       1.3.0    \r\n",
      "attrs                              19.1.0   \r\n",
      "Babel                              2.7.0    \r\n",
      "backcall                           0.1.0    \r\n",
      "backports.functools-lru-cache      1.5      \r\n",
      "backports.os                       0.1.1    \r\n",
      "backports.shutil-get-terminal-size 1.0.0    \r\n",
      "backports.tempfile                 1.0      \r\n",
      "backports.weakref                  1.0.post1\r\n",
      "beautifulsoup4                     4.7.1    \r\n",
      "bitarray                           0.9.3    \r\n",
      "bkcharts                           0.2      \r\n",
      "bleach                             3.1.0    \r\n",
      "bokeh                              1.2.0    \r\n",
      "boto                               2.49.0   \r\n",
      "Bottleneck                         1.2.1    \r\n",
      "certifi                            2019.6.16\r\n",
      "cffi                               1.12.3   \r\n",
      "chardet                            3.0.4    \r\n",
      "Click                              7.0      \r\n",
      "cloudpickle                        1.2.1    \r\n",
      "clyent                             1.2.2    \r\n",
      "colorama                           0.4.1    \r\n",
      "conda                              4.7.10   \r\n",
      "conda-build                        3.18.8   \r\n",
      "conda-package-handling             1.3.11   \r\n",
      "conda-verify                       3.4.2    \r\n",
      "contextlib2                        0.5.5    \r\n",
      "cryptography                       2.7      \r\n",
      "cycler                             0.10.0   \r\n",
      "Cython                             0.29.12  \r\n",
      "cytoolz                            0.10.0   \r\n",
      "dask                               2.1.0    \r\n",
      "decorator                          4.4.0    \r\n",
      "defusedxml                         0.6.0    \r\n",
      "distributed                        2.1.0    \r\n",
      "docutils                           0.14     \r\n",
      "entrypoints                        0.3      \r\n",
      "et-xmlfile                         1.0.1    \r\n",
      "fastcache                          1.1.0    \r\n",
      "filelock                           3.0.12   \r\n",
      "Flask                              1.1.1    \r\n",
      "future                             0.17.1   \r\n",
      "gevent                             1.4.0    \r\n",
      "glob2                              0.7      \r\n",
      "gmpy2                              2.0.8    \r\n",
      "greenlet                           0.4.15   \r\n",
      "h5py                               2.9.0    \r\n",
      "heapdict                           1.0.0    \r\n",
      "html5lib                           1.0.1    \r\n",
      "idna                               2.8      \r\n",
      "imageio                            2.5.0    \r\n",
      "imagesize                          1.1.0    \r\n",
      "importlib-metadata                 0.17     \r\n",
      "ipykernel                          5.1.1    \r\n",
      "ipython                            7.6.1    \r\n",
      "ipython-genutils                   0.2.0    \r\n",
      "ipywidgets                         7.5.0    \r\n",
      "isort                              4.3.21   \r\n",
      "itsdangerous                       1.1.0    \r\n",
      "jdcal                              1.4.1    \r\n",
      "jedi                               0.13.3   \r\n",
      "Jinja2                             2.10.1   \r\n",
      "joblib                             0.13.2   \r\n",
      "json5                              0.8.4    \r\n",
      "jsonschema                         3.0.1    \r\n",
      "jupyter                            1.0.0    \r\n",
      "jupyter-client                     5.3.1    \r\n",
      "jupyter-console                    6.0.0    \r\n",
      "jupyter-core                       4.5.0    \r\n",
      "jupyterlab                         1.0.2    \r\n",
      "jupyterlab-server                  1.0.0    \r\n",
      "keyring                            18.0.0   \r\n",
      "kiwisolver                         1.1.0    \r\n",
      "lazy-object-proxy                  1.4.1    \r\n",
      "libarchive-c                       2.8      \r\n",
      "lief                               0.9.0    \r\n",
      "llvmlite                           0.29.0   \r\n",
      "locket                             0.2.0    \r\n",
      "lxml                               4.3.4    \r\n",
      "MarkupSafe                         1.1.1    \r\n",
      "matplotlib                         3.1.0    \r\n",
      "mccabe                             0.6.1    \r\n",
      "mistune                            0.8.4    \r\n",
      "mkl-fft                            1.0.12   \r\n",
      "mkl-random                         1.0.2    \r\n",
      "mkl-service                        2.0.2    \r\n",
      "mock                               3.0.5    \r\n",
      "more-itertools                     7.0.0    \r\n",
      "mpmath                             1.1.0    \r\n",
      "msgpack                            0.6.1    \r\n",
      "multipledispatch                   0.6.0    \r\n",
      "navigator-updater                  0.2.1    \r\n",
      "nbconvert                          5.5.0    \r\n",
      "nbformat                           4.4.0    \r\n",
      "networkx                           2.3      \r\n",
      "nltk                               3.4.4    \r\n",
      "nose                               1.3.7    \r\n",
      "notebook                           6.0.0    \r\n",
      "numba                              0.44.1   \r\n",
      "numexpr                            2.6.9    \r\n",
      "numpy                              1.16.4   \r\n",
      "numpydoc                           0.9.1    \r\n",
      "olefile                            0.46     \r\n",
      "openpyxl                           2.6.2    \r\n",
      "packaging                          19.0     \r\n",
      "pandas                             0.24.2   \r\n",
      "pandocfilters                      1.4.2    \r\n",
      "parso                              0.5.0    \r\n",
      "partd                              1.0.0    \r\n",
      "path.py                            12.0.1   \r\n",
      "pathlib2                           2.3.4    \r\n",
      "patsy                              0.5.1    \r\n",
      "pep8                               1.7.1    \r\n",
      "pexpect                            4.7.0    \r\n",
      "pickleshare                        0.7.5    \r\n",
      "Pillow                             6.1.0    \r\n",
      "pip                                19.1.1   \r\n",
      "pkginfo                            1.5.0.1  \r\n",
      "pluggy                             0.12.0   \r\n",
      "ply                                3.11     \r\n",
      "prometheus-client                  0.7.1    \r\n",
      "prompt-toolkit                     2.0.9    \r\n",
      "psutil                             5.6.3    \r\n",
      "ptyprocess                         0.6.0    \r\n",
      "py                                 1.8.0    \r\n",
      "pycodestyle                        2.5.0    \r\n",
      "pycosat                            0.6.3    \r\n",
      "pycparser                          2.19     \r\n",
      "pycrypto                           2.6.1    \r\n",
      "pycurl                             7.43.0.3 \r\n",
      "pyflakes                           2.1.1    \r\n",
      "Pygments                           2.4.2    \r\n",
      "pylint                             2.3.1    \r\n",
      "pyodbc                             4.0.26   \r\n",
      "pyOpenSSL                          19.0.0   \r\n",
      "pyparsing                          2.4.0    \r\n",
      "pyrsistent                         0.14.11  \r\n",
      "PySocks                            1.7.0    \r\n",
      "pytest                             5.0.1    \r\n",
      "pytest-arraydiff                   0.3      \r\n",
      "pytest-astropy                     0.5.0    \r\n",
      "pytest-doctestplus                 0.3.0    \r\n",
      "pytest-openfiles                   0.3.2    \r\n",
      "pytest-remotedata                  0.3.1    \r\n",
      "python-dateutil                    2.8.0    \r\n",
      "pytz                               2019.1   \r\n",
      "PyWavelets                         1.0.3    \r\n",
      "PyYAML                             5.1.1    \r\n",
      "pyzmq                              18.0.0   \r\n",
      "QtAwesome                          0.5.7    \r\n",
      "qtconsole                          4.5.1    \r\n",
      "QtPy                               1.8.0    \r\n",
      "requests                           2.22.0   \r\n",
      "rope                               0.14.0   \r\n",
      "ruamel-yaml                        0.15.46  \r\n",
      "scikit-image                       0.15.0   \r\n",
      "scikit-learn                       0.21.2   \r\n",
      "scipy                              1.3.0    \r\n",
      "seaborn                            0.9.0    \r\n",
      "Send2Trash                         1.5.0    \r\n",
      "setuptools                         41.0.1   \r\n",
      "simplegeneric                      0.8.1    \r\n",
      "singledispatch                     3.4.0.3  \r\n",
      "six                                1.12.0   \r\n",
      "snowballstemmer                    1.9.0    \r\n",
      "sortedcollections                  1.1.2    \r\n",
      "sortedcontainers                   2.1.0    \r\n",
      "soupsieve                          1.8      \r\n",
      "Sphinx                             2.1.2    \r\n",
      "sphinxcontrib-applehelp            1.0.1    \r\n",
      "sphinxcontrib-devhelp              1.0.1    \r\n",
      "sphinxcontrib-htmlhelp             1.0.2    \r\n",
      "sphinxcontrib-jsmath               1.0.1    \r\n",
      "sphinxcontrib-qthelp               1.0.2    \r\n",
      "sphinxcontrib-serializinghtml      1.1.3    \r\n",
      "sphinxcontrib-websupport           1.1.2    \r\n",
      "spyder                             3.3.6    \r\n",
      "spyder-kernels                     0.5.1    \r\n",
      "SQLAlchemy                         1.3.5    \r\n",
      "statsmodels                        0.10.0   \r\n",
      "sympy                              1.4      \r\n",
      "tables                             3.5.2    \r\n",
      "tblib                              1.4.0    \r\n",
      "terminado                          0.8.2    \r\n",
      "testpath                           0.4.2    \r\n",
      "toolz                              0.10.0   \r\n",
      "tornado                            6.0.3    \r\n",
      "tqdm                               4.32.1   \r\n",
      "traitlets                          4.3.2    \r\n",
      "unicodecsv                         0.14.1   \r\n",
      "urllib3                            1.24.2   \r\n",
      "wcwidth                            0.1.7    \r\n",
      "webencodings                       0.5.1    \r\n",
      "Werkzeug                           0.15.4   \r\n",
      "wheel                              0.33.4   \r\n",
      "widgetsnbextension                 3.5.0    \r\n",
      "wrapt                              1.11.2   \r\n",
      "wurlitzer                          1.0.2    \r\n",
      "xlrd                               1.2.0    \r\n",
      "XlsxWriter                         1.1.8    \r\n",
      "xlwings                            0.15.8   \r\n",
      "xlwt                               1.3.0    \r\n",
      "zict                               1.0.0    \r\n",
      "zipp                               0.5.1    \r\n"
     ]
    }
   ],
   "source": [
    "!pip list"
   ]
  },
  {
   "cell_type": "code",
   "execution_count": 83,
   "metadata": {},
   "outputs": [
    {
     "name": "stdout",
     "output_type": "stream",
     "text": [
      "pip 19.1.1 from /Users/ishidzukahiroyuki/.pyenv/versions/anaconda3-2019.07/lib/python3.7/site-packages/pip (python 3.7)\r\n"
     ]
    }
   ],
   "source": [
    "!pip -V"
   ]
  },
  {
   "cell_type": "code",
   "execution_count": 110,
   "metadata": {},
   "outputs": [
    {
     "name": "stdout",
     "output_type": "stream",
     "text": [
      "[1 2 3]\n"
     ]
    },
    {
     "data": {
      "text/plain": [
       "3"
      ]
     },
     "execution_count": 110,
     "metadata": {},
     "output_type": "execute_result"
    }
   ],
   "source": [
    "import numpy as np\n",
    "\n",
    "a = np.array([1, 2, 3])\n",
    "\n",
    "print(a)\n",
    "type(a)\n",
    "a.shape\n",
    "a.dtype\n",
    "a[-1]"
   ]
  },
  {
   "cell_type": "code",
   "execution_count": 122,
   "metadata": {},
   "outputs": [
    {
     "data": {
      "text/plain": [
       "array([[1, 3],\n",
       "       [4, 6]])"
      ]
     },
     "execution_count": 122,
     "metadata": {},
     "output_type": "execute_result"
    }
   ],
   "source": [
    "b = np.array([[1, 2, 3], [4, 5, 6]])\n",
    "b.shape\n",
    "b[1,0]\n",
    "b[:,2]\n",
    "b[0,1:]\n",
    "b[:,[0,2]]"
   ]
  },
  {
   "cell_type": "code",
   "execution_count": 96,
   "metadata": {},
   "outputs": [
    {
     "data": {
      "text/plain": [
       "array([1, 2, 3, 4, 5, 6])"
      ]
     },
     "execution_count": 96,
     "metadata": {},
     "output_type": "execute_result"
    }
   ],
   "source": [
    "c1 = np.array([1,2,3,4,5,6])\n",
    "c1\n",
    "c2 = c1.reshape((3, 2))\n",
    "c2\n",
    "c3 = c2.ravel()\n",
    "c3\n",
    "c4 = c2.flatten()\n",
    "c4"
   ]
  },
  {
   "cell_type": "code",
   "execution_count": 104,
   "metadata": {},
   "outputs": [
    {
     "data": {
      "text/plain": [
       "array([1., 2., 3.], dtype=float16)"
      ]
     },
     "execution_count": 104,
     "metadata": {},
     "output_type": "execute_result"
    }
   ],
   "source": [
    "d = np.array([1,2,3], dtype=np.int16)\n",
    "d.dtype\n",
    "d.astype(np.float16)\n",
    "# d.dtype"
   ]
  },
  {
   "cell_type": "code",
   "execution_count": 3,
   "metadata": {},
   "outputs": [
    {
     "data": {
      "text/plain": [
       "array([1, 2, 4])"
      ]
     },
     "execution_count": 3,
     "metadata": {},
     "output_type": "execute_result"
    }
   ],
   "source": [
    "import numpy as np\n",
    "a = np.array([1,2,3])\n",
    "a[2] = 4\n",
    "a"
   ]
  },
  {
   "cell_type": "code",
   "execution_count": 10,
   "metadata": {},
   "outputs": [
    {
     "name": "stdout",
     "output_type": "stream",
     "text": [
      "[[1 2 3]\n",
      " [4 5 6]]\n",
      "[[1 2 3]\n",
      " [4 5 7]]\n",
      "[[1 2 8]\n",
      " [4 5 8]]\n"
     ]
    }
   ],
   "source": [
    "b = np.array([[1,2,3],[4,5,6]])\n",
    "print(b)\n",
    "b[1,2] = 7\n",
    "print(b)\n",
    "b[:, 2] = 8\n",
    "print(b)"
   ]
  },
  {
   "cell_type": "code",
   "execution_count": 14,
   "metadata": {},
   "outputs": [],
   "source": [
    "# d = [[1,2,3],[4,5,6]]\n",
    "# d[:, [0,1]]"
   ]
  },
  {
   "cell_type": "code",
   "execution_count": 17,
   "metadata": {},
   "outputs": [
    {
     "data": {
      "text/plain": [
       "array([1, 5, 4])"
      ]
     },
     "execution_count": 17,
     "metadata": {},
     "output_type": "execute_result"
    }
   ],
   "source": [
    "a1 = a\n",
    "a1[1] = 5\n",
    "a1\n",
    "a"
   ]
  },
  {
   "cell_type": "code",
   "execution_count": 21,
   "metadata": {},
   "outputs": [
    {
     "data": {
      "text/plain": [
       "array([1, 5, 4])"
      ]
     },
     "execution_count": 21,
     "metadata": {},
     "output_type": "execute_result"
    }
   ],
   "source": [
    "a2 = a.copy()\n",
    "a2[0] = 6\n",
    "a2\n",
    "a"
   ]
  },
  {
   "cell_type": "code",
   "execution_count": 43,
   "metadata": {},
   "outputs": [
    {
     "name": "stdout",
     "output_type": "stream",
     "text": [
      "c3: [6 1 2 3 4 5]\n",
      "c4: [0 7 2 3 4 5] \n",
      "\n",
      "c2: [[6 1 2]\n",
      " [3 4 5]]\n"
     ]
    }
   ],
   "source": [
    "c2 = np.array([[0,1,2],[3,4,5]])\n",
    "c2\n",
    "c3 = c2.ravel()\n",
    "c4 = c2.flatten()\n",
    "\n",
    "c3[0] = 6\n",
    "print(\"c3:\", c3)\n",
    "\n",
    "c4[1] = 7\n",
    "print(\"c4:\", c4,\"\\n\")\n",
    "\n",
    "print(\"c2:\", c2)"
   ]
  },
  {
   "cell_type": "code",
   "execution_count": 47,
   "metadata": {},
   "outputs": [
    {
     "name": "stdout",
     "output_type": "stream",
     "text": [
      "[0, 1]\n",
      "[2, 1]\n"
     ]
    }
   ],
   "source": [
    "py_list1 = [0, 1]\n",
    "py_list2 = py_list1[:]\n",
    "py_list2[0] = 2\n",
    "print(py_list1)\n",
    "print(py_list2)"
   ]
  },
  {
   "cell_type": "code",
   "execution_count": 49,
   "metadata": {},
   "outputs": [
    {
     "name": "stdout",
     "output_type": "stream",
     "text": [
      "[2 1]\n",
      "[2 1]\n"
     ]
    }
   ],
   "source": [
    "np_array1 = np.array([0, 1])\n",
    "np_array2 = np_array1[:]\n",
    "np_array2[0] = 2\n",
    "print(np_array1)\n",
    "print(np_array2)"
   ]
  },
  {
   "cell_type": "code",
   "execution_count": 50,
   "metadata": {},
   "outputs": [
    {
     "data": {
      "text/plain": [
       "array([0, 1, 2, 3, 4, 5, 6, 7, 8, 9])"
      ]
     },
     "execution_count": 50,
     "metadata": {},
     "output_type": "execute_result"
    }
   ],
   "source": [
    "np.arange(10)"
   ]
  },
  {
   "cell_type": "code",
   "execution_count": 52,
   "metadata": {},
   "outputs": [
    {
     "data": {
      "text/plain": [
       "[0, 1, 2, 3, 4, 5, 6, 7, 8, 9]"
      ]
     },
     "execution_count": 52,
     "metadata": {},
     "output_type": "execute_result"
    }
   ],
   "source": [
    "list(range(10))"
   ]
  },
  {
   "cell_type": "code",
   "execution_count": 53,
   "metadata": {},
   "outputs": [
    {
     "data": {
      "text/plain": [
       "array([ 1,  2,  3,  4,  5,  6,  7,  8,  9, 10])"
      ]
     },
     "execution_count": 53,
     "metadata": {},
     "output_type": "execute_result"
    }
   ],
   "source": [
    "np.arange(1,11)"
   ]
  },
  {
   "cell_type": "code",
   "execution_count": 55,
   "metadata": {},
   "outputs": [
    {
     "data": {
      "text/plain": [
       "array([1, 3, 5, 7, 9])"
      ]
     },
     "execution_count": 55,
     "metadata": {},
     "output_type": "execute_result"
    }
   ],
   "source": [
    "np.arange(1,11,2)"
   ]
  },
  {
   "cell_type": "code",
   "execution_count": null,
   "metadata": {},
   "outputs": [],
   "source": [
    "f = np.random.random((3,2))\n",
    "f"
   ]
  },
  {
   "cell_type": "code",
   "execution_count": 10,
   "metadata": {},
   "outputs": [
    {
     "data": {
      "text/plain": [
       "array([[0.9807642 , 0.68482974],\n",
       "       [0.4809319 , 0.39211752],\n",
       "       [0.34317802, 0.72904971],\n",
       "       [0.43857224, 0.0596779 ]])"
      ]
     },
     "execution_count": 10,
     "metadata": {},
     "output_type": "execute_result"
    }
   ],
   "source": [
    "import numpy as np\n",
    "\n",
    "np.random.seed(123)\n",
    "np.random.random((3,2))\n",
    "np.random.rand(4,2)"
   ]
  },
  {
   "cell_type": "code",
   "execution_count": 16,
   "metadata": {},
   "outputs": [
    {
     "data": {
      "text/plain": [
       "array([[0.18249173, 0.17545176, 0.53155137],\n",
       "       [0.53182759, 0.63440096, 0.84943179],\n",
       "       [0.72445532, 0.61102351, 0.72244338],\n",
       "       [0.32295891, 0.36178866, 0.22826323]])"
      ]
     },
     "execution_count": 16,
     "metadata": {},
     "output_type": "execute_result"
    }
   ],
   "source": [
    "np.random.seed(123)\n",
    "np.random.randint(1,10)\n",
    "np.random.randint(1, 10, (3, 3))\n",
    "np.random.uniform(0.0, 5.0, size=(2,3))\n",
    "np.random.uniform(size=(4,3))"
   ]
  },
  {
   "cell_type": "code",
   "execution_count": 18,
   "metadata": {},
   "outputs": [
    {
     "data": {
      "text/plain": [
       "array([[-1.0856306 ,  0.99734545],\n",
       "       [ 0.2829785 , -1.50629471],\n",
       "       [-0.57860025,  1.65143654],\n",
       "       [-2.42667924, -0.42891263]])"
      ]
     },
     "execution_count": 18,
     "metadata": {},
     "output_type": "execute_result"
    }
   ],
   "source": [
    "np.random.seed(123)\n",
    "np.random.randn(4, 2)"
   ]
  },
  {
   "cell_type": "code",
   "execution_count": 21,
   "metadata": {},
   "outputs": [
    {
     "data": {
      "text/plain": [
       "array([[0., 0., 0.],\n",
       "       [0., 0., 0.]])"
      ]
     },
     "execution_count": 21,
     "metadata": {},
     "output_type": "execute_result"
    }
   ],
   "source": [
    "np.zeros(3)\n",
    "np.zeros((2,3))"
   ]
  },
  {
   "cell_type": "code",
   "execution_count": 23,
   "metadata": {},
   "outputs": [
    {
     "data": {
      "text/plain": [
       "array([[1., 1., 1., 1.],\n",
       "       [1., 1., 1., 1.],\n",
       "       [1., 1., 1., 1.]])"
      ]
     },
     "execution_count": 23,
     "metadata": {},
     "output_type": "execute_result"
    }
   ],
   "source": [
    "np.ones(2)\n",
    "np.ones((3,4))"
   ]
  },
  {
   "cell_type": "code",
   "execution_count": 24,
   "metadata": {},
   "outputs": [
    {
     "data": {
      "text/plain": [
       "array([[1., 0., 0.],\n",
       "       [0., 1., 0.],\n",
       "       [0., 0., 1.]])"
      ]
     },
     "execution_count": 24,
     "metadata": {},
     "output_type": "execute_result"
    }
   ],
   "source": [
    "np.eye(3)"
   ]
  },
  {
   "cell_type": "code",
   "execution_count": 27,
   "metadata": {},
   "outputs": [
    {
     "data": {
      "text/plain": [
       "array([[3.14159265, 3.14159265, 3.14159265, 3.14159265],\n",
       "       [3.14159265, 3.14159265, 3.14159265, 3.14159265]])"
      ]
     },
     "execution_count": 27,
     "metadata": {},
     "output_type": "execute_result"
    }
   ],
   "source": [
    "np.full(3, 3.14)\n",
    "np.full((2,4), np.pi)"
   ]
  },
  {
   "cell_type": "code",
   "execution_count": 29,
   "metadata": {},
   "outputs": [
    {
     "data": {
      "text/plain": [
       "array([ 1.,  2., nan])"
      ]
     },
     "execution_count": 29,
     "metadata": {},
     "output_type": "execute_result"
    }
   ],
   "source": [
    "np.nan\n",
    "np.array([1,2,np.nan])"
   ]
  },
  {
   "cell_type": "code",
   "execution_count": 34,
   "metadata": {},
   "outputs": [
    {
     "data": {
      "text/plain": [
       "array([0.        , 0.15707963, 0.31415927, 0.4712389 , 0.62831853,\n",
       "       0.78539816, 0.9424778 , 1.09955743, 1.25663706, 1.41371669,\n",
       "       1.57079633, 1.72787596, 1.88495559, 2.04203522, 2.19911486,\n",
       "       2.35619449, 2.51327412, 2.67035376, 2.82743339, 2.98451302,\n",
       "       3.14159265])"
      ]
     },
     "execution_count": 34,
     "metadata": {},
     "output_type": "execute_result"
    }
   ],
   "source": [
    "np.linspace(0, 1, 5)\n",
    "np.linspace(0, np.pi, 21)"
   ]
  },
  {
   "cell_type": "code",
   "execution_count": 36,
   "metadata": {},
   "outputs": [
    {
     "data": {
      "text/plain": [
       "array([ 0,  4, -5,  2, -2])"
      ]
     },
     "execution_count": 36,
     "metadata": {},
     "output_type": "execute_result"
    }
   ],
   "source": [
    "l = np.array([2,2,6,1,3,1])\n",
    "np.diff(l)"
   ]
  },
  {
   "cell_type": "code",
   "execution_count": 40,
   "metadata": {},
   "outputs": [
    {
     "data": {
      "text/plain": [
       "array([1, 5, 4, 1, 5, 4])"
      ]
     },
     "execution_count": 40,
     "metadata": {},
     "output_type": "execute_result"
    }
   ],
   "source": [
    "a = np.array([1,5,4])\n",
    "a1 = a.copy()\n",
    "a\n",
    "a1\n",
    "np.concatenate([a, a1])"
   ]
  },
  {
   "cell_type": "code",
   "execution_count": 51,
   "metadata": {},
   "outputs": [
    {
     "data": {
      "text/plain": [
       "array([[ 1,  2,  8],\n",
       "       [ 4,  5,  8],\n",
       "       [30, 60, 45]])"
      ]
     },
     "execution_count": 51,
     "metadata": {},
     "output_type": "execute_result"
    }
   ],
   "source": [
    "d = np.array([[1,2,3], [4,5,6]])\n",
    "d[:,2] = 8\n",
    "\n",
    "d1 = np.array([[10], [20]])\n",
    "d1\n",
    "# np.concatenate([d, d1], axis=1)\n",
    "np.hstack([d, d1])\n",
    "d2 = np.array([30, 60, 45])\n",
    "d3 = np.vstack([d, d2])\n",
    "d3"
   ]
  },
  {
   "cell_type": "code",
   "execution_count": 54,
   "metadata": {},
   "outputs": [
    {
     "data": {
      "text/plain": [
       "array([[ 8],\n",
       "       [ 8],\n",
       "       [45]])"
      ]
     },
     "execution_count": 54,
     "metadata": {},
     "output_type": "execute_result"
    }
   ],
   "source": [
    "first, second = np.hsplit(d3, [2])\n",
    "first\n",
    "second"
   ]
  },
  {
   "cell_type": "code",
   "execution_count": 58,
   "metadata": {},
   "outputs": [
    {
     "data": {
      "text/plain": [
       "array([[30, 60, 45]])"
      ]
     },
     "execution_count": 58,
     "metadata": {},
     "output_type": "execute_result"
    }
   ],
   "source": [
    "first1, second1 = np.vsplit(d3, [2])\n",
    "first1\n",
    "second1"
   ]
  },
  {
   "cell_type": "code",
   "execution_count": 63,
   "metadata": {},
   "outputs": [
    {
     "name": "stdout",
     "output_type": "stream",
     "text": [
      "[[1 2 8]\n",
      " [4 5 8]]\n",
      "[[1 4]\n",
      " [2 5]\n",
      " [8 8]]\n"
     ]
    }
   ],
   "source": [
    "print(d)\n",
    "print(d.T)\n"
   ]
  },
  {
   "cell_type": "code",
   "execution_count": 66,
   "metadata": {},
   "outputs": [
    {
     "data": {
      "text/plain": [
       "array([[1],\n",
       "       [5],\n",
       "       [4]])"
      ]
     },
     "execution_count": 66,
     "metadata": {},
     "output_type": "execute_result"
    }
   ],
   "source": [
    "a[np.newaxis, :]\n",
    "a[:, np.newaxis]"
   ]
  },
  {
   "cell_type": "code",
   "execution_count": 78,
   "metadata": {},
   "outputs": [
    {
     "name": "stdout",
     "output_type": "stream",
     "text": [
      "[0 1 2 3] \n",
      "\n",
      "[4 5 6] \n",
      "\n",
      "[[0 1 2 3]\n",
      " [0 1 2 3]\n",
      " [0 1 2 3]] \n",
      "\n",
      "[[4 4 4 4]\n",
      " [5 5 5 5]\n",
      " [6 6 6 6]]\n"
     ]
    }
   ],
   "source": [
    "m = np.arange(0,4)\n",
    "print(m, \"\\n\")\n",
    "n = np.arange(4,7)\n",
    "print(n, \"\\n\")\n",
    "xx, yy = np.meshgrid(m ,n)\n",
    "print(xx,\"\\n\")\n",
    "print(yy)"
   ]
  },
  {
   "cell_type": "code",
   "execution_count": 80,
   "metadata": {},
   "outputs": [
    {
     "name": "stdout",
     "output_type": "stream",
     "text": [
      "a: [0 1 2]\n",
      "b: [[-3 -2 -1]\n",
      " [ 0  1  2]]\n",
      "c: [[1 2 3]\n",
      " [4 5 6]]\n",
      "d: [[0 1]\n",
      " [2 3]\n",
      " [4 5]]\n",
      "e: [-1.         -0.77777778 -0.55555556 -0.33333333 -0.11111111  0.11111111\n",
      "  0.33333333  0.55555556  0.77777778  1.        ]\n"
     ]
    }
   ],
   "source": [
    "import numpy as np\n",
    "a = np.arange(3)\n",
    "b = np.arange(-3, 3).reshape((2,3))\n",
    "c = np.arange(1, 7).reshape((2, 3))\n",
    "d = np.arange(6).reshape((3,2))\n",
    "e = np.linspace(-1, 1, 10)\n",
    "print(\"a:\", a)\n",
    "print(\"b:\", b)\n",
    "print(\"c:\", c)\n",
    "print(\"d:\", d)\n",
    "print(\"e:\", e)\n"
   ]
  },
  {
   "cell_type": "code",
   "execution_count": 83,
   "metadata": {},
   "outputs": [
    {
     "name": "stdout",
     "output_type": "stream",
     "text": [
      "a: (3,)\n",
      "b: (2, 3)\n",
      "c: (2, 3)\n",
      "d: (3, 2)\n",
      "e: (10,)\n"
     ]
    }
   ],
   "source": [
    "print(\"a:\", a.shape)\n",
    "print(\"b:\", b.shape)\n",
    "print(\"c:\", c.shape)\n",
    "print(\"d:\", d.shape)\n",
    "print(\"e:\", e.shape)"
   ]
  },
  {
   "cell_type": "code",
   "execution_count": 87,
   "metadata": {},
   "outputs": [
    {
     "data": {
      "text/plain": [
       "[[3, 2, 1], [0, 1, 2]]"
      ]
     },
     "execution_count": 87,
     "metadata": {},
     "output_type": "execute_result"
    }
   ],
   "source": [
    "li = [[-3, -2, -1], [0,1,2]]\n",
    "new = []\n",
    "for i,j in enumerate(li):\n",
    "    new.append([])\n",
    "#     print(new)\n",
    "    for k in j:\n",
    "        new[i].append(abs(k))\n",
    "new"
   ]
  },
  {
   "cell_type": "code",
   "execution_count": 94,
   "metadata": {},
   "outputs": [
    {
     "name": "stderr",
     "output_type": "stream",
     "text": [
      "/Users/ishidzukahiroyuki/.pyenv/versions/anaconda3-2019.07/lib/python3.7/site-packages/ipykernel_launcher.py:4: RuntimeWarning: divide by zero encountered in log\n",
      "  after removing the cwd from sys.path.\n"
     ]
    },
    {
     "data": {
      "text/plain": [
       "array([1.        , 2.71828183, 7.3890561 ])"
      ]
     },
     "execution_count": 94,
     "metadata": {},
     "output_type": "execute_result"
    }
   ],
   "source": [
    "np.abs(li)\n",
    "np.sin(e)\n",
    "np.cos(e)\n",
    "np.log(a)\n",
    "np.log10(c)\n",
    "np.exp(a)"
   ]
  },
  {
   "cell_type": "code",
   "execution_count": 103,
   "metadata": {},
   "outputs": [
    {
     "name": "stdout",
     "output_type": "stream",
     "text": [
      "[0 1 2]\n",
      "[10 11 12] \n",
      "\n",
      "[[-3 -2 -1]\n",
      " [ 0  1  2]]\n",
      "[[-3 -1  1]\n",
      " [ 0  2  4]]\n"
     ]
    }
   ],
   "source": [
    "print(a)\n",
    "print(a + 10, \"\\n\")\n",
    "print(b)\n",
    "print(a+b)"
   ]
  },
  {
   "cell_type": "code",
   "execution_count": 108,
   "metadata": {},
   "outputs": [
    {
     "name": "stdout",
     "output_type": "stream",
     "text": [
      "a1: [[0]\n",
      " [1]\n",
      " [2]]\n",
      "a: [0 1 2]\n",
      "\n",
      "a + a1: \n",
      " [[0 1 2]\n",
      " [1 2 3]\n",
      " [2 3 4]]\n"
     ]
    }
   ],
   "source": [
    "a1 = a[:, np.newaxis]\n",
    "print(\"a1:\", a1)\n",
    "print(\"a:\", a)\n",
    "print()\n",
    "print(\"a + a1:\", \"\\n\", a+a1)"
   ]
  },
  {
   "cell_type": "code",
   "execution_count": 112,
   "metadata": {},
   "outputs": [
    {
     "name": "stdout",
     "output_type": "stream",
     "text": [
      "c:  [[1 2 3]\n",
      " [4 5 6]]\n",
      "3.5\n"
     ]
    },
    {
     "data": {
      "text/plain": [
       "array([[-2.5, -1.5, -0.5],\n",
       "       [ 0.5,  1.5,  2.5]])"
      ]
     },
     "execution_count": 112,
     "metadata": {},
     "output_type": "execute_result"
    }
   ],
   "source": [
    "print(\"c: \",c)\n",
    "print(np.mean(c))"
   ]
  },
  {
   "cell_type": "code",
   "execution_count": 123,
   "metadata": {},
   "outputs": [
    {
     "name": "stdout",
     "output_type": "stream",
     "text": [
      "[[-3 -2 -1]\n",
      " [ 0  1  2]] \n",
      "\n",
      "b * 2:  \n",
      " [[-6 -4 -2]\n",
      " [ 0  2  4]] \n",
      "\n",
      "b**3: \n",
      " [[-27  -8  -1]\n",
      " [  0   1   8]]\n",
      "\n",
      "a: \n",
      " [0 1 2]\n",
      "b: \n",
      " [[-3 -2 -1]\n",
      " [ 0  1  2]]\n",
      "b-a: \n",
      " [[-3 -3 -3]\n",
      " [ 0  0  0]]\n"
     ]
    }
   ],
   "source": [
    "print(b, \"\\n\")\n",
    "print(\"b * 2: \", \"\\n\", b * 2, \"\\n\")\n",
    "print(\"b**3:\", \"\\n\", b**3)\n",
    "print()\n",
    "print(\"a:\",\"\\n\", a)\n",
    "print(\"b:\",\"\\n\", b)\n",
    "print(\"b-a:\", \"\\n\", b-a)"
   ]
  },
  {
   "cell_type": "code",
   "execution_count": 129,
   "metadata": {},
   "outputs": [
    {
     "name": "stdout",
     "output_type": "stream",
     "text": [
      "a: [0 1 2]\n",
      "b: [[-3 -2 -1]\n",
      " [ 0  1  2]]\n",
      "c: [[1 2 3]\n",
      " [4 5 6]] \n",
      "\n",
      "a * b:  \n",
      " [[ 0 -2 -2]\n",
      " [ 0  1  4]]\n",
      "\n",
      "a/c: [[0.         0.5        0.66666667]\n",
      " [0.         0.2        0.33333333]] \n",
      "\n",
      "[[1.00000000e+06 1.99999800e+00 1.49999925e+00]\n",
      " [4.00000000e+06 4.99999500e+00 2.99999850e+00]]\n"
     ]
    }
   ],
   "source": [
    "print(\"a:\", a)\n",
    "print(\"b:\", b)\n",
    "print(\"c:\", c, \"\\n\")\n",
    "print(\"a * b: \", \"\\n\", a*b )\n",
    "print()\n",
    "print(\"a/c:\", a/c, \"\\n\")\n",
    "# print(\"c/a:\", c/a)\n",
    "print(c/(a+1e-6))"
   ]
  },
  {
   "cell_type": "code",
   "execution_count": 130,
   "metadata": {},
   "outputs": [
    {
     "data": {
      "text/plain": [
       "array([-4,  5])"
      ]
     },
     "execution_count": 130,
     "metadata": {},
     "output_type": "execute_result"
    }
   ],
   "source": [
    "np.dot(b,a)"
   ]
  },
  {
   "cell_type": "code",
   "execution_count": 133,
   "metadata": {},
   "outputs": [
    {
     "data": {
      "text/plain": [
       "array([[  0,   1,   2],\n",
       "       [ -6,  -1,   4],\n",
       "       [-12,  -3,   6]])"
      ]
     },
     "execution_count": 133,
     "metadata": {},
     "output_type": "execute_result"
    }
   ],
   "source": [
    "b @ a\n",
    "b @ d\n",
    "d @ b"
   ]
  },
  {
   "cell_type": "code",
   "execution_count": 139,
   "metadata": {},
   "outputs": [
    {
     "data": {
      "text/plain": [
       "False"
      ]
     },
     "execution_count": 139,
     "metadata": {},
     "output_type": "execute_result"
    }
   ],
   "source": [
    "a > 1\n",
    "b > 0\n",
    "np.count_nonzero(b > 0)\n",
    "np.sum(b > 0)\n",
    "np.any(b > 0)\n",
    "np.all(b>0)"
   ]
  },
  {
   "cell_type": "code",
   "execution_count": 149,
   "metadata": {},
   "outputs": [
    {
     "name": "stdout",
     "output_type": "stream",
     "text": [
      "a: [0 1 2] \n",
      "\n",
      "b: [[-3 -2 -1]\n",
      " [ 0  1  2]] \n",
      "\n",
      "c: [[1 2 3]\n",
      " [4 5 6]]\n",
      "[[False False False]\n",
      " [False False False]]\n",
      "[[False False False]\n",
      " [ True  True  True]]\n"
     ]
    },
    {
     "data": {
      "text/plain": [
       "array([0, 1, 2])"
      ]
     },
     "execution_count": 149,
     "metadata": {},
     "output_type": "execute_result"
    }
   ],
   "source": [
    "print(\"a:\", a, \"\\n\")\n",
    "print(\"b:\", b, \"\\n\")\n",
    "print(\"c:\", c)\n",
    "b[b>0]\n",
    "print(b == c)\n",
    "print(a == b)\n",
    "b[(b == c) | (a == b)]\n"
   ]
  },
  {
   "cell_type": "code",
   "execution_count": 152,
   "metadata": {},
   "outputs": [
    {
     "data": {
      "text/plain": [
       "True"
      ]
     },
     "execution_count": 152,
     "metadata": {},
     "output_type": "execute_result"
    }
   ],
   "source": [
    "np.allclose(b,c)\n",
    "np.allclose(b,c, atol=10)"
   ]
  },
  {
   "cell_type": "code",
   "execution_count": 154,
   "metadata": {},
   "outputs": [
    {
     "data": {
      "text/plain": [
       "3"
      ]
     },
     "execution_count": 154,
     "metadata": {},
     "output_type": "execute_result"
    }
   ],
   "source": [
    "np.sum(a)\n",
    "a.sum()"
   ]
  },
  {
   "cell_type": "code",
   "execution_count": null,
   "metadata": {},
   "outputs": [],
   "source": []
  }
 ],
 "metadata": {
  "kernelspec": {
   "display_name": "Python 3",
   "language": "python",
   "name": "python3"
  },
  "language_info": {
   "codemirror_mode": {
    "name": "ipython",
    "version": 3
   },
   "file_extension": ".py",
   "mimetype": "text/x-python",
   "name": "python",
   "nbconvert_exporter": "python",
   "pygments_lexer": "ipython3",
   "version": "3.7.3"
  }
 },
 "nbformat": 4,
 "nbformat_minor": 2
}
