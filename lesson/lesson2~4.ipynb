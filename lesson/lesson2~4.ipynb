{
 "cells": [
  {
   "cell_type": "code",
   "execution_count": 5,
   "metadata": {},
   "outputs": [
    {
     "name": "stdout",
     "output_type": "stream",
     "text": [
      "1 \t 2 \t 3 \t 4 \t 5\n"
     ]
    }
   ],
   "source": [
    "print(1,\"\\t\", 2, \"\\t\", 3, \"\\t\", 4, \"\\t\", 5)"
   ]
  },
  {
   "cell_type": "code",
   "execution_count": 7,
   "metadata": {},
   "outputs": [
    {
     "name": "stdout",
     "output_type": "stream",
     "text": [
      "1月のデータです。\n",
      "2月のデータです。\n",
      "3月のデータです。\n",
      "4月のデータです。\n",
      "5月のデータです。\n",
      "6月のデータです。\n",
      "7月のデータです。\n",
      "8月のデータです。\n",
      "9月のデータです。\n",
      "10月のデータです。\n",
      "11月のデータです。\n",
      "12月のデータです。\n"
     ]
    }
   ],
   "source": [
    "i = 1 \n",
    "while i <= 12 : \n",
    "    print(f\"{i}月のデータです。\")\n",
    "    i += 1"
   ]
  },
  {
   "cell_type": "code",
   "execution_count": 8,
   "metadata": {},
   "outputs": [
    {
     "name": "stdout",
     "output_type": "stream",
     "text": [
      "iは0、jは0\n",
      "iは0、jは1\n",
      "iは0、jは2\n",
      "iは1、jは0\n",
      "iは1、jは1\n",
      "iは1、jは2\n",
      "iは2、jは0\n",
      "iは2、jは1\n",
      "iは2、jは2\n",
      "iは3、jは0\n",
      "iは3、jは1\n",
      "iは3、jは2\n",
      "iは4、jは0\n",
      "iは4、jは1\n",
      "iは4、jは2\n"
     ]
    }
   ],
   "source": [
    "for i in range(5) :  # 外側のループ\n",
    "        for j in range(3) :  #　内側のループ\n",
    "            print(f\"iは{i}、jは{j}\")"
   ]
  },
  {
   "cell_type": "code",
   "execution_count": 12,
   "metadata": {},
   "outputs": [
    {
     "name": "stdout",
     "output_type": "stream",
     "text": [
      "* - * - * \n",
      "- * - * - \n",
      "* - * - * \n",
      "- * - * - \n",
      "* - * - * \n"
     ]
    }
   ],
   "source": [
    "v = False \n",
    "for i in range(5) : \n",
    "        for j in range(5) : \n",
    "            if v is False : \n",
    "                    print(\"*\", end=\" \")\n",
    "                    v = True \n",
    "            else : \n",
    "                    print(\"-\", end=\" \") \n",
    "                    v = False\n",
    "        print()\n",
    "        "
   ]
  },
  {
   "cell_type": "code",
   "execution_count": 13,
   "metadata": {},
   "outputs": [
    {
     "name": "stdout",
     "output_type": "stream",
     "text": [
      "何月の処理で終了させますか？(1~12):6\n",
      "1月のデータです。\n",
      "2月のデータです。\n",
      "3月のデータです。\n",
      "4月のデータです。\n",
      "5月のデータです。\n",
      "6月のデータです。\n",
      "終了します\n"
     ]
    }
   ],
   "source": [
    "num = int(input(\"何月の処理で終了させますか？(1~12):\"))\n",
    "\n",
    "for i in range(1, 13) : \n",
    "        print(f\"{i}月のデータです。\")\n",
    "        if num == i : \n",
    "                print(\"終了します\")\n",
    "                break "
   ]
  },
  {
   "cell_type": "code",
   "execution_count": 16,
   "metadata": {},
   "outputs": [
    {
     "name": "stdout",
     "output_type": "stream",
     "text": [
      "何月の処理でスキップさせますか？(1~12):3\n",
      "1月のデータです。\n",
      "2月のデータです。\n",
      "スキップします。\n",
      "4月のデータです。\n",
      "5月のデータです。\n",
      "6月のデータです。\n",
      "7月のデータです。\n",
      "8月のデータです。\n",
      "9月のデータです。\n",
      "10月のデータです。\n",
      "11月のデータです。\n",
      "12月のデータです。\n"
     ]
    }
   ],
   "source": [
    "num = int(input(\"何月の処理でスキップさせますか？(1~12):\"))\n",
    "\n",
    "for i in range(1, 13) : \n",
    "#         print(f\"{i}月のデータです。\")\n",
    "        if num == i : \n",
    "                print(\"スキップします。\")\n",
    "                continue \n",
    "        print(f\"{i}月のデータです。\")"
   ]
  },
  {
   "cell_type": "code",
   "execution_count": 17,
   "metadata": {},
   "outputs": [
    {
     "name": "stdout",
     "output_type": "stream",
     "text": [
      "1から１０までの偶数を表示します。\n",
      "2\n",
      "4\n",
      "6\n",
      "8\n",
      "10\n"
     ]
    }
   ],
   "source": [
    "print(\"1から１０までの偶数を表示します。\")\n",
    "for i in range(1, 11) : \n",
    "        if i % 2 == 0 : \n",
    "                print(i) "
   ]
  },
  {
   "cell_type": "code",
   "execution_count": 19,
   "metadata": {},
   "outputs": [
    {
     "name": "stdout",
     "output_type": "stream",
     "text": [
      "1から10までの偶数を表示します\n",
      "2\n",
      "4\n",
      "6\n",
      "8\n",
      "10\n"
     ]
    }
   ],
   "source": [
    "print(\"1から10までの偶数を表示します\")\n",
    "for i in range(2, 11, 2) : \n",
    "        print(i)"
   ]
  },
  {
   "cell_type": "code",
   "execution_count": 26,
   "metadata": {},
   "outputs": [
    {
     "name": "stdout",
     "output_type": "stream",
     "text": [
      "掛け算一覧\n",
      "1 \t2 \t3 \t4 \t5 \t6 \t7 \t8 \t9 \t\n",
      "2 \t4 \t6 \t8 \t10 \t12 \t14 \t16 \t18 \t\n",
      "3 \t6 \t9 \t12 \t15 \t18 \t21 \t24 \t27 \t\n",
      "4 \t8 \t12 \t16 \t20 \t24 \t28 \t32 \t36 \t\n",
      "5 \t10 \t15 \t20 \t25 \t30 \t35 \t40 \t45 \t\n",
      "6 \t12 \t18 \t24 \t30 \t36 \t42 \t48 \t54 \t\n",
      "7 \t14 \t21 \t28 \t35 \t42 \t49 \t56 \t63 \t\n",
      "8 \t16 \t24 \t32 \t40 \t48 \t56 \t64 \t72 \t\n",
      "9 \t18 \t27 \t36 \t45 \t54 \t63 \t72 \t81 \t\n"
     ]
    }
   ],
   "source": [
    "print(\"掛け算一覧\")\n",
    "for i in range(1, 10) : \n",
    "        for j in range(1, 10) : \n",
    "                print(i * j, \"\\t\", end=\"\")\n",
    "        print()"
   ]
  },
  {
   "cell_type": "code",
   "execution_count": 27,
   "metadata": {},
   "outputs": [
    {
     "name": "stdout",
     "output_type": "stream",
     "text": [
      "☆\n",
      "☆☆\n",
      "☆☆☆\n",
      "☆☆☆☆\n",
      "☆☆☆☆☆\n"
     ]
    }
   ],
   "source": [
    "for i in range(1,6) : \n",
    "        print(\"☆\" * i)"
   ]
  },
  {
   "cell_type": "code",
   "execution_count": null,
   "metadata": {},
   "outputs": [],
   "source": []
  }
 ],
 "metadata": {
  "kernelspec": {
   "display_name": "Python 3",
   "language": "python",
   "name": "python3"
  },
  "language_info": {
   "codemirror_mode": {
    "name": "ipython",
    "version": 3
   },
   "file_extension": ".py",
   "mimetype": "text/x-python",
   "name": "python",
   "nbconvert_exporter": "python",
   "pygments_lexer": "ipython3",
   "version": "3.7.3"
  }
 },
 "nbformat": 4,
 "nbformat_minor": 2
}
