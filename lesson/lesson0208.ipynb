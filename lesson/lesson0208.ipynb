{
 "cells": [
  {
   "cell_type": "code",
   "execution_count": 1,
   "metadata": {},
   "outputs": [
    {
     "data": {
      "text/plain": [
       "False"
      ]
     },
     "execution_count": 1,
     "metadata": {},
     "output_type": "execute_result"
    }
   ],
   "source": [
    "5>3 and 3==4"
   ]
  },
  {
   "cell_type": "code",
   "execution_count": 3,
   "metadata": {},
   "outputs": [
    {
     "data": {
      "text/plain": [
       "True"
      ]
     },
     "execution_count": 3,
     "metadata": {},
     "output_type": "execute_result"
    }
   ],
   "source": [
    "a = 6\n",
    "a==6 or a >= 12"
   ]
  },
  {
   "cell_type": "code",
   "execution_count": 4,
   "metadata": {},
   "outputs": [
    {
     "data": {
      "text/plain": [
       "True"
      ]
     },
     "execution_count": 4,
     "metadata": {},
     "output_type": "execute_result"
    }
   ],
   "source": [
    "a = 5\n",
    "not(a==6)"
   ]
  },
  {
   "cell_type": "code",
   "execution_count": 9,
   "metadata": {},
   "outputs": [
    {
     "name": "stdout",
     "output_type": "stream",
     "text": [
      "売り上げを入力してください\n",
      "->100\n",
      "人数を入力してください\n",
      "->20\n",
      "売り上げは好調です。\n",
      "処理を終了します。\n"
     ]
    }
   ],
   "source": [
    "sale = int(input(\"売り上げを入力してください\\n->\"))\n",
    "num = int(input(\"人数を入力してください\\n->\"))\n",
    "if sale >= 100 and num >= 30 :\n",
    "    print(\"売り上げは大盛況です。\")\n",
    "elif sale >= 100 :\n",
    "    print(\"売り上げは好調です。\")\n",
    "elif sale >= 50 :\n",
    "    print(\"売り上げは普通です。\")\n",
    "else :\n",
    "    print(\"売り上げは不調です。\")\n",
    "    \n",
    "print(\"処理を終了します。\")"
   ]
  },
  {
   "cell_type": "code",
   "execution_count": 14,
   "metadata": {},
   "outputs": [
    {
     "name": "stdout",
     "output_type": "stream",
     "text": [
      "売り上げは好調ですか？　（Yes or No） -> No\n",
      "不調\n"
     ]
    }
   ],
   "source": [
    "res = input(\"売り上げは好調ですか？　（Yes or No） -> \")\n",
    "ans = \"好調\" if (res == \"Yes\") else \"不調\"\n",
    "print(ans)"
   ]
  },
  {
   "cell_type": "code",
   "execution_count": 22,
   "metadata": {},
   "outputs": [
    {
     "name": "stdout",
     "output_type": "stream",
     "text": [
      "1 月のデータです。\n",
      "2 月のデータです。\n",
      "3 月のデータです。\n",
      "4 月のデータです。\n",
      "5 月のデータです。\n",
      "6 月のデータです。\n",
      "7 月のデータです。\n",
      "8 月のデータです。\n",
      "9 月のデータです。\n",
      "10 月のデータです。\n",
      "11 月のデータです。\n",
      "12 月のデータです。\n"
     ]
    }
   ],
   "source": [
    "for i in range(12):\n",
    "    print(i+1, \"月のデータです。\")"
   ]
  },
  {
   "cell_type": "code",
   "execution_count": 23,
   "metadata": {},
   "outputs": [
    {
     "name": "stdout",
     "output_type": "stream",
     "text": [
      "1 月のデータです\n",
      "2 月のデータです\n",
      "3 月のデータです\n",
      "4 月のデータです\n",
      "5 月のデータです\n",
      "6 月のデータです\n",
      "7 月のデータです\n",
      "8 月のデータです\n",
      "9 月のデータです\n",
      "10 月のデータです\n",
      "11 月のデータです\n",
      "12 月のデータです\n"
     ]
    }
   ],
   "source": [
    "for i in range(1,13):\n",
    "    print(i, \"月のデータです\")"
   ]
  },
  {
   "cell_type": "code",
   "execution_count": 31,
   "metadata": {},
   "outputs": [
    {
     "name": "stdout",
     "output_type": "stream",
     "text": [
      "2 月のデータです\n",
      "4 月のデータです\n",
      "6 月のデータです\n",
      "8 月のデータです\n",
      "10 月のデータです\n",
      "12 月のデータです\n"
     ]
    }
   ],
   "source": [
    "for i in range(2, 13, 2):\n",
    "    print(i, \"月のデータです\")"
   ]
  },
  {
   "cell_type": "code",
   "execution_count": 34,
   "metadata": {},
   "outputs": [
    {
     "name": "stdout",
     "output_type": "stream",
     "text": [
      "12 月のデータです\n",
      "10 月のデータです\n",
      "8 月のデータです\n",
      "6 月のデータです\n",
      "4 月のデータです\n",
      "2 月のデータです\n"
     ]
    }
   ],
   "source": [
    "for i in range(12, 1, -2):\n",
    "    print(i, \"月のデータです\")"
   ]
  },
  {
   "cell_type": "markdown",
   "metadata": {},
   "source": [
    "# Class"
   ]
  },
  {
   "cell_type": "code",
   "execution_count": 39,
   "metadata": {},
   "outputs": [
    {
     "name": "stdout",
     "output_type": "stream",
     "text": [
      "ゴブリンが現れた　体力：50\n",
      "魔法使いが現れた　体力：150\n"
     ]
    }
   ],
   "source": [
    "class Monster: \n",
    "    hp = 0 \n",
    "    \n",
    "goblin = Monster\n",
    "goblin.hp = 50 \n",
    "print(\"ゴブリンが現れた　体力：\" +  str(goblin.hp))\n",
    "\n",
    "wizard = Monster\n",
    "wizard.hp = 150 \n",
    "print(\"魔法使いが現れた　体力：\" + str(wizard.hp))"
   ]
  },
  {
   "cell_type": "code",
   "execution_count": 49,
   "metadata": {},
   "outputs": [
    {
     "name": "stdout",
     "output_type": "stream",
     "text": [
      "ゴブリンが現れた　体力：-10\n",
      "魔法使いが現れた　体力：150\n"
     ]
    }
   ],
   "source": [
    "class Monster:\n",
    "    def __init__ (self, init_hp):\n",
    "        self.hp = init_hp\n",
    "        \n",
    "goblin = Monster(-10)\n",
    "print(\"ゴブリンが現れた　体力：\" +  str(goblin.hp))\n",
    "wizard = Monster(150)\n",
    "print(\"魔法使いが現れた　体力：\" + str(wizard.hp))"
   ]
  },
  {
   "cell_type": "code",
   "execution_count": 50,
   "metadata": {},
   "outputs": [
    {
     "name": "stdout",
     "output_type": "stream",
     "text": [
      "ゴブリンが現れた　体力：1\n",
      "魔法使いが現れた　体力：150\n"
     ]
    }
   ],
   "source": [
    "class Monster:\n",
    "    def __init__ (self, init_hp):\n",
    "#         追加\n",
    "        if (init_hp > 0):\n",
    "            self.hp = init_hp\n",
    "        else: \n",
    "            self.hp = 1\n",
    "        \n",
    "goblin = Monster(-10)\n",
    "print(\"ゴブリンが現れた　体力：\" +  str(goblin.hp))\n",
    "wizard = Monster(150)\n",
    "print(\"魔法使いが現れた　体力：\" + str(wizard.hp))"
   ]
  },
  {
   "cell_type": "code",
   "execution_count": 54,
   "metadata": {},
   "outputs": [
    {
     "name": "stdout",
     "output_type": "stream",
     "text": [
      "ゴブリンが現れた　体力：50\n",
      "勇者の攻撃\n",
      "ゴブリンの体力は、40\n"
     ]
    }
   ],
   "source": [
    "class Monster:\n",
    "    def __init__ (self, init_hp) :\n",
    "        if (init_hp > 0) :\n",
    "            self.hp = init_hp\n",
    "        else: \n",
    "            self.hp = 1\n",
    "            \n",
    "    # 追加\n",
    "    def damage(self, points) :\n",
    "        self.hp -= points\n",
    "        \n",
    "goblin = Monster(50)\n",
    "print(\"ゴブリンが現れた　体力：\" +  str(goblin.hp))\n",
    "\n",
    "# 追加\n",
    "print(\"勇者の攻撃\") \n",
    "goblin.damage(10)\n",
    "print(\"ゴブリンの体力は、\" + str(goblin.hp))\n",
    "\n",
    "\n",
    "# wizard = Monster(150)\n",
    "# print(\"魔法使いが現れた　体力：\" + str(wizard.hp))"
   ]
  },
  {
   "cell_type": "code",
   "execution_count": 55,
   "metadata": {},
   "outputs": [
    {
     "name": "stdout",
     "output_type": "stream",
     "text": [
      "ゴブリンが現れた　体力：50\n",
      "勇者の攻撃\n",
      "ゴブリンの体力は、40\n",
      "ゴブリンの体力は、-10\n"
     ]
    }
   ],
   "source": [
    "class Monster:\n",
    "    def __init__ (self, init_hp) :\n",
    "        if (init_hp > 0) :\n",
    "            self.hp = init_hp\n",
    "        else: \n",
    "            self.hp = 1\n",
    "            \n",
    "    def damage(self, points) :\n",
    "        self.hp -= points\n",
    "        \n",
    "goblin = Monster(50)\n",
    "print(\"ゴブリンが現れた　体力：\" +  str(goblin.hp))\n",
    "\n",
    "print(\"勇者の攻撃\") \n",
    "goblin.damage(10)\n",
    "# 追加\n",
    "print(\"ゴブリンの体力は、\" + str(goblin.hp))\n",
    "goblin.damage(50)\n",
    "print(\"ゴブリンの体力は、\" + str(goblin.hp))\n",
    "\n",
    "\n",
    "# wizard = Monster(150)\n",
    "# print(\"魔法使いが現れた　体力：\" + str(wizard.hp))"
   ]
  },
  {
   "cell_type": "code",
   "execution_count": 56,
   "metadata": {},
   "outputs": [
    {
     "name": "stdout",
     "output_type": "stream",
     "text": [
      "ゴブリンが現れた　体力：50\n",
      "勇者の攻撃\n",
      "ゴブリンの体力は、40\n",
      "勇者の攻撃\n",
      "ゴブリンは倒れた。\n"
     ]
    }
   ],
   "source": [
    "class Monster:\n",
    "    def __init__ (self, init_hp) :\n",
    "        if (init_hp > 0) :\n",
    "            self.hp = init_hp\n",
    "        else: \n",
    "            self.hp = 1\n",
    "            \n",
    "\n",
    "    def damage(self, points) :\n",
    "        self.hp -= points\n",
    "#         追加\n",
    "        if (self.hp < 0) :\n",
    "            return False \n",
    "        else :\n",
    "            return True\n",
    "        \n",
    "goblin = Monster(50)\n",
    "print(\"ゴブリンが現れた　体力：\" +  str(goblin.hp))\n",
    "\n",
    "# 追加\n",
    "print(\"勇者の攻撃\") \n",
    "life = goblin.damage(10)\n",
    "print(\"ゴブリンの体力は、\" + str(goblin.hp))\n",
    "print(\"勇者の攻撃\") \n",
    "life = goblin.damage(50)\n",
    "if (life == True) :\n",
    "    print(\"ゴブリンの体力は、\" + str(goblin.hp))\n",
    "else : \n",
    "    print(\"ゴブリンは倒れた。\")\n",
    "\n",
    "\n",
    "# wizard = Monster(150)\n",
    "# print(\"魔法使いが現れた　体力：\" + str(wizard.hp))"
   ]
  },
  {
   "cell_type": "code",
   "execution_count": null,
   "metadata": {},
   "outputs": [],
   "source": []
  }
 ],
 "metadata": {
  "kernelspec": {
   "display_name": "Python 3",
   "language": "python",
   "name": "python3"
  },
  "language_info": {
   "codemirror_mode": {
    "name": "ipython",
    "version": 3
   },
   "file_extension": ".py",
   "mimetype": "text/x-python",
   "name": "python",
   "nbconvert_exporter": "python",
   "pygments_lexer": "ipython3",
   "version": "3.7.3"
  }
 },
 "nbformat": 4,
 "nbformat_minor": 2
}
