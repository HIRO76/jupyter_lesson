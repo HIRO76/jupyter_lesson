{
 "cells": [
  {
   "cell_type": "markdown",
   "metadata": {},
   "source": [
    "# クラス"
   ]
  },
  {
   "cell_type": "markdown",
   "metadata": {},
   "source": [
    "### コンストラクタ未使用"
   ]
  },
  {
   "cell_type": "code",
   "execution_count": 1,
   "metadata": {},
   "outputs": [
    {
     "name": "stdout",
     "output_type": "stream",
     "text": [
      "鈴木さんは23歳です。\n"
     ]
    }
   ],
   "source": [
    "class Person():\n",
    "    def getName(self):\n",
    "        return self.name\n",
    "    def getAge(self):\n",
    "        return self.age\n",
    "    \n",
    "pr = Person()\n",
    "pr.name = \"鈴木\"\n",
    "pr.age = 23\n",
    "\n",
    "n = pr.getName()\n",
    "a = pr.getAge()\n",
    "print(f\"{n}さんは{a}歳です。\")"
   ]
  },
  {
   "cell_type": "code",
   "execution_count": 3,
   "metadata": {},
   "outputs": [
    {
     "name": "stdout",
     "output_type": "stream",
     "text": [
      "田中さんは32歳です\n",
      "横田さんは29歳です\n"
     ]
    }
   ],
   "source": [
    "class Person():\n",
    "    \n",
    "    def getName(self):\n",
    "        return self.name\n",
    "    \n",
    "    def getAge(self):\n",
    "        return self.age\n",
    "    \n",
    "pr1 = Person()\n",
    "pr1.name = \"田中\"\n",
    "pr1.age = 32\n",
    "n1 = pr1.getName()\n",
    "a1 = pr1.getAge()\n",
    "\n",
    "pr2 = Person()\n",
    "pr2.name = \"横田\"\n",
    "pr2.age = 29\n",
    "n2 = pr2.getName()\n",
    "a2 = pr2.getAge()\n",
    "\n",
    "print(f\"{n1}さんは{a1}歳です\")\n",
    "print(f\"{n2}さんは{a2}歳です\")"
   ]
  },
  {
   "cell_type": "markdown",
   "metadata": {},
   "source": [
    "### コンストラクタ使用"
   ]
  },
  {
   "cell_type": "code",
   "execution_count": 6,
   "metadata": {},
   "outputs": [
    {
     "name": "stdout",
     "output_type": "stream",
     "text": [
      "鈴木さんは32歳です。\n"
     ]
    }
   ],
   "source": [
    "class Person():\n",
    "    def __init__(self, name, age):\n",
    "        self.name = name\n",
    "        self.age = age\n",
    "        \n",
    "    def getName(self):\n",
    "        return self.name\n",
    "    \n",
    "    def getAge(self):\n",
    "        return self.age\n",
    "    \n",
    "pr = Person(\"鈴木\", 32)\n",
    "n = pr.getName()\n",
    "a = pr.getAge()\n",
    "print(f\"{n}さんは{a}歳です。\")"
   ]
  },
  {
   "cell_type": "markdown",
   "metadata": {},
   "source": [
    "### クラス変数、クラスメソッド"
   ]
  },
  {
   "cell_type": "code",
   "execution_count": 9,
   "metadata": {},
   "outputs": [
    {
     "name": "stdout",
     "output_type": "stream",
     "text": [
      "鈴木さんは31歳です\n",
      "斎藤さんは34歳です\n",
      "合計人数は、2人です\n"
     ]
    }
   ],
   "source": [
    "class Person():\n",
    "    count = 0\n",
    "    \n",
    "    def __init__(self, name, age):\n",
    "        Person.count += 1\n",
    "        self.name = name\n",
    "        self.age = age \n",
    "        \n",
    "    def getName(self):\n",
    "        return self.name\n",
    "    \n",
    "    def getAge(self):\n",
    "        return self.age\n",
    "    \n",
    "    @classmethod\n",
    "    def getCount(cls):\n",
    "        return cls.count\n",
    "    \n",
    "pr1 = Person(\"鈴木\", 31)\n",
    "pr2 = Person(\"斎藤\", 34)\n",
    "\n",
    "print(f\"{pr1.getName()}さんは{pr1.getAge()}歳です\")\n",
    "print(f\"{pr2.getName()}さんは{pr2.getAge()}歳です\")\n",
    "print(f\"合計人数は、{Person.getCount()}人です\")"
   ]
  },
  {
   "cell_type": "code",
   "execution_count": 2,
   "metadata": {},
   "outputs": [
    {
     "name": "stdout",
     "output_type": "stream",
     "text": [
      "顧客： 斎藤さんは23歳です\n",
      "アドレスはsample@example.com　電話番号は0123-45-6789\n"
     ]
    }
   ],
   "source": [
    "class Person:\n",
    "    def __init__(self, name, age):\n",
    "        self.name = name\n",
    "        self.age = age\n",
    "        \n",
    "    def getName(self):\n",
    "        return self.name\n",
    "    \n",
    "    def getAge(self):\n",
    "        return self.age \n",
    "    \n",
    "class Customer(Person):\n",
    "    def __init__(self, nm, ag, ad, tl):\n",
    "        super().__init__(nm, ag)\n",
    "        self.adr = ad\n",
    "        self.tel = tl\n",
    "        \n",
    "    def getName(self):\n",
    "#         self.name = \"顧客： \"　+ self.name\n",
    "        self.name = \"顧客： \" + self.name\n",
    "        return self.name\n",
    "    \n",
    "    def getAdr(self):\n",
    "        return self.adr\n",
    "    \n",
    "    def getTel(self):\n",
    "        return self.tel  \n",
    "    \n",
    "pr = Customer(\"斎藤\", 23, \"sample@example.com\", \"0123-45-6789\")\n",
    "nm = pr.getName()\n",
    "ag = pr.getAge()\n",
    "ad = pr.getAdr()\n",
    "tl = pr.getTel()\n",
    "\n",
    "\n",
    "# print(nm, ag, ad,tl)\n",
    "print(f\"{nm}さんは{ag}歳です\") \n",
    "print(f\"アドレスは{ad}　電話番号は{tl}\")"
   ]
  },
  {
   "cell_type": "code",
   "execution_count": 7,
   "metadata": {},
   "outputs": [],
   "source": [
    "class Person:\n",
    "    \n",
    "    def __init__(self, name, age):\n",
    "        self.name = name\n",
    "        self.age = age\n",
    "        \n",
    "    def getName(self):\n",
    "        return self.name\n",
    "    \n",
    "    def getAge(self):\n",
    "        return self.age\n",
    "    \n",
    "class Customer(Person):\n",
    "    def __init__(self, nm, ag, ad, tl):\n",
    "        super().__init__(nm, ag)\n",
    "        self.adr = ad\n",
    "        self.tel = tl\n",
    "        \n",
    "    def getName(self):\n",
    "        self.name = '顧客：　' + self.name\n",
    "        return self.name\n",
    "    \n",
    "    def getsAdr(self):\n",
    "        return self.adr\n",
    "    \n",
    "    def getTel(self):\n",
    "        return self.tel\n",
    "    "
   ]
  },
  {
   "cell_type": "code",
   "execution_count": 12,
   "metadata": {},
   "outputs": [
    {
     "ename": "NameError",
     "evalue": "name 'adr' is not defined",
     "output_type": "error",
     "traceback": [
      "\u001b[0;31m---------------------------------------------------------------------------\u001b[0m",
      "\u001b[0;31mNameError\u001b[0m                                 Traceback (most recent call last)",
      "\u001b[0;32m<ipython-input-12-afede1ff63d7>\u001b[0m in \u001b[0;36m<module>\u001b[0;34m\u001b[0m\n\u001b[1;32m      1\u001b[0m \u001b[0;32mimport\u001b[0m \u001b[0mmyclass\u001b[0m\u001b[0;34m\u001b[0m\u001b[0;34m\u001b[0m\u001b[0m\n\u001b[1;32m      2\u001b[0m \u001b[0;34m\u001b[0m\u001b[0m\n\u001b[0;32m----> 3\u001b[0;31m \u001b[0mpr\u001b[0m \u001b[0;34m=\u001b[0m \u001b[0mmyclass\u001b[0m\u001b[0;34m.\u001b[0m\u001b[0mCustomer\u001b[0m\u001b[0;34m(\u001b[0m\u001b[0;34m'鈴木　'\u001b[0m\u001b[0;34m,\u001b[0m \u001b[0;36m33\u001b[0m\u001b[0;34m,\u001b[0m \u001b[0;34m'sample@example'\u001b[0m\u001b[0;34m,\u001b[0m  \u001b[0;34m'0123-45-6789'\u001b[0m\u001b[0;34m)\u001b[0m\u001b[0;34m\u001b[0m\u001b[0;34m\u001b[0m\u001b[0m\n\u001b[0m\u001b[1;32m      4\u001b[0m \u001b[0mnm\u001b[0m \u001b[0;34m=\u001b[0m \u001b[0mpr\u001b[0m\u001b[0;34m.\u001b[0m\u001b[0mgetName\u001b[0m\u001b[0;34m(\u001b[0m\u001b[0;34m)\u001b[0m\u001b[0;34m\u001b[0m\u001b[0;34m\u001b[0m\u001b[0m\n\u001b[1;32m      5\u001b[0m \u001b[0mag\u001b[0m \u001b[0;34m=\u001b[0m \u001b[0mpr\u001b[0m\u001b[0;34m.\u001b[0m\u001b[0mgetAge\u001b[0m\u001b[0;34m(\u001b[0m\u001b[0;34m)\u001b[0m\u001b[0;34m\u001b[0m\u001b[0;34m\u001b[0m\u001b[0m\n",
      "\u001b[0;32m~/notebooks/lesson02/myclass.py\u001b[0m in \u001b[0;36m__init__\u001b[0;34m(self, nm, ag, ad, tl)\u001b[0m\n\u001b[1;32m     14\u001b[0m     \u001b[0;32mdef\u001b[0m \u001b[0m__init__\u001b[0m\u001b[0;34m(\u001b[0m\u001b[0mself\u001b[0m\u001b[0;34m,\u001b[0m \u001b[0mnm\u001b[0m\u001b[0;34m,\u001b[0m \u001b[0mag\u001b[0m\u001b[0;34m,\u001b[0m \u001b[0mad\u001b[0m\u001b[0;34m,\u001b[0m \u001b[0mtl\u001b[0m\u001b[0;34m)\u001b[0m\u001b[0;34m:\u001b[0m\u001b[0;34m\u001b[0m\u001b[0;34m\u001b[0m\u001b[0m\n\u001b[1;32m     15\u001b[0m         \u001b[0msuper\u001b[0m\u001b[0;34m(\u001b[0m\u001b[0;34m)\u001b[0m\u001b[0;34m.\u001b[0m\u001b[0m__init__\u001b[0m\u001b[0;34m(\u001b[0m\u001b[0mnm\u001b[0m\u001b[0;34m,\u001b[0m \u001b[0mag\u001b[0m\u001b[0;34m)\u001b[0m\u001b[0;34m\u001b[0m\u001b[0;34m\u001b[0m\u001b[0m\n\u001b[0;32m---> 16\u001b[0;31m         \u001b[0mself\u001b[0m\u001b[0;34m.\u001b[0m\u001b[0madr\u001b[0m \u001b[0;34m=\u001b[0m \u001b[0mad\u001b[0m\u001b[0;34m\u001b[0m\u001b[0;34m\u001b[0m\u001b[0m\n\u001b[0m\u001b[1;32m     17\u001b[0m         \u001b[0mself\u001b[0m\u001b[0;34m.\u001b[0m\u001b[0mtel\u001b[0m \u001b[0;34m=\u001b[0m \u001b[0mtl\u001b[0m\u001b[0;34m\u001b[0m\u001b[0;34m\u001b[0m\u001b[0m\n\u001b[1;32m     18\u001b[0m \u001b[0;34m\u001b[0m\u001b[0m\n",
      "\u001b[0;31mNameError\u001b[0m: name 'adr' is not defined"
     ]
    }
   ],
   "source": [
    "import myclass \n",
    "\n",
    "pr = myclass.Customer('鈴木　', 33, 'sample@example',  '0123-45-6789')\n",
    "nm = pr.getName()\n",
    "ag = pr.getAge()\n",
    "ad = pr.getAdr()\n",
    "tl = pr.getTel()\n",
    "\n",
    "print(f\"{nm}さんは{ag}歳です\")\n",
    "print(f\"アドレスは{ad}、電話番号は{tl}です\")"
   ]
  },
  {
   "cell_type": "code",
   "execution_count": 15,
   "metadata": {},
   "outputs": [
    {
     "name": "stdout",
     "output_type": "stream",
     "text": [
      "    October 2018\n",
      "Mo Tu We Th Fr Sa Su\n",
      " 1  2  3  4  5  6  7\n",
      " 8  9 10 11 12 13 14\n",
      "15 16 17 18 19 20 21\n",
      "22 23 24 25 26 27 28\n",
      "29 30 31\n"
     ]
    }
   ],
   "source": [
    "import calendar \n",
    "\n",
    "c  = calendar.TextCalendar()\n",
    "c.prmonth(2018, 10)"
   ]
  },
  {
   "cell_type": "code",
   "execution_count": 17,
   "metadata": {},
   "outputs": [
    {
     "name": "stdout",
     "output_type": "stream",
     "text": [
      "ナンバーは1234、ガソリン量は25.5です。\n",
      "ナンバーは2345、ガソリン量は30.5です。\n"
     ]
    }
   ],
   "source": [
    "class Car:\n",
    "    \n",
    "    def __init__(self, num, gas):\n",
    "        self.num = num\n",
    "        self.gas = gas\n",
    "        \n",
    "    def getNum(self):\n",
    "        return self.num\n",
    "    \n",
    "    def getGas(self):\n",
    "        return self.gas\n",
    "    \n",
    "car1 = Car(1234, 25.5)\n",
    "car2 = Car(2345, 30.5)\n",
    "print(f\"ナンバーは{car1.num}、ガソリン量は{car1.gas}です。\")\n",
    "print(f\"ナンバーは{car2.num}、ガソリン量は{car2.gas}です。\")"
   ]
  },
  {
   "cell_type": "code",
   "execution_count": 21,
   "metadata": {},
   "outputs": [
    {
     "name": "stdout",
     "output_type": "stream",
     "text": [
      "車のナンバーは1234です。ガソリン量は25.5です。\n",
      "車のナンバーは2345です。ガソリン量は30.5です。\n"
     ]
    }
   ],
   "source": [
    "class Car:\n",
    "    def __init__(self, num, gas):\n",
    "        self.num = num\n",
    "        self.gas = gas\n",
    "    \n",
    "    def getNum(self):\n",
    "        return self.num\n",
    "    \n",
    "    def getGas(self):\n",
    "        return self.gas\n",
    "    \n",
    "car1 = Car(1234, 25.5)\n",
    "cn1 = car1.num\n",
    "cg1 = car1.gas\n",
    "\n",
    "car2 = Car(2345, 30.5)\n",
    "cn2 = car2.num\n",
    "cg2 = car2.gas\n",
    "\n",
    "print(f\"車のナンバーは{cn1}です。ガソリン量は{cg1}です。\")\n",
    "print(f\"車のナンバーは{cn2}です。ガソリン量は{cg2}です。\")"
   ]
  },
  {
   "cell_type": "code",
   "execution_count": null,
   "metadata": {},
   "outputs": [],
   "source": []
  }
 ],
 "metadata": {
  "kernelspec": {
   "display_name": "Python 3",
   "language": "python",
   "name": "python3"
  },
  "language_info": {
   "codemirror_mode": {
    "name": "ipython",
    "version": 3
   },
   "file_extension": ".py",
   "mimetype": "text/x-python",
   "name": "python",
   "nbconvert_exporter": "python",
   "pygments_lexer": "ipython3",
   "version": "3.7.3"
  }
 },
 "nbformat": 4,
 "nbformat_minor": 2
}
