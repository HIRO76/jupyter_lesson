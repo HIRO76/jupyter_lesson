{
 "cells": [
  {
   "cell_type": "code",
   "execution_count": 3,
   "metadata": {},
   "outputs": [
    {
     "name": "stdout",
     "output_type": "stream",
     "text": [
      "文字列を入力してください：python hello\n",
      "文字列は「python hello」です。\n",
      "０番目の文字は「p」です\n",
      "文字列を逆さにすると「olleh nohtyp」です\n",
      "文字列の長さは「12」です\n"
     ]
    }
   ],
   "source": [
    "s=input(\"文字列を入力してください：\")\n",
    "print(f\"文字列は「{s}」です。\")\n",
    "print(f\"０番目の文字は「{s[0]}」です\")\n",
    "print(f\"文字列を逆さにすると「{s[::-1]}」です\")\n",
    "print(f\"文字列の長さは「{len(s)}」です\")"
   ]
  },
  {
   "cell_type": "code",
   "execution_count": 5,
   "metadata": {},
   "outputs": [
    {
     "name": "stdout",
     "output_type": "stream",
     "text": [
      "文字列を入力してください（アルファベット）：HELLO python\n",
      "文字列は「HELLO python」です\n",
      "大文字にすると「HELLO PYTHON」です\n",
      "小文字にすると「hello python」です\n"
     ]
    }
   ],
   "source": [
    "s = input(\"文字列を入力してください（アルファベット）：\")\n",
    "print(f\"文字列は「{s}」です\")\n",
    "print(f\"大文字にすると「{s.upper()}」です\")\n",
    "print(f\"小文字にすると「{s.lower()}」です\")\n"
   ]
  },
  {
   "cell_type": "code",
   "execution_count": 9,
   "metadata": {},
   "outputs": [
    {
     "name": "stdout",
     "output_type": "stream",
     "text": [
      "1,000,000,000\n"
     ]
    }
   ],
   "source": [
    "print(\"{:,}\".format(1000000000))"
   ]
  },
  {
   "cell_type": "code",
   "execution_count": 11,
   "metadata": {},
   "outputs": [
    {
     "name": "stdout",
     "output_type": "stream",
     "text": [
      "１つ目の単語を入力してください：今日\n",
      "２つ目の単語を入力してください：いい\n",
      "３つ目の単語を入力してください：感じ\n",
      "今日はいい感じです。感じです。\n"
     ]
    }
   ],
   "source": [
    "word0 = input(\"１つ目の単語を入力してください：\")\n",
    "word1 = input(\"２つ目の単語を入力してください：\")\n",
    "word2 = input(\"３つ目の単語を入力してください：\")\n",
    "\n",
    "print(\"{0}は{1}{2}です。{2}です。\".format(word0, word1, word2))"
   ]
  },
  {
   "cell_type": "code",
   "execution_count": 14,
   "metadata": {},
   "outputs": [
    {
     "name": "stdout",
     "output_type": "stream",
     "text": [
      "個数を入力してください：5\n",
      "金額を入力してください：10000\n",
      "5個10,000円\n"
     ]
    }
   ],
   "source": [
    "num0 = int(input(\"個数を入力してください：\"))\n",
    "num1 = int(input(\"金額を入力してください：\"))\n",
    "print(\"{0:<}個{1:^,}円\".format(num0, num1))"
   ]
  },
  {
   "cell_type": "code",
   "execution_count": 21,
   "metadata": {},
   "outputs": [
    {
     "name": "stdout",
     "output_type": "stream",
     "text": [
      "文字列を入力してください：hello\n",
      "検索する文字列を入力してください：he\n",
      "「hello」の「1」の位置に「he」が見つかりました\n"
     ]
    }
   ],
   "source": [
    "s=input(\"文字列を入力してください：\")\n",
    "key=input(\"検索する文字列を入力してください：\")\n",
    "res=s.find(key)\n",
    "if res != -1:\n",
    "    print(f\"「{s}」の「{res}」の位置に「{key}」が見つかりました\")\n",
    "else: \n",
    "    print(f\"「{s}」の中に「{key}」が見つかりませんでした\")"
   ]
  },
  {
   "cell_type": "code",
   "execution_count": 27,
   "metadata": {},
   "outputs": [
    {
     "name": "stdout",
     "output_type": "stream",
     "text": [
      "文字列を入力してください：あいあいかあかかかあ\n",
      "置換される文字列を入力してください：あ\n",
      "置換する文字列を入力してください：A\n",
      "「AいAいかAかかかA」に置換しました\n"
     ]
    }
   ],
   "source": [
    "s=input(\"文字列を入力してください：\")\n",
    "old=input(\"置換される文字列を入力してください：\")\n",
    "new=input(\"置換する文字列を入力してください：\")\n",
    "\n",
    "if old in s:\n",
    "    n_s=s.replace(old, new)\n",
    "    print(f\"「{n_s}」に置換しました\")\n",
    "else:\n",
    "    print(f\"「{s}」の中に「{old}」が見つかりませんでした\")"
   ]
  },
  {
   "cell_type": "code",
   "execution_count": 28,
   "metadata": {},
   "outputs": [
    {
     "name": "stdout",
     "output_type": "stream",
     "text": [
      "-------------------\n",
      "(パターン)Apple(文字列)Hello(マッチ)Ｘ\n",
      "(パターン)Apple(文字列)GoodBye(マッチ)Ｘ\n",
      "(パターン)Apple(文字列)Thankyou(マッチ)Ｘ\n",
      "-------------------\n",
      "(パターン)GoodBye(文字列)Hello(マッチ)Ｘ\n",
      "(パターン)GoodBye(文字列)GoodBye(マッチ)○\n",
      "(パターン)GoodBye(文字列)Thankyou(マッチ)Ｘ\n",
      "-------------------\n",
      "(パターン)Thankyou(文字列)Hello(マッチ)Ｘ\n",
      "(パターン)Thankyou(文字列)GoodBye(マッチ)Ｘ\n",
      "(パターン)Thankyou(文字列)Thankyou(マッチ)○\n"
     ]
    }
   ],
   "source": [
    "import re\n",
    "\n",
    "ptr=[\"Apple\", \"GoodBye\", \"Thankyou\"]\n",
    "st=[\"Hello\", \"GoodBye\", \"Thankyou\"]\n",
    "\n",
    "for valueptr in ptr:\n",
    "    print(\"-------------------\")\n",
    "    pattern = re.compile(valueptr)\n",
    "    for valuestr in st:\n",
    "        res = pattern.search(valuestr)\n",
    "        if res is not None:\n",
    "            m = \"○\"\n",
    "        else:\n",
    "            m = \"Ｘ\"\n",
    "        msg = \"(パターン)\" + valueptr + \"(文字列)\" + valuestr + \"(マッチ)\" + m\n",
    "        print(msg)"
   ]
  },
  {
   "cell_type": "code",
   "execution_count": 29,
   "metadata": {},
   "outputs": [
    {
     "name": "stdout",
     "output_type": "stream",
     "text": [
      "----------\n",
      "(パターン)TXT(文字列)TXT(マッチ)Ｏ\n",
      "(パターン)TXT(文字列)TXTT(マッチ)Ｏ\n",
      "(パターン)TXT(文字列)TXTTT(マッチ)Ｏ\n",
      "(パターン)TXT(文字列)TTXT(マッチ)Ｏ\n",
      "----------\n",
      "(パターン)^TXT(文字列)TXT(マッチ)Ｏ\n",
      "(パターン)^TXT(文字列)TXTT(マッチ)Ｏ\n",
      "(パターン)^TXT(文字列)TXTTT(マッチ)Ｏ\n",
      "(パターン)^TXT(文字列)TTXT(マッチ)Ｘ\n",
      "----------\n",
      "(パターン)TXT$(文字列)TXT(マッチ)Ｏ\n",
      "(パターン)TXT$(文字列)TXTT(マッチ)Ｘ\n",
      "(パターン)TXT$(文字列)TXTTT(マッチ)Ｘ\n",
      "(パターン)TXT$(文字列)TTXT(マッチ)Ｏ\n",
      "----------\n",
      "(パターン)^TXT$(文字列)TXT(マッチ)Ｏ\n",
      "(パターン)^TXT$(文字列)TXTT(マッチ)Ｘ\n",
      "(パターン)^TXT$(文字列)TXTTT(マッチ)Ｘ\n",
      "(パターン)^TXT$(文字列)TTXT(マッチ)Ｘ\n"
     ]
    }
   ],
   "source": [
    "import re \n",
    "pt=[\"TXT\", \"^TXT\", \"TXT$\", \"^TXT$\"]\n",
    "st=[\"TXT\", \"TXTT\", \"TXTTT\", \"TTXT\"]\n",
    "\n",
    "for valueptr in pt:\n",
    "    print(\"----------\")\n",
    "    pattern=re.compile(valueptr)\n",
    "    for valuestr in st:\n",
    "        res = pattern.search(valuestr)\n",
    "        if res is not None:\n",
    "            m = \"Ｏ\"\n",
    "        else: \n",
    "            m = \"Ｘ\"\n",
    "        msg=\"(パターン)\" + valueptr + \"(文字列)\" + valuestr + \"(マッチ)\" + m \n",
    "        print(msg)"
   ]
  },
  {
   "cell_type": "code",
   "execution_count": 31,
   "metadata": {},
   "outputs": [
    {
     "name": "stdout",
     "output_type": "stream",
     "text": [
      "----------\n",
      "(パターン)TXT.(文字列)TXT(マッチ)X\n",
      "(パターン)TXT.(文字列)TXTT(マッチ)O\n",
      "(パターン)TXT.(文字列)TXTTT(マッチ)O\n",
      "(パターン)TXT.(文字列)TTXT(マッチ)X\n",
      "(パターン)TXT.(文字列)TTTXT(マッチ)X\n",
      "----------\n",
      "(パターン)TXT..(文字列)TXT(マッチ)X\n",
      "(パターン)TXT..(文字列)TXTT(マッチ)X\n",
      "(パターン)TXT..(文字列)TXTTT(マッチ)O\n",
      "(パターン)TXT..(文字列)TTXT(マッチ)X\n",
      "(パターン)TXT..(文字列)TTTXT(マッチ)X\n",
      "----------\n",
      "(パターン).TXT(文字列)TXT(マッチ)X\n",
      "(パターン).TXT(文字列)TXTT(マッチ)X\n",
      "(パターン).TXT(文字列)TXTTT(マッチ)X\n",
      "(パターン).TXT(文字列)TTXT(マッチ)O\n",
      "(パターン).TXT(文字列)TTTXT(マッチ)O\n",
      "----------\n",
      "(パターン)..TXT(文字列)TXT(マッチ)X\n",
      "(パターン)..TXT(文字列)TXTT(マッチ)X\n",
      "(パターン)..TXT(文字列)TXTTT(マッチ)X\n",
      "(パターン)..TXT(文字列)TTXT(マッチ)X\n",
      "(パターン)..TXT(文字列)TTTXT(マッチ)O\n"
     ]
    }
   ],
   "source": [
    "import re \n",
    "pt=[\"TXT.\", \"TXT..\", \".TXT\", \"..TXT\"]\n",
    "st=[\"TXT\", \"TXTT\", \"TXTTT\", \"TTXT\", \"TTTXT\"]\n",
    "for valueptr in pt:\n",
    "    print(\"----------\")\n",
    "    pattern = re.compile(valueptr)\n",
    "    for valuestr in st:\n",
    "        res=pattern.search(valuestr)\n",
    "        if res is not None:\n",
    "            m = \"O\"\n",
    "        else:\n",
    "            m = \"X\"\n",
    "        \n",
    "        msg=\"(パターン)\" + valueptr + \"(文字列)\" + valuestr + \"(マッチ)\" + m\n",
    "        \n",
    "        print(msg)"
   ]
  },
  {
   "cell_type": "code",
   "execution_count": 32,
   "metadata": {},
   "outputs": [
    {
     "name": "stdout",
     "output_type": "stream",
     "text": [
      "------------\n",
      "(パターン)[012](文字列)0(マッチ)O\n",
      "(パターン)[012](文字列)1(マッチ)O\n",
      "(パターン)[012](文字列)2(マッチ)O\n",
      "(パターン)[012](文字列)3(マッチ)X\n",
      "------------\n",
      "(パターン)[0-3](文字列)0(マッチ)O\n",
      "(パターン)[0-3](文字列)1(マッチ)O\n",
      "(パターン)[0-3](文字列)2(マッチ)O\n",
      "(パターン)[0-3](文字列)3(マッチ)O\n",
      "------------\n",
      "(パターン)[^012](文字列)0(マッチ)X\n",
      "(パターン)[^012](文字列)1(マッチ)X\n",
      "(パターン)[^012](文字列)2(マッチ)X\n",
      "(パターン)[^012](文字列)3(マッチ)O\n"
     ]
    }
   ],
   "source": [
    "import re \n",
    "\n",
    "pt=[\"[012]\", \"[0-3]\", \"[^012]\"]\n",
    "st=[\"0\", \"1\", \"2\", \"3\"]\n",
    "\n",
    "for valueptr in pt:\n",
    "    print(\"------------\")\n",
    "    pattern=re.compile(valueptr)\n",
    "    for valuestr in st:\n",
    "        res=pattern.search(valuestr)\n",
    "        if res is not None:\n",
    "            m=\"O\"\n",
    "        else:\n",
    "            m=\"X\"\n",
    "        msg=\"(パターン)\" + valueptr + \"(文字列)\" + valuestr + \"(マッチ)\" + m\n",
    "        print(msg)"
   ]
  },
  {
   "cell_type": "code",
   "execution_count": 34,
   "metadata": {},
   "outputs": [
    {
     "name": "stdout",
     "output_type": "stream",
     "text": [
      "----------\n",
      "(パターン)T*(文字列)X(マッチ)O\n",
      "(パターン)T*(文字列)TT(マッチ)O\n",
      "(パターン)T*(文字列)TTT(マッチ)O\n",
      "(パターン)T*(文字列)TTTT(マッチ)O\n",
      "----------\n",
      "(パターン)T+(文字列)X(マッチ)X\n",
      "(パターン)T+(文字列)TT(マッチ)O\n",
      "(パターン)T+(文字列)TTT(マッチ)O\n",
      "(パターン)T+(文字列)TTTT(マッチ)O\n",
      "----------\n",
      "(パターン)T?(文字列)X(マッチ)O\n",
      "(パターン)T?(文字列)TT(マッチ)O\n",
      "(パターン)T?(文字列)TTT(マッチ)O\n",
      "(パターン)T?(文字列)TTTT(マッチ)O\n",
      "----------\n",
      "(パターン)T{3}(文字列)X(マッチ)X\n",
      "(パターン)T{3}(文字列)TT(マッチ)X\n",
      "(パターン)T{3}(文字列)TTT(マッチ)O\n",
      "(パターン)T{3}(文字列)TTTT(マッチ)O\n"
     ]
    }
   ],
   "source": [
    "import re \n",
    "pt=[\"T*\", \"T+\", \"T?\", \"T{3}\"]\n",
    "st=[\"X\", \"TT\", \"TTT\", \"TTTT\"]\n",
    "\n",
    "for valueptr in pt:\n",
    "    print(\"----------\")\n",
    "    pattern = re.compile(valueptr)\n",
    "    for valuestr in st:\n",
    "        res=pattern.search(valuestr)\n",
    "        if res is not None:\n",
    "            m=\"O\"\n",
    "        else:\n",
    "            m=\"X\"\n",
    "        msg=\"(パターン)\"+valueptr+\"(文字列)\"+valuestr+\"(マッチ)\"+m\n",
    "        print(msg)"
   ]
  },
  {
   "cell_type": "code",
   "execution_count": 35,
   "metadata": {},
   "outputs": [
    {
     "name": "stdout",
     "output_type": "stream",
     "text": [
      "-------\n",
      "(パターン)(TXT)(文字列)TX(マッチ)X\n",
      "(パターン)(TXT)(文字列)TXT(マッチ)O\n",
      "(パターン)(TXT)(文字列)XTX(マッチ)X\n",
      "(パターン)(TXT)(文字列)TXTXT(マッチ)O\n",
      "-------\n",
      "(パターン)TXT|XTX(文字列)TX(マッチ)X\n",
      "(パターン)TXT|XTX(文字列)TXT(マッチ)O\n",
      "(パターン)TXT|XTX(文字列)XTX(マッチ)O\n",
      "(パターン)TXT|XTX(文字列)TXTXT(マッチ)O\n"
     ]
    }
   ],
   "source": [
    "import re\n",
    "pt=[\"(TXT)\", \"TXT|XTX\"]\n",
    "st=[\"TX\", \"TXT\", \"XTX\", \"TXTXT\"]\n",
    "\n",
    "for valueptr in pt:\n",
    "    print(\"-------\")\n",
    "    pattern=re.compile(valueptr)\n",
    "    for valuestr in st:\n",
    "        res=pattern.search(valuestr)\n",
    "        if res is not None:\n",
    "            m=\"O\"\n",
    "        else:\n",
    "            m=\"X\"\n",
    "        msg=\"(パターン)\"+valueptr+\"(文字列)\"+valuestr+\"(マッチ)\"+m\n",
    "        print(msg)\n",
    "            "
   ]
  },
  {
   "cell_type": "code",
   "execution_count": 36,
   "metadata": {},
   "outputs": [
    {
     "name": "stdout",
     "output_type": "stream",
     "text": [
      "(変換前)Sample.csv(変換後)Sample.txt\n",
      "(変換前)Sample.exe(変換後)Sample.exe\n",
      "(変換前)test.py(変換後)test.txt\n",
      "(変換前)index.html(変換後)index.txt\n"
     ]
    }
   ],
   "source": [
    "import re \n",
    "pt = \"\\.(csv|html|py)$\"\n",
    "st = [\"Sample.csv\", \"Sample.exe\", \"test.py\", \"index.html\"]\n",
    "pattern = re.compile(pt)\n",
    "for valuestr in st:\n",
    "    res = pattern.sub(\".txt\", valuestr)\n",
    "    msg = \"(変換前)\"+valuestr+\"(変換後)\"+res\n",
    "    print(msg)"
   ]
  },
  {
   "cell_type": "code",
   "execution_count": 55,
   "metadata": {},
   "outputs": [
    {
     "name": "stdout",
     "output_type": "stream",
     "text": [
      "ファイルのリストは以下です。\n",
      "Sample.csv\n",
      "Sample.exe\n",
      "Sample1.py\n",
      "Sample2.py\n",
      "Sample.txt\n",
      "index.html\n",
      "拡張子を入力してください：py\n",
      "該当するファイルのリストは以下です。\n",
      "Sample1.py\n",
      "Sample2.py\n"
     ]
    }
   ],
   "source": [
    "file=[\"Sample.csv\", \"Sample.exe\", \"Sample1.py\", \"Sample2.py\", \"Sample.txt\", \"index.html\"]\n",
    "print(\"ファイルのリストは以下です。\")\n",
    "for f in file:\n",
    "    print(f)\n",
    "\n",
    "ex = input(\"拡張子を入力してください：\")\n",
    "\n",
    "n = 0\n",
    "res = []\n",
    "for f in file:\n",
    "    n = f.find(ex)\n",
    "    if n > 1:\n",
    "        res.append(f)\n",
    "\n",
    "print(\"該当するファイルのリストは以下です。\")\n",
    "for f in res:\n",
    "    print(f)"
   ]
  },
  {
   "cell_type": "code",
   "execution_count": 53,
   "metadata": {},
   "outputs": [
    {
     "name": "stdout",
     "output_type": "stream",
     "text": [
      "Sample1.py\n",
      "Sample2.py\n"
     ]
    }
   ],
   "source": [
    "file=[\"Sample.csv\", \"Sample.exe\", \"Sample1.py\", \"Sample2.py\", \"Sample.txt\", \"index.html\"]\n",
    "pt = \"py\"\n",
    "res = []\n",
    "n = 0\n",
    "for f in file:\n",
    "    n = f.find(pt)\n",
    "    if n > 1 :\n",
    "        res.append(f)\n",
    "\n",
    "for ans in res:\n",
    "    print(ans)\n"
   ]
  },
  {
   "cell_type": "code",
   "execution_count": null,
   "metadata": {},
   "outputs": [],
   "source": []
  }
 ],
 "metadata": {
  "kernelspec": {
   "display_name": "Python 3",
   "language": "python",
   "name": "python3"
  },
  "language_info": {
   "codemirror_mode": {
    "name": "ipython",
    "version": 3
   },
   "file_extension": ".py",
   "mimetype": "text/x-python",
   "name": "python",
   "nbconvert_exporter": "python",
   "pygments_lexer": "ipython3",
   "version": "3.7.3"
  }
 },
 "nbformat": 4,
 "nbformat_minor": 2
}
