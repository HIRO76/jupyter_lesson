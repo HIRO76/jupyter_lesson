{
 "cells": [
  {
   "cell_type": "markdown",
   "metadata": {},
   "source": [
    "# Class続き"
   ]
  },
  {
   "cell_type": "code",
   "execution_count": 18,
   "metadata": {},
   "outputs": [
    {
     "name": "stdout",
     "output_type": "stream",
     "text": [
      "ゴブリンが現れた　　体力：50\n",
      "勇者の攻撃\n",
      "ゴブリンの体力は、40\n",
      "勇者の攻撃\n",
      "ゴブリンは倒れた。\n",
      "\n",
      "魔法使いが現れた　　体力：150 /魔法：70\n",
      "勇者の攻撃\n",
      "魔法使いの体力は、145\n",
      "魔法使いは魔法を唱えた！\n",
      "魔法使いの体力：145/魔法力：60\n"
     ]
    }
   ],
   "source": [
    "class Monster :\n",
    "    def __init__(self, init_hp) :\n",
    "        if (init_hp > 0) :\n",
    "            self.hp = init_hp\n",
    "        else :\n",
    "            self.hp = 1\n",
    "            \n",
    "    def damage(self, points) : \n",
    "        self.hp -= points \n",
    "        if (self.hp < 0) : \n",
    "            return False \n",
    "        else : \n",
    "            return True \n",
    "        \n",
    "# Monsterクラスを継承\n",
    "class Wizard(Monster) :\n",
    "    def __init__(self, init_hp, init_mp) :\n",
    "        super().__init__(init_hp)\n",
    "        self.mp = init_mp\n",
    "        \n",
    "    def damage(self, points) :\n",
    "#         魔法使いは防御力が高いので、攻撃が半分になる\n",
    "        points //= 2 \n",
    "        super().damage(points)\n",
    "        \n",
    "    def magic(self) : \n",
    "        self.mp -= 10\n",
    "        \n",
    "goblin = Monster(50) \n",
    "print(\"ゴブリンが現れた　　体力：\" + str(goblin.hp))\n",
    "print(\"勇者の攻撃\") \n",
    "life = goblin.damage(10) \n",
    "print(\"ゴブリンの体力は、\" + str(goblin.hp))\n",
    "print(\"勇者の攻撃\")\n",
    "life = goblin.damage(50)\n",
    "if (life == True) :\n",
    "    print(\"ゴブリンの体力は、\" + str(goblin.hp))\n",
    "else : \n",
    "    print(\"ゴブリンは倒れた。\")\n",
    "    \n",
    "    \n",
    "# 魔法使い（mp）がある\n",
    "print(\"\")    \n",
    "wizard = Wizard(150, 70)\n",
    "print(\"魔法使いが現れた　　体力：\" + str(wizard.hp), \"/魔法：\" + str(wizard.mp))\n",
    "print(\"勇者の攻撃\")\n",
    "wizard.damage(10)\n",
    "print(\"魔法使いの体力は、\" + str(wizard.hp))\n",
    "print(\"魔法使いは魔法を唱えた！\")\n",
    "wizard.magic()\n",
    "print(\"魔法使いの体力：\" + str(wizard.hp) + \"/魔法力：\" + str(wizard.mp))"
   ]
  },
  {
   "cell_type": "markdown",
   "metadata": {},
   "source": [
    "# イテレータ\n"
   ]
  },
  {
   "cell_type": "code",
   "execution_count": 23,
   "metadata": {},
   "outputs": [
    {
     "name": "stdout",
     "output_type": "stream",
     "text": [
      "イチゴ\n",
      "りんご\n",
      "桃\n",
      "みかん\n"
     ]
    }
   ],
   "source": [
    "items = [ \"イチゴ\", \"りんご\", \"桃\", \"みかん\" ]\n",
    "# print(items[1])\n",
    "for item in items :\n",
    "    print(item)"
   ]
  },
  {
   "cell_type": "code",
   "execution_count": 26,
   "metadata": {},
   "outputs": [
    {
     "name": "stdout",
     "output_type": "stream",
     "text": [
      "◆イチゴ\n",
      "◆りんご\n",
      "◆桃\n",
      "◆みかん\n"
     ]
    }
   ],
   "source": [
    "class Items(object) :\n",
    "    def __init__(self) : \n",
    "        self._items = [ \"イチゴ\", \"りんご\", \"桃\", \"みかん\" ]\n",
    "        self._i = 0\n",
    "        \n",
    "    def __iter__(self) :\n",
    "        return self \n",
    "    \n",
    "    def __next__(self) :\n",
    "        if self._i >= len(self._items) :\n",
    "            raise StopIteration()\n",
    "        item = self._items[self._i]\n",
    "        self._i += 1\n",
    "        return \"◆\" + item\n",
    "    \n",
    "my_items = Items()\n",
    "for item in my_items : \n",
    "    print(item)\n",
    "    \n",
    "    \n",
    "# イテレータを使うことで加工しやすくなる\n",
    "# 複雑な処理をする場合に生きてくる"
   ]
  },
  {
   "cell_type": "markdown",
   "metadata": {},
   "source": [
    "# ジェネレーター"
   ]
  },
  {
   "cell_type": "code",
   "execution_count": 30,
   "metadata": {},
   "outputs": [
    {
     "name": "stdout",
     "output_type": "stream",
     "text": [
      "3\n",
      "2\n",
      "3\n",
      "5\n",
      "7\n"
     ]
    }
   ],
   "source": [
    "def Primenumber() :\n",
    "#     yieldで書いてあるものを順番に返す\n",
    "# 計算できたり加工できる\n",
    "    yield 2 + 1  \n",
    "    yield 2\n",
    "    yield 3\n",
    "    yield 5 \n",
    "    yield 7\n",
    "    \n",
    "for i in Primenumber() : \n",
    "    print(i)"
   ]
  },
  {
   "cell_type": "code",
   "execution_count": 32,
   "metadata": {},
   "outputs": [
    {
     "name": "stdout",
     "output_type": "stream",
     "text": [
      "◆イチゴ\n",
      "◆りんご\n",
      "◆桃\n"
     ]
    }
   ],
   "source": [
    "def items() : \n",
    "    names = [\"イチゴ\", \"りんご\", \"桃\"]\n",
    "    for i in names : \n",
    "        yield \"◆\" + i\n",
    "        \n",
    "for j in items() :\n",
    "    print(j)"
   ]
  },
  {
   "cell_type": "markdown",
   "metadata": {},
   "source": [
    "# 例外処理\n"
   ]
  },
  {
   "cell_type": "code",
   "execution_count": 34,
   "metadata": {},
   "outputs": [
    {
     "ename": "ZeroDivisionError",
     "evalue": "division by zero",
     "output_type": "error",
     "traceback": [
      "\u001b[0;31m---------------------------------------------------------------------------\u001b[0m",
      "\u001b[0;31mZeroDivisionError\u001b[0m                         Traceback (most recent call last)",
      "\u001b[0;32m<ipython-input-34-0d57094f6aa4>\u001b[0m in \u001b[0;36m<module>\u001b[0;34m\u001b[0m\n\u001b[0;32m----> 1\u001b[0;31m \u001b[0manswer\u001b[0m \u001b[0;34m=\u001b[0m \u001b[0;36m10\u001b[0m \u001b[0;34m/\u001b[0m \u001b[0;36m0\u001b[0m\u001b[0;34m\u001b[0m\u001b[0;34m\u001b[0m\u001b[0m\n\u001b[0m\u001b[1;32m      2\u001b[0m \u001b[0mprint\u001b[0m\u001b[0;34m(\u001b[0m\u001b[0manswer\u001b[0m\u001b[0;34m)\u001b[0m\u001b[0;34m\u001b[0m\u001b[0;34m\u001b[0m\u001b[0m\n",
      "\u001b[0;31mZeroDivisionError\u001b[0m: division by zero"
     ]
    }
   ],
   "source": [
    "answer = 10 // 0\n",
    "print(answer)"
   ]
  },
  {
   "cell_type": "code",
   "execution_count": 36,
   "metadata": {},
   "outputs": [
    {
     "name": "stdout",
     "output_type": "stream",
     "text": [
      "10\n"
     ]
    }
   ],
   "source": [
    "num = 1\n",
    "\n",
    "if (num == 0) :\n",
    "    print(\"０では割れません\") \n",
    "else : \n",
    "    answer = 10 // num\n",
    "    print(answer)\n",
    "    \n",
    "# if文で全ての例外に対応していくのは効率が悪すぎる"
   ]
  },
  {
   "cell_type": "code",
   "execution_count": 47,
   "metadata": {},
   "outputs": [
    {
     "name": "stdout",
     "output_type": "stream",
     "text": [
      "数字で指定してください\n"
     ]
    }
   ],
   "source": [
    "# num = 0\n",
    "# num = 1\n",
    "num = \"abc\"\n",
    "\n",
    "# answer = 10 // num\n",
    "\n",
    "try : \n",
    "    answer = 10 // num \n",
    "    print(answer) \n",
    "except ZeroDivisionError  : \n",
    "    print(\"0では割れません\")\n",
    "except TypeError : \n",
    "    print(\"数字で指定してください\")\n",
    "except : \n",
    "    print(\"不明なエラーが発生しました\")"
   ]
  },
  {
   "cell_type": "code",
   "execution_count": 59,
   "metadata": {},
   "outputs": [
    {
     "name": "stdout",
     "output_type": "stream",
     "text": [
      "2.5\n"
     ]
    }
   ],
   "source": [
    "def calc(a, b) :\n",
    "    if (b == 1) : \n",
    "        raise ZeroDivisionError(\"division by one\")\n",
    "        \n",
    "    return a / b\n",
    "\n",
    "# print(calc(5, 1))\n",
    "\n",
    "try : \n",
    "#     print(calc(5, 0))\n",
    "#     print(calc(5, 1))\n",
    "    print(calc(5, 2))\n",
    "except :\n",
    "    print(\"error\")"
   ]
  },
  {
   "cell_type": "code",
   "execution_count": null,
   "metadata": {},
   "outputs": [],
   "source": []
  }
 ],
 "metadata": {
  "kernelspec": {
   "display_name": "Python 3",
   "language": "python",
   "name": "python3"
  },
  "language_info": {
   "codemirror_mode": {
    "name": "ipython",
    "version": 3
   },
   "file_extension": ".py",
   "mimetype": "text/x-python",
   "name": "python",
   "nbconvert_exporter": "python",
   "pygments_lexer": "ipython3",
   "version": "3.7.3"
  }
 },
 "nbformat": 4,
 "nbformat_minor": 2
}
