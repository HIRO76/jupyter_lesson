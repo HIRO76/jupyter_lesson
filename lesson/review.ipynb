{
 "cells": [
  {
   "cell_type": "code",
   "execution_count": 3,
   "metadata": {},
   "outputs": [
    {
     "data": {
      "text/plain": [
       "'lo World'"
      ]
     },
     "execution_count": 3,
     "metadata": {},
     "output_type": "execute_result"
    }
   ],
   "source": [
    "st = \"Hello World\"\n",
    "st[::-1]\n",
    "st[3:]"
   ]
  },
  {
   "cell_type": "code",
   "execution_count": 10,
   "metadata": {},
   "outputs": [
    {
     "name": "stdout",
     "output_type": "stream",
     "text": [
      "今日の天気は晴れです。\n",
      "10株    10,000円\n"
     ]
    }
   ],
   "source": [
    "word1 = \"今日の天気\"\n",
    "word2 = \"晴れ\"\n",
    "num1 = 10\n",
    "num2 = 10000\n",
    "\n",
    "print(\"{0}は{1}です。\".format(word1, word2))\n",
    "\n",
    "print(\"{0:<}株{1:>10,}円\".format(num1, num2))"
   ]
  },
  {
   "cell_type": "code",
   "execution_count": 14,
   "metadata": {},
   "outputs": [
    {
     "name": "stdout",
     "output_type": "stream",
     "text": [
      "文字列を入力してくださいhello\n",
      "検索文字：l\n",
      "hello の 2 の位置に l が見つかりました\n"
     ]
    }
   ],
   "source": [
    "st = input(\"文字列を入力してください\")\n",
    "key = input(\"検索文字：\")\n",
    "res = st.find(key)\n",
    "\n",
    "if res != -1:\n",
    "    print(st, \"の\", res, \"の位置に\", key, \"が見つかりました\")\n",
    "else:\n",
    "    print(f\"{st}の中に{key}は見つかりませんでした。\")\n",
    "    "
   ]
  },
  {
   "cell_type": "code",
   "execution_count": 15,
   "metadata": {},
   "outputs": [
    {
     "name": "stdout",
     "output_type": "stream",
     "text": [
      "文字列入力：hello\n",
      "置換したい文字列：o\n",
      "置換する文字列：DDD\n",
      "hellDDD に置換しました。\n"
     ]
    }
   ],
   "source": [
    "st = input(\"文字列入力：\")\n",
    "old = input(\"置換したい文字列：\")\n",
    "new = input(\"置換する文字列：\")\n",
    "\n",
    "if old in st:\n",
    "    print(st.replace(old, new), \"に置換しました。\")\n",
    "else:\n",
    "    print(f\"{st}の中に{old}はありません\")"
   ]
  },
  {
   "cell_type": "code",
   "execution_count": 17,
   "metadata": {},
   "outputs": [
    {
     "name": "stdout",
     "output_type": "stream",
     "text": [
      "------\n",
      "(パターン)Hello(文字列)Hey(マッチ)X\n",
      "(パターン)Hello(文字列)Good(マッチ)X\n",
      "(パターン)Hello(文字列)Bye(マッチ)X\n",
      "------\n",
      "(パターン)Good(文字列)Hey(マッチ)X\n",
      "(パターン)Good(文字列)Good(マッチ)O\n",
      "(パターン)Good(文字列)Bye(マッチ)X\n",
      "------\n",
      "(パターン)Bye(文字列)Hey(マッチ)X\n",
      "(パターン)Bye(文字列)Good(マッチ)X\n",
      "(パターン)Bye(文字列)Bye(マッチ)O\n"
     ]
    }
   ],
   "source": [
    "import re \n",
    "pt = [\"Hello\", \"Good\", \"Bye\"]\n",
    "st = [\"Hey\", \"Good\", \"Bye\"]\n",
    "for vpt in pt:\n",
    "    print(\"------\")\n",
    "    pattern = re.compile(vpt)\n",
    "    for vst in st:\n",
    "        result = pattern.search(vst)\n",
    "        if result is not None:\n",
    "            m = \"O\"\n",
    "        else:\n",
    "            m = \"X\"\n",
    "        msg = \"(パターン)\" + vpt + \"(文字列)\" + vst + \"(マッチ)\" + m\n",
    "        print(msg)"
   ]
  },
  {
   "cell_type": "code",
   "execution_count": 18,
   "metadata": {},
   "outputs": [
    {
     "name": "stdout",
     "output_type": "stream",
     "text": [
      "-------\n",
      "(パターン)txt(文字列)txt(マッチ)O\n",
      "(パターン)txt(文字列)txtt(マッチ)O\n",
      "(パターン)txt(文字列)txttt(マッチ)O\n",
      "(パターン)txt(文字列)ttxt(マッチ)O\n",
      "-------\n",
      "(パターン)^txt(文字列)txt(マッチ)O\n",
      "(パターン)^txt(文字列)txtt(マッチ)O\n",
      "(パターン)^txt(文字列)txttt(マッチ)O\n",
      "(パターン)^txt(文字列)ttxt(マッチ)X\n",
      "-------\n",
      "(パターン)txt$(文字列)txt(マッチ)O\n",
      "(パターン)txt$(文字列)txtt(マッチ)X\n",
      "(パターン)txt$(文字列)txttt(マッチ)X\n",
      "(パターン)txt$(文字列)ttxt(マッチ)O\n",
      "-------\n",
      "(パターン)^txt$(文字列)txt(マッチ)O\n",
      "(パターン)^txt$(文字列)txtt(マッチ)X\n",
      "(パターン)^txt$(文字列)txttt(マッチ)X\n",
      "(パターン)^txt$(文字列)ttxt(マッチ)X\n"
     ]
    }
   ],
   "source": [
    "import re \n",
    "pt = [\"txt\", \"^txt\", \"txt$\", \"^txt$\"]\n",
    "s = [\"txt\", \"txtt\", \"txttt\", \"ttxt\"]\n",
    "for vpt in pt:\n",
    "    print(\"-------\")\n",
    "    pattern = re.compile(vpt)\n",
    "    for vs in s:\n",
    "        result = pattern.search(vs)\n",
    "        if result is not None:\n",
    "            m = \"O\"\n",
    "        else:\n",
    "            m = \"X\"\n",
    "        msg = \"(パターン)\" + vpt + \"(文字列)\" + vs + \"(マッチ)\" + m\n",
    "        print(msg)"
   ]
  },
  {
   "cell_type": "code",
   "execution_count": 20,
   "metadata": {},
   "outputs": [
    {
     "name": "stdout",
     "output_type": "stream",
     "text": [
      "-----\n",
      "(パターン)txt.(文字列)txt(マッチ)X\n",
      "(パターン)txt.(文字列)txtt(マッチ)O\n",
      "(パターン)txt.(文字列)txttt(マッチ)O\n",
      "(パターン)txt.(文字列)ttxt(マッチ)X\n",
      "(パターン)txt.(文字列)tttxt(マッチ)X\n",
      "-----\n",
      "(パターン)txt..(文字列)txt(マッチ)X\n",
      "(パターン)txt..(文字列)txtt(マッチ)X\n",
      "(パターン)txt..(文字列)txttt(マッチ)O\n",
      "(パターン)txt..(文字列)ttxt(マッチ)X\n",
      "(パターン)txt..(文字列)tttxt(マッチ)X\n",
      "-----\n",
      "(パターン).txt(文字列)txt(マッチ)X\n",
      "(パターン).txt(文字列)txtt(マッチ)X\n",
      "(パターン).txt(文字列)txttt(マッチ)X\n",
      "(パターン).txt(文字列)ttxt(マッチ)O\n",
      "(パターン).txt(文字列)tttxt(マッチ)O\n",
      "-----\n",
      "(パターン)..txt(文字列)txt(マッチ)X\n",
      "(パターン)..txt(文字列)txtt(マッチ)X\n",
      "(パターン)..txt(文字列)txttt(マッチ)X\n",
      "(パターン)..txt(文字列)ttxt(マッチ)X\n",
      "(パターン)..txt(文字列)tttxt(マッチ)O\n"
     ]
    }
   ],
   "source": [
    "import re \n",
    "pt = [\"txt.\", \"txt..\", \".txt\", \"..txt\"]\n",
    "s = [\"txt\",\"txtt\",\"txttt\",\"ttxt\", \"tttxt\"]\n",
    "for vpt in pt:\n",
    "    print(\"-----\")\n",
    "    pattern = re.compile(vpt)\n",
    "    for vs in s:\n",
    "        result = pattern.search(vs)\n",
    "        if result is not None:\n",
    "            m = \"O\"\n",
    "        else: \n",
    "            m = \"X\"\n",
    "        msg = \"(パターン)\" + vpt + \"(文字列)\" + vs + \"(マッチ)\" + m\n",
    "        print(msg)"
   ]
  },
  {
   "cell_type": "code",
   "execution_count": 22,
   "metadata": {},
   "outputs": [
    {
     "name": "stdout",
     "output_type": "stream",
     "text": [
      "------\n",
      "(パターン)[012](文字列)0(マッチ)O\n",
      "(パターン)[012](文字列)1(マッチ)O\n",
      "(パターン)[012](文字列)2(マッチ)O\n",
      "(パターン)[012](文字列)3(マッチ)X\n",
      "(パターン)[012](文字列) (マッチ)X\n",
      "------\n",
      "(パターン)[0-3](文字列)0(マッチ)O\n",
      "(パターン)[0-3](文字列)1(マッチ)O\n",
      "(パターン)[0-3](文字列)2(マッチ)O\n",
      "(パターン)[0-3](文字列)3(マッチ)O\n",
      "(パターン)[0-3](文字列) (マッチ)X\n",
      "------\n",
      "(パターン)[^012](文字列)0(マッチ)X\n",
      "(パターン)[^012](文字列)1(マッチ)X\n",
      "(パターン)[^012](文字列)2(マッチ)X\n",
      "(パターン)[^012](文字列)3(マッチ)O\n",
      "(パターン)[^012](文字列) (マッチ)O\n",
      "------\n",
      "(パターン)\\s(文字列)0(マッチ)X\n",
      "(パターン)\\s(文字列)1(マッチ)X\n",
      "(パターン)\\s(文字列)2(マッチ)X\n",
      "(パターン)\\s(文字列)3(マッチ)X\n",
      "(パターン)\\s(文字列) (マッチ)O\n"
     ]
    }
   ],
   "source": [
    "import re \n",
    "pt = [\"[012]\", \"[0-3]\", \"[^012]\", \"\\s\"]\n",
    "s = [\"0\", \"1\", \"2\", \"3\", \" \"]\n",
    "for vpt in pt:\n",
    "    print(\"------\")\n",
    "    pattern = re.compile(vpt)\n",
    "    for vs in s:\n",
    "        result = pattern.search(vs)\n",
    "        if result is not None:\n",
    "            m = \"O\"\n",
    "        else:\n",
    "            m = \"X\"\n",
    "        msg = \"(パターン)\" + vpt + \"(文字列)\" + vs + \"(マッチ)\" + m\n",
    "        print(msg)"
   ]
  },
  {
   "cell_type": "code",
   "execution_count": 24,
   "metadata": {},
   "outputs": [
    {
     "name": "stdout",
     "output_type": "stream",
     "text": [
      "-----\n",
      "(パターン)t{3}(文字列)tttt(マッチ)O\n",
      "(パターン)t{3}(文字列)tttt(マッチ)O\n",
      "(パターン)t{3}(文字列)tttt(マッチ)O\n",
      "(パターン)t{3}(文字列)tttt(マッチ)O\n",
      "-----\n",
      "(パターン)t{3}(文字列)tttt(マッチ)O\n",
      "(パターン)t{3}(文字列)tttt(マッチ)O\n",
      "(パターン)t{3}(文字列)tttt(マッチ)O\n",
      "(パターン)t{3}(文字列)tttt(マッチ)O\n",
      "-----\n",
      "(パターン)t{3}(文字列)tttt(マッチ)O\n",
      "(パターン)t{3}(文字列)tttt(マッチ)O\n",
      "(パターン)t{3}(文字列)tttt(マッチ)O\n",
      "(パターン)t{3}(文字列)tttt(マッチ)O\n",
      "-----\n",
      "(パターン)t{3}(文字列)tttt(マッチ)O\n",
      "(パターン)t{3}(文字列)tttt(マッチ)O\n",
      "(パターン)t{3}(文字列)tttt(マッチ)O\n",
      "(パターン)t{3}(文字列)tttt(マッチ)O\n"
     ]
    }
   ],
   "source": [
    "import re \n",
    "pt = [\"t*\", \"t+\", \"t?\", \"t{3}\"]\n",
    "s = [\"x\", \"tt\", \"ttt\", \"tttt\"]\n",
    "for vpt in pt:\n",
    "    print(\"-----\")\n",
    "    pattern = re.compile(vpt)\n",
    "    for vs in s:\n",
    "        result = pattern.search(vs)\n",
    "        if result is not None:\n",
    "            m = \"O\"\n",
    "        else:\n",
    "            \n",
    "            m = \"X\"\n",
    "        m\n",
    "        sg = \"(パターン)\" + vpt + \"(文字列)\" + vs + \"(マッチ)\" + m\n",
    "        print(msg)"
   ]
  },
  {
   "cell_type": "code",
   "execution_count": 25,
   "metadata": {},
   "outputs": [
    {
     "name": "stdout",
     "output_type": "stream",
     "text": [
      "------\n",
      "(パターン)(txt)+(文字列)tx(マッチ)X\n",
      "(パターン)(txt)+(文字列)txt(マッチ)O\n",
      "(パターン)(txt)+(文字列)xtx(マッチ)X\n",
      "(パターン)(txt)+(文字列)txtxt(マッチ)O\n",
      "------\n",
      "(パターン)txt|xtx(文字列)tx(マッチ)X\n",
      "(パターン)txt|xtx(文字列)txt(マッチ)O\n",
      "(パターン)txt|xtx(文字列)xtx(マッチ)O\n",
      "(パターン)txt|xtx(文字列)txtxt(マッチ)O\n"
     ]
    }
   ],
   "source": [
    "import re \n",
    "pt = [\"(txt)+\", \"txt|xtx\"]\n",
    "s = [\"tx\", \"txt\", \"xtx\", \"txtxt\"]\n",
    "for vpt in pt:\n",
    "    print(\"------\")\n",
    "    pattern = re.compile(vpt)\n",
    "    for vs in s:\n",
    "        result = pattern.search(vs)\n",
    "        if result is not None:\n",
    "            m = \"O\"\n",
    "        else:\n",
    "            m = \"X\"\n",
    "        msg = \"(パターン)\" + vpt + \"(文字列)\" + vs + \"(マッチ)\" + m\n",
    "        print(msg)"
   ]
  },
  {
   "cell_type": "code",
   "execution_count": 29,
   "metadata": {},
   "outputs": [
    {
     "name": "stdout",
     "output_type": "stream",
     "text": [
      "-------\n",
      "(パターン)^[0-9a-zA-Z\\._-]+@[0-9a-zA-Z\\._-]+\\.[a-zA-Z]+$(文字列)ikushin0706@gmail.com(マッチ)OK\n",
      "-------\n",
      "(パターン)^[0-9a-zA-Z\\._-]+@[0-9a-zA-Z\\._-]+\\.[a-zA-Z]+$(文字列)ikushon0706@docomo.ne.jp(マッチ)OK\n",
      "-------\n",
      "(パターン)^[0-9a-zA-Z\\._-]+@[0-9a-zA-Z\\._-]+\\.[a-zA-Z]+$(文字列)sasdnd2203r4-24e(マッチ)No\n"
     ]
    }
   ],
   "source": [
    "import re \n",
    "pt = \"^[0-9a-zA-Z\\._-]+@[0-9a-zA-Z\\._-]+\\.[a-zA-Z]+$\"\n",
    "s = [\"ikushin0706@gmail.com\", \"ikushon0706@docomo.ne.jp\", \"sasdnd2203r4-24e\"]\n",
    "pattern = re.compile(pt)\n",
    "for vs in s:\n",
    "    print(\"-------\")\n",
    "    result = pattern.search(vs)\n",
    "    if result is not None:\n",
    "        m = \"OK\"\n",
    "    else:\n",
    "        m = \"No\"\n",
    "    msg = \"(パターン)\" + pt + \"(文字列)\" + vs + \"(マッチ)\" + m \n",
    "    print(msg)\n",
    "    "
   ]
  },
  {
   "cell_type": "code",
   "execution_count": 30,
   "metadata": {},
   "outputs": [
    {
     "name": "stdout",
     "output_type": "stream",
     "text": [
      "(変換前)sample.csv(変換後)sample.txt\n",
      "(変換前)sample.exe(変換後)sample.exe\n",
      "(変換前)test.py(変換後)test.txt\n",
      "(変換前)index.html(変換後)index.txt\n"
     ]
    }
   ],
   "source": [
    "import re \n",
    "pt = \"\\.(csv|html|py)$\"\n",
    "s = [\"sample.csv\", \"sample.exe\", \"test.py\", \"index.html\"]\n",
    "pattern = re.compile(pt)\n",
    "for vs in s:\n",
    "    result = pattern.sub(\".txt\", vs)\n",
    "    msg = \"(変換前)\" + vs + \"(変換後)\" + result\n",
    "    print(msg)"
   ]
  },
  {
   "cell_type": "code",
   "execution_count": 33,
   "metadata": {},
   "outputs": [
    {
     "name": "stdout",
     "output_type": "stream",
     "text": [
      "ファイルのリストは以下です\n",
      "sample.csv\n",
      "sample.exe\n",
      "sample1.py\n",
      "sample2.py\n",
      "sample.txt\n",
      "index.html\n",
      "拡張子を入力してください：py\n",
      "該当ファイルは以下です。\n",
      "sample1.py\n",
      "sample2.py\n"
     ]
    }
   ],
   "source": [
    "import re\n",
    "\n",
    "print(\"ファイルのリストは以下です\")\n",
    "file = [\"sample.csv\", \"sample.exe\", \"sample1.py\", \"sample2.py\", \"sample.txt\", \"index.html\"]\n",
    "for f in file:\n",
    "    print(f)\n",
    "ex = input(\"拡張子を入力してください：\")\n",
    "print(\"該当ファイルは以下です。\")\n",
    "pattern = re.compile(ex)\n",
    "for f in file:\n",
    "    result = pattern.search(f)\n",
    "    if result is not None:\n",
    "        print(f)\n"
   ]
  },
  {
   "cell_type": "code",
   "execution_count": 35,
   "metadata": {},
   "outputs": [
    {
     "name": "stdout",
     "output_type": "stream",
     "text": [
      "ファイルのリストは以下です。\n",
      "sample.csv\n",
      "sample.exe\n",
      "sample1.py\n",
      "sample2.py\n",
      "sample.txt\n",
      "index.html\n",
      "拡張子を入力してください：py\n",
      "該当ファイルは以下です。\n",
      "sample1.py\n",
      "sample2.py\n"
     ]
    }
   ],
   "source": [
    "print(\"ファイルのリストは以下です。\")\n",
    "file = [\"sample.csv\", \"sample.exe\", \"sample1.py\", \"sample2.py\", \"sample.txt\", \"index.html\"]\n",
    "for f in file:\n",
    "    print(f)\n",
    "\n",
    "ex = input(\"拡張子を入力してください：\")\n",
    "print(\"該当ファイルは以下です。\")\n",
    "for f in file:\n",
    "    if f.endswith(ex):\n",
    "        print(f)"
   ]
  },
  {
   "cell_type": "code",
   "execution_count": 37,
   "metadata": {},
   "outputs": [
    {
     "name": "stdout",
     "output_type": "stream",
     "text": [
      "ファイルのリストは以下です。\n",
      "sample.csv\n",
      "sample.exe\n",
      "sample1.py\n",
      "sample2.py\n",
      "sample.txt\n",
      "index.html\n",
      "拡張子を入力してください：py\n",
      "該当ファイルは以下です。\n",
      "sample1.py\n",
      "sample2.py\n"
     ]
    }
   ],
   "source": [
    "print(\"ファイルのリストは以下です。\")\n",
    "file = [\"sample.csv\", \"sample.exe\", \"sample1.py\", \"sample2.py\", \"sample.txt\", \"index.html\"]\n",
    "for f in file:\n",
    "    print(f)\n",
    "\n",
    "ex = input(\"拡張子を入力してください：\")\n",
    "print(\"該当ファイルは以下です。\")\n",
    "for f in file:\n",
    "    if f.find(ex) > 1:\n",
    "        print(f)"
   ]
  },
  {
   "cell_type": "code",
   "execution_count": 46,
   "metadata": {},
   "outputs": [
    {
     "name": "stdout",
     "output_type": "stream",
     "text": [
      "hello\n",
      "bye\n",
      "with"
     ]
    }
   ],
   "source": [
    "with open(\"sample.txt\", \"r\") as f:\n",
    "    \n",
    "    #     f.write(\"hello\\n\")\n",
    "    #     f.write(\"bye\\n\")\n",
    "    #     f.write(\"with\")\n",
    "    \n",
    "    lines = f.readlines()\n",
    "    for line in lines:\n",
    "        print(line, end=\"\")\n",
    "        \n"
   ]
  },
  {
   "cell_type": "code",
   "execution_count": 49,
   "metadata": {},
   "outputs": [
    {
     "name": "stdout",
     "output_type": "stream",
     "text": [
      "['横浜', 'みなとみらい', '3000']\n",
      "\n",
      "['中華街', '中華マン', '1000']\n",
      "\n",
      "['赤煉瓦倉庫', 'カフェ', '1200']\n",
      "\n",
      "['東京', '秋葉原', '１０００']\n",
      "\n",
      "['渋谷', 'ジュンク堂', '３０００']\n",
      "\n",
      "['渋谷', 'カフェ', '１２００']\n",
      "\n",
      "['新宿', '紀伊國屋', '２４００']\n",
      "\n"
     ]
    }
   ],
   "source": [
    "import csv \n",
    "\n",
    "with open(\"sample.csv\", \"r\") as f:\n",
    "    rd  = csv.reader(f)\n",
    "    for row in rd:\n",
    "        print(row)\n",
    "#         for col in row:\n",
    "#             print(col, end=\",\")\n",
    "        print()\n",
    "    "
   ]
  },
  {
   "cell_type": "code",
   "execution_count": 51,
   "metadata": {},
   "outputs": [],
   "source": [
    "import json\n",
    "\n",
    "with open(\"sample.json\", \"w\") as f:\n",
    "    json.dump({\"関東\":{\"秋葉原\":50, \"恵比寿\":80, \"吉祥寺\":100}, \"中部\":{\"名古屋\":120, \"三ヶ日\":100}, \"関西\":{\"大阪\":100,\"京都\":200,\"三重\":150}}, f)"
   ]
  },
  {
   "cell_type": "code",
   "execution_count": 53,
   "metadata": {},
   "outputs": [
    {
     "name": "stdout",
     "output_type": "stream",
     "text": [
      "{'関東': {'秋葉原': 50, '恵比寿': 80, '吉祥寺': 100}, '中部': {'名古屋': 120, '三ヶ日': 100}, '関西': {'大阪': 100, '京都': 200, '三重': 150}}\n"
     ]
    }
   ],
   "source": [
    "import json \n",
    "    \n",
    "with open(\"sample.json\", \"r\") as f:\n",
    "    data = json.load(f)\n",
    "    print(data)"
   ]
  },
  {
   "cell_type": "code",
   "execution_count": 61,
   "metadata": {},
   "outputs": [],
   "source": [
    "try: \n",
    "    f = open(\"sample.txt\", \"r\")\n",
    "except (FileNotFoundError, FileExistsError) as e:\n",
    "    print(e)\n",
    "# else :\n",
    "#     lines = f.readlines()\n",
    "#     for line in lines:\n",
    "#         print(line, end=\"\")\n",
    "#     f.close()\n",
    "# finally:\n",
    "#     print(\"処理を終了します。\")\n",
    "    "
   ]
  },
  {
   "cell_type": "code",
   "execution_count": 64,
   "metadata": {},
   "outputs": [
    {
     "name": "stdout",
     "output_type": "stream",
     "text": [
      "lesson10.ipynb\n",
      "lesson2~4.ipynb\n",
      "lesson9.ipynb\n",
      "lesson12.ipynb\n",
      "lesson0209.ipynb\n",
      "lesson10-wr.py\n",
      "free.ipynb\n",
      "lesson10-json.py\n",
      "lesson10-csv.py\n",
      "lesson8.ipynb\n",
      "lesson13.ipynb\n",
      "pdb,db\n",
      "lesson11.ipynb\n",
      "lesson.py\n",
      "sample.csv\n",
      "myclass.py\n",
      "lesson0208.ipynb\n",
      "__pycache__\n",
      "lesson6.ipynb\n",
      "sample.json\n",
      "sample6.py\n",
      ".ipynb_checkpoints\n",
      "lesson_m.py\n",
      "pdb.db\n",
      "review.ipynb\n",
      "lesson5.ipynb\n",
      "lesson7.ipynb\n",
      "Sample.txt\n"
     ]
    }
   ],
   "source": [
    "import os\n",
    "curdir = os.listdir(\".\")\n",
    "for f in curdir:\n",
    "    print(f)"
   ]
  },
  {
   "cell_type": "code",
   "execution_count": 67,
   "metadata": {},
   "outputs": [
    {
     "name": "stdout",
     "output_type": "stream",
     "text": [
      "/Users/ishidzukahiroyuki/notebooks/lesson/lesson10.ipynb : ファイルです。\n",
      "/Users/ishidzukahiroyuki/notebooks/lesson/lesson2~4.ipynb : ファイルです。\n",
      "/Users/ishidzukahiroyuki/notebooks/lesson/lesson9.ipynb : ファイルです。\n",
      "/Users/ishidzukahiroyuki/notebooks/lesson/lesson12.ipynb : ファイルです。\n",
      "/Users/ishidzukahiroyuki/notebooks/lesson/lesson0209.ipynb : ファイルです。\n",
      "/Users/ishidzukahiroyuki/notebooks/lesson/lesson10-wr.py : ファイルです。\n",
      "/Users/ishidzukahiroyuki/notebooks/lesson/free.ipynb : ファイルです。\n",
      "/Users/ishidzukahiroyuki/notebooks/lesson/lesson10-json.py : ファイルです。\n",
      "/Users/ishidzukahiroyuki/notebooks/lesson/lesson10-csv.py : ファイルです。\n",
      "/Users/ishidzukahiroyuki/notebooks/lesson/lesson8.ipynb : ファイルです。\n",
      "/Users/ishidzukahiroyuki/notebooks/lesson/lesson13.ipynb : ファイルです。\n",
      "/Users/ishidzukahiroyuki/notebooks/lesson/pdb,db : ファイルです。\n",
      "/Users/ishidzukahiroyuki/notebooks/lesson/lesson11.ipynb : ファイルです。\n",
      "/Users/ishidzukahiroyuki/notebooks/lesson/lesson.py : ファイルです。\n",
      "/Users/ishidzukahiroyuki/notebooks/lesson/sample.csv : ファイルです。\n",
      "/Users/ishidzukahiroyuki/notebooks/lesson/myclass.py : ファイルです。\n",
      "/Users/ishidzukahiroyuki/notebooks/lesson/lesson0208.ipynb : ファイルです。\n",
      "/Users/ishidzukahiroyuki/notebooks/lesson/__pycache__ : ディレクトリです。\n",
      "/Users/ishidzukahiroyuki/notebooks/lesson/lesson6.ipynb : ファイルです。\n",
      "/Users/ishidzukahiroyuki/notebooks/lesson/sample.json : ファイルです。\n",
      "/Users/ishidzukahiroyuki/notebooks/lesson/sample6.py : ファイルです。\n",
      "/Users/ishidzukahiroyuki/notebooks/lesson/.ipynb_checkpoints : ディレクトリです。\n",
      "/Users/ishidzukahiroyuki/notebooks/lesson/lesson_m.py : ファイルです。\n",
      "/Users/ishidzukahiroyuki/notebooks/lesson/pdb.db : ファイルです。\n",
      "/Users/ishidzukahiroyuki/notebooks/lesson/review.ipynb : ファイルです。\n",
      "/Users/ishidzukahiroyuki/notebooks/lesson/lesson5.ipynb : ファイルです。\n",
      "/Users/ishidzukahiroyuki/notebooks/lesson/lesson7.ipynb : ファイルです。\n",
      "/Users/ishidzukahiroyuki/notebooks/lesson/Sample.txt : ファイルです。\n",
      "\n"
     ]
    }
   ],
   "source": [
    "import os\n",
    "import os.path\n",
    "\n",
    "curdir = os.listdir(\".\")\n",
    "for file in curdir:\n",
    "    print(os.path.abspath(file), end=\" : \")\n",
    "    if (os.path.isfile(file)):\n",
    "        print(\"ファイルです。\")\n",
    "    else: \n",
    "        print(\"ディレクトリです。\")\n",
    "print()"
   ]
  },
  {
   "cell_type": "code",
   "execution_count": 68,
   "metadata": {},
   "outputs": [
    {
     "name": "stdout",
     "output_type": "stream",
     "text": [
      "現在は、2020-03-01 22:15:48.858612です。\n",
      "年：2020\n",
      "月：3\n",
      "日：1\n",
      "1日後は2020-03-02 22:15:48.858612です。\n"
     ]
    }
   ],
   "source": [
    "import datetime\n",
    "\n",
    "dt = datetime.datetime.now()\n",
    "print(f\"現在は、{dt}です。\")\n",
    "print(f\"年：{dt.year}\")\n",
    "print(f\"月：{dt.month}\")\n",
    "print(f\"日：{dt.day}\")\n",
    "dt = dt + datetime.timedelta(days=1)\n",
    "print(f\"1日後は{dt}です。\")"
   ]
  },
  {
   "cell_type": "code",
   "execution_count": 70,
   "metadata": {},
   "outputs": [
    {
     "name": "stdout",
     "output_type": "stream",
     "text": [
      "現在はSun Mar  1 22:22:08 2020です。\n",
      "1日後は2020-03-02です。\n"
     ]
    }
   ],
   "source": [
    "import datetime\n",
    "\n",
    "dt = datetime.datetime.now()\n",
    "st = dt.strftime(\"%c\")\n",
    "print(f\"現在は{st}です。\")\n",
    "dt = dt + datetime.timedelta(days=1)\n",
    "st = dt.strftime(\"%Y-%m-%d\")\n",
    "print(f\"1日後は{st}です。\")"
   ]
  },
  {
   "cell_type": "code",
   "execution_count": 84,
   "metadata": {},
   "outputs": [
    {
     "name": "stdout",
     "output_type": "stream",
     "text": [
      "名前 \t\t\t サイズ\n",
      "lesson10.ipynb \t 17595 バイト\n",
      "lesson2~4.ipynb \t 7201 バイト\n",
      "lesson9.ipynb \t 17631 バイト\n",
      "lesson12.ipynb \t 240660 バイト\n",
      "lesson0209.ipynb \t 9015 バイト\n",
      "lesson10-wr.py \t 279 バイト\n",
      "free.ipynb \t 10487 バイト\n",
      "lesson10-json.py \t 223 バイト\n",
      "lesson10-csv.py \t 343 バイト\n",
      "lesson8.ipynb \t 12560 バイト\n",
      "lesson13.ipynb \t 333289 バイト\n",
      "pdb,db \t 0 バイト\n",
      "lesson11.ipynb \t 71994 バイト\n",
      "lesson.py \t 146 バイト\n",
      "sample.csv \t 218 バイト\n",
      "myclass.py \t 566 バイト\n",
      "lesson0208.ipynb \t 11171 バイト\n",
      "__pycache__ \t 160 バイト\n",
      "lesson6.ipynb \t 20867 バイト\n",
      "sample.json \t 250 バイト\n",
      "sample6.py \t 256 バイト\n",
      ".ipynb_checkpoints \t 512 バイト\n",
      "lesson_m.py \t 562 バイト\n",
      "pdb.db \t 12288 バイト\n",
      "review.ipynb \t 27724 バイト\n",
      "lesson5.ipynb \t 26127 バイト\n",
      "lesson7.ipynb \t 646 バイト\n",
      "Sample.txt \t 14 バイト\n"
     ]
    }
   ],
   "source": [
    "import os \n",
    "import os.path\n",
    "\n",
    "curdir = os.listdir()\n",
    "print(\"名前\", \"\\t\\t\\t\", \"サイズ\")\n",
    "for name in curdir:\n",
    "    print(name, \"\\t\", os.path.getsize(name), \"バイト\")\n",
    "    \n"
   ]
  },
  {
   "cell_type": "code",
   "execution_count": 91,
   "metadata": {},
   "outputs": [
    {
     "name": "stdout",
     "output_type": "stream",
     "text": [
      "名前 \t\t\t 最終アクセス時刻\n",
      "lesson10.ipynb\t2020-02-29 13:17:31.397545\n",
      "lesson2~4.ipynb\t2020-02-28 16:59:53.162277\n",
      "lesson9.ipynb\t2020-02-28 16:59:54.220114\n",
      "lesson12.ipynb\t2020-02-29 18:09:31.243253\n",
      "lesson0209.ipynb\t2020-02-28 16:59:53.138996\n",
      "lesson10-wr.py\t2020-02-29 13:17:31.397519\n",
      "free.ipynb\t2020-02-28 16:59:53.159130\n",
      "lesson10-json.py\t2020-02-29 13:17:31.397492\n",
      "lesson10-csv.py\t2020-02-29 13:17:31.397464\n",
      "lesson8.ipynb\t2020-02-28 16:59:54.155463\n",
      "lesson13.ipynb\t2020-03-01 15:01:35.266564\n",
      "pdb,db\t2020-02-29 13:17:20.758761\n",
      "lesson11.ipynb\t2020-02-29 13:19:05.507712\n",
      "lesson.py\t2020-02-28 16:59:53.138929\n",
      "sample.csv\t2020-03-01 18:24:25.179178\n",
      "myclass.py\t2020-02-28 16:59:53.139763\n",
      "lesson0208.ipynb\t2020-02-28 16:59:53.157681\n",
      "__pycache__\t2020-02-28 16:59:53.713639\n",
      "lesson6.ipynb\t2020-02-28 16:59:54.830378\n",
      "sample.json\t2020-03-01 18:40:08.673090\n",
      "sample6.py\t2020-02-28 16:59:54.143460\n",
      ".ipynb_checkpoints\t2020-03-01 15:01:18.654680\n",
      "lesson_m.py\t2020-02-28 16:59:54.142372\n",
      "pdb.db\t2020-02-29 13:17:31.397874\n",
      "review.ipynb\t2020-03-01 22:41:16.971865\n",
      "lesson5.ipynb\t2020-02-28 16:59:53.157736\n",
      "lesson7.ipynb\t2020-02-28 16:59:54.198334\n",
      "Sample.txt\t2020-03-01 18:18:28.651204\n"
     ]
    }
   ],
   "source": [
    "import os \n",
    "import os.path\n",
    "import datetime\n",
    "\n",
    "curdir = os.listdir()\n",
    "print(\"名前\", \"\\t\\t\\t\", \"最終アクセス時刻\")\n",
    "for file in curdir:\n",
    "    time = os.path.getatime(file)\n",
    "    print(f\"{file}\\t{datetime.datetime.fromtimestamp(time)}\")"
   ]
  },
  {
   "cell_type": "code",
   "execution_count": null,
   "metadata": {},
   "outputs": [],
   "source": []
  }
 ],
 "metadata": {
  "kernelspec": {
   "display_name": "Python 3",
   "language": "python",
   "name": "python3"
  },
  "language_info": {
   "codemirror_mode": {
    "name": "ipython",
    "version": 3
   },
   "file_extension": ".py",
   "mimetype": "text/x-python",
   "name": "python",
   "nbconvert_exporter": "python",
   "pygments_lexer": "ipython3",
   "version": "3.7.3"
  }
 },
 "nbformat": 4,
 "nbformat_minor": 2
}
