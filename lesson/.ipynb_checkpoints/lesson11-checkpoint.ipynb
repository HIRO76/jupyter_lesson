{
 "cells": [
  {
   "cell_type": "markdown",
   "metadata": {},
   "source": [
    "# データベースとネットワーク"
   ]
  },
  {
   "cell_type": "code",
   "execution_count": 9,
   "metadata": {},
   "outputs": [
    {
     "name": "stdout",
     "output_type": "stream",
     "text": [
      "('鉛筆', 80)\n",
      "('消しゴム', 50)\n",
      "('定規', 200)\n",
      "('コンパス', 300)\n",
      "('ボールペン', 100)\n"
     ]
    }
   ],
   "source": [
    "import sqlite3 # DB（SQlite）を使用するためのｉｍｐｏｒｔ\n",
    "\n",
    "conn = sqlite3.connect(\"pdb.db\") # ①pdb.dbという名前のデータベースへ接続\n",
    "# Connectionクラスのインスタンスが返される\n",
    "\n",
    "c = conn.cursor() # ②カーソル取得\n",
    "# Connectionクラスのcursor()メソッドを使い、Cursorクラスのインスタンスを取得\n",
    "# カーソルはデータを1行ずつ操作するための仕組みで、SQL文が発行できる\n",
    "\n",
    "c.execute(\"DROP TABLE IF EXISTS product\")\n",
    "# Cursorクラスのexecute()メソッドでSQL文が叩ける\n",
    "# IF　EXISTSでテーブルの初期化（存在していれば削除される）\n",
    "\n",
    "# ③テーブル作成\n",
    "c.execute(\"CREATE TABLE product(name CHAR(20), price INT)\")\n",
    "# CREATE TABLE文でproductテーブルを作成\n",
    "\n",
    "# カラム作成（データ作成）\n",
    "c.execute(\"INSERT INTO product VALUES('鉛筆', 80)\")   #  nameを追加する際、「\"\"」だとSyntaxErrorとなった\n",
    "c.execute(\"INSERT INTO product VALUES('消しゴム', 50)\")\n",
    "c.execute(\"INSERT INTO product VALUES('定規', 200)\")\n",
    "c.execute(\"INSERT INTO product VALUES('コンパス', 300)\")\n",
    "c.execute(\"INSERT INTO product VALUES('ボールペン', 100)\")\n",
    "# INSERT INTO文でカラムに値を追加更新している\n",
    "\n",
    "conn.commit()   # ④コミットする\n",
    "# Conectionクラスのcommit()メソッドで追加更新した処理を確定させている\n",
    "\n",
    "itr = c.execute(\"SELECT * FROM product\")  # テーブルデータをｉｔｒに代入\n",
    "# SELECT文でデータを問い合わせ、結果がイテレータとして返される\n",
    "\n",
    "for row in itr:  # ｉｔｒからデータをループで取り出す\n",
    "    print(row)\n",
    "    \n",
    "conn.close()  # ⑤データベースのクローズ\n",
    "# Connectionクラスのclose()メソッドでDBとの接続をクローズしている\n"
   ]
  },
  {
   "cell_type": "code",
   "execution_count": 11,
   "metadata": {},
   "outputs": [
    {
     "name": "stdout",
     "output_type": "stream",
     "text": [
      "('定規', 200)\n",
      "('コンパス', 300)\n"
     ]
    }
   ],
   "source": [
    "import sqlite3\n",
    "\n",
    "conn = sqlite3.connect(\"pdb.db\")\n",
    "\n",
    "c = conn.cursor()\n",
    "\n",
    "itr = c.execute(\"SELECT * FROM product WHERE price >= 200\")\n",
    "\n",
    "for row in itr:\n",
    "    print(row)\n",
    "    \n",
    "conn.close()"
   ]
  },
  {
   "cell_type": "code",
   "execution_count": 12,
   "metadata": {},
   "outputs": [
    {
     "name": "stdout",
     "output_type": "stream",
     "text": [
      "('鉛筆', 80)\n"
     ]
    }
   ],
   "source": [
    "import sqlite3\n",
    "\n",
    "conn = sqlite3.connect(\"pdb.db\")\n",
    "\n",
    "c = conn.cursor()\n",
    "\n",
    "itr  = c.execute(\"SELECT * FROM product WHERE name = '鉛筆'\")\n",
    "\n",
    "for row in itr: \n",
    "    print(row)\n",
    "    \n",
    "conn.close()"
   ]
  },
  {
   "cell_type": "code",
   "execution_count": 13,
   "metadata": {},
   "outputs": [
    {
     "name": "stdout",
     "output_type": "stream",
     "text": [
      "('コンパス', 300)\n",
      "('ボールペン', 100)\n"
     ]
    }
   ],
   "source": [
    "import sqlite3\n",
    "\n",
    "conn = sqlite3.connect(\"pdb.db\")\n",
    "\n",
    "c = conn.cursor()\n",
    "\n",
    "itr = c.execute(\"SELECT * FROM product WHERE name LIKE '%ン%'\")\n",
    "\n",
    "for row in itr:\n",
    "    print(row)\n",
    "    \n",
    "conn.close()"
   ]
  },
  {
   "cell_type": "code",
   "execution_count": 14,
   "metadata": {},
   "outputs": [
    {
     "name": "stdout",
     "output_type": "stream",
     "text": [
      "('消しゴム', 50)\n",
      "('鉛筆', 80)\n",
      "('ボールペン', 100)\n",
      "('定規', 200)\n",
      "('コンパス', 300)\n"
     ]
    }
   ],
   "source": [
    "import sqlite3\n",
    "\n",
    "conn = sqlite3.connect(\"pdb.db\")\n",
    "\n",
    "c = conn.cursor()\n",
    "\n",
    "itr = c.execute(\"SELECT * FROM product ORDER BY price\")\n",
    "\n",
    "for row in itr:\n",
    "    print(row)\n",
    "    \n",
    "conn.close()"
   ]
  },
  {
   "cell_type": "code",
   "execution_count": 16,
   "metadata": {},
   "outputs": [
    {
     "name": "stdout",
     "output_type": "stream",
     "text": [
      "('コンパス', 300)\n",
      "('定規', 200)\n",
      "('ボールペン', 100)\n",
      "('鉛筆', 80)\n",
      "('消しゴム', 50)\n"
     ]
    }
   ],
   "source": [
    "import sqlite3\n",
    "conn = sqlite3.connect(\"pdb.db\")\n",
    "c = conn.cursor()\n",
    "itr = c.execute(\"SELECT * FROM product ORDER BY price DESC\")\n",
    "for row in itr:\n",
    "    print(row)\n",
    "conn.close()"
   ]
  },
  {
   "cell_type": "code",
   "execution_count": 4,
   "metadata": {},
   "outputs": [],
   "source": [
    "import urllib.request\n",
    "\n",
    "# page = urllib.request.urlopen(\"https://www.python.org/\")\n",
    "\n",
    "# html = page.read()\n",
    "# st = html.decode()\n",
    "\n",
    "# print(st)"
   ]
  },
  {
   "cell_type": "code",
   "execution_count": 1,
   "metadata": {},
   "outputs": [
    {
     "name": "stdout",
     "output_type": "stream",
     "text": [
      "タイトル: Welcome to Python.org\n"
     ]
    }
   ],
   "source": [
    "import urllib.request \n",
    "from html.parser import HTMLParser\n",
    "\n",
    "class SampleHTMLParser(HTMLParser):\n",
    "    def __init__(self):\n",
    "        HTMLParser.__init__(self)\n",
    "        self.title = False\n",
    "        \n",
    "    def handle_starttag(self, tag, attrs):\n",
    "        if tag == \"title\":\n",
    "            self.title = True\n",
    "            \n",
    "    def handle_data(self, data):\n",
    "        if self.title is True:\n",
    "            print(\"タイトル:\", data)\n",
    "            self.title = False\n",
    "\n",
    "            \n",
    "page = urllib.request.urlopen(\"https://www.python.org/\")\n",
    "\n",
    "html = page.read()\n",
    "st = html.decode()\n",
    "p = SampleHTMLParser()\n",
    "p.feed(st)\n",
    "p.close()\n",
    "                "
   ]
  },
  {
   "cell_type": "code",
   "execution_count": 4,
   "metadata": {},
   "outputs": [
    {
     "name": "stdout",
     "output_type": "stream",
     "text": [
      "('みかん', 80)\n",
      "('いちご', 60)\n",
      "('りんご', 22)\n",
      "('もも', 50)\n",
      "('くり', 75)\n"
     ]
    }
   ],
   "source": [
    "import sqlite3\n",
    "\n",
    "db = sqlite3.connect(\"pdb.db\")\n",
    "c = db.cursor()\n",
    "c.execute(\"DROP TABLE IF EXISTS items\")\n",
    "c.execute(\"CREATE TABLE items(name CHAR(20), num INT)\")\n",
    "c.execute(\"INSERT INTO items VALUES('みかん', 80)\")\n",
    "c.execute(\"INSERT INTO items VALUES('いちご', 60)\")\n",
    "c.execute(\"INSERT INTO items VALUES('りんご', 22)\")\n",
    "c.execute(\"INSERT INTO items VALUES('もも', 50)\")\n",
    "c.execute(\"INSERT INTO items VALUES('くり', 75)\")\n",
    "db.commit()\n",
    "data = c.execute(\"SELECT * FROM items\")\n",
    "for d in data:\n",
    "    print(d)\n",
    "db.close()"
   ]
  },
  {
   "cell_type": "code",
   "execution_count": 7,
   "metadata": {},
   "outputs": [
    {
     "name": "stdout",
     "output_type": "stream",
     "text": [
      "('りんご', 22)\n"
     ]
    }
   ],
   "source": [
    "import sqlite3\n",
    "db = sqlite3.connect('pdb.db')\n",
    "c = db.cursor()\n",
    "db.commit()\n",
    "data = c.execute('SELECT * FROM items WHERE num <= 30')\n",
    "for d in data:\n",
    "    print(d)\n",
    "db.close()"
   ]
  },
  {
   "cell_type": "code",
   "execution_count": 6,
   "metadata": {},
   "outputs": [],
   "source": [
    "# import urllib.request\n",
    "\n",
    "# page = urllib.request.urlopen(\"https://www.python.org/\") 　ファイルアクセス\n",
    "# html = page.read()　ファイル読み込み\n",
    "# str_ = html.decode()　　読み込んだファイル（バイト列/バイナリ列）をデコード（文字列に変換）\n",
    "# print(str_)"
   ]
  },
  {
   "cell_type": "code",
   "execution_count": 10,
   "metadata": {},
   "outputs": [
    {
     "name": "stdout",
     "output_type": "stream",
     "text": [
      "タイトル: Welcome to Python.org\n"
     ]
    }
   ],
   "source": [
    "import urllib.request\n",
    "from html.parser import HTMLParser\n",
    "class SampleHTMLParser(HTMLParser):\n",
    "    def __init__(self):\n",
    "        HTMLParser.__init__(self)\n",
    "        self.title = False\n",
    "        \n",
    "    def handle_starttag(self, tag, attrs):\n",
    "        if tag == \"title\":\n",
    "            self.title = True\n",
    "            \n",
    "    def handle_data(self, data):\n",
    "        if self.title is True:\n",
    "            print(\"タイトル:\", data)\n",
    "            self.title = False\n",
    "            \n",
    "page = urllib.request.urlopen(\"https://www.python.org/\")\n",
    "html = page.read()\n",
    "str_ = html.decode()\n",
    "\n",
    "p = SampleHTMLParser()\n",
    "p.feed(str_)\n",
    "p.close()"
   ]
  },
  {
   "cell_type": "code",
   "execution_count": 11,
   "metadata": {},
   "outputs": [
    {
     "name": "stdout",
     "output_type": "stream",
     "text": [
      "('みかん', 80)\n",
      "('いちご', 60)\n",
      "('りんご', 22)\n",
      "('もも', 50)\n",
      "('くり', 75)\n"
     ]
    }
   ],
   "source": [
    "import sqlite3\n",
    "conn = sqlite3.connect(\"pdb.db\")\n",
    "c = conn.cursor()\n",
    "c.execute(\"DROP TABLE IF EXISTS items\")\n",
    "c.execute(\"CREATE TABLE items(name CHAR(20), price INT)\")\n",
    "c.execute(\"INSERT INTO items VALUES('みかん', 80)\")\n",
    "c.execute(\"INSERT INTO items VALUES('いちご', 60)\")\n",
    "c.execute(\"INSERT INTO items VALUES('りんご', 22)\")\n",
    "c.execute(\"INSERT INTO items VALUES('もも', 50)\")\n",
    "c.execute(\"INSERT INTO items VALUES('くり', 75)\")\n",
    "conn.commit()\n",
    "data = c.execute(\"SELECT * FROM items\")\n",
    "for d in data:\n",
    "    print(d)\n",
    "conn.close()"
   ]
  },
  {
   "cell_type": "code",
   "execution_count": 12,
   "metadata": {},
   "outputs": [
    {
     "name": "stdout",
     "output_type": "stream",
     "text": [
      "('りんご', 22)\n"
     ]
    }
   ],
   "source": [
    "import sqlite3\n",
    "conn = sqlite3.connect(\"pdb.db\")\n",
    "c = conn.cursor()\n",
    "data = c.execute(\"SELECT * FROM items WHERE 30>=price\")\n",
    "for d in data:\n",
    "    print(d)\n",
    "conn.close()"
   ]
  },
  {
   "cell_type": "code",
   "execution_count": null,
   "metadata": {},
   "outputs": [],
   "source": []
  }
 ],
 "metadata": {
  "kernelspec": {
   "display_name": "Python 3",
   "language": "python",
   "name": "python3"
  },
  "language_info": {
   "codemirror_mode": {
    "name": "ipython",
    "version": 3
   },
   "file_extension": ".py",
   "mimetype": "text/x-python",
   "name": "python",
   "nbconvert_exporter": "python",
   "pygments_lexer": "ipython3",
   "version": "3.7.3"
  }
 },
 "nbformat": 4,
 "nbformat_minor": 2
}
