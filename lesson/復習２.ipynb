{
 "cells": [
  {
   "cell_type": "markdown",
   "metadata": {},
   "source": [
    "https://www.atmarkit.co.jp/ait/articles/1911/26/news018.html"
   ]
  },
  {
   "cell_type": "code",
   "execution_count": 4,
   "metadata": {},
   "outputs": [
    {
     "name": "stdout",
     "output_type": "stream",
     "text": [
      "before excute myfunc\n",
      "hello world\n",
      "after excute myfunc\n"
     ]
    }
   ],
   "source": [
    "def mydeco(func):\n",
    "    def inner_func(*args):\n",
    "        print(f\"before excute {func.__name__}\")\n",
    "        result = func(*args)\n",
    "        print(f\"after excute {func.__name__}\")\n",
    "        return result \n",
    "    return inner_func\n",
    "\n",
    "@mydeco\n",
    "def myfunc(msg):\n",
    "    print(msg)\n",
    "    \n",
    "myfunc(\"hello world\")"
   ]
  },
  {
   "cell_type": "code",
   "execution_count": 7,
   "metadata": {},
   "outputs": [
    {
     "name": "stdout",
     "output_type": "stream",
     "text": [
      "deco1\n",
      "deco2\n",
      "hello world\n"
     ]
    }
   ],
   "source": [
    "def deco1(func):\n",
    "    def inner_func(*args):\n",
    "        print(\"deco1\")\n",
    "        result = func(*args)\n",
    "    return inner_func\n",
    "\n",
    "def deco2(func):\n",
    "    def inner_func(*args):\n",
    "        print(\"deco2\")\n",
    "        result = func(*args)\n",
    "    return inner_func\n",
    "\n",
    "@deco1\n",
    "@deco2\n",
    "def myfunc(msg):\n",
    "    print(msg)\n",
    "    \n",
    "myfunc(\"hello world\")"
   ]
  },
  {
   "cell_type": "code",
   "execution_count": 8,
   "metadata": {},
   "outputs": [
    {
     "name": "stdout",
     "output_type": "stream",
     "text": [
      "msg: foo\n",
      "most_inner_func\n",
      "hello world\n"
     ]
    }
   ],
   "source": [
    "def f1(msg=\"foo\"):\n",
    "    def inner_func(func):\n",
    "        def most_inner_func(*args):\n",
    "            print(f\"msg: {msg}\")\n",
    "            print(\"most_inner_func\")\n",
    "            result = func(*args)\n",
    "        return most_inner_func\n",
    "    return inner_func\n",
    "\n",
    "@f1(\"foo\")\n",
    "def some_func(msg):\n",
    "    print(msg)\n",
    "    \n",
    "some_func(\"hello world\")"
   ]
  },
  {
   "cell_type": "code",
   "execution_count": null,
   "metadata": {},
   "outputs": [],
   "source": []
  }
 ],
 "metadata": {
  "kernelspec": {
   "display_name": "Python 3",
   "language": "python",
   "name": "python3"
  },
  "language_info": {
   "codemirror_mode": {
    "name": "ipython",
    "version": 3
   },
   "file_extension": ".py",
   "mimetype": "text/x-python",
   "name": "python",
   "nbconvert_exporter": "python",
   "pygments_lexer": "ipython3",
   "version": "3.7.3"
  }
 },
 "nbformat": 4,
 "nbformat_minor": 2
}
