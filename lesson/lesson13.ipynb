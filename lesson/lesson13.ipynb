{
 "cells": [
  {
   "cell_type": "markdown",
   "metadata": {},
   "source": [
    "# 機械学習応用"
   ]
  },
  {
   "cell_type": "markdown",
   "metadata": {},
   "source": [
    "## 線形回帰"
   ]
  },
  {
   "cell_type": "code",
   "execution_count": 2,
   "metadata": {},
   "outputs": [
    {
     "name": "stdout",
     "output_type": "stream",
     "text": [
      "回帰係数は[45.53155127]です。\n",
      "切片は-5.420669396727004です。\n",
      "学習データによる決定係数は0.6920076270690863です。\n",
      "テストデータによる決定係数は0.5033443224342988です。\n"
     ]
    },
    {
     "data": {
      "image/png": "[encoded data removed]",
      "text/plain": [
       "<Figure size 432x288 with 1 Axes>"
      ]
     },
     "metadata": {
      "needs_background": "light"
     },
     "output_type": "display_data"
    }
   ],
   "source": [
    "from sklearn import datasets  # データを生成するモジュール\n",
    "from sklearn import linear_model  # 線形回帰を行うモジュール\n",
    "from sklearn.model_selection import train_test_split \n",
    "import matplotlib.pyplot as plt \n",
    "import numpy as np \n",
    "\n",
    "np.random.seed(0)  # 乱数のシードを設定\n",
    "\n",
    "x, y = datasets.make_regression(n_samples=100, n_features=1, noise=30)  # 線形回帰のデータを準備しておく\n",
    "\n",
    "x_train, x_test, y_train, y_test = train_test_split(x, y, test_size=0.3)  # 学習データとテストデータを分割しておく\n",
    "\n",
    "e = linear_model.LinearRegression()  # ①回帰実施のためのインスタンスを取得\n",
    "e.fit(x_train, y_train)  # ②fit()メソッドで当てはまるモデルを取得\n",
    "\n",
    "print(f\"回帰係数は{e.coef_}です。\")  # ③インスタンスから回帰モデルを取得できる\n",
    "print(f\"切片は{e.intercept_}です。\")\n",
    "\n",
    "y_pred = e.predict(x_test)  # ④predict()メソッドでテストデータから予測する\n",
    "\n",
    "print(f\"学習データによる決定係数は{e.score(x_train, y_train)}です。\")  # score()メソッドで決定係数を計算\n",
    "# ⑤学習データに対するモデルの当てはまりを評価\n",
    "print(f\"テストデータによる決定係数は{e.score(x_test, y_test)}です。\")  #  決定係数は１に近いほど良い\n",
    "# ⑥テストデータに対するモデルの当てはまりを評価\n",
    "\n",
    "plt.scatter(x_train, y_train, label=\"train\")  # ⑦学習データをプロット\n",
    "plt.scatter(x_test, y_test, label=\"test\")  # ⑧テストデータをプロット\n",
    "plt.plot(x_test, y_pred, color=\"magenta\")  # ⑨回帰直線をプロット\n",
    "plt.legend()\n",
    "\n",
    "plt.show()"
   ]
  },
  {
   "cell_type": "code",
   "execution_count": null,
   "metadata": {},
   "outputs": [],
   "source": []
  }
 ],
 "metadata": {
  "kernelspec": {
   "display_name": "Python 3",
   "language": "python",
   "name": "python3"
  },
  "language_info": {
   "codemirror_mode": {
    "name": "ipython",
    "version": 3
   },
   "file_extension": ".py",
   "mimetype": "text/x-python",
   "name": "python",
   "nbconvert_exporter": "python",
   "pygments_lexer": "ipython3",
   "version": "3.7.3"
  }
 },
 "nbformat": 4,
 "nbformat_minor": 2
}
