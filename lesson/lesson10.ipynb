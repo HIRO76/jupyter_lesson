{
 "cells": [
  {
   "cell_type": "code",
   "execution_count": 1,
   "metadata": {},
   "outputs": [
    {
     "name": "stdout",
     "output_type": "stream",
     "text": [
      "こんにちは\n",
      "さようなら\n",
      "追記\n",
      "読み込み\n"
     ]
    }
   ],
   "source": [
    "# f = open(\"Sample.txt\", \"w\")\n",
    "# with open(\"Sample.txt\", \"w\") as f:\n",
    "f = open(\"Sample.txt\", \"r\")\n",
    "\n",
    "lines = f.readlines()\n",
    "\n",
    "for line in lines:\n",
    "    print(line, end=\"\")\n",
    "\n",
    "#     f.write(\"こんにちは\\n\")\n",
    "#     f.write(\"さようなら\\n\")\n",
    "#     f.write(\"追記\\n\")\n",
    "\n",
    "f.close()"
   ]
  },
  {
   "cell_type": "code",
   "execution_count": 4,
   "metadata": {},
   "outputs": [
    {
     "name": "stdout",
     "output_type": "stream",
     "text": [
      "ファイルをオープンできませんでした。\n",
      "処理を終了します。\n"
     ]
    }
   ],
   "source": [
    "try:\n",
    "    f = open(\"lesson.txt\", \"r\")\n",
    "except FileNotFoundError:\n",
    "    print(\"ファイルをオープンできませんでした。\")\n",
    "else:\n",
    "    lines = f.readlines()\n",
    "    for line in lines:\n",
    "        print(line, end=\"\")\n",
    "    f.close\n",
    "finally:\n",
    "    print(\"処理を終了します。\")\n",
    "    \n"
   ]
  },
  {
   "cell_type": "code",
   "execution_count": 5,
   "metadata": {},
   "outputs": [
    {
     "name": "stdout",
     "output_type": "stream",
     "text": [
      "[Errno 2] No such file or directory: 'lesson.txt'\n",
      "ファイルをオープンできませんでした。\n",
      "処理を終了します。\n"
     ]
    }
   ],
   "source": [
    "try:\n",
    "    f = open(\"lesson.txt\", \"r\")\n",
    "except FileNotFoundError as e:\n",
    "    print(e)\n",
    "    print(\"ファイルをオープンできませんでした。\")\n",
    "else:\n",
    "    lines = f.readlines()\n",
    "    for line in lines:\n",
    "        print(line, end=\"\")\n",
    "    f.close\n",
    "finally:\n",
    "    print(\"処理を終了します。\")\n",
    "    \n"
   ]
  },
  {
   "cell_type": "code",
   "execution_count": 6,
   "metadata": {},
   "outputs": [
    {
     "name": "stdout",
     "output_type": "stream",
     "text": [
      "[Errno 2] No such file or directory: 'lesson.txt'\n",
      "ファイルをオープンできませんでした。\n",
      "処理を終了します。\n"
     ]
    }
   ],
   "source": [
    "try:\n",
    "    f = open(\"lesson.txt\", \"r\")\n",
    "except OSError as e:\n",
    "    print(e)\n",
    "    print(\"ファイルをオープンできませんでした。\")\n",
    "else:\n",
    "    lines = f.readlines()\n",
    "    for line in lines:\n",
    "        print(line, end=\"\")\n",
    "    f.close\n",
    "finally:\n",
    "    print(\"処理を終了します。\")\n",
    "    \n"
   ]
  },
  {
   "cell_type": "code",
   "execution_count": 6,
   "metadata": {},
   "outputs": [
    {
     "name": "stdout",
     "output_type": "stream",
     "text": [
      "[Errno 2] No such file or directory: 'lesson.txt'\n",
      "ファイルをオープンできませんでした。\n",
      "処理を終了します。\n"
     ]
    }
   ],
   "source": [
    "try:\n",
    "    f = open(\"lesson.txt\", \"r\")\n",
    "except OSError as e:\n",
    "    print(e)\n",
    "    print(\"ファイルをオープンできませんでした。\")\n",
    "else:\n",
    "    lines = f.readlines()\n",
    "    for line in lines:\n",
    "        print(line, end=\"\")\n",
    "    f.close\n",
    "finally:\n",
    "    print(\"処理を終了します。\")\n",
    "    "
   ]
  },
  {
   "cell_type": "code",
   "execution_count": 9,
   "metadata": {},
   "outputs": [
    {
     "name": "stdout",
     "output_type": "stream",
     "text": [
      "lesson10.ipynb\n",
      "lesson2~4.ipynb\n",
      "lesson9.ipynb\n",
      "lesson0209.ipynb\n",
      "lesson10-wr.py\n",
      "free.ipynb\n",
      "lesson10-json.py\n",
      "lesson10-csv.py\n",
      "lesson8.ipynb\n",
      "復習２.ipynb\n",
      "lesson.py\n",
      "sample.csv\n",
      "myclass.py\n",
      "lesson0208.ipynb\n",
      "__pycache__\n",
      "練習問題２.ipynb\n",
      "lesson6.ipynb\n",
      "sample.json\n",
      "sample6.py\n",
      "復習.ipynb\n",
      ".ipynb_checkpoints\n",
      "lesson_m.py\n",
      "練習問題1.ipynb\n",
      "lesson5.ipynb\n",
      "lesson7.ipynb\n",
      "Sample.txt\n"
     ]
    }
   ],
   "source": [
    "import os\n",
    "\n",
    "curdir = os.listdir(\".\")\n",
    "for name in curdir:\n",
    "    print(name)"
   ]
  },
  {
   "cell_type": "code",
   "execution_count": 10,
   "metadata": {},
   "outputs": [
    {
     "name": "stdout",
     "output_type": "stream",
     "text": [
      "/Users/ishidzukahiroyuki/notebooks/lesson/lesson10.ipynb,ファイルです。\n",
      "/Users/ishidzukahiroyuki/notebooks/lesson/lesson2~4.ipynb,ファイルです。\n",
      "/Users/ishidzukahiroyuki/notebooks/lesson/lesson9.ipynb,ファイルです。\n",
      "/Users/ishidzukahiroyuki/notebooks/lesson/lesson0209.ipynb,ファイルです。\n",
      "/Users/ishidzukahiroyuki/notebooks/lesson/lesson10-wr.py,ファイルです。\n",
      "/Users/ishidzukahiroyuki/notebooks/lesson/free.ipynb,ファイルです。\n",
      "/Users/ishidzukahiroyuki/notebooks/lesson/lesson10-json.py,ファイルです。\n",
      "/Users/ishidzukahiroyuki/notebooks/lesson/lesson10-csv.py,ファイルです。\n",
      "/Users/ishidzukahiroyuki/notebooks/lesson/lesson8.ipynb,ファイルです。\n",
      "/Users/ishidzukahiroyuki/notebooks/lesson/復習２.ipynb,ファイルです。\n",
      "/Users/ishidzukahiroyuki/notebooks/lesson/lesson.py,ファイルです。\n",
      "/Users/ishidzukahiroyuki/notebooks/lesson/sample.csv,ファイルです。\n",
      "/Users/ishidzukahiroyuki/notebooks/lesson/myclass.py,ファイルです。\n",
      "/Users/ishidzukahiroyuki/notebooks/lesson/lesson0208.ipynb,ファイルです。\n",
      "/Users/ishidzukahiroyuki/notebooks/lesson/__pycache__,ディレクトリです。\n",
      "/Users/ishidzukahiroyuki/notebooks/lesson/練習問題２.ipynb,ファイルです。\n",
      "/Users/ishidzukahiroyuki/notebooks/lesson/lesson6.ipynb,ファイルです。\n",
      "/Users/ishidzukahiroyuki/notebooks/lesson/sample.json,ファイルです。\n",
      "/Users/ishidzukahiroyuki/notebooks/lesson/sample6.py,ファイルです。\n",
      "/Users/ishidzukahiroyuki/notebooks/lesson/復習.ipynb,ファイルです。\n",
      "/Users/ishidzukahiroyuki/notebooks/lesson/.ipynb_checkpoints,ディレクトリです。\n",
      "/Users/ishidzukahiroyuki/notebooks/lesson/lesson_m.py,ファイルです。\n",
      "/Users/ishidzukahiroyuki/notebooks/lesson/練習問題1.ipynb,ファイルです。\n",
      "/Users/ishidzukahiroyuki/notebooks/lesson/lesson5.ipynb,ファイルです。\n",
      "/Users/ishidzukahiroyuki/notebooks/lesson/lesson7.ipynb,ファイルです。\n",
      "/Users/ishidzukahiroyuki/notebooks/lesson/Sample.txt,ファイルです。\n",
      "\n"
     ]
    }
   ],
   "source": [
    "import os\n",
    "import os.path\n",
    "\n",
    "curdir = os.listdir(\".\")\n",
    "for name in curdir:\n",
    "    print(os.path.abspath(name), end=\",\")\n",
    "    if (os.path.isfile(name)):\n",
    "        print(\"ファイルです。\")\n",
    "    else:\n",
    "        print(\"ディレクトリです。\")\n",
    "print()"
   ]
  },
  {
   "cell_type": "code",
   "execution_count": 15,
   "metadata": {},
   "outputs": [
    {
     "name": "stdout",
     "output_type": "stream",
     "text": [
      "現在は2020-02-28 16:12:01.602439です。\n",
      "年：2020\n",
      "月：2\n",
      "日：28\n",
      "1日後は2020-02-29 16:12:01.602439です。\n"
     ]
    }
   ],
   "source": [
    "import datetime \n",
    "\n",
    "dt = datetime.datetime.now()\n",
    "print(f\"現在は{dt}です。\")\n",
    "print(f\"年：{dt.year}\")\n",
    "print(f\"月：{dt.month}\")\n",
    "print(f\"日：{dt.day}\")\n",
    "nextdt = dt + datetime.timedelta(days=1)\n",
    "print(f\"1日後は{nextdt}です。\")"
   ]
  },
  {
   "cell_type": "code",
   "execution_count": 22,
   "metadata": {},
   "outputs": [
    {
     "name": "stdout",
     "output_type": "stream",
     "text": [
      "2020-02-28\n"
     ]
    }
   ],
   "source": [
    "from datetime import date\n",
    "dt = date.today()\n",
    "print(dt)\n"
   ]
  },
  {
   "cell_type": "code",
   "execution_count": 25,
   "metadata": {},
   "outputs": [
    {
     "name": "stdout",
     "output_type": "stream",
     "text": [
      "現在はFri Feb 28 16:23:18 2020です。\n",
      "1日後は2020-02-29です。\n"
     ]
    }
   ],
   "source": [
    "import datetime \n",
    "\n",
    "dt = datetime.datetime.now()\n",
    "st = dt.strftime(\"%c\")\n",
    "print(f\"現在は{st}です。\")\n",
    "dt_n = dt + datetime.timedelta(days=1)\n",
    "st_n = dt_n.strftime(\"%Y-%m-%d\")\n",
    "print(f\"1日後は{st_n}です。\")"
   ]
  },
  {
   "cell_type": "code",
   "execution_count": 27,
   "metadata": {},
   "outputs": [
    {
     "name": "stdout",
     "output_type": "stream",
     "text": [
      "2020-02-28 00:00:00\n"
     ]
    }
   ],
   "source": [
    "import datetime \n",
    "\n",
    "dt = datetime.datetime.strptime(\"2020-02-28\", \"%Y-%m-%d\")\n",
    "print(dt)"
   ]
  },
  {
   "cell_type": "code",
   "execution_count": 36,
   "metadata": {},
   "outputs": [
    {
     "name": "stdout",
     "output_type": "stream",
     "text": [
      "名前 \t\t\t サイズ\n",
      "lesson10.ipynb \t 11825 バイト\n",
      "lesson2~4.ipynb \t 7201 バイト\n",
      "lesson9.ipynb \t 17631 バイト\n",
      "lesson0209.ipynb \t 9015 バイト\n",
      "lesson10-wr.py \t 279 バイト\n",
      "free.ipynb \t 10487 バイト\n",
      "lesson10-json.py \t 223 バイト\n",
      "lesson10-csv.py \t 343 バイト\n",
      "lesson8.ipynb \t 12560 バイト\n",
      "復習２.ipynb \t 2851 バイト\n",
      "lesson.py \t 146 バイト\n",
      "sample.csv \t 78 バイト\n",
      "myclass.py \t 566 バイト\n",
      "lesson0208.ipynb \t 11171 バイト\n",
      "__pycache__ \t 160 バイト\n",
      "練習問題２.ipynb \t 18608 バイト\n",
      "lesson6.ipynb \t 20867 バイト\n",
      "sample.json \t 0 バイト\n",
      "sample6.py \t 256 バイト\n",
      "復習.ipynb \t 21333 バイト\n",
      ".ipynb_checkpoints \t 512 バイト\n",
      "lesson_m.py \t 562 バイト\n",
      "練習問題1.ipynb \t 34825 バイト\n",
      "lesson5.ipynb \t 26127 バイト\n",
      "lesson7.ipynb \t 646 バイト\n",
      "Sample.txt \t 52 バイト\n"
     ]
    }
   ],
   "source": [
    "import os \n",
    "import os.path \n",
    "\n",
    "# curdir = listdir(\".\")\n",
    "print(\"名前\", \"\\t\\t\\t\" ,\"サイズ\")\n",
    "for ls in os.listdir(\".\"):\n",
    "    size = os.path.getsize(ls)\n",
    "    print(ls, \"\\t\" ,size, \"バイト\")"
   ]
  },
  {
   "cell_type": "code",
   "execution_count": 41,
   "metadata": {},
   "outputs": [
    {
     "name": "stdout",
     "output_type": "stream",
     "text": [
      "名前 \t\t\t 最終アクセス時刻\n",
      "lesson10.ipynb \t 2020-02-28 16:44:07.828081\n",
      "lesson2~4.ipynb \t 2020-02-25 18:37:31.175318\n",
      "lesson9.ipynb \t 2020-02-25 18:37:31.175938\n",
      "lesson0209.ipynb \t 2020-02-25 18:37:31.175213\n",
      "lesson10-wr.py \t 2020-02-28 14:16:47.677815\n",
      "free.ipynb \t 2020-02-25 18:37:31.174912\n",
      "lesson10-json.py \t 2020-02-28 15:05:14.395801\n",
      "lesson10-csv.py \t 2020-02-28 14:41:29.537126\n",
      "lesson8.ipynb \t 2020-02-25 18:37:31.175811\n",
      "復習２.ipynb \t 2020-02-25 21:36:36.230045\n",
      "lesson.py \t 2020-02-25 18:37:31.174992\n",
      "sample.csv \t 2020-02-28 14:41:13.474630\n",
      "myclass.py \t 2020-02-25 18:37:31.176103\n",
      "lesson0208.ipynb \t 2020-02-25 18:37:31.175099\n",
      "__pycache__ \t 2020-02-24 17:03:55.548913\n",
      "練習問題２.ipynb \t 2020-02-25 18:37:31.176663\n",
      "lesson6.ipynb \t 2020-02-25 18:37:31.175600\n",
      "sample.json \t 2020-02-28 14:53:33.456905\n",
      "sample6.py \t 2020-02-25 18:37:31.176180\n",
      "復習.ipynb \t 2020-02-25 18:37:31.176315\n",
      ".ipynb_checkpoints \t 2020-02-28 14:16:12.677504\n",
      "lesson_m.py \t 2020-02-25 18:37:31.176019\n",
      "練習問題1.ipynb \t 2020-02-25 18:37:31.176530\n",
      "lesson5.ipynb \t 2020-02-25 18:37:31.175460\n",
      "lesson7.ipynb \t 2020-02-25 18:37:31.175690\n",
      "Sample.txt \t 2020-02-28 14:19:39.667298\n"
     ]
    }
   ],
   "source": [
    "import os \n",
    "import os.path\n",
    "import datetime\n",
    "\n",
    "print(\"名前\", \"\\t\\t\\t\", \"最終アクセス時刻\")\n",
    "for ls in os.listdir(\".\"):\n",
    "    t = os.path.getatime(ls)\n",
    "    tm = datetime.datetime.fromtimestamp(t)\n",
    "    print(ls, \"\\t\", tm)"
   ]
  },
  {
   "cell_type": "code",
   "execution_count": 58,
   "metadata": {},
   "outputs": [
    {
     "name": "stdout",
     "output_type": "stream",
     "text": [
      "名前\tサイズ\n",
      "lesson10.ipynb\t15444 バイト\n",
      "lesson2~4.ipynb\t7201 バイト\n",
      "lesson9.ipynb\t17631 バイト\n",
      "lesson0209.ipynb\t9015 バイト\n",
      "lesson10-wr.py\t279 バイト\n",
      "free.ipynb\t10487 バイト\n",
      "lesson10-json.py\t223 バイト\n",
      "lesson10-csv.py\t343 バイト\n",
      "lesson8.ipynb\t12560 バイト\n",
      "復習２.ipynb\t2851 バイト\n",
      "lesson.py\t146 バイト\n",
      "sample.csv\t78 バイト\n",
      "myclass.py\t566 バイト\n",
      "lesson0208.ipynb\t11171 バイト\n",
      "__pycache__\t160 バイト\n",
      "練習問題２.ipynb\t18608 バイト\n",
      "lesson6.ipynb\t20867 バイト\n",
      "sample.json\t0 バイト\n",
      "sample6.py\t256 バイト\n",
      "復習.ipynb\t21333 バイト\n",
      ".ipynb_checkpoints\t512 バイト\n",
      "lesson_m.py\t562 バイト\n",
      "練習問題1.ipynb\t34825 バイト\n",
      "lesson5.ipynb\t26127 バイト\n",
      "lesson7.ipynb\t646 バイト\n",
      "Sample.txt\t52 バイト\n"
     ]
    }
   ],
   "source": [
    "import os \n",
    "import os.path\n",
    "\n",
    "curdir = os.listdir(\".\")\n",
    "\n",
    "print(\"名前\", end=\"\\t\")\n",
    "print(\"サイズ\")\n",
    "\n",
    "for name in curdir:\n",
    "    print(name, end=\"\\t\")\n",
    "    print(os.path.getsize(name), \"バイト\")"
   ]
  },
  {
   "cell_type": "code",
   "execution_count": null,
   "metadata": {},
   "outputs": [],
   "source": [
    "import os \n",
    "import os.path\n",
    "import datetime\n",
    "\n",
    "curdir = os.listdir(\".\")\n",
    "\n",
    "print(\"名前\", end=\"\\t\")\n",
    "print(\"最終アクセス時刻\")\n",
    "\n",
    "for name in curdir:\n",
    "    atime = os.path.getatime(name)\n",
    "    \n",
    "    print(name, end=\"\\t\")\n",
    "    print(datetime.datetime.fromtime)"
   ]
  }
 ],
 "metadata": {
  "kernelspec": {
   "display_name": "Python 3",
   "language": "python",
   "name": "python3"
  },
  "language_info": {
   "codemirror_mode": {
    "name": "ipython",
    "version": 3
   },
   "file_extension": ".py",
   "mimetype": "text/x-python",
   "name": "python",
   "nbconvert_exporter": "python",
   "pygments_lexer": "ipython3",
   "version": "3.7.3"
  }
 },
 "nbformat": 4,
 "nbformat_minor": 2
}
