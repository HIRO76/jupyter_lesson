{
 "cells": [
  {
   "cell_type": "code",
   "execution_count": 3,
   "metadata": {},
   "outputs": [
    {
     "name": "stdout",
     "output_type": "stream",
     "text": [
      "diveinto\n"
     ]
    }
   ],
   "source": [
    "d = 'diveinto'\n",
    "\n",
    "d + 'code'\n",
    "\n",
    "print(d)"
   ]
  },
  {
   "cell_type": "code",
   "execution_count": 4,
   "metadata": {},
   "outputs": [
    {
     "name": "stdout",
     "output_type": "stream",
     "text": [
      "(8.0, 10)\n"
     ]
    }
   ],
   "source": [
    "a = 2\n",
    "b = 5\n",
    "\n",
    "c = 3.0 + b, 5 * a\n",
    "\n",
    "print(c)"
   ]
  },
  {
   "cell_type": "code",
   "execution_count": 9,
   "metadata": {},
   "outputs": [
    {
     "name": "stdout",
     "output_type": "stream",
     "text": [
      "0.8090169943749475\n"
     ]
    }
   ],
   "source": [
    "import math\n",
    "math.cos(math.pi / 5)\n",
    "print(math.cos(math.pi / 5))"
   ]
  },
  {
   "cell_type": "code",
   "execution_count": 10,
   "metadata": {},
   "outputs": [
    {
     "name": "stdout",
     "output_type": "stream",
     "text": [
      "0は3で割り切れます 3は3で割り切れます 6は3で割り切れます 9は3で割り切れます "
     ]
    }
   ],
   "source": [
    "for i in range(20):\n",
    "    if i%3 == 0:\n",
    "        print(\"{}は3で割り切れます\".format(i), end=' ')\n",
    "    elif i>8 and i%2 == 0:\n",
    "        break\n",
    "    else:\n",
    "        continue "
   ]
  },
  {
   "cell_type": "code",
   "execution_count": 15,
   "metadata": {},
   "outputs": [
    {
     "name": "stdout",
     "output_type": "stream",
     "text": [
      "ienoo\n"
     ]
    }
   ],
   "source": [
    "dic = 'diveintocode'\n",
    "\n",
    "print(dic[1:10:2])"
   ]
  },
  {
   "cell_type": "code",
   "execution_count": 18,
   "metadata": {},
   "outputs": [
    {
     "name": "stdout",
     "output_type": "stream",
     "text": [
      "suzuki\n"
     ]
    }
   ],
   "source": [
    "name1,name2,name3,name4= '', 'suzuki','tanaka','sato'\n",
    "selected_name = name1 or name2 or name3 or name4\n",
    "print(selected_name)"
   ]
  },
  {
   "cell_type": "code",
   "execution_count": 27,
   "metadata": {},
   "outputs": [
    {
     "name": "stdout",
     "output_type": "stream",
     "text": [
      "3.141592653589793\n",
      "['3.0', '3.1', '3.14', '3.142', '3.1416']\n"
     ]
    }
   ],
   "source": [
    "from math import pi\n",
    "\n",
    "n = [str(round(pi, i)) for i in range(0, 5)]\n",
    "print(pi)\n",
    "print(n)"
   ]
  },
  {
   "cell_type": "code",
   "execution_count": 28,
   "metadata": {},
   "outputs": [
    {
     "name": "stdout",
     "output_type": "stream",
     "text": [
      "['dd', 'ii', 'vv', 'ee', 'rr']\n"
     ]
    }
   ],
   "source": [
    "diver = [d * 2 for d in 'diver']\n",
    "\n",
    "print(diver)"
   ]
  },
  {
   "cell_type": "code",
   "execution_count": 35,
   "metadata": {},
   "outputs": [
    {
     "name": "stdout",
     "output_type": "stream",
     "text": [
      "dive\n",
      "into\n",
      "code\t\n",
      "15\n"
     ]
    }
   ],
   "source": [
    "d = 'dive\\ninto\\ncode\\t'\n",
    "print(d)\n",
    "print(len(d))"
   ]
  },
  {
   "cell_type": "code",
   "execution_count": 42,
   "metadata": {},
   "outputs": [
    {
     "name": "stdout",
     "output_type": "stream",
     "text": [
      "15\n"
     ]
    }
   ],
   "source": [
    "d = \"dive\\ninto\\ncode\\t\"\n",
    "print(len(d))"
   ]
  },
  {
   "cell_type": "code",
   "execution_count": 43,
   "metadata": {},
   "outputs": [
    {
     "data": {
      "text/plain": [
       "[(0, 1), (0, 2), (0, 3), (1, 2), (1, 3), (2, 1), (2, 3)]"
      ]
     },
     "execution_count": 43,
     "metadata": {},
     "output_type": "execute_result"
    }
   ],
   "source": [
    "[(x, y) for x in [0,1,2] for y in [1,2,3] if x != y]"
   ]
  },
  {
   "cell_type": "code",
   "execution_count": 45,
   "metadata": {},
   "outputs": [
    {
     "data": {
      "text/plain": [
       "[(0, 1), (0, 2), (0, 3), (1, 1), (1, 2), (1, 3), (2, 1), (2, 2), (2, 3)]"
      ]
     },
     "execution_count": 45,
     "metadata": {},
     "output_type": "execute_result"
    }
   ],
   "source": [
    "[(x, y) for x in [0,1,2] for y in [1,2,3]]"
   ]
  },
  {
   "cell_type": "code",
   "execution_count": 46,
   "metadata": {},
   "outputs": [
    {
     "name": "stdout",
     "output_type": "stream",
     "text": [
      "{'Noro': 1, 'Nakao': 2, 'Miyaoka': 4}\n"
     ]
    }
   ],
   "source": [
    "dic = {'Noro': 1, 'Nakao': 2, 'Miyaoka': 3}\n",
    "\n",
    "dic['Miyaoka'] += 1\n",
    "\n",
    "print(dic)"
   ]
  },
  {
   "cell_type": "code",
   "execution_count": 47,
   "metadata": {},
   "outputs": [
    {
     "name": "stdout",
     "output_type": "stream",
     "text": [
      "(8.0, 10)\n"
     ]
    }
   ],
   "source": [
    "a = 2\n",
    "b = 5\n",
    "c = 3.0 + b, 5 * a\n",
    "print(c)"
   ]
  },
  {
   "cell_type": "code",
   "execution_count": 48,
   "metadata": {},
   "outputs": [
    {
     "name": "stdout",
     "output_type": "stream",
     "text": [
      "[(4, 'Kimura'), (3, 'Miyaoka'), (2, 'Nakao'), (1, 'Noro')]\n"
     ]
    }
   ],
   "source": [
    "dive_into_code = [(1, 'Noro'), (2, 'Nakao'), (3, 'Miyaoka'), (4, 'Kimura')]\n",
    "dic = dive_into_code\n",
    "dic.sort(key=lambda dic: dic[1])\n",
    "print(dic)"
   ]
  },
  {
   "cell_type": "code",
   "execution_count": 54,
   "metadata": {},
   "outputs": [
    {
     "ename": "SyntaxError",
     "evalue": "invalid syntax (<ipython-input-54-a4d0d6df3731>, line 3)",
     "output_type": "error",
     "traceback": [
      "\u001b[0;36m  File \u001b[0;32m\"<ipython-input-54-a4d0d6df3731>\"\u001b[0;36m, line \u001b[0;32m3\u001b[0m\n\u001b[0;31m    for di in sorted(key=lambda dic: dic[1])\u001b[0m\n\u001b[0m                                            ^\u001b[0m\n\u001b[0;31mSyntaxError\u001b[0m\u001b[0;31m:\u001b[0m invalid syntax\n"
     ]
    }
   ],
   "source": [
    "dive_into_code = {1:'Noro', 2: 'Nakao', 3: 'Miyaoka', 4: 'Kimura'}\n",
    "dic = dive_into_code\n",
    "for di in sorted(key=lambda dic: dic[1])\n",
    "    print(di)"
   ]
  },
  {
   "cell_type": "code",
   "execution_count": 62,
   "metadata": {},
   "outputs": [
    {
     "ename": "SyntaxError",
     "evalue": "invalid character in identifier (<ipython-input-62-f500fcaa6e2b>, line 8)",
     "output_type": "error",
     "traceback": [
      "\u001b[0;36m  File \u001b[0;32m\"<ipython-input-62-f500fcaa6e2b>\"\u001b[0;36m, line \u001b[0;32m8\u001b[0m\n\u001b[0;31m    print(\"予期せぬ問題発生:\",msg.args[1])\u001b[0m\n\u001b[0m        ^\u001b[0m\n\u001b[0;31mSyntaxError\u001b[0m\u001b[0;31m:\u001b[0m invalid character in identifier\n"
     ]
    }
   ],
   "source": [
    "print(\"出力結果:\")\n",
    "try:\n",
    "    raise Exception(\"開始前\",\"Exception発生\")\n",
    "    print(\"開始\")\n",
    "except IOError as msg:\n",
    "    print(\"IOError発生:\",msg.args[0])\n",
    "except Exception as msg:\n",
    "  　　print(\"予期せぬ問題発生:\",msg.args[1])\n",
    "else:\n",
    " 　　 print(\"Else表示\")"
   ]
  },
  {
   "cell_type": "code",
   "execution_count": 64,
   "metadata": {},
   "outputs": [
    {
     "data": {
      "text/plain": [
       "'i'"
      ]
     },
     "execution_count": 64,
     "metadata": {},
     "output_type": "execute_result"
    }
   ],
   "source": [
    "letter = 'diveintoexam'\n",
    "letter[-8]"
   ]
  },
  {
   "cell_type": "code",
   "execution_count": 65,
   "metadata": {},
   "outputs": [
    {
     "name": "stdout",
     "output_type": "stream",
     "text": [
      "[]\n"
     ]
    }
   ],
   "source": [
    "dive_into_code = ['Noro', 'Nakao', 'Miyaoka', 'Miyashita', 'Shibata', 'Kimura']\n",
    "dive_into_code.clear()\n",
    "print(dive_into_code)"
   ]
  },
  {
   "cell_type": "code",
   "execution_count": 70,
   "metadata": {},
   "outputs": [
    {
     "name": "stdout",
     "output_type": "stream",
     "text": [
      "[]\n"
     ]
    }
   ],
   "source": [
    "dive_into_code = ['Noro', 'Nakao', 'Miyaoka', 'Miyashita', 'Shibata', 'Kimura']\n",
    "del dive_into_code[:]\n",
    "print(dive_into_code)"
   ]
  },
  {
   "cell_type": "code",
   "execution_count": 71,
   "metadata": {},
   "outputs": [
    {
     "name": "stdout",
     "output_type": "stream",
     "text": [
      "Miyashita\n"
     ]
    }
   ],
   "source": [
    "dive_into_code = ['Noro', 'Nakao', 'Miyaoka', 'Miyashita', 'Shibata', 'Kimura']\n",
    "ex_mentor = dive_into_code.pop(3)\n",
    "print(ex_mentor)"
   ]
  },
  {
   "cell_type": "code",
   "execution_count": 72,
   "metadata": {},
   "outputs": [
    {
     "name": "stdout",
     "output_type": "stream",
     "text": [
      "29\n"
     ]
    }
   ],
   "source": [
    "print(5 ** 2 + 4)"
   ]
  },
  {
   "cell_type": "code",
   "execution_count": 85,
   "metadata": {},
   "outputs": [
    {
     "data": {
      "text/plain": [
       "False"
      ]
     },
     "execution_count": 85,
     "metadata": {},
     "output_type": "execute_result"
    }
   ],
   "source": [
    "(1,3,5) < (1,2,3,4)"
   ]
  },
  {
   "cell_type": "code",
   "execution_count": 94,
   "metadata": {},
   "outputs": [
    {
     "data": {
      "text/plain": [
       "False"
      ]
     },
     "execution_count": 94,
     "metadata": {},
     "output_type": "execute_result"
    }
   ],
   "source": [
    "(2,2,3) < (1,2,3,4)"
   ]
  },
  {
   "cell_type": "code",
   "execution_count": 101,
   "metadata": {},
   "outputs": [
    {
     "name": "stdout",
     "output_type": "stream",
     "text": [
      "出力結果:\n",
      "円周率は3.142である。\n"
     ]
    },
    {
     "data": {
      "text/plain": [
       "3.141592653589793"
      ]
     },
     "execution_count": 101,
     "metadata": {},
     "output_type": "execute_result"
    }
   ],
   "source": [
    "import math\n",
    "print(\"出力結果:\")\n",
    "print('円周率は%5.3fである。'%math.pi)\n",
    "math.pi"
   ]
  },
  {
   "cell_type": "code",
   "execution_count": 2,
   "metadata": {},
   "outputs": [
    {
     "name": "stdout",
     "output_type": "stream",
     "text": [
      "[2, 3, 4, 5]\n"
     ]
    }
   ],
   "source": [
    "list_ = [1,2,3,4,5]\n",
    "list_.remove(1)\n",
    "print(list_)"
   ]
  },
  {
   "cell_type": "code",
   "execution_count": 3,
   "metadata": {},
   "outputs": [
    {
     "name": "stdout",
     "output_type": "stream",
     "text": [
      "xxxxCODExxxxDIVExxxxDIVE\n"
     ]
    }
   ],
   "source": [
    "d = 'xxxxDIVExxxxDIVExxxxDIVE'\n",
    "print(d.replace('DIVE', 'CODE', 1))"
   ]
  },
  {
   "cell_type": "code",
   "execution_count": 5,
   "metadata": {},
   "outputs": [
    {
     "name": "stdout",
     "output_type": "stream",
     "text": [
      "Noro\n",
      "Miyaoka\n"
     ]
    }
   ],
   "source": [
    "class DiveIntoCode:\n",
    "    def __init__(self, teacher, mentor):\n",
    "        self.teacher = teacher\n",
    "        self.mentor  = mentor\n",
    "\n",
    "dic = DiveIntoCode(\"Noro\", \"Miyaoka\")\n",
    "print(dic.teacher)\n",
    "print(dic.mentor)"
   ]
  },
  {
   "cell_type": "code",
   "execution_count": 6,
   "metadata": {},
   "outputs": [
    {
     "name": "stdout",
     "output_type": "stream",
     "text": [
      "出力結果:\n",
      "hoge1\n",
      "hoge2\n",
      "hoge3\n"
     ]
    }
   ],
   "source": [
    "titles={'title1':'hoge1','title2':'hoge2','title3':'hoge3'}\n",
    " \n",
    "print(\"出力結果:\")\n",
    "for k,v in titles.items():\n",
    "    print(v)"
   ]
  },
  {
   "cell_type": "code",
   "execution_count": 7,
   "metadata": {},
   "outputs": [
    {
     "name": "stdout",
     "output_type": "stream",
     "text": [
      "['a', 'b']\n"
     ]
    }
   ],
   "source": [
    "x = [\"a\",\"b\",\"c\",\"d\",\"e\"]\n",
    "print(x[:-3])"
   ]
  },
  {
   "cell_type": "code",
   "execution_count": 8,
   "metadata": {},
   "outputs": [
    {
     "name": "stdout",
     "output_type": "stream",
     "text": [
      "DiveDiveDiveintoCode\n"
     ]
    }
   ],
   "source": [
    "print(3 * 'Dive' + 'into' + 'Code')"
   ]
  },
  {
   "cell_type": "code",
   "execution_count": 9,
   "metadata": {},
   "outputs": [
    {
     "name": "stdout",
     "output_type": "stream",
     "text": [
      "出力結果:\n",
      "0\n",
      "1\n",
      "2\n",
      "3\n",
      "4\n",
      "5\n",
      "6\n",
      "7\n",
      "8\n",
      "9\n"
     ]
    }
   ],
   "source": [
    "print(\"出力結果:\")\n",
    "for num in range(10):\n",
    "      print(num)"
   ]
  },
  {
   "cell_type": "code",
   "execution_count": 22,
   "metadata": {},
   "outputs": [
    {
     "name": "stdout",
     "output_type": "stream",
     "text": [
      "出力結果: データ1 データ2 "
     ]
    }
   ],
   "source": [
    "class Sample:\n",
    "\n",
    "    c_list = []\n",
    "\n",
    "    def add_c_list(self,data):\n",
    "        self.c_list.append(data)\n",
    "\n",
    "print(\"出力結果:\", end=\" \")\n",
    "sample1 = Sample()\n",
    "sample1.add_c_list(\"データ1\")\n",
    "\n",
    "sample2 = Sample()\n",
    "sample2.add_c_list(\"データ2\")\n",
    "# print(sample1.c_list)\n",
    "# print(sample2.c_list)\n",
    "\n",
    "for item_data in sample1.c_list:\n",
    "    print(item_data, end=\" \")"
   ]
  },
  {
   "cell_type": "code",
   "execution_count": 25,
   "metadata": {},
   "outputs": [
    {
     "name": "stdout",
     "output_type": "stream",
     "text": [
      "出力結果: データ1 データ2 "
     ]
    }
   ],
   "source": [
    "class Sample:\n",
    "\n",
    "    c_list = []\n",
    "\n",
    "    def add_c_list(self,data):\n",
    "        self.c_list.append(data)\n",
    "\n",
    "print(\"出力結果:\", end=\" \")\n",
    "sample1 = Sample()\n",
    "sample1.add_c_list(\"データ1\")\n",
    "\n",
    "sample2 = Sample()\n",
    "sample2.add_c_list(\"データ2\")\n",
    "# print(sample1.c_list)\n",
    "# print(sample2.c_list)\n",
    "\n",
    "for item_data in sample1.c_list:\n",
    "    print(item_data, end=\" \")"
   ]
  },
  {
   "cell_type": "code",
   "execution_count": 23,
   "metadata": {},
   "outputs": [
    {
     "name": "stdout",
     "output_type": "stream",
     "text": [
      "{\"name\": \"yamada\", \"data\": [2, 3, 4]}\n"
     ]
    }
   ],
   "source": [
    "import json\n",
    "x = {'name':'yamada','data':[2,3,4]}\n",
    "print(json.dumps(x))"
   ]
  },
  {
   "cell_type": "code",
   "execution_count": 1,
   "metadata": {},
   "outputs": [
    {
     "name": "stdout",
     "output_type": "stream",
     "text": [
      "0は3で割り切れます 3は3で割り切れます 6は3で割り切れます 9は3で割り切れます "
     ]
    }
   ],
   "source": [
    "for i in range(20):\n",
    "    if i%3 == 0:\n",
    "        print(\"{}は3で割り切れます\".format(i), end=' ')\n",
    "    elif i>8 and i%2 == 0:\n",
    "        break\n",
    "    else:\n",
    "        continue "
   ]
  },
  {
   "cell_type": "code",
   "execution_count": 4,
   "metadata": {},
   "outputs": [
    {
     "name": "stdout",
     "output_type": "stream",
     "text": [
      "0.0\n"
     ]
    }
   ],
   "source": [
    "print(0/3)"
   ]
  },
  {
   "cell_type": "code",
   "execution_count": 5,
   "metadata": {},
   "outputs": [
    {
     "data": {
      "text/plain": [
       "7.44"
      ]
     },
     "execution_count": 5,
     "metadata": {},
     "output_type": "execute_result"
    }
   ],
   "source": [
    "3*3.72/1.5"
   ]
  },
  {
   "cell_type": "code",
   "execution_count": 6,
   "metadata": {},
   "outputs": [
    {
     "data": {
      "text/plain": [
       "11.16"
      ]
     },
     "execution_count": 6,
     "metadata": {},
     "output_type": "execute_result"
    }
   ],
   "source": [
    "3*3.72"
   ]
  },
  {
   "cell_type": "code",
   "execution_count": 7,
   "metadata": {},
   "outputs": [
    {
     "data": {
      "text/plain": [
       "0.8400000000000001"
      ]
     },
     "execution_count": 7,
     "metadata": {},
     "output_type": "execute_result"
    }
   ],
   "source": [
    "3*0.28"
   ]
  },
  {
   "cell_type": "code",
   "execution_count": 8,
   "metadata": {},
   "outputs": [
    {
     "data": {
      "text/plain": [
       "7.44"
      ]
     },
     "execution_count": 8,
     "metadata": {},
     "output_type": "execute_result"
    }
   ],
   "source": [
    "11.16/1.5"
   ]
  },
  {
   "cell_type": "code",
   "execution_count": 20,
   "metadata": {},
   "outputs": [
    {
     "name": "stdout",
     "output_type": "stream",
     "text": [
      "[('Noro', 'Kimura', 'Matsumoto'), ('Nakao', 'Miyashita', 'Tanaka'), ('Miyaoka', 'Shibata', 'Ivan')]\n"
     ]
    }
   ],
   "source": [
    "dic = [\n",
    "    ['Noro', 'Nakao', 'Miyaoka'],\n",
    "    ['Kimura', 'Miyashita', 'Shibata'],\n",
    "    ['Matsumoto', 'Tanaka', 'Ivan'],\n",
    "]\n",
    "\n",
    "print(list(zip(*dic)))"
   ]
  },
  {
   "cell_type": "code",
   "execution_count": 17,
   "metadata": {},
   "outputs": [
    {
     "name": "stdout",
     "output_type": "stream",
     "text": [
      "[('Noro', 'Kimura', 'Matsumoto'), ('Nakao', 'Miyashita', 'Tanaka'), ('Miyaoka', 'Shibata', 'Ivan')]\n"
     ]
    }
   ],
   "source": [
    "dic = [\n",
    "    ['Noro', 'Nakao', 'Miyaoka'],\n",
    "    ['Kimura', 'Miyashita', 'Shibata'],\n",
    "    ['Matsumoto', 'Tanaka', 'Ivan'],\n",
    "]\n",
    "\n",
    "# print(list(zip(*dic)))\n",
    "d1 = ['Noro', 'Nakao', 'Miyaoka']\n",
    "d2 = ['Kimura', 'Miyashita', 'Shibata']\n",
    "d3 = ['Matsumoto', 'Tanaka', 'Ivan']\n",
    "print(list(zip(d1, d2, d3)))"
   ]
  },
  {
   "cell_type": "code",
   "execution_count": 13,
   "metadata": {},
   "outputs": [
    {
     "name": "stdout",
     "output_type": "stream",
     "text": [
      "[('Noro', 'Kimura', 'Matsumoto')]\n"
     ]
    }
   ],
   "source": [
    "dic = [\n",
    "    ['Noro'],\n",
    "    ['Kimura'],\n",
    "    ['Matsumoto'],\n",
    "]\n",
    "\n",
    "print(list(zip(*dic)))"
   ]
  },
  {
   "cell_type": "code",
   "execution_count": 21,
   "metadata": {},
   "outputs": [
    {
     "data": {
      "text/plain": [
       "[586, 853, 617, 186, 676]"
      ]
     },
     "execution_count": 21,
     "metadata": {},
     "output_type": "execute_result"
    }
   ],
   "source": [
    "import random\n",
    "random.sample(range(1000), 5)"
   ]
  },
  {
   "cell_type": "code",
   "execution_count": 22,
   "metadata": {},
   "outputs": [
    {
     "name": "stdout",
     "output_type": "stream",
     "text": [
      "[1, 2, 4]\n"
     ]
    }
   ],
   "source": [
    "member = {1: 'Noro', 2: 'Nakao', 3: 'Miyaoka'}\n",
    "member[4] = 'Kimura'\n",
    "del member[3]\n",
    "print(list(member.keys()))"
   ]
  },
  {
   "cell_type": "code",
   "execution_count": 23,
   "metadata": {},
   "outputs": [
    {
     "name": "stdout",
     "output_type": "stream",
     "text": [
      "(8.0, 10)\n"
     ]
    }
   ],
   "source": [
    "a = 2\n",
    "b = 5\n",
    "c = 3.0 + b, 5 * a\n",
    "print(c)"
   ]
  },
  {
   "cell_type": "code",
   "execution_count": 24,
   "metadata": {},
   "outputs": [
    {
     "data": {
      "text/plain": [
       "\"{'c', 'd', 'e', 'i', 'n', 'o', ...}\""
      ]
     },
     "execution_count": 24,
     "metadata": {},
     "output_type": "execute_result"
    }
   ],
   "source": [
    "import reprlib\n",
    "reprlib.repr(set('diveintocode'))"
   ]
  },
  {
   "cell_type": "code",
   "execution_count": 36,
   "metadata": {},
   "outputs": [
    {
     "data": {
      "text/plain": [
       "\"'Hello world ...d Hello world'\""
      ]
     },
     "execution_count": 36,
     "metadata": {},
     "output_type": "execute_result"
    }
   ],
   "source": [
    "import reprlib\n",
    "reprlib.repr(list(range(100)))\n",
    "reprlib.repr(\"Hello world Hello world Hello world\")"
   ]
  },
  {
   "cell_type": "code",
   "execution_count": 25,
   "metadata": {},
   "outputs": [
    {
     "data": {
      "text/plain": [
       "\"{'t', 'n', 'c', 'i', 'o', 'd', 'v', 'e'}\""
      ]
     },
     "execution_count": 25,
     "metadata": {},
     "output_type": "execute_result"
    }
   ],
   "source": [
    "repr(set('diveintocode'))"
   ]
  },
  {
   "cell_type": "code",
   "execution_count": 29,
   "metadata": {},
   "outputs": [
    {
     "data": {
      "text/plain": [
       "\"{'l', 'h', 'o', 'e'}\""
      ]
     },
     "execution_count": 29,
     "metadata": {},
     "output_type": "execute_result"
    }
   ],
   "source": [
    "repr(set(\"hello\"))"
   ]
  },
  {
   "cell_type": "code",
   "execution_count": 37,
   "metadata": {},
   "outputs": [
    {
     "name": "stdout",
     "output_type": "stream",
     "text": [
      "0 1 2 "
     ]
    }
   ],
   "source": [
    "num_list  = [2, 4, 6, 4, 4, 2, 6]\n",
    "for i in range(num_list.count(4)):\n",
    "    print(i, end=' ')"
   ]
  },
  {
   "cell_type": "code",
   "execution_count": 42,
   "metadata": {},
   "outputs": [
    {
     "name": "stdout",
     "output_type": "stream",
     "text": [
      "0 1 2 "
     ]
    }
   ],
   "source": [
    "for i in range(num_list.count(4)):\n",
    "    print(i, end=\" \")"
   ]
  },
  {
   "cell_type": "code",
   "execution_count": 53,
   "metadata": {},
   "outputs": [
    {
     "name": "stdout",
     "output_type": "stream",
     "text": [
      "['3.0', '3.1', '3.14', '3.142', '3.1416']\n",
      "<class 'float'>\n"
     ]
    },
    {
     "data": {
      "text/plain": [
       "3.0"
      ]
     },
     "execution_count": 53,
     "metadata": {},
     "output_type": "execute_result"
    }
   ],
   "source": [
    "from math import pi\n",
    "print([str(round(pi, i)) for i in range(0, 5)])\n",
    "\n",
    "print(type(round(pi, 0)))\n",
    "round(pi, 0)"
   ]
  },
  {
   "cell_type": "code",
   "execution_count": 55,
   "metadata": {},
   "outputs": [
    {
     "name": "stdout",
     "output_type": "stream",
     "text": [
      "suzuki\n"
     ]
    }
   ],
   "source": [
    "name1,name2,name3,name4= '', 'suzuki','tanaka','sato'\n",
    "selected_name = name1 or name2 or name3 or name4\n",
    "print(selected_name)"
   ]
  },
  {
   "cell_type": "code",
   "execution_count": 58,
   "metadata": {},
   "outputs": [
    {
     "name": "stdout",
     "output_type": "stream",
     "text": [
      "3.5714285714285716\n",
      "3\n"
     ]
    }
   ],
   "source": [
    "print(25/7)\n",
    "print(25//7)"
   ]
  },
  {
   "cell_type": "code",
   "execution_count": 63,
   "metadata": {},
   "outputs": [
    {
     "data": {
      "text/plain": [
       "3"
      ]
     },
     "execution_count": 63,
     "metadata": {},
     "output_type": "execute_result"
    }
   ],
   "source": [
    "23//7"
   ]
  },
  {
   "cell_type": "code",
   "execution_count": 73,
   "metadata": {},
   "outputs": [
    {
     "name": "stdout",
     "output_type": "stream",
     "text": [
      "[(4, 'Kimura'), (3, 'Miyaoka'), (2, 'Nakao'), (1, 'Noro')]\n"
     ]
    }
   ],
   "source": [
    "dive_into_code = [(1, 'Noro'), (2, 'Nakao'), (3, 'Miyaoka'), (4, 'Kimura')]\n",
    "dic = dive_into_code\n",
    "dic.sort(key=lambda dic: dic[1])\n",
    "\n",
    "print(dic)"
   ]
  },
  {
   "cell_type": "code",
   "execution_count": 78,
   "metadata": {},
   "outputs": [
    {
     "name": "stdout",
     "output_type": "stream",
     "text": [
      "[(4, 'A'), (3, 'B'), (1, 'a'), (2, 'o')]\n"
     ]
    }
   ],
   "source": [
    "d=[(1, \"a\"),(2, \"o\"),(3, \"B\"),(4, \"A\")]\n",
    "d.sort(key=lambda d:d[1])\n",
    "print(d)"
   ]
  },
  {
   "cell_type": "code",
   "execution_count": 84,
   "metadata": {},
   "outputs": [
    {
     "name": "stdout",
     "output_type": "stream",
     "text": [
      "2020-02-28\n"
     ]
    }
   ],
   "source": [
    "from datetime import date\n",
    "now = date.today()\n",
    "print(now)\n",
    "# date.now()"
   ]
  },
  {
   "cell_type": "code",
   "execution_count": 88,
   "metadata": {},
   "outputs": [
    {
     "name": "stdout",
     "output_type": "stream",
     "text": [
      "2020-02-28\n"
     ]
    }
   ],
   "source": [
    "import datetime\n",
    "n = date.today()\n",
    "print(n)"
   ]
  },
  {
   "cell_type": "code",
   "execution_count": 89,
   "metadata": {},
   "outputs": [
    {
     "data": {
      "text/plain": [
       "False"
      ]
     },
     "execution_count": 89,
     "metadata": {},
     "output_type": "execute_result"
    }
   ],
   "source": [
    "1<1"
   ]
  },
  {
   "cell_type": "code",
   "execution_count": 90,
   "metadata": {},
   "outputs": [
    {
     "data": {
      "text/plain": [
       "True"
      ]
     },
     "execution_count": 90,
     "metadata": {},
     "output_type": "execute_result"
    }
   ],
   "source": [
    "1<=1"
   ]
  },
  {
   "cell_type": "code",
   "execution_count": 91,
   "metadata": {},
   "outputs": [
    {
     "data": {
      "text/plain": [
       "0.628"
      ]
     },
     "execution_count": 91,
     "metadata": {},
     "output_type": "execute_result"
    }
   ],
   "source": [
    "3.14/5"
   ]
  },
  {
   "cell_type": "code",
   "execution_count": 111,
   "metadata": {},
   "outputs": [
    {
     "name": "stdout",
     "output_type": "stream",
     "text": [
      "6.123233995736766e-17\n",
      "0.5000000000000001\n",
      "0.7071067811865476\n",
      "0.8090169943749475\n",
      "0.8660254037844387\n",
      "0.9009688679024191\n"
     ]
    }
   ],
   "source": [
    "import math\n",
    "\n",
    "print(math.cos(math.pi/2))\n",
    "print(math.cos(math.pi/3))\n",
    "print(math.cos(math.pi/4))\n",
    "print(math.cos(math.pi/5))\n",
    "print(math.cos(math.pi/6))\n",
    "print(math.cos(math.pi/7))"
   ]
  },
  {
   "cell_type": "code",
   "execution_count": 95,
   "metadata": {},
   "outputs": [
    {
     "data": {
      "text/plain": [
       "0.6"
      ]
     },
     "execution_count": 95,
     "metadata": {},
     "output_type": "execute_result"
    }
   ],
   "source": [
    "3/5"
   ]
  },
  {
   "cell_type": "code",
   "execution_count": 113,
   "metadata": {},
   "outputs": [
    {
     "name": "stdout",
     "output_type": "stream",
     "text": [
      "Noro\n",
      "Mitaoka\n"
     ]
    }
   ],
   "source": [
    "class DiveIntoCode:\n",
    "    def __init__(self, teacher, mentor):\n",
    "        self.teacher = teacher\n",
    "        self.mentor  = mentor\n",
    "\n",
    "dic = DiveIntoCode(\"Noro\", \"Mitaoka\")\n",
    "print(dic.teacher)\n",
    "print(dic.mentor)"
   ]
  },
  {
   "cell_type": "code",
   "execution_count": 9,
   "metadata": {},
   "outputs": [
    {
     "name": "stdout",
     "output_type": "stream",
     "text": [
      "[5, [1, 2]]\n",
      "[1, 2]\n",
      "2\n"
     ]
    },
    {
     "data": {
      "text/plain": [
       "3"
      ]
     },
     "execution_count": 9,
     "metadata": {},
     "output_type": "execute_result"
    }
   ],
   "source": [
    "list_ = [6,[5,[1,2]],4,[3,0]]\n",
    "print(list_[1])\n",
    "print(list_[1][1])\n",
    "print(list_[1][1][1])\n",
    "list_"
   ]
  },
  {
   "cell_type": "code",
   "execution_count": 15,
   "metadata": {},
   "outputs": [
    {
     "name": "stdout",
     "output_type": "stream",
     "text": [
      "出力結果: データ1 データ2 "
     ]
    }
   ],
   "source": [
    "\n",
    "class Sample:\n",
    "    c_list = []\n",
    "    def add_c_list(self,data):\n",
    "        self.c_list.append(data)\n",
    "\n",
    "print(\"出力結果:\", end=\" \")\n",
    "sample1 = Sample()\n",
    "sample1.add_c_list(\"データ1\")\n",
    "\n",
    "sample2 = Sample()\n",
    "sample2.add_c_list(\"データ2\")\n",
    "\n",
    "for item_data in sample2.c_list:\n",
    "    print(item_data, end=\" \")"
   ]
  },
  {
   "cell_type": "code",
   "execution_count": 19,
   "metadata": {},
   "outputs": [
    {
     "data": {
      "text/plain": [
       "True"
      ]
     },
     "execution_count": 19,
     "metadata": {},
     "output_type": "execute_result"
    }
   ],
   "source": [
    "1>=1"
   ]
  },
  {
   "cell_type": "code",
   "execution_count": 21,
   "metadata": {},
   "outputs": [
    {
     "data": {
      "text/plain": [
       "(123, 345, 'test')"
      ]
     },
     "execution_count": 21,
     "metadata": {},
     "output_type": "execute_result"
    }
   ],
   "source": [
    "t = 123,345,'test'\n",
    "t"
   ]
  },
  {
   "cell_type": "code",
   "execution_count": 33,
   "metadata": {},
   "outputs": [
    {
     "name": "stdout",
     "output_type": "stream",
     "text": [
      "Noro\n"
     ]
    }
   ],
   "source": [
    "def dive_into_code(teacher, *mentor):\n",
    "    print(teacher)\n",
    "\n",
    "dive_into_code('Noro', 'Nakao', 'Miyaoka')"
   ]
  },
  {
   "cell_type": "code",
   "execution_count": 38,
   "metadata": {},
   "outputs": [
    {
     "name": "stdout",
     "output_type": "stream",
     "text": [
      "['b', 'c', 'd', 'e']\n"
     ]
    }
   ],
   "source": [
    "x = [\"a\",\"b\",\"c\",\"d\",\"e\"]\n",
    "print(x[-4:])"
   ]
  },
  {
   "cell_type": "code",
   "execution_count": 47,
   "metadata": {},
   "outputs": [
    {
     "name": "stdout",
     "output_type": "stream",
     "text": [
      "title_default content 5\n",
      "title_default content 5\n",
      "title_default content 5\n",
      "sample content 4\n"
     ]
    }
   ],
   "source": [
    "def fugafuga(title,content = 'default_content', number = 4):\n",
    "    content = 'content'\n",
    "    print(title, end=' ')\n",
    "    print(content, end=' ')\n",
    "    print(number)\n",
    "    \n",
    "fugafuga(title = 'title_default', content = 'None', number = 5) \n",
    "fugafuga(title = 'title_default', content = \"sample\",  number = 5)\n",
    "fugafuga(title = 'title_default',  number = 5)\n",
    "fugafuga(title = \"sample\")"
   ]
  },
  {
   "cell_type": "code",
   "execution_count": 52,
   "metadata": {},
   "outputs": [
    {
     "name": "stdout",
     "output_type": "stream",
     "text": [
      "ienoo\n",
      "ino\n"
     ]
    }
   ],
   "source": [
    "dic = 'diveintocode'\n",
    "\n",
    "print(dic[1:10:2])\n",
    "print(dic[1:10:4])"
   ]
  },
  {
   "cell_type": "code",
   "execution_count": 53,
   "metadata": {},
   "outputs": [
    {
     "name": "stdout",
     "output_type": "stream",
     "text": [
      "出力結果:\n",
      "予期せぬ問題発生: Exception発生\n"
     ]
    }
   ],
   "source": [
    "print(\"出力結果:\")\n",
    "try:\n",
    "    raise Exception(\"開始前\",\"Exception発生\")\n",
    "    print(\"開始\")\n",
    "except IOError as msg:\n",
    "    print(\"IOError発生:\",msg.args[0])\n",
    "except Exception as msg:\n",
    "    print(\"予期せぬ問題発生:\",msg.args[1])\n",
    "else:\n",
    "    print(\"Else表示\")"
   ]
  },
  {
   "cell_type": "code",
   "execution_count": 59,
   "metadata": {},
   "outputs": [
    {
     "name": "stdout",
     "output_type": "stream",
     "text": [
      "出力結果:\n",
      "予期せぬ問題発生: Exception発生\n"
     ]
    }
   ],
   "source": [
    "print(\"出力結果:\")\n",
    "try:\n",
    "    raise Exception(\"開始前\",\"Exception発生\")\n",
    "    print(\"開始\")\n",
    "except IOError as msg:\n",
    "    print(\"IOError発生:\",msg.args[0])\n",
    "except Exception as msg:\n",
    "    print(\"予期せぬ問題発生:\", msg.args[1])\n",
    "else:\n",
    "    print(\"Else表示\")"
   ]
  },
  {
   "cell_type": "code",
   "execution_count": 65,
   "metadata": {},
   "outputs": [
    {
     "name": "stdout",
     "output_type": "stream",
     "text": [
      "10\n",
      "7\n",
      "10\n"
     ]
    }
   ],
   "source": [
    "i = 10\n",
    "print(i)\n",
    "def num(arg=i):\n",
    "    print(arg)\n",
    "\n",
    "i = 7\n",
    "print(i)\n",
    "num()"
   ]
  },
  {
   "cell_type": "code",
   "execution_count": 66,
   "metadata": {},
   "outputs": [
    {
     "name": "stdout",
     "output_type": "stream",
     "text": [
      "[]\n"
     ]
    }
   ],
   "source": [
    "dive_into_code = ['Noro', 'Nakao', 'Miyaoka', 'Miyashita', 'Shibata', 'Kimura']\n",
    "dive_into_code.clear()\n",
    "print(dive_into_code)"
   ]
  },
  {
   "cell_type": "code",
   "execution_count": 75,
   "metadata": {},
   "outputs": [
    {
     "name": "stdout",
     "output_type": "stream",
     "text": [
      "['Noro', 'Nakao', 'Miyaoka', 'Miyashita', 'Shibata', 'Kimura']\n"
     ]
    }
   ],
   "source": [
    "dive_into_code = ['Noro', 'Nakao', 'Miyaoka', 'Miyashita', 'Shibata', 'Kimura']\n",
    "# delete.dive_into_code()\n",
    "print(dive_into_code)"
   ]
  },
  {
   "cell_type": "code",
   "execution_count": 71,
   "metadata": {},
   "outputs": [],
   "source": [
    "dive_into_code = ['Noro', 'Nakao', 'Miyaoka', 'Miyashita', 'Shibata', 'Kimura']\n",
    "# delete.dive_into_code[:]\n",
    "del dive_into_code\n",
    "# print(dive_into_code)"
   ]
  },
  {
   "cell_type": "code",
   "execution_count": 80,
   "metadata": {},
   "outputs": [
    {
     "name": "stdout",
     "output_type": "stream",
     "text": [
      "['Shibata', 'Kimura']\n"
     ]
    }
   ],
   "source": [
    "dive_into_code = ['Noro', 'Nakao', 'Miyaoka', 'Miyashita', 'Shibata', 'Kimura']\n",
    "del dive_into_code[:4]\n",
    "print(dive_into_code)"
   ]
  },
  {
   "cell_type": "code",
   "execution_count": 8,
   "metadata": {},
   "outputs": [
    {
     "name": "stdout",
     "output_type": "stream",
     "text": [
      "{'1', '2', '3', '4', '5', '6', ...}\n",
      "{'1', '2', '3', '4', '5', '6', ...}\n",
      "{'a', 'b', 'c', 'd', 'e', 'f', ...}\n",
      "{'c', 'd', 'e', 'i', 'n', 'o', ...}\n",
      "{'7', '6', '9', '8', '5', '3', '2', '1', '4'}\n",
      "{'7', '1', '3', '5', '2', '6', '4'}\n"
     ]
    }
   ],
   "source": [
    "import reprlib\n",
    "print(reprlib.repr(set('112233445566778899')))\n",
    "print(reprlib.repr(set('77665544332211')))\n",
    "print(reprlib.repr(set(\"jjiihhggffeeddccbbaa\")))\n",
    "print(reprlib.repr(set('diveintocode')))\n",
    "print((set('112233445566778899')))\n",
    "print(repr(set('77665544332211')))"
   ]
  },
  {
   "cell_type": "code",
   "execution_count": null,
   "metadata": {},
   "outputs": [],
   "source": []
  }
 ],
 "metadata": {
  "kernelspec": {
   "display_name": "Python 3",
   "language": "python",
   "name": "python3"
  },
  "language_info": {
   "codemirror_mode": {
    "name": "ipython",
    "version": 3
   },
   "file_extension": ".py",
   "mimetype": "text/x-python",
   "name": "python",
   "nbconvert_exporter": "python",
   "pygments_lexer": "ipython3",
   "version": "3.7.3"
  }
 },
 "nbformat": 4,
 "nbformat_minor": 2
}
