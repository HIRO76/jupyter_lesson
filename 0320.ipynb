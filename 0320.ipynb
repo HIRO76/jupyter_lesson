{
 "cells": [
  {
   "cell_type": "code",
   "execution_count": 5,
   "metadata": {},
   "outputs": [
    {
     "name": "stdout",
     "output_type": "stream",
     "text": [
      "身長を入力してください：180\n",
      "体重を入力してください：80\n",
      "身長：　180.0cm\n",
      "体重：　80.0kg\n",
      "標準体重：　71.28kg\n"
     ]
    }
   ],
   "source": [
    "tall = float(input(\"身長を入力してください：\"))\n",
    "weight = float(input(\"体重を入力してください：\"))\n",
    "std_weight = 22 * (tall/100)**2\n",
    "print(f\"身長：　{tall}cm\")\n",
    "print(f\"体重：　{weight}kg\")\n",
    "print(f\"標準体重：　{std_weight}kg\")"
   ]
  },
  {
   "cell_type": "code",
   "execution_count": 9,
   "metadata": {},
   "outputs": [
    {
     "name": "stdout",
     "output_type": "stream",
     "text": [
      "好きな月を入力してください：11\n",
      "11月は秋です。\n"
     ]
    }
   ],
   "source": [
    "month = int(input(\"好きな月を入力してください：\"))\n",
    "if 3 <= month <= 5:\n",
    "    print(f\"{month}月は春です。\")\n",
    "elif 6 <= month <= 8:\n",
    "    print(f\"{month}月は夏です。\")\n",
    "elif 9 <= month <= 11:\n",
    "    print(f\"{month}月は秋です。\")\n",
    "else:\n",
    "    print(f\"{month}月は冬です。\")\n"
   ]
  },
  {
   "cell_type": "code",
   "execution_count": 18,
   "metadata": {},
   "outputs": [
    {
     "name": "stdout",
     "output_type": "stream",
     "text": [
      "2以上の好きな数字を入力してください：11\n",
      "11は素数です\n"
     ]
    }
   ],
   "source": [
    "num = int(input(\"2以上の好きな数字を入力してください：\"))\n",
    "i = 2\n",
    "while True:\n",
    "    if num == i:\n",
    "        print(f\"{num}は素数です\")\n",
    "        break\n",
    "    elif num % i == 0:\n",
    "        print(f\"{num}は素数ではありません\")\n",
    "        break\n",
    "    i += 1"
   ]
  },
  {
   "cell_type": "code",
   "execution_count": 31,
   "metadata": {},
   "outputs": [
    {
     "name": "stdout",
     "output_type": "stream",
     "text": [
      "2以上の好きな数字を入力してください：9\n",
      "9は素数ではありません。\n"
     ]
    }
   ],
   "source": [
    "num = int(input(\"2以上の好きな数字を入力してください：\"))\n",
    "for i in range(1, num):\n",
    "    if num == (i+1):\n",
    "        print(f\"{num}は素数です。\")\n",
    "    elif num % (i+1) == 0:\n",
    "        print(f\"{num}は素数ではありません。\")\n",
    "        break"
   ]
  },
  {
   "cell_type": "code",
   "execution_count": 34,
   "metadata": {},
   "outputs": [
    {
     "name": "stdout",
     "output_type": "stream",
     "text": [
      "1600年  1604年  1608年  1612年  1616年  1620年  1624年  1628年  1632年  1636年  1640年  1644年  1648年  1652年  1656年  1660年  1664年  1668年  1672年  1676年  1680年  1684年  1688年  1692年  1696年  1704年  1708年  1712年  1716年  1720年  1724年  1728年  1732年  1736年  1740年  1744年  1748年  1752年  1756年  1760年  1764年  1768年  1772年  1776年  1780年  1784年  1788年  1792年  1796年  1804年  1808年  1812年  1816年  1820年  1824年  1828年  1832年  1836年  1840年  1844年  1848年  1852年  1856年  1860年  1864年  1868年  1872年  1876年  1880年  1884年  1888年  1892年  1896年  1904年  1908年  1912年  1916年  1920年  1924年  1928年  1932年  1936年  1940年  1944年  1948年  1952年  1956年  1960年  1964年  1968年  1972年  1976年  1980年  1984年  1988年  1992年  1996年  2000年  2004年  2008年  2012年  2016年  2020年  "
     ]
    }
   ],
   "source": [
    "for year in range(1600, 2021):\n",
    "    if (year % 400 == 0) or (year % 4 == 0) and (year % 100 != 0):\n",
    "        print(f\"{year}年\", end=\"  \")"
   ]
  },
  {
   "cell_type": "code",
   "execution_count": 46,
   "metadata": {},
   "outputs": [
    {
     "name": "stdout",
     "output_type": "stream",
     "text": [
      "input number:5\n",
      "-------+---------+----------\n",
      "    *     \n",
      "   * *    \n",
      "  * * *   \n",
      " * * * *  \n",
      "* * * * * \n"
     ]
    }
   ],
   "source": [
    "num = int(input(\"input number:\"))\n",
    "print(\"-------+---------+----------\")\n",
    "for i in range(num):\n",
    "#     print(i)\n",
    "    star = \"* \"*(i+1)\n",
    "    print(star.center(num*2, \" \"))"
   ]
  },
  {
   "cell_type": "code",
   "execution_count": 49,
   "metadata": {},
   "outputs": [
    {
     "name": "stdout",
     "output_type": "stream",
     "text": [
      "0: Apple\n",
      "1: Banana\n",
      "2: Grape\n",
      "3: Orange\n",
      "4: Peach\n"
     ]
    }
   ],
   "source": [
    "fruits = [\"Apple\", \"Banana\", \"Grape\", \"Orange\", \"Peach\"]\n",
    "for i, v in enumerate(fruits):\n",
    "    print(f\"{i}: {v}\")"
   ]
  },
  {
   "cell_type": "code",
   "execution_count": 73,
   "metadata": {},
   "outputs": [
    {
     "name": "stdout",
     "output_type": "stream",
     "text": [
      "['日', '月', '火', '水', '木', '金', '土']\n",
      "\n",
      "Sun : 日\n",
      "Mon : 月\n",
      "Tue : 火\n",
      "Wed : 水\n",
      "Thu : 木\n",
      "Fri : 金\n",
      "Sat : 土\n"
     ]
    }
   ],
   "source": [
    "weekday_en = [\"Sun\",\"Mon\",\"Tue\",\"Wed\",\"Thu\",\"Fri\",\"Sat\"]\n",
    "weekday_ja = [\"日\",\"月\",\"火\",\"水\",\"木\",\"金\",\"土\"]\n",
    "\n",
    "d = [d[1] for d in zip(weekday_en, weekday_ja)]\n",
    "print(d)\n",
    "    \n",
    "print()\n",
    "for e,j in zip(weekday_en, weekday_ja):\n",
    "    print(f\"{e} : {j}\")"
   ]
  },
  {
   "cell_type": "code",
   "execution_count": 65,
   "metadata": {},
   "outputs": [
    {
     "name": "stdout",
     "output_type": "stream",
     "text": [
      "Pythonの利用人数は45人です。\n",
      "Cの利用人数は14人です。\n",
      "Swiftの利用人数は40人です。\n",
      "JavaScriptの利用人数は40人です。\n",
      "Javaの利用人数は44人です。\n"
     ]
    }
   ],
   "source": [
    "lang = {\"Python\":45, \"C\":14, \"Swift\":40, \"JavaScript\":40, \"Java\": 44}\n",
    "for k,v in lang.items():\n",
    "    print(f\"{k}の利用人数は{v}人です。\")"
   ]
  },
  {
   "cell_type": "code",
   "execution_count": 74,
   "metadata": {},
   "outputs": [
    {
     "name": "stdout",
     "output_type": "stream",
     "text": [
      "['田中一郎', '山田太郎', '稲垣五朗', '小林直子']\n"
     ]
    }
   ],
   "source": [
    "customers = [(\"田中一郎\", 25), (\"山田太郎\", 23), (\"佐藤花子\", 15),\n",
    "(\"稲垣五朗\", 33), (\"小林直子\", 26), (\"大木まこと\", 18)]\n",
    "\n",
    "data = [d[0] for d in customers if d[1] >= 20]\n",
    "print(data)"
   ]
  },
  {
   "cell_type": "code",
   "execution_count": 75,
   "metadata": {},
   "outputs": [
    {
     "name": "stdout",
     "output_type": "stream",
     "text": [
      "{'京都': 8, '北海道': 11, '沖縄': 10, '博多': 7, '大阪': 4}\n",
      "京都 : 8\n",
      "北海道 : 11\n",
      "沖縄 : 10\n",
      "博多 : 7\n",
      "大阪 : 4\n"
     ]
    }
   ],
   "source": [
    "answer = [\"京都\", \"北海道\", \"沖縄\", \"博多\", \"北海道\", \"大阪\",\n",
    "\"京都\", \"京都\",\"大阪\", \"京都\", \"京都\", \"大阪\", \"京都\",\n",
    "\"京都\", \"博多\", \"沖縄\",\"沖縄\", \"博多\", \"沖縄\", \"博多\",\n",
    "\"沖縄\", \"北海道\", \"北海道\", \"沖縄\", \"沖縄\", \"北海道\", \"博多\",\n",
    "\"北海道\", \"沖縄\", \"北海道\", \"大阪\", \"北海道\", \"博多\", \"博多\",\n",
    "\"北海道\", \"北海道\", \"北海道\",\"沖縄\", \"沖縄\", \"京都\"]\n",
    " \n",
    "# 空の辞書を用意\n",
    "results = { }\n",
    " \n",
    "# 辞書resultsに地域と得票数を格納する\n",
    "for key in answer:\n",
    "    if key not in results:\n",
    "        results[key] = 1\n",
    "    else:\n",
    "        results[key] += 1\n",
    "        \n",
    "\n",
    "# 結果を表示する\n",
    "print(results)\n",
    " \n",
    "for region, num in results.items():\n",
    " \n",
    "    print(region,\":\",num)"
   ]
  },
  {
   "cell_type": "code",
   "execution_count": 77,
   "metadata": {},
   "outputs": [
    {
     "name": "stdout",
     "output_type": "stream",
     "text": [
      "[22.86, 13.97, 15.24, 16.51, 25.4]\n"
     ]
    }
   ],
   "source": [
    "def larger_5(inch):\n",
    "    return inch > 5\n",
    " \n",
    "inches = [9, 5.5, 6, 4, 5, 6.5, 10]\n",
    " \n",
    "cms = []\n",
    " \n",
    "for inch in filter(larger_5, inches):\n",
    "    cms.append(inch * 2.54)\n",
    "\n",
    "print(cms)"
   ]
  },
  {
   "cell_type": "code",
   "execution_count": 82,
   "metadata": {},
   "outputs": [
    {
     "name": "stdout",
     "output_type": "stream",
     "text": [
      "[22.86, 13.97, 15.24, 16.51, 25.4]\n"
     ]
    }
   ],
   "source": [
    "inches = [9, 5.5, 6, 4, 5, 6.5, 10]\n",
    "res = [d*2.54 for d in filter(lambda x:x>5, inches)]\n",
    "print(res)"
   ]
  },
  {
   "cell_type": "code",
   "execution_count": 85,
   "metadata": {},
   "outputs": [
    {
     "name": "stdout",
     "output_type": "stream",
     "text": [
      "[22.86, 13.97, 15.24, 16.51, 25.4]\n"
     ]
    }
   ],
   "source": [
    "inches = [9, 5.5, 6, 4, 5, 6.5, 10]\n",
    "cms = []\n",
    "for i in filter(lambda x:x>5, inches):\n",
    "    cms.append(i*2.54)\n",
    "print(cms)"
   ]
  },
  {
   "cell_type": "code",
   "execution_count": 86,
   "metadata": {},
   "outputs": [
    {
     "name": "stdout",
     "output_type": "stream",
     "text": [
      "[22.86, 13.97, 15.24, 16.51, 25.4]\n"
     ]
    }
   ],
   "source": [
    "inches = [9, 5.5, 6, 4, 5, 6.5, 10]\n",
    "cms = [d*2.54 for d in inches if d>5]\n",
    "print(cms)"
   ]
  },
  {
   "cell_type": "code",
   "execution_count": 94,
   "metadata": {},
   "outputs": [
    {
     "name": "stdout",
     "output_type": "stream",
     "text": [
      "{'京都': 8, '北海道': 11, '沖縄': 10, '博多': 7, '大阪': 4}\n",
      "北海道 : 11\n",
      "沖縄 : 10\n",
      "京都 : 8\n",
      "博多 : 7\n",
      "大阪 : 4\n"
     ]
    }
   ],
   "source": [
    "answer = [\"京都\", \"北海道\", \"沖縄\", \"博多\", \"北海道\", \"大阪\",\n",
    "\"京都\", \"京都\",\"大阪\", \"京都\", \"京都\", \"大阪\", \"京都\",\n",
    "\"京都\", \"博多\", \"沖縄\",\"沖縄\", \"博多\", \"沖縄\", \"博多\",\n",
    "\"沖縄\", \"北海道\", \"北海道\", \"沖縄\", \"沖縄\", \"北海道\", \"博多\",\n",
    "\"北海道\", \"沖縄\", \"北海道\", \"大阪\", \"北海道\", \"博多\", \"博多\",\n",
    "\"北海道\", \"北海道\", \"北海道\",\"沖縄\", \"沖縄\", \"京都\"]\n",
    " \n",
    "# 空の辞書を用意\n",
    "results = { }\n",
    " \n",
    "# 辞書resultsに地域と得票数を格納する\n",
    "for region in answer:\n",
    "    if region in results:\n",
    "        results[region] += 1\n",
    "    else:\n",
    "        results[region] = 1\n",
    "\n",
    "# 結果を表示する\n",
    "print(results)\n",
    " \n",
    "for region, num in sorted(results.items(), key=lambda x:x[1], reverse=True):\n",
    "    print(region,\":\",num)"
   ]
  },
  {
   "cell_type": "code",
   "execution_count": 123,
   "metadata": {},
   "outputs": [
    {
     "name": "stdout",
     "output_type": "stream",
     "text": [
      "田中 さん 23 才の標準体重は 71.28 です。\n",
      "渡辺 さん 25 才の標準体重は 56.32 です。\n",
      "\n",
      "[BMI変更]\n",
      "\n",
      "田中 さん 23 才の標準体重は 68.04 です。\n",
      "渡辺 さん 25 才の標準体重は 53.76 です。\n"
     ]
    }
   ],
   "source": [
    "class Person:\n",
    "    bmi = 22\n",
    "    \n",
    "    def __init__(self, name, age, tall):\n",
    "        self.name = name\n",
    "        self.age = age\n",
    "        self.tall = tall\n",
    " \n",
    "    def getName(self):\n",
    "        return self.name\n",
    " \n",
    "    def getAge(self):\n",
    "        return self.age\n",
    "    \n",
    "    def std_weight(self):\n",
    "        self.stdweight = round(Person.bmi * (self.tall/100)**2, 2)\n",
    "        return self.stdweight\n",
    "    \n",
    "    @classmethod\n",
    "    def setBmi(cls, num):\n",
    "        Person.bmi = num\n",
    "\n",
    "#名前、年齢、身長(cm)でインスタンスを作成\n",
    "pr1 = Person(\"田中\", 23, 180)\n",
    "pr2 = Person(\"渡辺\", 25, 160)\n",
    "\n",
    "#名前、年齢、標準体重を取得\n",
    "n1 = pr1.getName()\n",
    "a1 = pr1.getAge()\n",
    "s1 = pr1.std_weight()\n",
    " \n",
    "n2 = pr2.getName()\n",
    "a2 = pr2.getAge()\n",
    "s2 = pr2.std_weight()\n",
    "\n",
    "#名前、年齢、標準体重を表示\n",
    "print(n1, \"さん\", a1, \"才の標準体重は\",s1,\"です。\")\n",
    "print(n2, \"さん\", a2, \"才の標準体重は\",s2,\"です。\")\n",
    "\n",
    "#BMIを変更\n",
    "Person.setBmi(21)\n",
    "print()\n",
    "print(\"[BMI変更]\\n\")\n",
    "\n",
    "\n",
    "#名前、年齢、標準体重を取得\n",
    "n1 = pr1.getName()\n",
    "a1 = pr1.getAge()\n",
    "s1 = pr1.std_weight()\n",
    " \n",
    "n2 = pr2.getName()\n",
    "a2 = pr2.getAge()\n",
    "s2 = pr2.std_weight()\n",
    "\n",
    "#名前、年齢、標準体重を表示\n",
    "print(n1, \"さん\", a1, \"才の標準体重は\",round(s1, 2),\"です。\")\n",
    "print(n2, \"さん\", a2, \"才の標準体重は\",round(s2, 2) ,\"です。\")"
   ]
  },
  {
   "cell_type": "code",
   "execution_count": 121,
   "metadata": {},
   "outputs": [
    {
     "name": "stdout",
     "output_type": "stream",
     "text": [
      "田中 さん 23 才の標準体重は 71.28 です。\n",
      "渡辺 さん 25 才の標準体重は 56.32 です。\n",
      "\n",
      "[BMI変更]\n",
      "\n",
      "田中 さん 23 才の標準体重は 68.04 です。\n",
      "渡辺 さん 25 才の標準体重は 53.76 です。\n"
     ]
    }
   ],
   "source": [
    "class Person:\n",
    "    bmi = 22\n",
    "    \n",
    "    def __init__(self, name, age, tall):\n",
    "        self.__name = name\n",
    "        self.__age = age\n",
    "        self.__tall = tall\n",
    " \n",
    "    def getName(self):\n",
    "        return self.__name\n",
    " \n",
    "    def getAge(self):\n",
    "        return self.__age\n",
    "    \n",
    "    def std_weight(self):\n",
    "        self.__stdweight = round(Person.bmi * (self.__tall/100)**2, 2)\n",
    "        return self.__stdweight\n",
    "    \n",
    "    Name = property(getName)\n",
    "    Age = property(getAge)\n",
    "    stdWeight = property(std_weight)\n",
    "    \n",
    "    @classmethod\n",
    "    def setBmi(cls, num):\n",
    "        Person.bmi = num\n",
    "        \n",
    " #名前、年齢、身長(cm)でインスタンスを作成\n",
    "pr1 = Person(\"田中\", 23, 180)\n",
    "pr2 = Person(\"渡辺\", 25, 160)\n",
    "\n",
    "#名前、年齢、標準体重を表示\n",
    "print(pr1.Name, \"さん\", pr1.Age, \"才の標準体重は\",pr1.stdWeight,\"です。\")\n",
    "print(pr2.Name, \"さん\", pr2.Age, \"才の標準体重は\",pr2.stdWeight,\"です。\")\n",
    "\n",
    "#BMIを変更\n",
    "Person.setBmi(21)\n",
    "print()\n",
    "print(\"[BMI変更]\\n\")\n",
    "\n",
    "#名前、年齢、標準体重を表示\n",
    "print(pr1.Name, \"さん\", pr1.Age, \"才の標準体重は\", pr1.stdWeight,\"です。\")\n",
    "print(pr2.Name, \"さん\", pr2.Age, \"才の標準体重は\", pr2.stdWeight,\"です。\")"
   ]
  },
  {
   "cell_type": "code",
   "execution_count": 8,
   "metadata": {},
   "outputs": [
    {
     "name": "stdout",
     "output_type": "stream",
     "text": [
      "田中さん23歳の標準体重は71.28kgです。\n",
      "渡辺さん25歳の標準体重は56.32kgです。\n",
      "\n",
      "[BMI変更]\n",
      "\n",
      "田中さん23歳の標準体重は68.04kgです。\n",
      "渡辺さん25歳の標準体重は53.76kgです。\n"
     ]
    }
   ],
   "source": [
    "class Person:\n",
    "    bmi = 22\n",
    "    \n",
    "    def __init__(self, name, age, tall):\n",
    "        self.__name = name\n",
    "        self.__age = age\n",
    "        self.__tall = tall\n",
    " \n",
    "    def getName(self):\n",
    "        return self.__name\n",
    " \n",
    "    def getAge(self):\n",
    "        return self.__age\n",
    "    \n",
    "    def std_weight(self):\n",
    "        self.__stdweight = round(Person.bmi * (self.__tall/100)**2, 2)\n",
    "        return self.__stdweight\n",
    "    \n",
    "    def disp(self):\n",
    "        print(f\"{self.Name}さん{self.Age}歳の標準体重は{self.stdWeight}kgです。\")\n",
    "    \n",
    "    Name = property(getName)\n",
    "    Age = property(getAge)\n",
    "    stdWeight = property(std_weight)\n",
    "    \n",
    "    @classmethod\n",
    "    def setBmi(cls, num):\n",
    "        Person.bmi = num\n",
    "        \n",
    " #名前、年齢、身長(cm)でインスタンスを作成\n",
    "pr1 = Person(\"田中\", 23, 180)\n",
    "pr2 = Person(\"渡辺\", 25, 160)\n",
    "\n",
    "#名前、年齢、標準体重を表示\n",
    "pr1.disp()\n",
    "pr2.disp()\n",
    "\n",
    "#BMIを変更\n",
    "Person.setBmi(21)\n",
    "print()\n",
    "print(\"[BMI変更]\\n\")\n",
    "\n",
    "#名前、年齢、標準体重を表示\n",
    "pr1.disp()\n",
    "pr2.disp()"
   ]
  },
  {
   "cell_type": "code",
   "execution_count": 15,
   "metadata": {},
   "outputs": [
    {
     "name": "stdout",
     "output_type": "stream",
     "text": [
      "田中さん23歳の標準体重は71.28kgです。\n",
      "渡辺さん25歳の標準体重は56.32kgです。\n",
      "\n",
      "[BMI変更]\n",
      "\n",
      "田中さん23歳の標準体重は68.04kgです。\n",
      "渡辺さん25歳の標準体重は53.76kgです。\n"
     ]
    }
   ],
   "source": [
    "class Person:\n",
    "    def __init__(self, name, age):\n",
    "        self.__name = name\n",
    "        self.__age = age\n",
    "        \n",
    "    def getName(self):\n",
    "        return self.__name\n",
    "    \n",
    "    def getAge(self):\n",
    "        return self.__age\n",
    "    \n",
    "    Name = property(getName)\n",
    "    Age = property(getAge)\n",
    "    \n",
    "class Student(Person):\n",
    "    bmi=22\n",
    "    def __init__(self, nm, ag, tall):\n",
    "        super().__init__(nm, ag)\n",
    "        self.__tall = tall\n",
    "        \n",
    "    def std_weight(self):\n",
    "        self.__stdweight = round(Student.bmi * (self.__tall/100)**2, 2)\n",
    "        return self.__stdweight\n",
    "    \n",
    "    def disp(self):\n",
    "        print(f\"{self.Name}さん{self.Age}歳の標準体重は{self.stdWeight}kgです。\")\n",
    "    \n",
    "    stdWeight = property(std_weight)\n",
    "    \n",
    "    @classmethod\n",
    "    def setBmi(cls, num):\n",
    "        Student.bmi = num\n",
    "        \n",
    " #名前、年齢、身長(cm)でインスタンスを作成\n",
    "pr1 = Student(\"田中\", 23, 180)\n",
    "pr2 = Student(\"渡辺\", 25, 160)\n",
    "\n",
    "#名前、年齢、標準体重を表示\n",
    "pr1.disp()\n",
    "pr2.disp()\n",
    "\n",
    "#BMIを変更\n",
    "Student.setBmi(21)\n",
    "print()\n",
    "print(\"[BMI変更]\\n\")\n",
    "\n",
    "#名前、年齢、標準体重を表示\n",
    "pr1.disp()\n",
    "pr2.disp()"
   ]
  },
  {
   "cell_type": "code",
   "execution_count": 35,
   "metadata": {},
   "outputs": [
    {
     "name": "stdout",
     "output_type": "stream",
     "text": [
      "['京都', '北海道', '沖縄', '博多', '北海道', '大阪', '京都', '京都', '大阪', '京都', '京都', '大阪', '京都', '京都', '博多', '沖縄', '沖縄', '博多', '沖縄', '博多', '沖縄', '北海道', '北海道', '沖縄', '沖縄', '北海道', '博多', '北海道', '沖縄', '北海道', '大阪', '北海道', '博多', '博多', '北海道', '北海道', '北海道', '沖縄', '沖縄', '京都']\n",
      "北海道 : 11\n",
      "沖縄 : 10\n",
      "京都 : 8\n",
      "博多 : 7\n",
      "大阪 : 4\n"
     ]
    }
   ],
   "source": [
    "import csv\n",
    "\n",
    "with open('answer.csv', 'r')as f:\n",
    "    data = csv.reader(f)\n",
    "    \n",
    "    # リスト内包\n",
    "    answer = [i for j in data for i in j]\n",
    "            \n",
    "#     for文\n",
    "#     for d in data:\n",
    "#         answer += d\n",
    "\n",
    "print(answer)\n",
    "\n",
    "# 空の辞書を用意\n",
    "results = { }\n",
    "\n",
    "# 辞書resultsに地域と数格納する\n",
    "for region in answer:\n",
    "    if region in results:\n",
    "        results[region] += 1\n",
    "    else:\n",
    "        results[region] = 1\n",
    "\n",
    "# 結果をソートして表示する\n",
    "for region in sorted(results.items(), key=lambda c:c[1], reverse=True):\n",
    "    print(region[0],\":\",region[1])"
   ]
  },
  {
   "cell_type": "code",
   "execution_count": 36,
   "metadata": {},
   "outputs": [
    {
     "name": "stdout",
     "output_type": "stream",
     "text": [
      "北海道 : 11\n",
      "沖縄 : 10\n",
      "京都 : 8\n",
      "博多 : 7\n",
      "大阪 : 4\n"
     ]
    }
   ],
   "source": [
    "import csv\n",
    "import sys\n",
    "\n",
    "if len(sys.argv) < 2:\n",
    "    print(\"csvファイルを指定してください\")\n",
    "    sys.exit()\n",
    "\n",
    "try: \n",
    "    with open('answer.csv', 'r')as f:\n",
    "        data = csv.reader(f)\n",
    "        answer = [i for j in data for i in j]\n",
    "except FileNotFoundError as e:\n",
    "    print(\"ファイルが見つかりません\")\n",
    "    print(e)\n",
    "else:\n",
    "    # 空の辞書を用意\n",
    "    results = { }\n",
    "\n",
    "    # 辞書resultsに地域と数格納する\n",
    "    for region in answer:\n",
    "        if region in results:\n",
    "            results[region] += 1\n",
    "        else:\n",
    "            results[region] = 1\n",
    "\n",
    "    # 結果をソートして表示する\n",
    "    for region in sorted(results.items(), key=lambda c:c[1], reverse=True):\n",
    "        print(region[0],\":\",region[1])"
   ]
  },
  {
   "cell_type": "code",
   "execution_count": 42,
   "metadata": {},
   "outputs": [
    {
     "name": "stdout",
     "output_type": "stream",
     "text": [
      "北海道 : 11\n",
      "沖縄 : 10\n",
      "京都 : 8\n",
      "博多 : 7\n",
      "大阪 : 4\n"
     ]
    }
   ],
   "source": [
    "import csv \n",
    "import sys\n",
    "\n",
    "if len(sys.argv) < 2:\n",
    "    print(\"csvファイルを指定してください\")\n",
    "    sys.exit()\n",
    "try: \n",
    "    with open(sys.argv[1], \"r\")as f:\n",
    "        data = csv.reader(f)\n",
    "        answer = [i for j in data for i in j]\n",
    "except FileNotFoundError as e:\n",
    "    print(\"ファイルが見つかりません\")\n",
    "    print(e)\n",
    "else:\n",
    "    results = {}\n",
    "    for key in answer:\n",
    "        if key not in results:\n",
    "            results[key] = 1\n",
    "        else:\n",
    "            results[key] += 1\n",
    "    for k,v in sorted(results.items(), key=lambda x:x[1], reverse=True):\n",
    "        print(f\"{k} : {v}\")"
   ]
  },
  {
   "cell_type": "code",
   "execution_count": 49,
   "metadata": {},
   "outputs": [
    {
     "name": "stdout",
     "output_type": "stream",
     "text": [
      "<re.Match object; span=(0, 3), match='TXT'>\n",
      "\n",
      "TXT\n",
      "TT\n",
      "\u001b[91mTXT\u001b[0mTT\n"
     ]
    }
   ],
   "source": [
    "import re \n",
    "\n",
    "def str_search(ptr, str_):\n",
    "    colorRed = \"\\033[91m\"\n",
    "    colorEnd = \"\\033[0m\"\n",
    "    pattern = re.compile(ptr)\n",
    "    result = pattern.search(str_)\n",
    "    if result is not None:\n",
    "        r = result.span()\n",
    "        str1 = str_[0:r[0]]\n",
    "        str2 = str_[r[0]:r[1]]\n",
    "        str3 = str_[r[1]:len(str_)]\n",
    "        print(result)\n",
    "        print(str1)\n",
    "        print(str2)\n",
    "        print(str3)\n",
    "        print(f\"{str1}{colorRed}{str2}{colorEnd}{str3}\")\n",
    "    else:\n",
    "        print(\"No mach\")\n",
    "        return None\n",
    "\n",
    "if __name__ == '__main__':\n",
    "    ptr = '^TXT'\n",
    "    str_ = 'TXTTT'\n",
    "    str_search(ptr, str_)\n"
   ]
  },
  {
   "cell_type": "code",
   "execution_count": 55,
   "metadata": {},
   "outputs": [
    {
     "name": "stdout",
     "output_type": "stream",
     "text": [
      "r+ : ['abcDEFG']\n",
      "w+ : ['abc']\n",
      "a+ : ['ABCDEFGabc']\n"
     ]
    }
   ],
   "source": [
    "mode = [\"r+\", \"w+\", \"a+\"]\n",
    "for m in mode:\n",
    "    with open(\"sample.txt\", \"w\")as f:\n",
    "        txt = f.write(\"ABCDEFG\")\n",
    "#         print(txt)\n",
    "        \n",
    "    with open('sample.txt', m)as f:\n",
    "        f.write(\"abc\")\n",
    "        f.seek(0)\n",
    "        print(f\"{m} : {f.readlines()}\")"
   ]
  },
  {
   "cell_type": "code",
   "execution_count": null,
   "metadata": {},
   "outputs": [],
   "source": []
  }
 ],
 "metadata": {
  "kernelspec": {
   "display_name": "Python 3",
   "language": "python",
   "name": "python3"
  }
 },
 "nbformat": 4,
 "nbformat_minor": 2
}
