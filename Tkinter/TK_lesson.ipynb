{
 "cells": [
  {
   "cell_type": "code",
   "execution_count": 10,
   "metadata": {},
   "outputs": [],
   "source": [
    "import tkinter  #  tkinterをインポート"
   ]
  },
  {
   "cell_type": "code",
   "execution_count": 6,
   "metadata": {},
   "outputs": [],
   "source": [
    "root = tkinter.Tk()  # Tk()クラスはTkのインスタンスを返し、rootに代入。rootがメインウィンドウに対応する\n",
    "root.title(\"Python Tkinter\")  #  メインウィンドウのタイトル\n",
    "root.geometry(\"300x250\")  #  ウィンドウサイズ\n",
    "root.mainloop()  #  イベントループ"
   ]
  },
  {
   "cell_type": "code",
   "execution_count": 13,
   "metadata": {},
   "outputs": [],
   "source": [
    "root = tkinter.Tk()\n",
    "root.title(\"Python Tkinter\")\n",
    "root.geometry(\"300x250\")\n",
    "btn = tkinter.Button(root, text=\"OK\")  # ボタンウィジェットのインスタンス生成\n",
    "btn.pack()  # ウィンドウに配置\n",
    "\n",
    "root.mainloop()"
   ]
  },
  {
   "cell_type": "code",
   "execution_count": 17,
   "metadata": {},
   "outputs": [],
   "source": [
    "root = tkinter.Tk()\n",
    "root.title(\"Label\")\n",
    "root.geometry(\"300x250\")\n",
    "lb = tkinter.Label(root, text=\"hello python\")\n",
    "lb.pack()\n",
    "root.mainloop()"
   ]
  },
  {
   "cell_type": "code",
   "execution_count": 24,
   "metadata": {},
   "outputs": [],
   "source": [
    "root = tkinter.Tk()\n",
    "root.title(\"Label\")\n",
    "root.geometry(\"300x250\")\n",
    "lb = tkinter.Label(text=\"Python\", foreground=\"white\", background=\"blue\")\n",
    "lb.pack()\n",
    "root.mainloop()"
   ]
  },
  {
   "cell_type": "code",
   "execution_count": 38,
   "metadata": {},
   "outputs": [],
   "source": [
    "root = tkinter.Tk()\n",
    "root.title(\"Label\")\n",
    "root.geometry(\"300x250\")\n",
    "lb = tkinter.Label(text=\"Python\", font=(u\"MS明朝\",30,\"bold\"))\n",
    "lb.pack()\n",
    "root.mainloop()"
   ]
  },
  {
   "cell_type": "code",
   "execution_count": 42,
   "metadata": {},
   "outputs": [],
   "source": [
    "root = tkinter.Tk()\n",
    "root.geometry(\"300x250\")\n",
    "root.option_add(\"*font\", \"Monospace 30\")\n",
    "tk.Label(text=\"Hello\").pack()\n",
    "tk.Label(text=\"Python\").pack()\n",
    "root.mainloop()"
   ]
  },
  {
   "cell_type": "code",
   "execution_count": null,
   "metadata": {},
   "outputs": [],
   "source": []
  }
 ],
 "metadata": {
  "kernelspec": {
   "display_name": "Python 3",
   "language": "python",
   "name": "python3"
  },
  "language_info": {
   "codemirror_mode": {
    "name": "ipython",
    "version": 3
   },
   "file_extension": ".py",
   "mimetype": "text/x-python",
   "name": "python",
   "nbconvert_exporter": "python",
   "pygments_lexer": "ipython3",
   "version": "3.7.3"
  }
 },
 "nbformat": 4,
 "nbformat_minor": 2
}
