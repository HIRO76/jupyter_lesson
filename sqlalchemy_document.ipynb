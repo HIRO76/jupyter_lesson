{
 "cells": [
  {
   "cell_type": "code",
   "execution_count": 1,
   "metadata": {},
   "outputs": [
    {
     "data": {
      "text/html": [
       "<style>table {float:left}</style>\n"
      ],
      "text/plain": [
       "<IPython.core.display.HTML object>"
      ]
     },
     "metadata": {},
     "output_type": "display_data"
    }
   ],
   "source": [
    "%%html\n",
    "<style>table {float:left}</style>"
   ]
  },
  {
   "cell_type": "code",
   "execution_count": 2,
   "metadata": {},
   "outputs": [
    {
     "name": "stdout",
     "output_type": "stream",
     "text": [
      "python version: sys.version_info(major=3, minor=6, micro=10, releaselevel='final', serial=0)\n",
      "sqlalchemy version: 1.3.13\n"
     ]
    }
   ],
   "source": [
    "import sys\n",
    "print('python version:', sys.version_info)\n",
    "import sqlalchemy\n",
    "print('sqlalchemy version:',sqlalchemy.__version__)"
   ]
  },
  {
   "cell_type": "markdown",
   "metadata": {},
   "source": [
    " # Pythonとデータベース\n",
    "Pythonから利用できるデータベースはMySQL,PostgreSQL, SQLite,Oracleなど多岐にわたります。\n",
    "PythonのデータベースAPI仕様は、PEP 249※1で定義されており、それぞれのデータベースに対応して実装※2が存在します。\n",
    "\n",
    "データベースAPIを使用すればデータベースプログラミンが可能ですが、SQLを直接記述する必要があります。\n",
    "SQLを直接記述するプログラムは規模が大きくなると複雑になる傾向があります。そのため最近のデータベース開発では\n",
    "オブジェクトとデータベースのレコードを関連付けるしくみであるO/Rマッパーを利用してデータベース開発を行うケースが増えています。\n",
    "\n",
    "※1 https://www.python.org/dev/peps/pep-0249/#exceptions <br>\n",
    "※2 https://docs.python.org/ja/3/library/sqlite3.html"
   ]
  },
  {
   "cell_type": "markdown",
   "metadata": {},
   "source": [
    "# SQLAlchemy\n",
    "SQLAlchemyは、データベースやSQLに関連する機能を提供するライブラリです。テーブル関連の処理やSQLを扱うための便利なモジュールを提供しています。\n",
    "O/Rマッパーは提供される機能の１つであり、O/Rマッパーを使用せずに開発することも可能です。SQLAlchemyではDataMapperパターンを使用してテーブルとオブジェクトのマッピングを行い、開発を進めます。\n",
    "\n",
    "SQLAlchmeyは非常に高機能であり、SQLite,MySQL,PostgerSQLなどのオープンソースのデータベースや、OracleやMicrosoft SQL Serverなどの商用データベースもサポートしています。"
   ]
  },
  {
   "cell_type": "markdown",
   "metadata": {},
   "source": [
    "# データベースへの接続\n",
    "データベースの接続は、create_engine()関数を使用します。第１引数は接続するデータベースを指定します。ここでは、メモリーベースのSQLite3を指定しています。\n",
    "第2引数のechoはログ出力の有効化フラグです。Trueを指定するとコンソールにSQLAlchemyが発行したSQLなどが出力されます。"
   ]
  },
  {
   "cell_type": "code",
   "execution_count": 3,
   "metadata": {},
   "outputs": [
    {
     "data": {
      "text/plain": [
       "Engine(sqlite:///:memory:)"
      ]
     },
     "execution_count": 3,
     "metadata": {},
     "output_type": "execute_result"
    }
   ],
   "source": [
    "from sqlalchemy import create_engine\n",
    "engine = create_engine('sqlite:///:memory:', echo=True)\n",
    "engine"
   ]
  },
  {
   "cell_type": "markdown",
   "metadata": {},
   "source": [
    "# テーブルの作成\n",
    "SQLAlchemyを使用してテーブルを作成します。テーブルは次の表のように書籍の情報を格納するbooksテーブルを作成します。SQLAlchemyでは、テーブルを表すオブジェクトとマッピングされるオブジェクトを定義し、それらを関連付けます。\n",
    "定義と関連付けはdeclarativeを使って同時に行っています。\n",
    "#### booksテーブルの定義\n",
    "|<div align='left'>名前</div>|<div align='left'>カラム名</div>|<div align='left'>データタイプ</div>\n",
    "|-----|-----|-----\n",
    "|<div align='left'>ID</div>|<div align='left'>id</div>|<div align='left'>INTEGER</div>\n",
    "|<div align='left'>タイトル</div>|<div align='left'>title</div>|<div align='left'>VARCHAR(255)</div>\n",
    "|<div align='left'>価格</div>|<div align='left'>price</div>|<div align='left'>INTEGER</div>\n",
    "|<div align='left'>メモ</div>|<div align='left'>memo</div>|<div align='left'>TEXT</div>"
   ]
  },
  {
   "cell_type": "markdown",
   "metadata": {},
   "source": [
    "### Bookクラス（オブジェクト）定義\n",
    "\n",
    "Bookクラスの定義は次のように行います。\n",
    "1. declarativeをインポートします。\n",
    "2. declarative.declarative_base()関数でBaseクラスを生成します。\n",
    "3. フィールド定義に使用する Column, Integer, Unicode, UnicodeTextをインポートします。\n",
    "4. Baseクラスを継承したBookクラスを生成します。Bookクラスでは、データベースのカラムに対応するフィールドの定義を行います。\n",
    "5. \\_\\_tablename\\_\\_ = 'books' でテーブル名を指定します。\n",
    "6. Columnクラスを使ってフィールドを定義します。\n",
    "\n",
    "Columnクラスのコンストラクタの第１引数には、フィールドの型、第２引数以降にはオプションを指定します。\n",
    "primary_key=Trueと指定すると、そのカラムはプライマリーキーとなります。nullable=Falseと指定すると、nullが許可さなくなります。\n",
    "また、テーブルにデータが保存されるときのでフィルと値はdefault='<デフォルト値>'で指定します。\n",
    "\n",
    "declarativeを使ってクラス宣言したので、booksテーブルとマッピングされたBookオブジェクトがプログラム内で使用できるようになります。\n"
   ]
  },
  {
   "cell_type": "code",
   "execution_count": 4,
   "metadata": {},
   "outputs": [],
   "source": [
    "from sqlalchemy.ext import declarative\n",
    "Base = declarative.declarative_base()\n",
    "from sqlalchemy import Column, Integer, Unicode, UnicodeText\n",
    "class Book(Base):\n",
    "    __tablename__ = 'books'\n",
    "    id = Column(Integer, primary_key=True)\n",
    "    title = Column(Unicode(100), nullable=False)\n",
    "    price = Column(Integer, nullable=False)\n",
    "    memo = Column(UnicodeText)\n",
    "    def __repr__(self):\n",
    "        return \"<Book('%s', '%s', '%s')>\" % (self.title, self.price, self.memo)"
   ]
  },
  {
   "cell_type": "markdown",
   "metadata": {},
   "source": [
    "### テーブル作成\n",
    "テーブルは、Base.metadatのcreate_all()メソッドにcreate_engine() で作成したengineを渡して作成します。\n",
    "Metadateはテーブルなどの情報を登録するためのオブジェクトです。create_all()メソッドを呼び出すとデータベース上にテーブルが作成されます。"
   ]
  },
  {
   "cell_type": "code",
   "execution_count": 5,
   "metadata": {
    "scrolled": false
   },
   "outputs": [
    {
     "name": "stdout",
     "output_type": "stream",
     "text": [
      "2020-03-24 14:19:20,171 INFO sqlalchemy.engine.base.Engine SELECT CAST('test plain returns' AS VARCHAR(60)) AS anon_1\n",
      "2020-03-24 14:19:20,173 INFO sqlalchemy.engine.base.Engine ()\n",
      "2020-03-24 14:19:20,176 INFO sqlalchemy.engine.base.Engine SELECT CAST('test unicode returns' AS VARCHAR(60)) AS anon_1\n",
      "2020-03-24 14:19:20,176 INFO sqlalchemy.engine.base.Engine ()\n",
      "2020-03-24 14:19:20,177 INFO sqlalchemy.engine.base.Engine PRAGMA main.table_info(\"books\")\n",
      "2020-03-24 14:19:20,178 INFO sqlalchemy.engine.base.Engine ()\n",
      "2020-03-24 14:19:20,179 INFO sqlalchemy.engine.base.Engine PRAGMA temp.table_info(\"books\")\n",
      "2020-03-24 14:19:20,179 INFO sqlalchemy.engine.base.Engine ()\n",
      "2020-03-24 14:19:20,180 INFO sqlalchemy.engine.base.Engine \n",
      "CREATE TABLE books (\n",
      "\tid INTEGER NOT NULL, \n",
      "\ttitle VARCHAR(100) NOT NULL, \n",
      "\tprice INTEGER NOT NULL, \n",
      "\tmemo TEXT, \n",
      "\tPRIMARY KEY (id)\n",
      ")\n",
      "\n",
      "\n",
      "2020-03-24 14:19:20,181 INFO sqlalchemy.engine.base.Engine ()\n",
      "2020-03-24 14:19:20,183 INFO sqlalchemy.engine.base.Engine COMMIT\n"
     ]
    }
   ],
   "source": [
    "Base.metadata.create_all(engine)"
   ]
  },
  {
   "cell_type": "markdown",
   "metadata": {},
   "source": [
    "# テーブルの操作\n",
    "テーブルとオブジェクトのマッピングが完了すると、データベースにアクセスして基本的なCRUD操作ができるようになります。<br>\n",
    "CRUDとは、__C__reate(登録)、__R__ead（読み取り）、__U__pdate(更新）、__D__elete（削除）の略称です。\n",
    "### セッションの作成\n",
    "SQLAlchemyではセッションを通してオブジェクトの取得や更新を行います。まずは次に示すようにSessionインスタンスを作成します。\n",
    "1. sqlchemey.ormのsessionmakerをインポートします。\n",
    "2. sessionmakerでengineを関連付け(bind)してSessionクラスを作成します。\n",
    "3. Sessionクラスのコンストラクターを呼び出してインスタンスsessionを生成します。"
   ]
  },
  {
   "cell_type": "code",
   "execution_count": 6,
   "metadata": {},
   "outputs": [],
   "source": [
    "from sqlalchemy.orm import sessionmaker\n",
    "Session = sessionmaker(bind=engine)\n",
    "session = Session()"
   ]
  },
  {
   "cell_type": "markdown",
   "metadata": {},
   "source": [
    "### トランザクション\n",
    "SQLAlchemyでは、オブジェクトの登録、更新、削除を行った後、session.commit()メソッド呼び出してオブジェクトの更新をデータベースに反映します。\n",
    "また何らかのエラーが発生してトランザクションをロールバックしたい場合には、session.rollback()メソッドを呼び出します。"
   ]
  },
  {
   "cell_type": "markdown",
   "metadata": {},
   "source": [
    "### C. オブジェクトの登録\n",
    "セッションを生成したら、Bookクラスのオブジェクトをデータベースに登録します。\n",
    "オブジェクトを登録するにはBookクラスのインスタンスを生成し、__session.add()__メソッドの第１引数に渡します。\n",
    "Integer型のカラムにprimary_key=Trueが指定されていると、そのカラムは自動的に番号が付けられます。"
   ]
  },
  {
   "cell_type": "code",
   "execution_count": 7,
   "metadata": {
    "scrolled": false
   },
   "outputs": [
    {
     "name": "stdout",
     "output_type": "stream",
     "text": [
      "2020-03-24 14:19:31,745 INFO sqlalchemy.engine.base.Engine BEGIN (implicit)\n",
      "2020-03-24 14:19:31,747 INFO sqlalchemy.engine.base.Engine INSERT INTO books (title, price, memo) VALUES (?, ?, ?)\n",
      "2020-03-24 14:19:31,748 INFO sqlalchemy.engine.base.Engine ('やさしいPython', '2580', 'SBクリエイティブ')\n",
      "2020-03-24 14:19:31,749 INFO sqlalchemy.engine.base.Engine COMMIT\n"
     ]
    }
   ],
   "source": [
    "book = Book(title= 'やさしいPython', price='2580', memo = 'SBクリエイティブ')\n",
    "session.add(book)\n",
    "session.commit()"
   ]
  },
  {
   "cell_type": "markdown",
   "metadata": {},
   "source": [
    "__add_all()__メソッドを使用すると一度に複数のBookインスタンスを渡してデータベースに登録出来ます。"
   ]
  },
  {
   "cell_type": "code",
   "execution_count": 8,
   "metadata": {
    "scrolled": false
   },
   "outputs": [
    {
     "name": "stdout",
     "output_type": "stream",
     "text": [
      "2020-03-24 14:19:34,555 INFO sqlalchemy.engine.base.Engine BEGIN (implicit)\n",
      "2020-03-24 14:19:34,557 INFO sqlalchemy.engine.base.Engine INSERT INTO books (title, price, memo) VALUES (?, ?, ?)\n",
      "2020-03-24 14:19:34,558 INFO sqlalchemy.engine.base.Engine ('スッキリわかるJava入門', '2680', 'インプレス')\n",
      "2020-03-24 14:19:34,560 INFO sqlalchemy.engine.base.Engine INSERT INTO books (title, price, memo) VALUES (?, ?, ?)\n",
      "2020-03-24 14:19:34,561 INFO sqlalchemy.engine.base.Engine ('独習PHP', '3520', '翔泳社')\n",
      "2020-03-24 14:19:34,562 INFO sqlalchemy.engine.base.Engine COMMIT\n"
     ]
    }
   ],
   "source": [
    "session.add_all([\n",
    "    Book(title= 'スッキリわかるJava入門', price='2680', memo = 'インプレス'),\n",
    "    Book(title= '独習PHP', price='3520', memo = '翔泳社'),\n",
    "])\n",
    "session.commit()"
   ]
  },
  {
   "cell_type": "markdown",
   "metadata": {},
   "source": [
    "### R. オブジェクトの取得\n",
    "オブジェクトの登録ができたら、取得を行います。オブジェクトの取得はsession.query()を実行してQueryオブジェクトを生成します。\n",
    "QueryオブジェクトはSQLを実行するためのオブジェクトです。"
   ]
  },
  {
   "cell_type": "code",
   "execution_count": 9,
   "metadata": {},
   "outputs": [],
   "source": [
    "query = session.query(Book)"
   ]
  },
  {
   "cell_type": "markdown",
   "metadata": {},
   "source": [
    "__all( )__メソッドを使うと全てのオブジェクトを取得できます。"
   ]
  },
  {
   "cell_type": "code",
   "execution_count": 10,
   "metadata": {
    "scrolled": true
   },
   "outputs": [
    {
     "name": "stdout",
     "output_type": "stream",
     "text": [
      "2020-03-24 14:19:42,003 INFO sqlalchemy.engine.base.Engine BEGIN (implicit)\n",
      "2020-03-24 14:19:42,005 INFO sqlalchemy.engine.base.Engine SELECT books.id AS books_id, books.title AS books_title, books.price AS books_price, books.memo AS books_memo \n",
      "FROM books\n",
      "2020-03-24 14:19:42,007 INFO sqlalchemy.engine.base.Engine ()\n",
      "やさしいPython\n",
      "スッキリわかるJava入門\n",
      "独習PHP\n"
     ]
    }
   ],
   "source": [
    "for book in query.all():\n",
    "    print (book.title)\n",
    "    "
   ]
  },
  {
   "cell_type": "markdown",
   "metadata": {},
   "source": [
    "__get( )__メソッドを使うとプライマリーキーを用いてオブジェクトを取得できます。"
   ]
  },
  {
   "cell_type": "code",
   "execution_count": 11,
   "metadata": {
    "scrolled": true
   },
   "outputs": [
    {
     "name": "stdout",
     "output_type": "stream",
     "text": [
      "2020-03-24 14:19:47,164 INFO sqlalchemy.engine.base.Engine SELECT books.id AS books_id, books.title AS books_title, books.price AS books_price, books.memo AS books_memo \n",
      "FROM books \n",
      "WHERE books.id = ?\n",
      "2020-03-24 14:19:47,164 INFO sqlalchemy.engine.base.Engine (1,)\n",
      "やさしいPython\n"
     ]
    }
   ],
   "source": [
    "book = query.get(1)\n",
    "print( book.title)"
   ]
  },
  {
   "cell_type": "markdown",
   "metadata": {},
   "source": [
    "__filter( )__メソッドを使うと、条件を付けてオブジェクトを取得できます。"
   ]
  },
  {
   "cell_type": "code",
   "execution_count": 12,
   "metadata": {
    "scrolled": true
   },
   "outputs": [
    {
     "name": "stdout",
     "output_type": "stream",
     "text": [
      "2020-03-24 14:19:50,473 INFO sqlalchemy.engine.base.Engine SELECT books.id AS books_id, books.title AS books_title, books.price AS books_price, books.memo AS books_memo \n",
      "FROM books \n",
      "WHERE books.title = ?\n",
      " LIMIT ? OFFSET ?\n",
      "2020-03-24 14:19:50,474 INFO sqlalchemy.engine.base.Engine ('スッキリわかるJava入門', 1, 0)\n",
      "スッキリわかるJava入門\n"
     ]
    }
   ],
   "source": [
    "book = query.filter(Book.title == 'スッキリわかるJava入門').first()\n",
    "print(book.title)"
   ]
  },
  {
   "cell_type": "markdown",
   "metadata": {},
   "source": [
    "つぎのように__filter( )__メソッドをつなげて、複数の条件を指定することができます。"
   ]
  },
  {
   "cell_type": "code",
   "execution_count": 13,
   "metadata": {
    "scrolled": false
   },
   "outputs": [
    {
     "name": "stdout",
     "output_type": "stream",
     "text": [
      "2020-03-24 14:19:53,828 INFO sqlalchemy.engine.base.Engine SELECT books.id AS books_id, books.title AS books_title, books.price AS books_price, books.memo AS books_memo \n",
      "FROM books \n",
      "WHERE books.title = ? AND books.id = ?\n",
      " LIMIT ? OFFSET ?\n",
      "2020-03-24 14:19:53,829 INFO sqlalchemy.engine.base.Engine ('独習PHP', 3, 1, 0)\n",
      "独習PHP\n"
     ]
    }
   ],
   "source": [
    "book = query.filter(Book.title == '独習PHP').filter(Book.id == 3).first()\n",
    "print(book.title)"
   ]
  },
  {
   "cell_type": "markdown",
   "metadata": {},
   "source": [
    "__count( )__メソッドを使用すると、テーブル上のレコード数を取得できます。"
   ]
  },
  {
   "cell_type": "code",
   "execution_count": 14,
   "metadata": {
    "scrolled": false
   },
   "outputs": [
    {
     "name": "stdout",
     "output_type": "stream",
     "text": [
      "2020-03-24 14:19:56,921 INFO sqlalchemy.engine.base.Engine SELECT count(*) AS count_1 \n",
      "FROM (SELECT books.id AS books_id, books.title AS books_title, books.price AS books_price, books.memo AS books_memo \n",
      "FROM books) AS anon_1\n",
      "2020-03-24 14:19:56,922 INFO sqlalchemy.engine.base.Engine ()\n",
      "3\n"
     ]
    }
   ],
   "source": [
    "count = query.count()\n",
    "print(count)"
   ]
  },
  {
   "cell_type": "markdown",
   "metadata": {},
   "source": [
    "### U. オブジェクトの更新\n",
    "オブジェクトの更新は__.price=2500__のようにオブジェクトの値を変更して、__session.commit( )__を呼び出します。"
   ]
  },
  {
   "cell_type": "code",
   "execution_count": 15,
   "metadata": {},
   "outputs": [
    {
     "name": "stdout",
     "output_type": "stream",
     "text": [
      "2020-03-24 14:20:00,353 INFO sqlalchemy.engine.base.Engine SELECT books.id AS books_id, books.title AS books_title, books.price AS books_price, books.memo AS books_memo \n",
      "FROM books \n",
      "WHERE books.id = ?\n",
      "2020-03-24 14:20:00,354 INFO sqlalchemy.engine.base.Engine (1,)\n",
      "2020-03-24 14:20:00,356 INFO sqlalchemy.engine.base.Engine UPDATE books SET price=? WHERE books.id = ?\n",
      "2020-03-24 14:20:00,357 INFO sqlalchemy.engine.base.Engine (2500, 1)\n",
      "2020-03-24 14:20:00,358 INFO sqlalchemy.engine.base.Engine COMMIT\n",
      "2020-03-24 14:20:00,359 INFO sqlalchemy.engine.base.Engine BEGIN (implicit)\n",
      "2020-03-24 14:20:00,360 INFO sqlalchemy.engine.base.Engine SELECT books.id AS books_id, books.title AS books_title, books.price AS books_price, books.memo AS books_memo \n",
      "FROM books \n",
      "WHERE books.id = ?\n",
      "2020-03-24 14:20:00,360 INFO sqlalchemy.engine.base.Engine (1,)\n",
      "2500\n"
     ]
    }
   ],
   "source": [
    "book = query.get(1)\n",
    "book.price = 2500\n",
    "session.commit()\n",
    "book = query.get(1)\n",
    "print(book.price)"
   ]
  },
  {
   "cell_type": "markdown",
   "metadata": {},
   "source": [
    "### D. オブジェクトの削除\n",
    "オブジェクトの削除は__session.delete( )__にBookインスタンスを渡してから、__session.commit( )__を呼び出します。"
   ]
  },
  {
   "cell_type": "code",
   "execution_count": 16,
   "metadata": {
    "scrolled": false
   },
   "outputs": [
    {
     "name": "stdout",
     "output_type": "stream",
     "text": [
      "2020-03-24 14:20:05,813 INFO sqlalchemy.engine.base.Engine DELETE FROM books WHERE books.id = ?\n",
      "2020-03-24 14:20:05,813 INFO sqlalchemy.engine.base.Engine (1,)\n",
      "2020-03-24 14:20:05,822 INFO sqlalchemy.engine.base.Engine COMMIT\n",
      "2020-03-24 14:20:05,823 INFO sqlalchemy.engine.base.Engine BEGIN (implicit)\n",
      "2020-03-24 14:20:05,823 INFO sqlalchemy.engine.base.Engine SELECT books.id AS books_id, books.title AS books_title, books.price AS books_price, books.memo AS books_memo \n",
      "FROM books \n",
      "WHERE books.id = ?\n",
      "2020-03-24 14:20:05,824 INFO sqlalchemy.engine.base.Engine (1,)\n",
      "None\n",
      "2020-03-24 14:20:05,826 INFO sqlalchemy.engine.base.Engine SELECT books.id AS books_id, books.title AS books_title, books.price AS books_price, books.memo AS books_memo \n",
      "FROM books\n",
      "2020-03-24 14:20:05,826 INFO sqlalchemy.engine.base.Engine ()\n",
      "スッキリわかるJava入門\n",
      "独習PHP\n"
     ]
    }
   ],
   "source": [
    "book = query.get(1)\n",
    "session.delete(book)\n",
    "session.commit()\n",
    "book = query.get(1)\n",
    "print(book)\n",
    "\n",
    "for book in query.all():\n",
    "    print(book.title)"
   ]
  },
  {
   "cell_type": "code",
   "execution_count": 17,
   "metadata": {},
   "outputs": [
    {
     "data": {
      "text/plain": [
       "<Book('独習PHP', '3520', '翔泳社')>"
      ]
     },
     "execution_count": 17,
     "metadata": {},
     "output_type": "execute_result"
    }
   ],
   "source": [
    "book"
   ]
  },
  {
   "cell_type": "code",
   "execution_count": null,
   "metadata": {},
   "outputs": [],
   "source": []
  }
 ],
 "metadata": {
  "kernelspec": {
   "display_name": "Python 3",
   "language": "python",
   "name": "python3"
  },
  "language_info": {
   "codemirror_mode": {
    "name": "ipython",
    "version": 3
   },
   "file_extension": ".py",
   "mimetype": "text/x-python",
   "name": "python",
   "nbconvert_exporter": "python",
   "pygments_lexer": "ipython3",
   "version": "3.6.10"
  }
 },
 "nbformat": 4,
 "nbformat_minor": 2
}
