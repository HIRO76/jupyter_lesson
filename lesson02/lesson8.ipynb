{
 "cells": [
  {
   "cell_type": "markdown",
   "metadata": {},
   "source": [
    "# クラス"
   ]
  },
  {
   "cell_type": "markdown",
   "metadata": {},
   "source": [
    "### コンストラクタ未使用"
   ]
  },
  {
   "cell_type": "code",
   "execution_count": 1,
   "metadata": {},
   "outputs": [
    {
     "name": "stdout",
     "output_type": "stream",
     "text": [
      "鈴木さんは23歳です。\n"
     ]
    }
   ],
   "source": [
    "class Person():\n",
    "    def getName(self):\n",
    "        return self.name\n",
    "    def getAge(self):\n",
    "        return self.age\n",
    "    \n",
    "pr = Person()\n",
    "pr.name = \"鈴木\"\n",
    "pr.age = 23\n",
    "\n",
    "n = pr.getName()\n",
    "a = pr.getAge()\n",
    "print(f\"{n}さんは{a}歳です。\")"
   ]
  },
  {
   "cell_type": "code",
   "execution_count": 3,
   "metadata": {},
   "outputs": [
    {
     "name": "stdout",
     "output_type": "stream",
     "text": [
      "田中さんは32歳です\n",
      "横田さんは29歳です\n"
     ]
    }
   ],
   "source": [
    "class Person():\n",
    "    \n",
    "    def getName(self):\n",
    "        return self.name\n",
    "    \n",
    "    def getAge(self):\n",
    "        return self.age\n",
    "    \n",
    "pr1 = Person()\n",
    "pr1.name = \"田中\"\n",
    "pr1.age = 32\n",
    "n1 = pr1.getName()\n",
    "a1 = pr1.getAge()\n",
    "\n",
    "pr2 = Person()\n",
    "pr2.name = \"横田\"\n",
    "pr2.age = 29\n",
    "n2 = pr2.getName()\n",
    "a2 = pr2.getAge()\n",
    "\n",
    "print(f\"{n1}さんは{a1}歳です\")\n",
    "print(f\"{n2}さんは{a2}歳です\")"
   ]
  },
  {
   "cell_type": "markdown",
   "metadata": {},
   "source": [
    "### コンストラクタ使用"
   ]
  },
  {
   "cell_type": "code",
   "execution_count": 6,
   "metadata": {},
   "outputs": [
    {
     "name": "stdout",
     "output_type": "stream",
     "text": [
      "鈴木さんは32歳です。\n"
     ]
    }
   ],
   "source": [
    "class Person():\n",
    "    def __init__(self, name, age):\n",
    "        self.name = name\n",
    "        self.age = age\n",
    "        \n",
    "    def getName(self):\n",
    "        return self.name\n",
    "    \n",
    "    def getAge(self):\n",
    "        return self.age\n",
    "    \n",
    "pr = Person(\"鈴木\", 32)\n",
    "n = pr.getName()\n",
    "a = pr.getAge()\n",
    "print(f\"{n}さんは{a}歳です。\")"
   ]
  },
  {
   "cell_type": "markdown",
   "metadata": {},
   "source": [
    "### クラス変数、クラスメソッド"
   ]
  },
  {
   "cell_type": "code",
   "execution_count": 9,
   "metadata": {},
   "outputs": [
    {
     "name": "stdout",
     "output_type": "stream",
     "text": [
      "鈴木さんは31歳です\n",
      "斎藤さんは34歳です\n",
      "合計人数は、2人です\n"
     ]
    }
   ],
   "source": [
    "class Person():\n",
    "    count = 0\n",
    "    \n",
    "    def __init__(self, name, age):\n",
    "        Person.count += 1\n",
    "        self.name = name\n",
    "        self.age = age \n",
    "        \n",
    "    def getName(self):\n",
    "        return self.name\n",
    "    \n",
    "    def getAge(self):\n",
    "        return self.age\n",
    "    \n",
    "    @classmethod\n",
    "    def getCount(cls):\n",
    "        return cls.count\n",
    "    \n",
    "pr1 = Person(\"鈴木\", 31)\n",
    "pr2 = Person(\"斎藤\", 34)\n",
    "\n",
    "print(f\"{pr1.getName()}さんは{pr1.getAge()}歳です\")\n",
    "print(f\"{pr2.getName()}さんは{pr2.getAge()}歳です\")\n",
    "print(f\"合計人数は、{Person.getCount()}人です\")"
   ]
  },
  {
   "cell_type": "code",
   "execution_count": 23,
   "metadata": {},
   "outputs": [
    {
     "name": "stdout",
     "output_type": "stream",
     "text": [
      "顧客： 斎藤さんは23歳です\n",
      "アドレスはsample@example.com　電話番号は0123-45-6789\n"
     ]
    }
   ],
   "source": [
    "class Person:\n",
    "    def __init__(self, name, age):\n",
    "        self.name = name\n",
    "        self.age = age\n",
    "        \n",
    "    def getName(self):\n",
    "        return self.name\n",
    "    \n",
    "    def getAge(self):\n",
    "        return self.age \n",
    "    \n",
    "class Customer(Person):\n",
    "    def __init__(self, nm, ag, ad, tl):\n",
    "        super().__init__(nm, ag)\n",
    "        self.adr = ad\n",
    "        self.tel = tl\n",
    "        \n",
    "    def getName(self):\n",
    "        self.name = \"顧客： \"　+ self.name\n",
    "        self.name = \"顧客： \" + self.name\n",
    "        return self.name\n",
    "    \n",
    "    def getAdr(self):\n",
    "        return self.adr\n",
    "    \n",
    "    def getTel(self):\n",
    "        return self.tel  \n",
    "    \n",
    "pr = Customer(\"斎藤\", 23, \"sample@example.com\", \"0123-45-6789\")\n",
    "nm = pr.getName()\n",
    "ag = pr.getAge()\n",
    "ad = pr.getAdr()\n",
    "tl = pr.getTel()\n",
    "\n",
    "\n",
    "# print(nm, ag, ad,tl)\n",
    "print(f\"{nm}さんは{ag}歳です\") \n",
    "print(f\"アドレスは{ad}　電話番号は{tl}\")"
   ]
  },
  {
   "cell_type": "code",
   "execution_count": null,
   "metadata": {},
   "outputs": [],
   "source": []
  }
 ],
 "metadata": {
  "kernelspec": {
   "display_name": "Python 3",
   "language": "python",
   "name": "python3"
  },
  "language_info": {
   "codemirror_mode": {
    "name": "ipython",
    "version": 3
   },
   "file_extension": ".py",
   "mimetype": "text/x-python",
   "name": "python",
   "nbconvert_exporter": "python",
   "pygments_lexer": "ipython3",
   "version": "3.7.3"
  }
 },
 "nbformat": 4,
 "nbformat_minor": 2
}
