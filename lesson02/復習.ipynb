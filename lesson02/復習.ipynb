{
 "cells": [
  {
   "cell_type": "code",
   "execution_count": 3,
   "metadata": {},
   "outputs": [
    {
     "name": "stdout",
     "output_type": "stream",
     "text": [
      "現在のデータは[80, 60, 32, 58, 20]です。\n",
      "何番目のデータを変更しますか？(1~5)：5\n",
      "変更後のデータを入力してください：100\n",
      "5番目のデータ：20を変更します。\n",
      "5番目のデータは、100に変更されました。\n",
      "変更後のデータは[80, 60, 32, 58, 100]です\n"
     ]
    }
   ],
   "source": [
    "sale = [80, 60,32,58,20]\n",
    "print(f\"現在のデータは{sale}です。\")\n",
    "i = int(input(\"何番目のデータを変更しますか？(1~5)：\"))\n",
    "num = int(input(\"変更後のデータを入力してください：\"))\n",
    "print(f\"{i}番目のデータ：{sale[i-1]}を変更します。\")\n",
    "sale[i-1] = num \n",
    "print(f\"{i}番目のデータは、{sale[i-1]}に変更されました。\")\n",
    "print(f\"変更後のデータは{sale}です\")"
   ]
  },
  {
   "cell_type": "code",
   "execution_count": 7,
   "metadata": {},
   "outputs": [
    {
     "name": "stdout",
     "output_type": "stream",
     "text": [
      "現在のデータは[2, 4, 6, 8, 10]です\n",
      "\n",
      "末尾に追加する値を入力してください：100\n",
      "末尾に100を追加します\n",
      "追加後のデータは[2, 4, 6, 8, 10, 100]です\n",
      "\n",
      "挿入する位置を入力してください：1\n",
      "挿入するデータを入力してください：50\n",
      "1番目に50を挿入します\n",
      "挿入後のデータは[50, 2, 4, 6, 8, 10, 100]です\n"
     ]
    }
   ],
   "source": [
    "data = list(range(2,11, 2))\n",
    "print(f\"現在のデータは{data}です\\n\")\n",
    "\n",
    "a_num = int(input(\"末尾に追加する値を入力してください：\"))\n",
    "print(f\"末尾に{a_num}を追加します\")\n",
    "data.append(a_num)\n",
    "print(f\"追加後のデータは{data}です\\n\")\n",
    "\n",
    "i = int(input(\"挿入する位置を入力してください：\"))\n",
    "i_num = int(input(\"挿入するデータを入力してください：\"))\n",
    "print(f\"{i}番目に{i_num}を挿入します\")\n",
    "data.insert(i-1,i_num)\n",
    "print(f\"挿入後のデータは{data}です\")"
   ]
  },
  {
   "cell_type": "code",
   "execution_count": 10,
   "metadata": {},
   "outputs": [
    {
     "name": "stdout",
     "output_type": "stream",
     "text": [
      "現在のデータは[2, 4, 6, 8, 10]です\n",
      "\n",
      "削除したいデータの位置を入力してください：5\n",
      "5番目のデータを削除します\n",
      "現在のデータは[2, 4, 6, 8]です\n",
      "\n",
      "削除したいデータを入力してください：4\n",
      "[2, 4, 6, 8]の4を削除します\n",
      "削除後のデータは[2, 6, 8]です\n"
     ]
    }
   ],
   "source": [
    "data = list(range(2,11, 2))\n",
    "print(f\"現在のデータは{data}です\\n\")\n",
    "\n",
    "n = int(input(\"削除したいデータの位置を入力してください：\"))\n",
    "print(f\"{n}番目のデータを削除します\")\n",
    "del data[n-1]\n",
    "print(f\"現在のデータは{data}です\\n\")\n",
    "\n",
    "rn = int(input(\"削除したいデータを入力してください：\"))\n",
    "print(f\"{data}の{rn}を削除します\")\n",
    "data.remove(rn)\n",
    "print(f\"削除後のデータは{data}です\")"
   ]
  },
  {
   "cell_type": "code",
   "execution_count": 22,
   "metadata": {},
   "outputs": [
    {
     "name": "stdout",
     "output_type": "stream",
     "text": [
      "4423067528\n",
      "4423067528\n"
     ]
    },
    {
     "data": {
      "text/plain": [
       "True"
      ]
     },
     "execution_count": 22,
     "metadata": {},
     "output_type": "execute_result"
    }
   ],
   "source": [
    "data1 = [1,2,3]\n",
    "data2 = data1\n",
    "print(id(data1))\n",
    "print(id(data2))\n",
    "data1 is data2"
   ]
  },
  {
   "cell_type": "code",
   "execution_count": 27,
   "metadata": {},
   "outputs": [
    {
     "name": "stdout",
     "output_type": "stream",
     "text": [
      "上半期のデータは[1, 2, 3, 4, 5, 6]です\n",
      "下半期のデータは[7, 8, 9, 10, 11, 12]です\n",
      "年間データは[1, 2, 3, 4, 5, 6, 7, 8, 9, 10, 11, 12]です\n"
     ]
    },
    {
     "data": {
      "text/plain": [
       "[1, 2, 3, 4, 5, 6, 7, 8, 9, 10, 11, 12]"
      ]
     },
     "execution_count": 27,
     "metadata": {},
     "output_type": "execute_result"
    }
   ],
   "source": [
    "data1 = [1,2,3,4,5,6]\n",
    "data2 = [7,8,9,10,11,12]\n",
    "print(f\"上半期のデータは{data1}です\")\n",
    "print(f\"下半期のデータは{data2}です\")\n",
    "ydata = data1 + data2\n",
    "print(f\"年間データは{ydata}です\")\n",
    "# data1.extend(data2)\n",
    "data1 += data2\n",
    "data1"
   ]
  },
  {
   "cell_type": "code",
   "execution_count": 35,
   "metadata": {},
   "outputs": [
    {
     "data": {
      "text/plain": [
       "[12, 11, 10, 9, 8, 7, 6, 5, 4, 3, 2, 1]"
      ]
     },
     "execution_count": 35,
     "metadata": {},
     "output_type": "execute_result"
    }
   ],
   "source": [
    "ydata[:6]\n",
    "ydata[6:]\n",
    "ydata[::2]\n",
    "ydata[::-2]\n",
    "ydata[::-1]"
   ]
  },
  {
   "cell_type": "code",
   "execution_count": 45,
   "metadata": {},
   "outputs": [
    {
     "name": "stdout",
     "output_type": "stream",
     "text": [
      "12\n",
      "11\n",
      "10\n",
      "9\n",
      "8\n",
      "7\n",
      "6\n",
      "5\n",
      "4\n",
      "3\n",
      "2\n",
      "1\n",
      "[1, 2, 3, 4, 5, 6, 7, 8, 9, 10, 11, 12]\n",
      "[12, 11, 10, 9, 8, 7, 6, 5, 4, 3, 2, 1]\n"
     ]
    }
   ],
   "source": [
    "ydata = [1,2,3,4,5,6,7,8,9,10,11,12]\n",
    "# ydata[:6] = [0,0,0,0,0,0]\n",
    "# ydata\n",
    "for i in reversed(ydata):\n",
    "    print(i)\n",
    "# print(f\"{reversed(ydata)}\")\n",
    "print(ydata)\n",
    "ydata.reverse()\n",
    "print(ydata)"
   ]
  },
  {
   "cell_type": "code",
   "execution_count": 51,
   "metadata": {},
   "outputs": [
    {
     "name": "stdout",
     "output_type": "stream",
     "text": [
      "('tokyo', 50)\n",
      "('osaka', 80)\n",
      "('nagoya', 20)\n",
      "('kyoto', 30)\n",
      "\n",
      "(1, 'tokyo')\n",
      "(2, 'osaka')\n",
      "(3, 'nagoya')\n",
      "(4, 'kyoto')\n"
     ]
    }
   ],
   "source": [
    "data1 = [\"tokyo\",\"osaka\",\"nagoya\",\"kyoto\"]\n",
    "data2 = [50,80,20,30]\n",
    "for sale in zip(data1, data2): \n",
    "    print(sale)\n",
    "\n",
    "print()\n",
    "for sale in enumerate(data1, 1):\n",
    "    print(sale)"
   ]
  },
  {
   "cell_type": "code",
   "execution_count": 53,
   "metadata": {},
   "outputs": [
    {
     "name": "stdout",
     "output_type": "stream",
     "text": [
      "tokyoの売り上げは50です\n",
      "osakaの売り上げは80です\n",
      "nagoyaの売り上げは20です\n",
      "kyotoの売り上げは30です\n"
     ]
    }
   ],
   "source": [
    "data1 = [\"tokyo\",\"osaka\",\"nagoya\",\"kyoto\"]\n",
    "data2 = [50,80,20,30]\n",
    "for k,v in zip(data1, data2):\n",
    "    print(f\"{k}の売り上げは{v}です\")"
   ]
  },
  {
   "cell_type": "code",
   "execution_count": 56,
   "metadata": {},
   "outputs": [
    {
     "data": {
      "text/plain": [
       "3"
      ]
     },
     "execution_count": 56,
     "metadata": {},
     "output_type": "execute_result"
    }
   ],
   "source": [
    "a,b,c = 1,2,3 \n",
    "a\n",
    "b\n",
    "c"
   ]
  },
  {
   "cell_type": "code",
   "execution_count": 59,
   "metadata": {},
   "outputs": [
    {
     "data": {
      "text/plain": [
       "3"
      ]
     },
     "execution_count": 59,
     "metadata": {},
     "output_type": "execute_result"
    }
   ],
   "source": [
    "data = [1,2,3]\n",
    "a,b,c = data\n",
    "a\n",
    "b\n",
    "c"
   ]
  },
  {
   "cell_type": "code",
   "execution_count": 61,
   "metadata": {},
   "outputs": [
    {
     "name": "stdout",
     "output_type": "stream",
     "text": [
      "2\n",
      "4\n",
      "6\n"
     ]
    }
   ],
   "source": [
    "data = [1,2,3]\n",
    "for num in [num*2 for num in data ]:\n",
    "    print(num)"
   ]
  },
  {
   "cell_type": "code",
   "execution_count": 64,
   "metadata": {},
   "outputs": [
    {
     "data": {
      "text/plain": [
       "[4, 16, 36, 64, 100]"
      ]
     },
     "execution_count": 64,
     "metadata": {},
     "output_type": "execute_result"
    }
   ],
   "source": [
    "data = [1,2,3,4,5,6,7,8,9,10]\n",
    "data2 = [num**2 for num in data if num%2==0]\n",
    "data2"
   ]
  },
  {
   "cell_type": "code",
   "execution_count": 65,
   "metadata": {},
   "outputs": [
    {
     "name": "stdout",
     "output_type": "stream",
     "text": [
      "min34\n",
      "max287\n",
      "sum615\n",
      "sort[34, 59, 60, 86, 89, 287]\n",
      "r_sort[287, 89, 86, 60, 59, 34]\n"
     ]
    }
   ],
   "source": [
    "data = [60,89,34,287,59,86]\n",
    "print(f\"min{min(data)}\")\n",
    "print(f\"max{max(data)}\")\n",
    "print(f\"sum{sum(data)}\")\n",
    "print(f\"sort{sorted(data)}\")\n",
    "print(f\"r_sort{sorted(data, reverse=True)}\")"
   ]
  },
  {
   "cell_type": "code",
   "execution_count": 66,
   "metadata": {},
   "outputs": [
    {
     "name": "stdout",
     "output_type": "stream",
     "text": [
      "都市名：tokyo、最高気温：30、最低気温：20\n",
      "都市名：osaka、最高気温：35、最低気温：25\n",
      "都市名：kyoto、最高気温：33、最低気温：23\n"
     ]
    }
   ],
   "source": [
    "data = [\n",
    "    [\"tokyo\",30,20],\n",
    "    [\"osaka\",35,25],\n",
    "    [\"kyoto\",33,23]\n",
    "]\n",
    "\n",
    "for c,h,r in data : \n",
    "    print(f\"都市名：{c}、最高気温：{h}、最低気温：{r}\")"
   ]
  },
  {
   "cell_type": "code",
   "execution_count": 72,
   "metadata": {},
   "outputs": [
    {
     "name": "stdout",
     "output_type": "stream",
     "text": [
      "編集したいkeyを入力:osaka\n",
      "編集すすvalを入力:20\n",
      "編集しました{'tokyo': 100, 'osaka': 20, 'kyoto': 90}\n"
     ]
    }
   ],
   "source": [
    "data = {\"tokyo\":100,\"osaka\":130,\"kyoto\":90,}\n",
    "# print(data[\"tokyo\"])\n",
    "key = input(\"編集したいkeyを入力:\")\n",
    "val = int(input(\"編集すすvalを入力:\"))\n",
    "if key in data : \n",
    "    data[key] = val\n",
    "    print(f\"編集しました{data}\")\n",
    "else:  \n",
    "    print(\"key is nothing\")"
   ]
  },
  {
   "cell_type": "code",
   "execution_count": 5,
   "metadata": {},
   "outputs": [
    {
     "name": "stdout",
     "output_type": "stream",
     "text": [
      "tokyo osaka kyoto 100 130 90 "
     ]
    },
    {
     "ename": "TypeError",
     "evalue": "'int' object is not iterable",
     "output_type": "error",
     "traceback": [
      "\u001b[0;31m---------------------------------------------------------------------------\u001b[0m",
      "\u001b[0;31mTypeError\u001b[0m                                 Traceback (most recent call last)",
      "\u001b[0;32m<ipython-input-5-5978cbf5e7e4>\u001b[0m in \u001b[0;36m<module>\u001b[0;34m\u001b[0m\n\u001b[1;32m      5\u001b[0m \u001b[0;32mfor\u001b[0m \u001b[0mv\u001b[0m \u001b[0;32min\u001b[0m \u001b[0mdata\u001b[0m\u001b[0;34m.\u001b[0m\u001b[0mvalues\u001b[0m\u001b[0;34m(\u001b[0m\u001b[0;34m)\u001b[0m\u001b[0;34m:\u001b[0m\u001b[0;34m\u001b[0m\u001b[0;34m\u001b[0m\u001b[0m\n\u001b[1;32m      6\u001b[0m     \u001b[0mprint\u001b[0m\u001b[0;34m(\u001b[0m\u001b[0mv\u001b[0m\u001b[0;34m,\u001b[0m \u001b[0mend\u001b[0m\u001b[0;34m=\u001b[0m\u001b[0;34m\" \"\u001b[0m\u001b[0;34m)\u001b[0m\u001b[0;34m\u001b[0m\u001b[0;34m\u001b[0m\u001b[0m\n\u001b[0;32m----> 7\u001b[0;31m \u001b[0mprint\u001b[0m\u001b[0;34m(\u001b[0m\u001b[0mmax\u001b[0m\u001b[0;34m(\u001b[0m\u001b[0mv\u001b[0m\u001b[0;34m)\u001b[0m\u001b[0;34m)\u001b[0m\u001b[0;34m\u001b[0m\u001b[0;34m\u001b[0m\u001b[0m\n\u001b[0m\u001b[1;32m      8\u001b[0m \u001b[0;34m\u001b[0m\u001b[0m\n\u001b[1;32m      9\u001b[0m \u001b[0;32mfor\u001b[0m \u001b[0mk\u001b[0m\u001b[0;34m,\u001b[0m \u001b[0mv\u001b[0m \u001b[0;32min\u001b[0m \u001b[0mdata\u001b[0m\u001b[0;34m.\u001b[0m\u001b[0mitems\u001b[0m\u001b[0;34m(\u001b[0m\u001b[0;34m)\u001b[0m\u001b[0;34m:\u001b[0m\u001b[0;34m\u001b[0m\u001b[0;34m\u001b[0m\u001b[0m\n",
      "\u001b[0;31mTypeError\u001b[0m: 'int' object is not iterable"
     ]
    }
   ],
   "source": [
    "data = {\"tokyo\":100,\"osaka\":130,\"kyoto\":90}\n",
    "for k in data.keys():\n",
    "    print(k, end=\" \")\n",
    "    \n",
    "for v in data.values():\n",
    "    print(v, end=\" \")\n",
    "# print(max(v))\n",
    "    \n",
    "for k, v in data.items(): \n",
    "    print(kv, end=\" \")\n",
    "    \n"
   ]
  },
  {
   "cell_type": "code",
   "execution_count": 2,
   "metadata": {},
   "outputs": [
    {
     "name": "stdout",
     "output_type": "stream",
     "text": [
      "{'tokyo': 100, 'osaka': 130, 'kyoto': 60, 'okinawa': 80, 'nagoya': 70}\n"
     ]
    }
   ],
   "source": [
    "data1 = {\"tokyo\":100,\"osaka\":130,\"kyoto\":90}\n",
    "data2 = {\"okinawa\":80,\"nagoya\":70,\"kyoto\":60}\n",
    "data1.update(data2)\n",
    "print(data1)"
   ]
  },
  {
   "cell_type": "code",
   "execution_count": 16,
   "metadata": {
    "scrolled": true
   },
   "outputs": [
    {
     "name": "stdout",
     "output_type": "stream",
     "text": [
      "0('tokyo', 100)\n",
      "1('osaka', 130)\n",
      "2('kyoto', 90)\n"
     ]
    }
   ],
   "source": [
    "data = {\"tokyo\":100,\"osaka\":130,\"kyoto\":90}\n",
    "for k,v in enumerate(data.items()):\n",
    "    print(f\"{k}{v}\")\n"
   ]
  },
  {
   "cell_type": "code",
   "execution_count": 23,
   "metadata": {},
   "outputs": [
    {
     "data": {
      "text/plain": [
       "{'kyoto', 'okinawa', 'tokyo'}"
      ]
     },
     "execution_count": 23,
     "metadata": {},
     "output_type": "execute_result"
    }
   ],
   "source": [
    "data =  {\"tokyo\",\"osaka\",\"kyoto\"}\n",
    "data.add(\"okinawa\")\n",
    "data\n",
    "data.remove(\"osaka\")\n",
    "data\n"
   ]
  },
  {
   "cell_type": "code",
   "execution_count": 37,
   "metadata": {},
   "outputs": [
    {
     "data": {
      "text/plain": [
       "{'土', '日', '月', '木', '水', '火', '金'}"
      ]
     },
     "execution_count": 37,
     "metadata": {},
     "output_type": "execute_result"
    }
   ],
   "source": [
    "data1 = {\"日\",\"月\",\"火\",\"水\", \"月\"}\n",
    "data2 = {\"木\",\"金\",\"土\",\"金\"}\n",
    "data1 | data2\n"
   ]
  },
  {
   "cell_type": "code",
   "execution_count": 38,
   "metadata": {},
   "outputs": [
    {
     "data": {
      "text/plain": [
       "{'月', '金'}"
      ]
     },
     "execution_count": 38,
     "metadata": {},
     "output_type": "execute_result"
    }
   ],
   "source": [
    "data1 = {\"日\",\"月\",\"火\",\"水\", \"月\",\"金\"}\n",
    "data2 = {\"木\",\"金\",\"土\",\"金\",\"月\"}\n",
    "data1 & data2"
   ]
  },
  {
   "cell_type": "code",
   "execution_count": 34,
   "metadata": {},
   "outputs": [
    {
     "name": "stdout",
     "output_type": "stream",
     "text": [
      "{'火', '水', '日'}\n"
     ]
    }
   ],
   "source": [
    "data1 = {\"日\",\"月\",\"火\",\"水\", \"月\",\"金\"}\n",
    "data2 = {\"木\",\"金\",\"土\",\"金\",\"月\"}\n",
    "print(data1 - data2)"
   ]
  },
  {
   "cell_type": "code",
   "execution_count": 35,
   "metadata": {},
   "outputs": [
    {
     "name": "stdout",
     "output_type": "stream",
     "text": [
      "{'木', '土'}\n"
     ]
    }
   ],
   "source": [
    "data1 = {\"日\",\"月\",\"火\",\"水\", \"月\",\"金\"}\n",
    "data2 = {\"木\",\"金\",\"土\",\"金\",\"月\"}\n",
    "print(data2 - data1)"
   ]
  },
  {
   "cell_type": "code",
   "execution_count": 39,
   "metadata": {},
   "outputs": [
    {
     "data": {
      "text/plain": [
       "{'土', '日', '木', '水', '火'}"
      ]
     },
     "execution_count": 39,
     "metadata": {},
     "output_type": "execute_result"
    }
   ],
   "source": [
    "data1 = {\"日\",\"月\",\"火\",\"水\", \"月\",\"金\"}\n",
    "data2 = {\"木\",\"金\",\"土\",\"金\",\"月\"}\n",
    "data1 ^ data2"
   ]
  },
  {
   "cell_type": "code",
   "execution_count": 41,
   "metadata": {},
   "outputs": [
    {
     "data": {
      "text/plain": [
       "{'土', '日', '月', '木', '水', '火', '金'}"
      ]
     },
     "execution_count": 41,
     "metadata": {},
     "output_type": "execute_result"
    }
   ],
   "source": [
    "data1 = {\"日\",\"月\",\"火\",\"水\", \"月\",\"金\"}\n",
    "data2 = {\"木\",\"金\",\"土\",\"金\",\"月\"}\n",
    "data1.update(data2)\n",
    "data1"
   ]
  },
  {
   "cell_type": "code",
   "execution_count": null,
   "metadata": {},
   "outputs": [],
   "source": []
  }
 ],
 "metadata": {
  "kernelspec": {
   "display_name": "Python 3",
   "language": "python",
   "name": "python3"
  },
  "language_info": {
   "codemirror_mode": {
    "name": "ipython",
    "version": 3
   },
   "file_extension": ".py",
   "mimetype": "text/x-python",
   "name": "python",
   "nbconvert_exporter": "python",
   "pygments_lexer": "ipython3",
   "version": "3.7.3"
  }
 },
 "nbformat": 4,
 "nbformat_minor": 2
}
