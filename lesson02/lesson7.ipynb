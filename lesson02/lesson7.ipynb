{
 "cells": [
  {
   "cell_type": "markdown",
   "metadata": {},
   "source": [
    "# 関数（function）\n",
    "- 一定の処理をまとめて記述し、使いたい時だけ呼び出す仕組み"
   ]
  },
  {
   "cell_type": "code",
   "execution_count": 1,
   "metadata": {},
   "outputs": [],
   "source": [
    "# 関数定義\n",
    "\n",
    "def sample(): \n",
    "    #ブロック内に処理を記述\n",
    "    return # 戻り値"
   ]
  },
  {
   "cell_type": "code",
   "execution_count": 2,
   "metadata": {},
   "outputs": [],
   "source": [
    "#関数呼びだし\n",
    "\n",
    "sample()  # 関数名を記述するだけで呼び出せる。呼び出しはインデントしない"
   ]
  },
  {
   "cell_type": "code",
   "execution_count": 3,
   "metadata": {},
   "outputs": [
    {
     "name": "stdout",
     "output_type": "stream",
     "text": [
      "販売が行われました。\n"
     ]
    }
   ],
   "source": [
    "def sell():\n",
    "    print(\"販売が行われました。\")\n",
    "    \n",
    "sell()"
   ]
  },
  {
   "cell_type": "markdown",
   "metadata": {},
   "source": [
    "### フローチャート\n",
    "1. 関数を定義する\n",
    "2. 関数を呼び出す\n",
    "3. 関数内の処理が実行される\n",
    "4. 関数の処理結果が呼び出しもとに戻る\n"
   ]
  },
  {
   "cell_type": "code",
   "execution_count": 6,
   "metadata": {},
   "outputs": [
    {
     "name": "stdout",
     "output_type": "stream",
     "text": [
      "販売が行われました。\n",
      "\n",
      "もう一度、販売を行います。\n",
      "\n",
      "販売が行われました。\n"
     ]
    }
   ],
   "source": [
    "def sell():\n",
    "    print(\"販売が行われました。\")\n",
    "    \n",
    "sell()\n",
    "print()\n",
    "print(\"もう一度、販売を行います。\\n\")\n",
    "\n",
    "sell()"
   ]
  },
  {
   "cell_type": "markdown",
   "metadata": {},
   "source": [
    "関数を利用することで、複雑なコードをわかりやすくしたり、関数毎に名前があるので可読性の向上や、リファクタリングにもなる"
   ]
  },
  {
   "cell_type": "code",
   "execution_count": 7,
   "metadata": {},
   "outputs": [
    {
     "name": "stdout",
     "output_type": "stream",
     "text": [
      "東京支店の販売が行われました。\n",
      "大阪支店の販売が行われました。\n"
     ]
    }
   ],
   "source": [
    "def sell(place):\n",
    "    print(f\"{place}支店の販売が行われました。\")\n",
    "    \n",
    "sell(\"東京\")\n",
    "sell(\"大阪\")"
   ]
  },
  {
   "cell_type": "code",
   "execution_count": 8,
   "metadata": {},
   "outputs": [
    {
     "name": "stdout",
     "output_type": "stream",
     "text": [
      "東京支店の販売が行われました。\n"
     ]
    }
   ],
   "source": [
    "def sell(place):\n",
    "    print(f\"{place}支店の販売が行われました。\")\n",
    "\n",
    "shop = \"東京\"\n",
    "sell(shop)"
   ]
  },
  {
   "cell_type": "code",
   "execution_count": 9,
   "metadata": {},
   "outputs": [
    {
     "name": "stdout",
     "output_type": "stream",
     "text": [
      "東京支店で5万円の販売が行われました。\n"
     ]
    }
   ],
   "source": [
    "def sell(place, num): \n",
    "    print(f\"{place}支店で{num}万円の販売が行われました。\")\n",
    "    \n",
    "sell(\"東京\", 5)"
   ]
  },
  {
   "cell_type": "code",
   "execution_count": 14,
   "metadata": {},
   "outputs": [
    {
     "name": "stdout",
     "output_type": "stream",
     "text": [
      "(1, 2, 3, 4, 5)\n"
     ]
    }
   ],
   "source": [
    "def sell(*args): \n",
    "    print(args)\n",
    "    \n",
    "sell(1,2,3,4,5)"
   ]
  },
  {
   "cell_type": "code",
   "execution_count": 15,
   "metadata": {},
   "outputs": [
    {
     "name": "stdout",
     "output_type": "stream",
     "text": [
      "1 2 3 5 10\n"
     ]
    }
   ],
   "source": [
    "def func(a, b, c, d=5, e=10):\n",
    "    print(a,b,c,d,e)\n",
    "    \n",
    "func(1,2,3)"
   ]
  },
  {
   "cell_type": "code",
   "execution_count": 17,
   "metadata": {},
   "outputs": [
    {
     "name": "stdout",
     "output_type": "stream",
     "text": [
      "1 2 10\n"
     ]
    }
   ],
   "source": [
    "def func(a, b, c):\n",
    "    print(a,b,c)\n",
    "    \n",
    "func(1,2,c=10)"
   ]
  },
  {
   "cell_type": "code",
   "execution_count": 18,
   "metadata": {},
   "outputs": [
    {
     "name": "stdout",
     "output_type": "stream",
     "text": [
      "{'a': 1, 'b': 2, 'c': 3}\n"
     ]
    }
   ],
   "source": [
    "def func(**args):\n",
    "    print(args)\n",
    "    \n",
    "func(a=1, b=2, c=3)"
   ]
  },
  {
   "cell_type": "code",
   "execution_count": 20,
   "metadata": {},
   "outputs": [
    {
     "name": "stdout",
     "output_type": "stream",
     "text": [
      "東京支店で、5社に100万円の販売が行われました。\n",
      "売り上げは500万円でした。\n"
     ]
    }
   ],
   "source": [
    "def sell(place, price, num) :\n",
    "    print(f\"{place}支店で、{num}社に{price}万円の販売が行われました。\")\n",
    "    tt = price * num \n",
    "    return tt \n",
    "\n",
    "total = sell(\"東京\", 100, 5)\n",
    "print(f\"売り上げは{total}万円でした。\")"
   ]
  },
  {
   "cell_type": "code",
   "execution_count": 21,
   "metadata": {},
   "outputs": [
    {
     "name": "stdout",
     "output_type": "stream",
     "text": [
      "東京支店で、5社に100万円の販売が行われました。\n"
     ]
    },
    {
     "data": {
      "text/plain": [
       "500"
      ]
     },
     "execution_count": 21,
     "metadata": {},
     "output_type": "execute_result"
    }
   ],
   "source": [
    "def sell(place, price, num) :\n",
    "    print(f\"{place}支店で、{num}社に{price}万円の販売が行われました。\")\n",
    "    tt = price * num \n",
    "    return tt \n",
    "\n",
    "sell(\"東京\", 100, 5)\n",
    "# print(f\"売り上げは{total}万円でした。\")"
   ]
  },
  {
   "cell_type": "code",
   "execution_count": 23,
   "metadata": {},
   "outputs": [
    {
     "name": "stdout",
     "output_type": "stream",
     "text": [
      "販売が行われました。\n"
     ]
    }
   ],
   "source": [
    "def sell():\n",
    "    print(\"販売が行われました。\")\n",
    "#     return \n",
    "\n",
    "sell()"
   ]
  },
  {
   "cell_type": "code",
   "execution_count": 25,
   "metadata": {},
   "outputs": [
    {
     "name": "stdout",
     "output_type": "stream",
     "text": [
      "2018年10月1日に販売が行われました。\n",
      "販売終了：2018 10 1\n"
     ]
    }
   ],
   "source": [
    "def sell():\n",
    "    y = 2018\n",
    "    m = 10 \n",
    "    d = 1\n",
    "    print(f\"{y}年{m}月{d}日に販売が行われました。\")\n",
    "    return y, m, d\n",
    "\n",
    "sy, sm, sd = sell()\n",
    "print(f\"販売終了：{sy} {sm} {sd}\")\n"
   ]
  },
  {
   "cell_type": "code",
   "execution_count": 4,
   "metadata": {},
   "outputs": [
    {
     "name": "stdout",
     "output_type": "stream",
     "text": [
      "操作番号を入力してください（０〜２）2\n",
      "データを削除します\n"
     ]
    }
   ],
   "source": [
    "def append():\n",
    "    print(\"データを追加します\")\n",
    "def update():\n",
    "    print(\"データを変更します\")\n",
    "def delete():\n",
    "    print(\"データを削除します\")\n",
    "    \n",
    "list = [append, update, delete]\n",
    "res = int(input(\"操作番号を入力してください（０〜２）\"))\n",
    "if 0 <= res and res < len(list):\n",
    "    list[res]()"
   ]
  },
  {
   "cell_type": "code",
   "execution_count": 24,
   "metadata": {},
   "outputs": [
    {
     "name": "stdout",
     "output_type": "stream",
     "text": [
      "1:追加\n",
      "2:変更\n",
      "3:削除\n",
      "操作番号を入力してください(1~3):3\n"
     ]
    }
   ],
   "source": [
    "def append(a):\n",
    "    print(f\"{a}のデータを追加します\")\n",
    "def update(b):\n",
    "    print(f\"{b}のデータを変更します\")\n",
    "def delete(c):\n",
    "    print(f\"{c}のデータを削除します\")\n",
    "    \n",
    "list = [append, update, delete] \n",
    "print(\"1:追加\")\n",
    "print(\"2:変更\")\n",
    "print(\"3:削除\")\n",
    "res = int(input(\"操作番号を入力してください(1~3):\"))\n",
    "if 0 <= res < len(list):\n",
    "    list[res-1](\"東京\")"
   ]
  },
  {
   "cell_type": "code",
   "execution_count": 25,
   "metadata": {},
   "outputs": [
    {
     "name": "stdout",
     "output_type": "stream",
     "text": [
      "2\n",
      "4\n",
      "6\n",
      "8\n",
      "10\n"
     ]
    }
   ],
   "source": [
    "data = [1,2,3,4,5]\n",
    "for d in map(lambda x: x*2, data) :\n",
    "    print(d)"
   ]
  },
  {
   "cell_type": "code",
   "execution_count": 26,
   "metadata": {},
   "outputs": [
    {
     "name": "stdout",
     "output_type": "stream",
     "text": [
      "4\n",
      "8\n",
      "12\n",
      "16\n",
      "20\n"
     ]
    }
   ],
   "source": [
    "data = [2,4,6,8,10]\n",
    "for d in [x*2 for x in data]:\n",
    "    print(d)"
   ]
  },
  {
   "cell_type": "code",
   "execution_count": 28,
   "metadata": {},
   "outputs": [
    {
     "name": "stdout",
     "output_type": "stream",
     "text": [
      "メッセージを入力してくださいhell\n",
      "--- hell ---を入力しました。\n"
     ]
    }
   ],
   "source": [
    "def deco(func):\n",
    "    def wrapper(x):\n",
    "        wx = \"--- \" + x + \" ---\"\n",
    "        return func(wx)\n",
    "    return wrapper \n",
    "\n",
    "@deco \n",
    "def printmsg(x):\n",
    "    print(f\"{x}を入力しました。\")\n",
    "\n",
    "str = input(\"メッセージを入力してください\")\n",
    "printmsg(str)"
   ]
  },
  {
   "cell_type": "markdown",
   "metadata": {},
   "source": [
    "\n",
    "\n",
    "#### 関数の高度なトピック\n",
    "1. 関数の代入\n",
    " - 変数に代入\n",
    " - 変数名＝関数名\n",
    " -　呼び出しは変数名に「（）」をつける　-> 変数名（） \n",
    "2. リストに代入\n",
    "3. 「lambda 引数：　式」　ラムダで簡単な関数を作成（無名関数）\n",
    "4. @deco デコレーターで関数に機能を追加する\n",
    "5. ジェネレーター 定義によるイテレータの取得"
   ]
  },
  {
   "cell_type": "code",
   "execution_count": 32,
   "metadata": {},
   "outputs": [
    {
     "name": "stdout",
     "output_type": "stream",
     "text": [
      "関数の外でも変数aが使えます。\n",
      "変数aの値は0です。\n",
      "funcBの中では変数aと変数bが使えます\n",
      "変数aの値は0です。\n",
      "変数bの値は1です。\n",
      "funcCの中では変数aと変数cが使えます\n",
      "変数aの値は0です。\n",
      "変数cの値は2です。\n"
     ]
    }
   ],
   "source": [
    "a = 0\n",
    "\n",
    "def funcB():\n",
    "    b = 1 \n",
    "    print(\"funcBの中では変数aと変数bが使えます\")\n",
    "    print(f\"変数aの値は{a}です。\")\n",
    "    print(f\"変数bの値は{b}です。\")\n",
    "#     print(f\"変数cの値は{c}です。\")\n",
    "    \n",
    "def funcC():\n",
    "    c = 2 \n",
    "    print(\"funcCの中では変数aと変数cが使えます\")\n",
    "    print(f\"変数aの値は{a}です。\")\n",
    "#     print(f\"変数bの値は{b}です。\")\n",
    "    print(f\"変数cの値は{c}です。\")\n",
    "\n",
    "print(\"関数の外でも変数aが使えます。\")\n",
    "print(f\"変数aの値は{a}です。\")\n",
    "# print(f\"変数bの値は{b}です。\")\n",
    "# print(f\"変数cの値は{c}です。\")\n",
    "\n",
    "funcB()\n",
    "funcC()\n",
    "    "
   ]
  },
  {
   "cell_type": "code",
   "execution_count": 36,
   "metadata": {},
   "outputs": [
    {
     "name": "stdout",
     "output_type": "stream",
     "text": [
      "関数の外でも変数aが使えます。\n",
      "変数aの値は0です。\n"
     ]
    },
    {
     "ename": "NameError",
     "evalue": "name 'b' is not defined",
     "output_type": "error",
     "traceback": [
      "\u001b[0;31m---------------------------------------------------------------------------\u001b[0m",
      "\u001b[0;31mNameError\u001b[0m                                 Traceback (most recent call last)",
      "\u001b[0;32m<ipython-input-36-c43eefa4da54>\u001b[0m in \u001b[0;36m<module>\u001b[0;34m\u001b[0m\n\u001b[1;32m     19\u001b[0m \u001b[0mprint\u001b[0m\u001b[0;34m(\u001b[0m\u001b[0;34m\"関数の外でも変数aが使えます。\"\u001b[0m\u001b[0;34m)\u001b[0m\u001b[0;34m\u001b[0m\u001b[0;34m\u001b[0m\u001b[0m\n\u001b[1;32m     20\u001b[0m \u001b[0mprint\u001b[0m\u001b[0;34m(\u001b[0m\u001b[0;34mf\"変数aの値は{a}です。\"\u001b[0m\u001b[0;34m)\u001b[0m\u001b[0;34m\u001b[0m\u001b[0;34m\u001b[0m\u001b[0m\n\u001b[0;32m---> 21\u001b[0;31m \u001b[0mprint\u001b[0m\u001b[0;34m(\u001b[0m\u001b[0;34mf\"変数bの値は{b}です。\"\u001b[0m\u001b[0;34m)\u001b[0m\u001b[0;34m\u001b[0m\u001b[0;34m\u001b[0m\u001b[0m\n\u001b[0m\u001b[1;32m     22\u001b[0m \u001b[0mprint\u001b[0m\u001b[0;34m(\u001b[0m\u001b[0;34mf\"変数cの値は{c}です。\"\u001b[0m\u001b[0;34m)\u001b[0m\u001b[0;34m\u001b[0m\u001b[0;34m\u001b[0m\u001b[0m\n\u001b[1;32m     23\u001b[0m \u001b[0;34m\u001b[0m\u001b[0m\n",
      "\u001b[0;31mNameError\u001b[0m: name 'b' is not defined"
     ]
    }
   ],
   "source": [
    "a = 0\n",
    "\n",
    "def funcB():\n",
    "    global b \n",
    "    b = 1\n",
    "    print(\"funcBの中では変数aと変数bが使えます\")\n",
    "    print(f\"変数aの値は{a}です。\")\n",
    "    print(f\"変数bの値は{b}です。\")\n",
    "    print(f\"変数cの値は{c}です。\")\n",
    "    \n",
    "def funcC():\n",
    "    global c\n",
    "    c = 2 \n",
    "    print(\"funcCの中では変数aと変数cが使えます\")\n",
    "    print(f\"変数aの値は{a}です。\")\n",
    "    print(f\"変数bの値は{b}です。\")\n",
    "    print(f\"変数cの値は{c}です。\")\n",
    "\n",
    "print(\"関数の外でも変数aが使えます。\")\n",
    "print(f\"変数aの値は{a}です。\")\n",
    "print(f\"変数bの値は{b}です。\")\n",
    "print(f\"変数cの値は{c}です。\")\n",
    "\n",
    "funcB()\n",
    "funcC()\n",
    "    "
   ]
  },
  {
   "cell_type": "code",
   "execution_count": 40,
   "metadata": {},
   "outputs": [
    {
     "name": "stdout",
     "output_type": "stream",
     "text": [
      "15\n",
      "['b']\n"
     ]
    }
   ],
   "source": [
    "a = 10\n",
    "def func():\n",
    "#     global b\n",
    "    b = 5\n",
    "    print(a + b)\n",
    "    print(dir())\n",
    "    \n",
    "func()\n",
    "# print(a)\n",
    "# print(b)"
   ]
  },
  {
   "cell_type": "markdown",
   "metadata": {},
   "source": [
    "### 変数の記憶寿命\n",
    "- グローバル変数はプログラムファイルの処理終了時にメモリが解放される\n",
    "- ローカル変数は定義してある関数の処理が終了したらメモリが解放される"
   ]
  },
  {
   "cell_type": "code",
   "execution_count": 43,
   "metadata": {},
   "outputs": [
    {
     "name": "stdout",
     "output_type": "stream",
     "text": [
      "変数aは0、変数bは0\n",
      "変数aは1、変数bは0\n",
      "変数aは2、変数bは0\n",
      "変数aは3、変数bは0\n",
      "変数aは4、変数bは0\n"
     ]
    }
   ],
   "source": [
    "a = 0 \n",
    "def func():\n",
    "    global a \n",
    "    b = 0 \n",
    "#     b += 1\n",
    "    print(f\"変数aは{a}、変数bは{b}\")\n",
    "    \n",
    "    a += 1 \n",
    "    b += 1\n",
    "    \n",
    "for i in range(5): \n",
    "    func()"
   ]
  },
  {
   "cell_type": "code",
   "execution_count": 45,
   "metadata": {},
   "outputs": [
    {
     "name": "stdout",
     "output_type": "stream",
     "text": [
      "個数を入力してください5\n",
      "*****\n"
     ]
    }
   ],
   "source": [
    "def rpast(num):\n",
    "    print(\"*\" * num)\n",
    "    \n",
    "num = int(input(\"個数を入力してください\"))\n",
    "rpast(num)\n"
   ]
  },
  {
   "cell_type": "code",
   "execution_count": 46,
   "metadata": {},
   "outputs": [
    {
     "name": "stdout",
     "output_type": "stream",
     "text": [
      "文字列を入力してください。：hi\n",
      "個数を入力してください。：5\n",
      "文字列あり----\n",
      "hi\n",
      "文字列なし----\n",
      "*****\n"
     ]
    }
   ],
   "source": [
    "def rpstr(num, str=\"*\"):\n",
    "    \n",
    "    print(f\"文字列あり----\\n{st}\")\n",
    "    result = \"*\" * num\n",
    "    print(f\"文字列なし----\\n{result}\")\n",
    " \n",
    "st = input(\"文字列を入力してください。：\")\n",
    "num = int(input(\"個数を入力してください。：\"))\n",
    "rpstr(num, st)"
   ]
  },
  {
   "cell_type": "code",
   "execution_count": 64,
   "metadata": {},
   "outputs": [
    {
     "name": "stdout",
     "output_type": "stream",
     "text": [
      "文字列を入力してください。：hello.\n",
      "個数を入力してください。：3\n",
      "文字列ありーーー\n",
      "hello.hello.hello.\n",
      "文字列なしーーー\n",
      "***\n"
     ]
    }
   ],
   "source": [
    "def rpstr(num, str=\"*\"):\n",
    "    print(str  * num) \n",
    "    \n",
    "s = input(\"文字列を入力してください。：\")\n",
    "n = int(input(\"個数を入力してください。：\"))\n",
    "\n",
    "print(\"文字列ありーーー\")\n",
    "rpstr(n,s)\n",
    "print(\"文字列なしーーー\")\n",
    "rpstr(n)"
   ]
  },
  {
   "cell_type": "code",
   "execution_count": 50,
   "metadata": {},
   "outputs": [
    {
     "name": "stdout",
     "output_type": "stream",
     "text": [
      "開始値（整数）を入力してください。：1\n",
      "停止値（整数）を入力してください。：5\n",
      "1\n",
      "2\n",
      "3\n",
      "4\n"
     ]
    }
   ],
   "source": [
    "def number(snum, enum):\n",
    "    for i in range(snum,enum):\n",
    "        print(i)\n",
    "        \n",
    "snum = int(input(\"開始値（整数）を入力してください。：\"))\n",
    "enum = int(input(\"停止値（整数）を入力してください。：\"))\n",
    "number(snum, enum)\n",
    "    "
   ]
  },
  {
   "cell_type": "code",
   "execution_count": 51,
   "metadata": {},
   "outputs": [
    {
     "name": "stdout",
     "output_type": "stream",
     "text": [
      "開始値（整数）を入力してください。：1\n",
      "停止値（整数）を入力してください。：10\n",
      "1\n",
      "2\n",
      "3\n",
      "4\n",
      "5\n",
      "6\n",
      "7\n",
      "8\n",
      "9\n"
     ]
    }
   ],
   "source": [
    "def makex(x):\n",
    "    while True :\n",
    "        yield x \n",
    "        x += 1\n",
    "\n",
    "start = int(input(\"開始値（整数）を入力してください。：\"))\n",
    "stop = int(input(\"停止値（整数）を入力してください。：\"))\n",
    "\n",
    "for n in makex(start):\n",
    "    if n >= stop :\n",
    "        break \n",
    "    print(n)"
   ]
  },
  {
   "cell_type": "code",
   "execution_count": 56,
   "metadata": {},
   "outputs": [
    {
     "name": "stdout",
     "output_type": "stream",
     "text": [
      "開始値（整数）を入力してください。：1\n",
      "停止値（整数）を入力してください。：5\n",
      "1\n",
      "2\n",
      "3\n",
      "4\n",
      "5\n"
     ]
    }
   ],
   "source": [
    "def count(n):\n",
    "    while True:\n",
    "        yield n \n",
    "        n += 1 \n",
    "        \n",
    "sn = int(input(\"開始値（整数）を入力してください。：\"))\n",
    "en = int(input(\"停止値（整数）を入力してください。：\"))\n",
    "\n",
    "for i in count(sn):\n",
    "    if i > en :\n",
    "        break \n",
    "    print(i)"
   ]
  },
  {
   "cell_type": "code",
   "execution_count": 57,
   "metadata": {},
   "outputs": [
    {
     "name": "stdout",
     "output_type": "stream",
     "text": [
      "開始値（整数）を入力してください：1\n",
      "停止値（整数）を入力してください：5\n",
      "1\n",
      "2\n",
      "3\n",
      "4\n"
     ]
    }
   ],
   "source": [
    "def count(n):\n",
    "    while True:\n",
    "        yield n \n",
    "        n += 1 \n",
    "\n",
    "sn = int(input(\"開始値（整数）を入力してください：\"))\n",
    "en = int(input(\"停止値（整数）を入力してください：\"))\n",
    "\n",
    "for i in count(sn):\n",
    "    if i >= en : \n",
    "        break \n",
    "    print(i)\n"
   ]
  },
  {
   "cell_type": "code",
   "execution_count": 59,
   "metadata": {},
   "outputs": [
    {
     "name": "stdout",
     "output_type": "stream",
     "text": [
      "終了位置（整数）を入力してください：5\n",
      "開始位置（整数）を入力してください：1\n",
      "5\n",
      "4\n",
      "3\n",
      "2\n",
      "1\n"
     ]
    }
   ],
   "source": [
    "def down(n):\n",
    "    while True :\n",
    "        yield n \n",
    "        n -= 1\n",
    "        \n",
    "sn = int(input(\"終了位置（整数）を入力してください：\"))\n",
    "en = int(input(\"開始位置（整数）を入力してください：\"))\n",
    "\n",
    "for i in down(sn) :\n",
    "    if i < en :\n",
    "        break \n",
    "    print(i)\n",
    "    "
   ]
  },
  {
   "cell_type": "code",
   "execution_count": 60,
   "metadata": {},
   "outputs": [
    {
     "name": "stdout",
     "output_type": "stream",
     "text": [
      "個数を入力してください。：10\n",
      "**********\n"
     ]
    }
   ],
   "source": [
    "def star(num):\n",
    "    print(\"*\" * num) \n",
    "    \n",
    "num = int(input(\"個数を入力してください。：\"))\n",
    "star(num)"
   ]
  },
  {
   "cell_type": "code",
   "execution_count": 66,
   "metadata": {},
   "outputs": [
    {
     "name": "stdout",
     "output_type": "stream",
     "text": [
      "文字列を入力してください：ddd\n",
      "個数を入力してください：5\n",
      "文字列ありーーー\n",
      "ddddddddddddddd\n",
      "文字列なしーーー\n",
      "@@@@@\n"
     ]
    }
   ],
   "source": [
    "def rpstr(num, str=\"@\"):\n",
    "    print(str * num)  \n",
    "    \n",
    "str = input(\"文字列を入力してください：\")\n",
    "num = int(input(\"個数を入力してください：\"))\n",
    "    \n",
    "print(\"文字列ありーーー\")\n",
    "rpstr(str,num)\n",
    "print(\"文字列なしーーー\")\n",
    "rpstr(num)\n"
   ]
  },
  {
   "cell_type": "code",
   "execution_count": null,
   "metadata": {},
   "outputs": [],
   "source": []
  }
 ],
 "metadata": {
  "kernelspec": {
   "display_name": "Python 3",
   "language": "python",
   "name": "python3"
  },
  "language_info": {
   "codemirror_mode": {
    "name": "ipython",
    "version": 3
   },
   "file_extension": ".py",
   "mimetype": "text/x-python",
   "name": "python",
   "nbconvert_exporter": "python",
   "pygments_lexer": "ipython3",
   "version": "3.7.3"
  }
 },
 "nbformat": 4,
 "nbformat_minor": 2
}
