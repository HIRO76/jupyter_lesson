{
 "cells": [
  {
   "cell_type": "markdown",
   "metadata": {},
   "source": [
    "# 関数（function）\n",
    "- 一定の処理をまとめて記述し、使いたい時だけ呼び出す仕組み"
   ]
  },
  {
   "cell_type": "code",
   "execution_count": 1,
   "metadata": {},
   "outputs": [],
   "source": [
    "# 関数定義\n",
    "\n",
    "def sample(): \n",
    "    #ブロック内に処理を記述\n",
    "    return # 戻り値"
   ]
  },
  {
   "cell_type": "code",
   "execution_count": 2,
   "metadata": {},
   "outputs": [],
   "source": [
    "#関数呼びだし\n",
    "\n",
    "sample()  # 関数名を記述するだけで呼び出せる。呼び出しはインデントしない"
   ]
  },
  {
   "cell_type": "code",
   "execution_count": 3,
   "metadata": {},
   "outputs": [
    {
     "name": "stdout",
     "output_type": "stream",
     "text": [
      "販売が行われました。\n"
     ]
    }
   ],
   "source": [
    "def sell():\n",
    "    print(\"販売が行われました。\")\n",
    "    \n",
    "sell()"
   ]
  },
  {
   "cell_type": "markdown",
   "metadata": {},
   "source": [
    "### フローチャート\n",
    "1. 関数を定義する\n",
    "2. 関数を呼び出す\n",
    "3. 関数内の処理が実行される\n",
    "4. 関数の処理結果が呼び出しもとに戻る\n"
   ]
  },
  {
   "cell_type": "code",
   "execution_count": 6,
   "metadata": {},
   "outputs": [
    {
     "name": "stdout",
     "output_type": "stream",
     "text": [
      "販売が行われました。\n",
      "\n",
      "もう一度、販売を行います。\n",
      "\n",
      "販売が行われました。\n"
     ]
    }
   ],
   "source": [
    "def sell():\n",
    "    print(\"販売が行われました。\")\n",
    "    \n",
    "sell()\n",
    "print()\n",
    "print(\"もう一度、販売を行います。\\n\")\n",
    "\n",
    "sell()"
   ]
  },
  {
   "cell_type": "markdown",
   "metadata": {},
   "source": [
    "関数を利用することで、複雑なコードをわかりやすくしたり、関数毎に名前があるので可読性の向上や、リファクタリングにもなる"
   ]
  },
  {
   "cell_type": "code",
   "execution_count": 7,
   "metadata": {},
   "outputs": [
    {
     "name": "stdout",
     "output_type": "stream",
     "text": [
      "東京支店の販売が行われました。\n",
      "大阪支店の販売が行われました。\n"
     ]
    }
   ],
   "source": [
    "def sell(place):\n",
    "    print(f\"{place}支店の販売が行われました。\")\n",
    "    \n",
    "sell(\"東京\")\n",
    "sell(\"大阪\")"
   ]
  },
  {
   "cell_type": "code",
   "execution_count": 8,
   "metadata": {},
   "outputs": [
    {
     "name": "stdout",
     "output_type": "stream",
     "text": [
      "東京支店の販売が行われました。\n"
     ]
    }
   ],
   "source": [
    "def sell(place):\n",
    "    print(f\"{place}支店の販売が行われました。\")\n",
    "\n",
    "shop = \"東京\"\n",
    "sell(shop)"
   ]
  },
  {
   "cell_type": "code",
   "execution_count": 9,
   "metadata": {},
   "outputs": [
    {
     "name": "stdout",
     "output_type": "stream",
     "text": [
      "東京支店で5万円の販売が行われました。\n"
     ]
    }
   ],
   "source": [
    "def sell(place, num): \n",
    "    print(f\"{place}支店で{num}万円の販売が行われました。\")\n",
    "    \n",
    "sell(\"東京\", 5)"
   ]
  },
  {
   "cell_type": "code",
   "execution_count": 14,
   "metadata": {},
   "outputs": [
    {
     "name": "stdout",
     "output_type": "stream",
     "text": [
      "(1, 2, 3, 4, 5)\n"
     ]
    }
   ],
   "source": [
    "def sell(*args): \n",
    "    print(args)\n",
    "    \n",
    "sell(1,2,3,4,5)"
   ]
  },
  {
   "cell_type": "code",
   "execution_count": 15,
   "metadata": {},
   "outputs": [
    {
     "name": "stdout",
     "output_type": "stream",
     "text": [
      "1 2 3 5 10\n"
     ]
    }
   ],
   "source": [
    "def func(a, b, c, d=5, e=10):\n",
    "    print(a,b,c,d,e)\n",
    "    \n",
    "func(1,2,3)"
   ]
  },
  {
   "cell_type": "code",
   "execution_count": 17,
   "metadata": {},
   "outputs": [
    {
     "name": "stdout",
     "output_type": "stream",
     "text": [
      "1 2 10\n"
     ]
    }
   ],
   "source": [
    "def func(a, b, c):\n",
    "    print(a,b,c)\n",
    "    \n",
    "func(1,2,c=10)"
   ]
  },
  {
   "cell_type": "code",
   "execution_count": 18,
   "metadata": {},
   "outputs": [
    {
     "name": "stdout",
     "output_type": "stream",
     "text": [
      "{'a': 1, 'b': 2, 'c': 3}\n"
     ]
    }
   ],
   "source": [
    "def func(**args):\n",
    "    print(args)\n",
    "    \n",
    "func(a=1, b=2, c=3)"
   ]
  },
  {
   "cell_type": "code",
   "execution_count": 20,
   "metadata": {},
   "outputs": [
    {
     "name": "stdout",
     "output_type": "stream",
     "text": [
      "東京支店で、5社に100万円の販売が行われました。\n",
      "売り上げは500万円でした。\n"
     ]
    }
   ],
   "source": [
    "def sell(place, price, num) :\n",
    "    print(f\"{place}支店で、{num}社に{price}万円の販売が行われました。\")\n",
    "    tt = price * num \n",
    "    return tt \n",
    "\n",
    "total = sell(\"東京\", 100, 5)\n",
    "print(f\"売り上げは{total}万円でした。\")"
   ]
  },
  {
   "cell_type": "code",
   "execution_count": 21,
   "metadata": {},
   "outputs": [
    {
     "name": "stdout",
     "output_type": "stream",
     "text": [
      "東京支店で、5社に100万円の販売が行われました。\n"
     ]
    },
    {
     "data": {
      "text/plain": [
       "500"
      ]
     },
     "execution_count": 21,
     "metadata": {},
     "output_type": "execute_result"
    }
   ],
   "source": [
    "def sell(place, price, num) :\n",
    "    print(f\"{place}支店で、{num}社に{price}万円の販売が行われました。\")\n",
    "    tt = price * num \n",
    "    return tt \n",
    "\n",
    "sell(\"東京\", 100, 5)\n",
    "# print(f\"売り上げは{total}万円でした。\")"
   ]
  },
  {
   "cell_type": "code",
   "execution_count": 23,
   "metadata": {},
   "outputs": [
    {
     "name": "stdout",
     "output_type": "stream",
     "text": [
      "販売が行われました。\n"
     ]
    }
   ],
   "source": [
    "def sell():\n",
    "    print(\"販売が行われました。\")\n",
    "#     return \n",
    "\n",
    "sell()"
   ]
  },
  {
   "cell_type": "code",
   "execution_count": 25,
   "metadata": {},
   "outputs": [
    {
     "name": "stdout",
     "output_type": "stream",
     "text": [
      "2018年10月1日に販売が行われました。\n",
      "販売終了：2018 10 1\n"
     ]
    }
   ],
   "source": [
    "def sell():\n",
    "    y = 2018\n",
    "    m = 10 \n",
    "    d = 1\n",
    "    print(f\"{y}年{m}月{d}日に販売が行われました。\")\n",
    "    return y, m, d\n",
    "\n",
    "sy, sm, sd = sell()\n",
    "print(f\"販売終了：{sy} {sm} {sd}\")\n"
   ]
  },
  {
   "cell_type": "code",
   "execution_count": null,
   "metadata": {},
   "outputs": [],
   "source": []
  }
 ],
 "metadata": {
  "kernelspec": {
   "display_name": "Python 3",
   "language": "python",
   "name": "python3"
  },
  "language_info": {
   "codemirror_mode": {
    "name": "ipython",
    "version": 3
   },
   "file_extension": ".py",
   "mimetype": "text/x-python",
   "name": "python",
   "nbconvert_exporter": "python",
   "pygments_lexer": "ipython3",
   "version": "3.7.3"
  }
 },
 "nbformat": 4,
 "nbformat_minor": 2
}
