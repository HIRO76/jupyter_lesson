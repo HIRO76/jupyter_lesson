{
 "cells": [
  {
   "cell_type": "markdown",
   "metadata": {},
   "source": [
    "# コレクション"
   ]
  },
  {
   "cell_type": "markdown",
   "metadata": {},
   "source": [
    "## タプル"
   ]
  },
  {
   "cell_type": "markdown",
   "metadata": {},
   "source": [
    "- リスト同様、複数の要素を扱うシーケンス\n",
    "- 変更不可（immutable)\n",
    "- 変更されたくないデータを取り扱う時に使用する"
   ]
  },
  {
   "cell_type": "markdown",
   "metadata": {},
   "source": [
    "### タプル作成\n",
    "タプル名 = (値1, 値2, ...) <br>\n",
    "taple = (1, 2, ...) <br> \n",
    "taple = () # 空のタプル作成　<br>\n",
    "taple = ( 値, ) <br>\n",
    "タプルに格納されている要素が１つの場合は、末尾に「,」をつける（区別のため）"
   ]
  },
  {
   "cell_type": "code",
   "execution_count": 1,
   "metadata": {},
   "outputs": [],
   "source": [
    "sale = (80, 60, 20, 50, 75)"
   ]
  },
  {
   "cell_type": "code",
   "execution_count": 14,
   "metadata": {},
   "outputs": [
    {
     "data": {
      "text/plain": [
       "(1, 2, 3)"
      ]
     },
     "execution_count": 14,
     "metadata": {},
     "output_type": "execute_result"
    }
   ],
   "source": [
    "sample = 1,2,3   # ()で囲わなくてもタプルとなる\n",
    "sample"
   ]
  },
  {
   "cell_type": "markdown",
   "metadata": {},
   "source": [
    "tuple()コンストラクタでタプルを作成できる"
   ]
  },
  {
   "cell_type": "code",
   "execution_count": 17,
   "metadata": {},
   "outputs": [
    {
     "data": {
      "text/plain": [
       "()"
      ]
     },
     "execution_count": 17,
     "metadata": {},
     "output_type": "execute_result"
    }
   ],
   "source": [
    "sample = tuple() #引数が空だと空タプル\n",
    "sample"
   ]
  },
  {
   "cell_type": "code",
   "execution_count": 5,
   "metadata": {},
   "outputs": [
    {
     "data": {
      "text/plain": [
       "(1, 2, 3)"
      ]
     },
     "execution_count": 5,
     "metadata": {},
     "output_type": "execute_result"
    }
   ],
   "source": [
    "sample = tuple(range(5))  #引数に渡したオブジェクトがタプルとなる\n",
    "sample = tuple([1,2,3])\n",
    "sample"
   ]
  },
  {
   "cell_type": "code",
   "execution_count": 10,
   "metadata": {},
   "outputs": [
    {
     "name": "stdout",
     "output_type": "stream",
     "text": [
      "(0, 1, 2, 3, 4)\n"
     ]
    },
    {
     "data": {
      "text/plain": [
       "0"
      ]
     },
     "execution_count": 10,
     "metadata": {},
     "output_type": "execute_result"
    }
   ],
   "source": [
    "#値の取得\n",
    "sample = tuple(range(5))\n",
    "print(sample)\n",
    "sample[1]\n",
    "#リスト同様に［］にインデックスを渡して取得する\n",
    "#取得はできるが変更はできない\n",
    "# sample[0] = 10"
   ]
  },
  {
   "cell_type": "markdown",
   "metadata": {},
   "source": [
    "#### まとめ\n",
    "- タプルは異なる値をまとめて扱う際に使用されることが多い\n",
    "- リストは同型の値をまとめて扱う際に使用されることが多い\n",
    "- 編集以外の操作はリストと同様である"
   ]
  },
  {
   "cell_type": "markdown",
   "metadata": {},
   "source": [
    "## ディクショナリ"
   ]
  },
  {
   "cell_type": "markdown",
   "metadata": {},
   "source": [
    "- Rubyでいうハッシュ \n",
    "- インデックスの代わりにkey（キー）、value（バリュー）を用いてデータを格納する\n",
    "- keyの重複は不可 <br>\n",
    "ディクショナリ名 = {　キー名1：バリュー名1, キー名2：バリュー名2...　}"
   ]
  },
  {
   "cell_type": "code",
   "execution_count": 13,
   "metadata": {},
   "outputs": [
    {
     "data": {
      "text/plain": [
       "{'東京': 80, '名古屋': 60, '京都': 22, '大阪': 50, '福岡': 75}"
      ]
     },
     "execution_count": 13,
     "metadata": {},
     "output_type": "execute_result"
    }
   ],
   "source": [
    "sale = {} #{}空白で空のディクショナリ\n",
    "sale\n",
    "sale = { \"東京\": 80, \"名古屋\": 60, \"京都\": 22, \"大阪\": 50, \"福岡\":75  }\n",
    "sale"
   ]
  },
  {
   "cell_type": "markdown",
   "metadata": {},
   "source": [
    "dict()コンストラクタでディクショナリを作成できる"
   ]
  },
  {
   "cell_type": "code",
   "execution_count": 55,
   "metadata": {},
   "outputs": [
    {
     "data": {
      "text/plain": [
       "{'東京': 110, '大阪': 120, '京都': 100}"
      ]
     },
     "execution_count": 55,
     "metadata": {},
     "output_type": "execute_result"
    }
   ],
   "source": [
    "sample = dict()\n",
    "sample # O \n",
    "sample = {} \n",
    "sample # O\n",
    "sample = dict(東京 =110, 大阪 =120, 京都=100) #O \n",
    "sample = dict({\"東京\":110, \"大阪\":120, \"京都\":100}) #O \n",
    "sample = dict(((\"東京\",110),(\"大阪\",120),(\"京都\",100))) #O\n",
    "sample"
   ]
  },
  {
   "cell_type": "markdown",
   "metadata": {},
   "source": [
    "ディクショナリの値の取り出し方は［］にインデックスではなく、keyを指定する。"
   ]
  },
  {
   "cell_type": "code",
   "execution_count": null,
   "metadata": {},
   "outputs": [],
   "source": []
  }
 ],
 "metadata": {
  "kernelspec": {
   "display_name": "Python 3",
   "language": "python",
   "name": "python3"
  },
  "language_info": {
   "codemirror_mode": {
    "name": "ipython",
    "version": 3
   },
   "file_extension": ".py",
   "mimetype": "text/x-python",
   "name": "python",
   "nbconvert_exporter": "python",
   "pygments_lexer": "ipython3",
   "version": "3.7.3"
  }
 },
 "nbformat": 4,
 "nbformat_minor": 2
}
