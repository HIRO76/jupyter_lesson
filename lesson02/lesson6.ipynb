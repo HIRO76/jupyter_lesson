{
 "cells": [
  {
   "cell_type": "markdown",
   "metadata": {},
   "source": [
    "# コレクション"
   ]
  },
  {
   "cell_type": "markdown",
   "metadata": {},
   "source": [
    "## タプル"
   ]
  },
  {
   "cell_type": "markdown",
   "metadata": {},
   "source": [
    "- リスト同様、複数の要素を扱うシーケンス\n",
    "- 変更不可（immutable)\n",
    "- 変更されたくないデータを取り扱う時に使用する"
   ]
  },
  {
   "cell_type": "markdown",
   "metadata": {},
   "source": [
    "### タプル作成\n",
    "タプル名 = (値1, 値2, ...) <br>\n",
    "taple = (1, 2, ...) <br> \n",
    "taple = () # 空のタプル作成　<br>\n",
    "taple = ( 値, ) <br>\n",
    "タプルに格納されている要素が１つの場合は、末尾に「,」をつける（区別のため）"
   ]
  },
  {
   "cell_type": "code",
   "execution_count": 1,
   "metadata": {},
   "outputs": [],
   "source": [
    "sale = (80, 60, 20, 50, 75)"
   ]
  },
  {
   "cell_type": "code",
   "execution_count": 14,
   "metadata": {},
   "outputs": [
    {
     "data": {
      "text/plain": [
       "(1, 2, 3)"
      ]
     },
     "execution_count": 14,
     "metadata": {},
     "output_type": "execute_result"
    }
   ],
   "source": [
    "sample = 1,2,3   # ()で囲わなくてもタプルとなる\n",
    "sample"
   ]
  },
  {
   "cell_type": "markdown",
   "metadata": {},
   "source": [
    "tuple()コンストラクタでタプルを作成できる"
   ]
  },
  {
   "cell_type": "code",
   "execution_count": 17,
   "metadata": {},
   "outputs": [
    {
     "data": {
      "text/plain": [
       "()"
      ]
     },
     "execution_count": 17,
     "metadata": {},
     "output_type": "execute_result"
    }
   ],
   "source": [
    "sample = tuple() #引数が空だと空タプル\n",
    "sample"
   ]
  },
  {
   "cell_type": "code",
   "execution_count": 5,
   "metadata": {},
   "outputs": [
    {
     "data": {
      "text/plain": [
       "(1, 2, 3)"
      ]
     },
     "execution_count": 5,
     "metadata": {},
     "output_type": "execute_result"
    }
   ],
   "source": [
    "sample = tuple(range(5))  #引数に渡したオブジェクトがタプルとなる\n",
    "sample = tuple([1,2,3])\n",
    "sample"
   ]
  },
  {
   "cell_type": "code",
   "execution_count": 10,
   "metadata": {},
   "outputs": [
    {
     "name": "stdout",
     "output_type": "stream",
     "text": [
      "(0, 1, 2, 3, 4)\n"
     ]
    },
    {
     "data": {
      "text/plain": [
       "0"
      ]
     },
     "execution_count": 10,
     "metadata": {},
     "output_type": "execute_result"
    }
   ],
   "source": [
    "#値の取得\n",
    "sample = tuple(range(5))\n",
    "print(sample)\n",
    "sample[1]\n",
    "#リスト同様に［］にインデックスを渡して取得する\n",
    "#取得はできるが変更はできない\n",
    "# sample[0] = 10"
   ]
  },
  {
   "cell_type": "markdown",
   "metadata": {},
   "source": [
    "#### まとめ\n",
    "- タプルは異なる値をまとめて扱う際に使用されることが多い\n",
    "- リストは同型の値をまとめて扱う際に使用されることが多い\n",
    "- 編集以外の操作はリストと同様である"
   ]
  },
  {
   "cell_type": "markdown",
   "metadata": {},
   "source": [
    "## ディクショナリ"
   ]
  },
  {
   "cell_type": "markdown",
   "metadata": {},
   "source": [
    "- Rubyでいうハッシュ \n",
    "- インデックスの代わりにkey（キー）、value（バリュー）を用いてデータを格納する\n",
    "- keyの重複は不可 <br>\n",
    "ディクショナリ名 = {　キー名1：バリュー名1, キー名2：バリュー名2...　}"
   ]
  },
  {
   "cell_type": "code",
   "execution_count": 13,
   "metadata": {},
   "outputs": [
    {
     "data": {
      "text/plain": [
       "{'東京': 80, '名古屋': 60, '京都': 22, '大阪': 50, '福岡': 75}"
      ]
     },
     "execution_count": 13,
     "metadata": {},
     "output_type": "execute_result"
    }
   ],
   "source": [
    "sale = {} #{}空白で空のディクショナリ\n",
    "sale\n",
    "sale = { \"東京\": 80, \"名古屋\": 60, \"京都\": 22, \"大阪\": 50, \"福岡\":75  }\n",
    "sale"
   ]
  },
  {
   "cell_type": "markdown",
   "metadata": {},
   "source": [
    "dict()コンストラクタでディクショナリを作成できる"
   ]
  },
  {
   "cell_type": "code",
   "execution_count": 55,
   "metadata": {},
   "outputs": [
    {
     "data": {
      "text/plain": [
       "{'東京': 110, '大阪': 120, '京都': 100}"
      ]
     },
     "execution_count": 55,
     "metadata": {},
     "output_type": "execute_result"
    }
   ],
   "source": [
    "sample = dict()\n",
    "sample # O \n",
    "sample = {} \n",
    "sample # O\n",
    "sample = dict(東京 =110, 大阪 =120, 京都=100) #O \n",
    "sample = dict({\"東京\":110, \"大阪\":120, \"京都\":100}) #O \n",
    "sample = dict(((\"東京\",110),(\"大阪\",120),(\"京都\",100))) #O\n",
    "sample"
   ]
  },
  {
   "cell_type": "markdown",
   "metadata": {},
   "source": [
    "ディクショナリの値の取り出し方は［］にインデックスではなく、keyを指定する。"
   ]
  },
  {
   "cell_type": "code",
   "execution_count": 62,
   "metadata": {},
   "outputs": [
    {
     "name": "stdout",
     "output_type": "stream",
     "text": [
      "現在のデータは{'東京': 80, '名古屋': 60, '京都': 22, '大阪': 50, '福岡': 75}です。\n",
      "どの支店のデータを表示しますか？:大阪\n",
      "大阪のデータは50です。\n"
     ]
    }
   ],
   "source": [
    "sale = {\"東京\": 80,\"名古屋\": 60,\"京都\": 22,\"大阪\": 50,\"福岡\":75 }\n",
    "print(f\"現在のデータは{sale}です。\")\n",
    "k = input(\"どの支店のデータを表示しますか？:\")\n",
    "print(f\"{k}のデータは{sale[k]}です。\")"
   ]
  },
  {
   "cell_type": "code",
   "execution_count": 4,
   "metadata": {},
   "outputs": [
    {
     "name": "stdout",
     "output_type": "stream",
     "text": [
      "現在のデータは{'東京': 80, '名古屋': 60, '京都': 22, '大阪': 50, '福岡': 75}です。\n",
      "どの支店のデータを表示しますか？：金沢\n",
      "金沢のデータは見つかりませんでした。\n"
     ]
    }
   ],
   "source": [
    "sale = {\"東京\":80,\"名古屋\":60,\"京都\":22,\"大阪\":50,\"福岡\":75}\n",
    "print(f\"現在のデータは{sale}です。\")\n",
    "k = input(\"どの支店のデータを表示しますか？：\")\n",
    "if k in sale : \n",
    "    print(f\"{k}のデータは{sale[k]}です。\")\n",
    "else : \n",
    "    print(f\"{k}のデータは見つかりませんでした。\")"
   ]
  },
  {
   "cell_type": "markdown",
   "metadata": {},
   "source": [
    "### in, not in 演算子\n",
    "- 値が存在するか調べる"
   ]
  },
  {
   "cell_type": "markdown",
   "metadata": {},
   "source": [
    "### any(), all()\n",
    "- any() \n",
    " - 指定した値に１つでもtrueがあればtrueを返す\n",
    "\n",
    "- all() \n",
    " - 指定した値が全てtrueならtrueを返す"
   ]
  },
  {
   "cell_type": "code",
   "execution_count": 9,
   "metadata": {},
   "outputs": [
    {
     "name": "stdout",
     "output_type": "stream",
     "text": [
      "True\n",
      "False\n"
     ]
    }
   ],
   "source": [
    "data = [0,1,2,3,4,5]\n",
    "print(any(data))\n",
    "print(all(data))"
   ]
  },
  {
   "cell_type": "markdown",
   "metadata": {},
   "source": [
    "### ディクショナリの操作"
   ]
  },
  {
   "cell_type": "markdown",
   "metadata": {},
   "source": [
    "#### 要素の編集\n",
    "sample[key] = 10  <br>\n",
    "編集したい「key名」を指定し、新しい値を代入するだけ"
   ]
  },
  {
   "cell_type": "markdown",
   "metadata": {},
   "source": [
    "#### 要素の追加\n",
    "sample[新しいkey名] = 10 <br>\n",
    "追加したい「key名」を入力し、値を代入する。"
   ]
  },
  {
   "cell_type": "markdown",
   "metadata": {},
   "source": [
    "#### 削除\n",
    "リスト同様に「delステートメント」が利用できる。<br>\n",
    "del sample[key] <br>\n",
    "指定した「key」を削除する。指定しないとディクショナリごと削除する。\n"
   ]
  },
  {
   "cell_type": "code",
   "execution_count": 20,
   "metadata": {},
   "outputs": [
    {
     "name": "stdout",
     "output_type": "stream",
     "text": [
      "現在のデータは{'東京': 80, '名古屋': 60, '京都': 22, '大阪': 50, '福岡': 75}です。\n",
      "\n",
      "追加するキーを入力してください。：ddd\n",
      "追加するデータを入力してください：10\n",
      "dddのデータとして、10を追加しました。\n",
      "現在のデータは{'東京': 80, '名古屋': 60, '京都': 22, '大阪': 50, '福岡': 75, 'ddd': 10}です。\n",
      "\n",
      "どのキーのデータを変更しますか？：ddd\n",
      "dddのデータは10です。\n",
      "データを入力してください。：30\n",
      "dddのデータは30に変更されました。\n",
      "現在のデータは{'東京': 80, '名古屋': 60, '京都': 22, '大阪': 50, '福岡': 75, 'ddd': 30}です。\n",
      "\n",
      "どのキーのデータを削除しますか？：ddd\n",
      "dddのデータは30です。\n",
      "データを削除しました。\n",
      "現在のデータは{'東京': 80, '名古屋': 60, '京都': 22, '大阪': 50, '福岡': 75}です。\n"
     ]
    }
   ],
   "source": [
    "sale = {\"東京\":80,\"名古屋\":60,\"京都\":22,\"大阪\":50,\"福岡\":75}\n",
    "print(f\"現在のデータは{sale}です。\\n\")\n",
    "k = input(\"追加するキーを入力してください。：\")\n",
    "if k in sale : \n",
    "    print(f\"{k}のデータはすでに存在します。\")\n",
    "else: \n",
    "    d = int(input(\"追加するデータを入力してください：\"))\n",
    "    sale[k]  = d \n",
    "    print(f\"{k}のデータとして、{sale[k]}を追加しました。\")\n",
    "print(f\"現在のデータは{sale}です。\\n\")\n",
    "\n",
    "k = input(\"どのキーのデータを変更しますか？：\")\n",
    "if k in sale : \n",
    "    print(f\"{k}のデータは{sale[k]}です。\")\n",
    "    d = int(input(\"データを入力してください。：\"))\n",
    "    sale[k] = d \n",
    "    print(f\"{k}のデータは{sale[k]}に変更されました。\")\n",
    "else : \n",
    "    print(f\"{k}のデータは見つかりませんでした。\")\n",
    "print(f\"現在のデータは{sale}です。\\n\")\n",
    "\n",
    "k = input(\"どのキーのデータを削除しますか？：\")\n",
    "if k in sale : \n",
    "    print(f\"{k}のデータは{sale[k]}です。\")\n",
    "    del sale[k] \n",
    "    print(\"データを削除しました。\")\n",
    "else :\n",
    "    print(f\"{k}のデータはありませんでした。\")\n",
    "print(f\"現在のデータは{sale}です。\")"
   ]
  },
  {
   "cell_type": "markdown",
   "metadata": {},
   "source": [
    "#### ディクショナリ便利メソッド\n",
    "- keys() \n",
    " - キーを１つずつ返す\n",
    "- values() \n",
    " - 値を１つずつ返す\n",
    "- items() \n",
    " - キー、値をタプルで返す\n",
    " \n",
    " #### ここでバリューを１つずつ返す仕組みをビューと呼ぶ（イテレータと同様の機能を持っている）"
   ]
  },
  {
   "cell_type": "code",
   "execution_count": 47,
   "metadata": {},
   "outputs": [
    {
     "name": "stdout",
     "output_type": "stream",
     "text": [
      "現在のデータは{'東京': 80, '名古屋': 60, '京都': 22, '大阪': 50, '福岡': 75}です。\n",
      "\n",
      "キーを表示します。\n",
      "東京  名古屋  京都  大阪  福岡  \n",
      "\n",
      "値を表示します。\n",
      "80  60  22  50  75  \n",
      "\n",
      "キーと値を表示します。\n",
      "('東京', 80)  ('名古屋', 60)  ('京都', 22)  ('大阪', 50)  ('福岡', 75)  "
     ]
    }
   ],
   "source": [
    "sale = {\"東京\":80,\"名古屋\":60, \"京都\":22,\"大阪\":50,\"福岡\":75}\n",
    "print(f\"現在のデータは{sale}です。\\n\")\n",
    "\n",
    "print(\"キーを表示します。\")\n",
    "for k in sale.keys() : \n",
    "    print(k, end=\"  \")\n",
    "print(\"\\n\")\n",
    "\n",
    "print(\"値を表示します。\")\n",
    "for v in sale.values() : \n",
    "    print(v, end=\"  \")\n",
    "print(\"\\n\")\n",
    "\n",
    "print(\"キーと値を表示します。\")\n",
    "for i in sale.items() : \n",
    "    print(i, end=\"  \")\n"
   ]
  },
  {
   "cell_type": "markdown",
   "metadata": {},
   "source": [
    "### ディクショナリの更新\n",
    "ディクショナリ名.update(追加するディクショナリ名)<br>\n",
    "重複キーは値が更新され、キーがないものは追加される"
   ]
  },
  {
   "cell_type": "code",
   "execution_count": 49,
   "metadata": {},
   "outputs": [
    {
     "name": "stdout",
     "output_type": "stream",
     "text": [
      "１つのデータは{'東京': 80, '名古屋': 60, '京都': 22}です。\n",
      "２つのデータは{'京都': 100, '大阪': 50, '福岡': 75}です。\n",
      "1を２で更新します。\n",
      "１つのデータは{'東京': 80, '名古屋': 60, '京都': 100, '大阪': 50, '福岡': 75}です。\n"
     ]
    }
   ],
   "source": [
    "sale1 = {\"東京\":80,\"名古屋\":60,\"京都\":22}\n",
    "sale2 = {\"京都\":100,\"大阪\":50,\"福岡\":75}\n",
    "\n",
    "print(f\"１つのデータは{sale1}です。\")\n",
    "print(f\"２つのデータは{sale2}です。\")\n",
    "print(\"1を２で更新します。\")\n",
    "sale1.update(sale2)\n",
    "print(f\"１つのデータは{sale1}です。\")"
   ]
  },
  {
   "cell_type": "markdown",
   "metadata": {},
   "source": [
    "#### ディクショナリ注意点\n",
    "ディクショナリはシーケンスではなく、順序の概念がないのでスライスなどが使えない。したがって、集計やソートなどは、keys()、vakues()メソッドなどで値を１つ１つ取り出してから行う必要がある。"
   ]
  },
  {
   "cell_type": "markdown",
   "metadata": {},
   "source": [
    "## セット\n",
    "セット名 =｛ \"東京\", \"大阪\", \"名古屋\", \"京都\", \"沖縄\" ｝<br>\n",
    "セットは並び順のないデータの集合体である<br>\n",
    "セットはmutableだが、値を重複させることは出来ない<br>\n",
    "他のコレクション同様に、コンストラクタが用意されている<br>\n",
    "frozenset()で変更不可能なセットが作成できる<br>\n",
    "※空のセットは他のコレクションとは違いコンストラクタのみでしか作成できない"
   ]
  },
  {
   "cell_type": "code",
   "execution_count": 51,
   "metadata": {},
   "outputs": [
    {
     "data": {
      "text/plain": [
       "{1, 2, 3, 4, 5}"
      ]
     },
     "execution_count": 51,
     "metadata": {},
     "output_type": "execute_result"
    }
   ],
   "source": [
    "sample = set([1,2,3,4,5])\n",
    "sample"
   ]
  },
  {
   "cell_type": "code",
   "execution_count": 52,
   "metadata": {},
   "outputs": [
    {
     "data": {
      "text/plain": [
       "set()"
      ]
     },
     "execution_count": 52,
     "metadata": {},
     "output_type": "execute_result"
    }
   ],
   "source": [
    "sample = set()\n",
    "sample"
   ]
  },
  {
   "cell_type": "code",
   "execution_count": 53,
   "metadata": {},
   "outputs": [
    {
     "data": {
      "text/plain": [
       "{}"
      ]
     },
     "execution_count": 53,
     "metadata": {},
     "output_type": "execute_result"
    }
   ],
   "source": [
    "sample = {}\n",
    "sample"
   ]
  },
  {
   "cell_type": "markdown",
   "metadata": {},
   "source": [
    "### 要素の追加・削除\n",
    "セット名.add(値)メソッド<br>\n",
    "セット名.remove(値)メソッド<br>\n",
    "引数に追加・削除したい値を渡す"
   ]
  },
  {
   "cell_type": "code",
   "execution_count": 59,
   "metadata": {},
   "outputs": [
    {
     "name": "stdout",
     "output_type": "stream",
     "text": [
      "現在のデータは{'名古屋', '東京', '京都', '福岡', '大阪'}です。\n",
      "\n",
      "追加するデータを入力してください。：sss\n",
      "sssを追加しました。\n",
      "現在のデータは{'名古屋', '東京', '京都', '福岡', 'sss', '大阪'}です。\n",
      "\n"
     ]
    }
   ],
   "source": [
    "city = {\"東京\",\"名古屋\",\"京都\",\"大阪\",\"福岡\"}\n",
    "print(f\"現在のデータは{city}です。\\n\")\n",
    "\n",
    "d = input(\"追加するデータを入力してください。：\")\n",
    "if d in city :\n",
    "    print(f\"{d}はすでに存在しています。\")\n",
    "else : \n",
    "    city.add(d) \n",
    "    print(f\"{d}を追加しました。\")\n",
    "print(f\"現在のデータは{city}です。\\n\")\n",
    "\n"
   ]
  },
  {
   "cell_type": "code",
   "execution_count": 62,
   "metadata": {},
   "outputs": [
    {
     "name": "stdout",
     "output_type": "stream",
     "text": [
      "削除するデータを入力してください。：sss\n",
      "sssを削除しました。\n",
      "現在のデータは{'名古屋', '東京', '京都', '福岡'}です。\n"
     ]
    }
   ],
   "source": [
    "d = input(\"削除するデータを入力してください。：\")\n",
    "if d in city : \n",
    "    city.remove(d)\n",
    "    print(f\"{d}を削除しました。\")\n",
    "else : \n",
    "    print(f\"{d}は見つかりませんでした。\")\n",
    "print(f\"現在のデータは{city}です。\")"
   ]
  },
  {
   "cell_type": "markdown",
   "metadata": {},
   "source": [
    "### 集合演算\n",
    "- 和集合\n",
    " - 全ての要素を求める\n",
    "- 共通集合　\n",
    " - 共通する要素を求める\n",
    "- 差集合\n",
    " - いずれか一方にのみ存在する要素を求める\n",
    "- 対象差\n",
    " - どちらかにのみ存在する要素を全て求める"
   ]
  },
  {
   "cell_type": "code",
   "execution_count": 67,
   "metadata": {},
   "outputs": [
    {
     "name": "stdout",
     "output_type": "stream",
     "text": [
      "Aの都市名は{'名古屋', '東京', '京都', '大阪'}です。\n",
      "Bの都市名は{'福岡', '京都', '大阪'}です。\n",
      "\n",
      "共通するデータは{'京都', '大阪'}です。\n",
      "Aのみのデータは{'名古屋', '東京'}です。\n",
      "Bのみのデータは{'福岡'}です。\n",
      "全てのデータは{'名古屋', '東京', '京都', '福岡', '大阪'}です。\n"
     ]
    }
   ],
   "source": [
    "cityA = {\"東京\",\"名古屋\",\"京都\",\"大阪\"}\n",
    "cityB = {\"京都\",\"大阪\",\"福岡\"}\n",
    "\n",
    "print(f\"Aの都市名は{cityA}です。\")\n",
    "print(f\"Bの都市名は{cityB}です。\\n\")\n",
    "\n",
    "print(f\"共通するデータは{cityA & cityB}です。\")\n",
    "print(f\"Aのみのデータは{cityA - cityB}です。\")\n",
    "print(f\"Bのみのデータは{cityB - cityA}です。\")\n",
    "print(f\"全てのデータは{cityA | cityB}です。\")"
   ]
  },
  {
   "cell_type": "markdown",
   "metadata": {},
   "source": [
    "##### セット注意点\n",
    "- 順序がないのでインデックス、スライスは使えない\n",
    "- len()、zip()、enumrate()などは使える\n",
    "- uodate()で更新ができる"
   ]
  },
  {
   "cell_type": "code",
   "execution_count": 71,
   "metadata": {},
   "outputs": [
    {
     "name": "stdout",
     "output_type": "stream",
     "text": [
      "{'osaka', 'tokyo', 'kyoto', 'fukuoka'}\n"
     ]
    }
   ],
   "source": [
    "city = {\"tokyo\", \"osaka\", \"kyoto\", \"fukuoka\"}\n",
    "print(city)"
   ]
  }
 ],
 "metadata": {
  "kernelspec": {
   "display_name": "Python 3",
   "language": "python",
   "name": "python3"
  },
  "language_info": {
   "codemirror_mode": {
    "name": "ipython",
    "version": 3
   },
   "file_extension": ".py",
   "mimetype": "text/x-python",
   "name": "python",
   "nbconvert_exporter": "python",
   "pygments_lexer": "ipython3",
   "version": "3.7.3"
  }
 },
 "nbformat": 4,
 "nbformat_minor": 2
}
