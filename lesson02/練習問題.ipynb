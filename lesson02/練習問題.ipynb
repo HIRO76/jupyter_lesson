{
 "cells": [
  {
   "cell_type": "code",
   "execution_count": 1,
   "metadata": {},
   "outputs": [
    {
     "name": "stdout",
     "output_type": "stream",
     "text": [
      "身長を入力してください：170\n",
      "体重を入力してください：60\n",
      "身長：170.0cm\n",
      "体重：60.0kg\n",
      "標準体重：63.58kg\n"
     ]
    }
   ],
   "source": [
    "tall = float(input(\"身長を入力してください：\"))\n",
    "weight = float(input(\"体重を入力してください：\"))\n",
    "bmi = 22  \n",
    "sd_weight = bmi * (tall/100)**2 \n",
    "print(f\"身長：{tall}cm\")\n",
    "print(f\"体重：{weight}kg\")\n",
    "print(f\"標準体重：{round(sd_weight, 2)}kg\")"
   ]
  },
  {
   "cell_type": "code",
   "execution_count": 6,
   "metadata": {},
   "outputs": [
    {
     "name": "stdout",
     "output_type": "stream",
     "text": [
      "好きな月を入力してください（１〜１２）：12\n",
      "12月は冬です。\n"
     ]
    }
   ],
   "source": [
    "month = int(input(\"好きな月を入力してください（１〜１２）：\"))\n",
    "if 3 <= month <= 5 : \n",
    "        print(f\"{month}月は春です。\")\n",
    "elif 6 <= month <= 8 : \n",
    "        print(f\"{month}月は夏です。\")\n",
    "elif 9 <= month <= 11 : \n",
    "        print(f\"{month}月は秋です。\")\n",
    "else : \n",
    "        print(f\"{month}月は冬です。\")\n"
   ]
  },
  {
   "cell_type": "code",
   "execution_count": 53,
   "metadata": {},
   "outputs": [
    {
     "name": "stdout",
     "output_type": "stream",
     "text": [
      "２以上で好きな数字を入力してください：2\n",
      "2\n",
      "2は素数です。\n"
     ]
    }
   ],
   "source": [
    "num = int(input(\"２以上で好きな数字を入力してください：\"))\n",
    "i = 2 \n",
    "while True : \n",
    "        print(i)\n",
    "        if i == num : \n",
    "                print(f\"{num}は素数です。\") \n",
    "                break\n",
    "        elif num % i == 0 : \n",
    "                print(f\"{num}は素数ではありません。\")\n",
    "                break\n",
    "        i += 1 \n"
   ]
  },
  {
   "cell_type": "code",
   "execution_count": 40,
   "metadata": {},
   "outputs": [
    {
     "name": "stdout",
     "output_type": "stream",
     "text": [
      "2以上で好きな数字を入力してください：6\n",
      "6は素数ではありません。2\n",
      "6は素数ではありません。3\n",
      "6は素数です。6\n"
     ]
    }
   ],
   "source": [
    "num = int(input(\"2以上で好きな数字を入力してください：\"))\n",
    "for i in range(2, num+1) : \n",
    "    if num == i : \n",
    "        print(f\"{num}は素数です。\")\n",
    "    elif num % i == 0 : \n",
    "        print(f\"{num}は素数ではありません。\")\n",
    "        break\n"
   ]
  },
  {
   "cell_type": "code",
   "execution_count": 64,
   "metadata": {},
   "outputs": [
    {
     "name": "stdout",
     "output_type": "stream",
     "text": [
      "２以上の数字を入力してください23\n",
      "23は素数です。\n"
     ]
    }
   ],
   "source": [
    "while True : \n",
    "    num = int(input(\"２以上の数字を入力してください:\"))\n",
    "    if num >= 2 : \n",
    "        for i in range(2, num+1) : \n",
    "            if num == i :\n",
    "                print(f\"{num}は素数です。\") \n",
    "            elif num % i == 0 : \n",
    "                print(f\"{num}は素数ではありません。\")\n",
    "                break \n",
    "        break\n",
    "    else : \n",
    "        print(\"1以上で入力してください\")"
   ]
  },
  {
   "cell_type": "code",
   "execution_count": 71,
   "metadata": {},
   "outputs": [
    {
     "name": "stdout",
     "output_type": "stream",
     "text": [
      "1以上の数字を入力してください78\n",
      "78は素数ではありません。\n"
     ]
    }
   ],
   "source": [
    "i = 2\n",
    "while True : \n",
    "    num = int(input(\"1以上の数字を入力してください:\"))\n",
    "    if num >= 2 : \n",
    "        while True : \n",
    "            if num == i : \n",
    "                print(f\"{num}は素数です。\")\n",
    "                break \n",
    "            elif num % i == 0 : \n",
    "                print(f\"{num}は素数ではありません。\")\n",
    "                break \n",
    "            i += 1\n",
    "        break \n",
    "    else : \n",
    "        print(\"1以上で入力してください\")\n",
    "        "
   ]
  },
  {
   "cell_type": "code",
   "execution_count": 81,
   "metadata": {},
   "outputs": [
    {
     "name": "stdout",
     "output_type": "stream",
     "text": [
      "2以上の数字を入力してください：11\n",
      "11は素数です。\n"
     ]
    }
   ],
   "source": [
    "num = int(input(\"2以上の数字を入力してください：\"))\n",
    "for i in range(2, num+1) : \n",
    "    if num == i : \n",
    "        print(f\"{num}は素数です。\")\n",
    "    elif num % i == 0 : \n",
    "        print(f\"{num}は素数ではありません。\")\n",
    "        break \n",
    "        "
   ]
  },
  {
   "cell_type": "code",
   "execution_count": 91,
   "metadata": {},
   "outputs": [
    {
     "name": "stdout",
     "output_type": "stream",
     "text": [
      "2以上の数字を入力してください：7\n",
      "7は素数です。\n"
     ]
    }
   ],
   "source": [
    "num = int(input(\"2以上の数字を入力してください：\"))\n",
    "i = 2 \n",
    "while True : \n",
    "    if num == i : \n",
    "        print(f\"{num}は素数です。\")\n",
    "        break \n",
    "    elif num % i == 0 : \n",
    "        print(f\"{num}は素数ではありません。\")\n",
    "        break \n",
    "    i += 1"
   ]
  },
  {
   "cell_type": "code",
   "execution_count": 106,
   "metadata": {},
   "outputs": [
    {
     "name": "stdout",
     "output_type": "stream",
     "text": [
      "2以上の数字を入力してください1\n",
      "2以上の数字を入力してください2\n",
      "2は素数です。\n"
     ]
    }
   ],
   "source": [
    "while True : \n",
    "    num = int(input(\"2以上の数字を入力してください：\"))\n",
    "    if num > 1 : \n",
    "        for i in range(2, num+1) : \n",
    "            if num == i :\n",
    "                print(f\"{num}は素数です。\")\n",
    "            elif num % i == 0 : \n",
    "                print(f\"{num}は素数ではありません。\")\n",
    "                break \n",
    "        break\n",
    "            "
   ]
  },
  {
   "cell_type": "code",
   "execution_count": 120,
   "metadata": {},
   "outputs": [
    {
     "name": "stdout",
     "output_type": "stream",
     "text": [
      "2以上の数字を入力してください：1\n",
      "2以上の数字を入力してください：2\n",
      "2は素数です。\n"
     ]
    }
   ],
   "source": [
    "i = 2\n",
    "while True : \n",
    "    num = int(input(\"2以上の数字を入力してください：\"))\n",
    "    if num > 1 : \n",
    "        while True : \n",
    "            if num == i : \n",
    "                print(f\"{num}は素数です。\")\n",
    "                break \n",
    "            elif num % i == 0 : \n",
    "                print(f\"{num}は素数ではありません。\")\n",
    "                break \n",
    "            i += 1\n",
    "        break"
   ]
  },
  {
   "cell_type": "code",
   "execution_count": 128,
   "metadata": {},
   "outputs": [
    {
     "name": "stdout",
     "output_type": "stream",
     "text": [
      "1600~2020年の閏年一覧\n",
      "1600年  1604年  1608年  1612年  1616年  1620年  1624年  1628年  1632年  1636年  1640年  1644年  1648年  1652年  1656年  1660年  1664年  1668年  1672年  1676年  1680年  1684年  1688年  1692年  1696年  1704年  1708年  1712年  1716年  1720年  1724年  1728年  1732年  1736年  1740年  1744年  1748年  1752年  1756年  1760年  1764年  1768年  1772年  1776年  1780年  1784年  1788年  1792年  1796年  1804年  1808年  1812年  1816年  1820年  1824年  1828年  1832年  1836年  1840年  1844年  1848年  1852年  1856年  1860年  1864年  1868年  1872年  1876年  1880年  1884年  1888年  1892年  1896年  1904年  1908年  1912年  1916年  1920年  1924年  1928年  1932年  1936年  1940年  1944年  1948年  1952年  1956年  1960年  1964年  1968年  1972年  1976年  1980年  1984年  1988年  1992年  1996年  2000年  2004年  2008年  2012年  2016年  2020年  "
     ]
    }
   ],
   "source": [
    "print(\"1600~2020年の閏年一覧\")\n",
    "for year in range(1600, 2021) : \n",
    "    if (year % 400 == 0) or (year % 4 == 0) and (year % 100 != 0) : \n",
    "        print(f\"{year}年 \", end=\" \")"
   ]
  },
  {
   "cell_type": "code",
   "execution_count": 135,
   "metadata": {},
   "outputs": [
    {
     "name": "stdout",
     "output_type": "stream",
     "text": [
      "好きな年数を入力してください：1800\n",
      "１６００〜２０２０年までの閏年一覧\n",
      "1600年 1604年 1608年 1612年 1616年 1620年 1624年 1628年 1632年 1636年 1640年 1644年 1648年 1652年 1656年 1660年 1664年 1668年 1672年 1676年 1680年 1684年 1688年 1692年 1696年 1704年 1708年 1712年 1716年 1720年 1724年 1728年 1732年 1736年 1740年 1744年 1748年 1752年 1756年 1760年 1764年 1768年 1772年 1776年 1780年 1784年 1788年 1792年 1796年 1804年 1808年 1812年 1816年 1820年 1824年 1828年 1832年 1836年 1840年 1844年 1848年 1852年 1856年 1860年 1864年 1868年 1872年 1876年 1880年 1884年 1888年 1892年 1896年 1904年 1908年 1912年 1916年 1920年 1924年 1928年 1932年 1936年 1940年 1944年 1948年 1952年 1956年 1960年 1964年 1968年 1972年 1976年 1980年 1984年 1988年 1992年 1996年 2000年 2004年 2008年 2012年 2016年 2020年 \n",
      "入力した1800年は閏年です。\n"
     ]
    }
   ],
   "source": [
    "select_year = int(input(\"好きな年数を入力してください：\"))\n",
    "print(\"１６００〜２０２０年までの閏年一覧\")\n",
    "for year in range(1600, 2021) : \n",
    "    if (year % 400 == 0) or (year % 4 == 0) and (year % 100 != 0) : \n",
    "        print(f\"{year}年 \",  end=\"\")\n",
    "        \n",
    "print()\n",
    "if select_year == (year % 400 == 0) or (year % 4 == 0) and (year % 100 != 0) :\n",
    "    print(f\"入力した{select_year}年は閏年です。\")\n",
    "else: \n",
    "    print(f\"入力した{select_year}年は閏年ではありません\")"
   ]
  },
  {
   "cell_type": "code",
   "execution_count": 141,
   "metadata": {},
   "outputs": [
    {
     "name": "stdout",
     "output_type": "stream",
     "text": [
      "1600~2020年までの閏年一覧\n",
      "1600年  1604年  1608年  1612年  1616年  1620年  1624年  1628年  1632年  1636年  1640年  1644年  1648年  1652年  1656年  1660年  1664年  1668年  1672年  1676年  1680年  1684年  1688年  1692年  1696年  1704年  1708年  1712年  1716年  1720年  1724年  1728年  1732年  1736年  1740年  1744年  1748年  1752年  1756年  1760年  1764年  1768年  1772年  1776年  1780年  1784年  1788年  1792年  1796年  1804年  1808年  1812年  1816年  1820年  1824年  1828年  1832年  1836年  1840年  1844年  1848年  1852年  1856年  1860年  1864年  1868年  1872年  1876年  1880年  1884年  1888年  1892年  1896年  1904年  1908年  1912年  1916年  1920年  1924年  1928年  1932年  1936年  1940年  1944年  1948年  1952年  1956年  1960年  1964年  1968年  1972年  1976年  1980年  1984年  1988年  1992年  1996年  2000年  2004年  2008年  2012年  2016年  2020年  "
     ]
    }
   ],
   "source": [
    "print(\"1600~2020年までの閏年一覧\")\n",
    "for year in range(1600, 2021) : \n",
    "    if (year % 400 == 0) or (year % 4 == 0) and (year % 100 != 0) : \n",
    "        print(f\"{year}年 \", end=\" \")"
   ]
  },
  {
   "cell_type": "code",
   "execution_count": 142,
   "metadata": {},
   "outputs": [
    {
     "name": "stdout",
     "output_type": "stream",
     "text": [
      "1600~2020年までの閏年一覧\n",
      "1600年　 1604年　 1608年　 1612年　 1616年　 1620年　 1624年　 1628年　 1632年　 1636年　 1640年　 1644年　 1648年　 1652年　 1656年　 1660年　 1664年　 1668年　 1672年　 1676年　 1680年　 1684年　 1688年　 1692年　 1696年　 1704年　 1708年　 1712年　 1716年　 1720年　 1724年　 1728年　 1732年　 1736年　 1740年　 1744年　 1748年　 1752年　 1756年　 1760年　 1764年　 1768年　 1772年　 1776年　 1780年　 1784年　 1788年　 1792年　 1796年　 1804年　 1808年　 1812年　 1816年　 1820年　 1824年　 1828年　 1832年　 1836年　 1840年　 1844年　 1848年　 1852年　 1856年　 1860年　 1864年　 1868年　 1872年　 1876年　 1880年　 1884年　 1888年　 1892年　 1896年　 1904年　 1908年　 1912年　 1916年　 1920年　 1924年　 1928年　 1932年　 1936年　 1940年　 1944年　 1948年　 1952年　 1956年　 1960年　 1964年　 1968年　 1972年　 1976年　 1980年　 1984年　 1988年　 1992年　 1996年　 2000年　 2004年　 2008年　 2012年　 2016年　 2020年　 "
     ]
    }
   ],
   "source": [
    "print(\"1600~2020年までの閏年一覧\") \n",
    "for year in range(1600, 2021) : \n",
    "    if (year % 400 == 0) or  (year % 4 == 0) and (year % 100 != 0) : \n",
    "        print(f\"{year}年　\", end=\" \")"
   ]
  },
  {
   "cell_type": "code",
   "execution_count": 252,
   "metadata": {},
   "outputs": [
    {
     "name": "stdout",
     "output_type": "stream",
     "text": [
      "Input Number: 5\n",
      "-------------------\n",
      "    *     \n",
      "   * *    \n",
      "  * * *   \n",
      " * * * *  \n",
      "* * * * * \n"
     ]
    }
   ],
   "source": [
    "num = int(input(\"Input Number: \")) \n",
    "print(\"-------------------\")\n",
    "for i in range(1, num+1) : \n",
    "    result = \"* \" * i \n",
    "    print(result.center(num*2,\" \"))"
   ]
  },
  {
   "cell_type": "code",
   "execution_count": 152,
   "metadata": {},
   "outputs": [
    {
     "name": "stdout",
     "output_type": "stream",
     "text": [
      "数字を入力してください5\n",
      "\n",
      "X\n",
      "XX\n",
      "XXX\n",
      "XXXX\n",
      "XXXXX\n"
     ]
    }
   ],
   "source": [
    "n = int(input(\"数字を入力してください\"))\n",
    "for i in range(n+1) : \n",
    "    print(\"X\" * i)"
   ]
  },
  {
   "cell_type": "code",
   "execution_count": 262,
   "metadata": {},
   "outputs": [
    {
     "name": "stdout",
     "output_type": "stream",
     "text": [
      "number:10\n",
      "          \n",
      "         * \n",
      "        * * \n",
      "       * * * \n",
      "      * * * * \n",
      "     * * * * * \n",
      "    * * * * * * \n",
      "   * * * * * * * \n",
      "  * * * * * * * * \n",
      " * * * * * * * * * \n"
     ]
    }
   ],
   "source": [
    "n = int(input(\"number:\"))\n",
    "for i in range(n) : \n",
    "    print(\" \" * (n - i), end=\"\")\n",
    "    print(\"* \" * i)"
   ]
  },
  {
   "cell_type": "code",
   "execution_count": 261,
   "metadata": {},
   "outputs": [
    {
     "name": "stdout",
     "output_type": "stream",
     "text": [
      "Input Number：10\n",
      "--------------------\n",
      "         *          \n",
      "        * *         \n",
      "       * * *        \n",
      "      * * * *       \n",
      "     * * * * *      \n",
      "    * * * * * *     \n",
      "   * * * * * * *    \n",
      "  * * * * * * * *   \n",
      " * * * * * * * * *  \n",
      "* * * * * * * * * * \n"
     ]
    }
   ],
   "source": [
    "num = int(input(\"Input Number：\"))\n",
    "print(\"--------------------\")\n",
    "for i in range(1, num+1) : \n",
    "    result = \"* \" * i \n",
    "    print(result.center(num*2, \" \"))"
   ]
  },
  {
   "cell_type": "code",
   "execution_count": 265,
   "metadata": {},
   "outputs": [
    {
     "name": "stdout",
     "output_type": "stream",
     "text": [
      "身長を入力してください180.5\n",
      "体重を入力してください85.7\n",
      "身長：180.5cm\n",
      "体重：85.7kg\n",
      "標準体重：71.68kg\n"
     ]
    }
   ],
   "source": [
    "tall = float(input(\"身長を入力してください：\"))\n",
    "weight = float(input(\"体重を入力してください：\"))\n",
    "bmi = 22 \n",
    "sd_weight = bmi * (tall/100)**2 \n",
    "print(f\"身長：{tall}cm\")\n",
    "print(f\"体重：{weight}kg\")\n",
    "print(f\"標準体重：{round(sd_weight, 2)}kg\")"
   ]
  },
  {
   "cell_type": "code",
   "execution_count": 280,
   "metadata": {},
   "outputs": [
    {
     "name": "stdout",
     "output_type": "stream",
     "text": [
      "好きな月の数字を入力してください(1~12)12\n",
      "12月は冬です。\n"
     ]
    }
   ],
   "source": [
    "month = int(input(\"好きな月の数字を入力してください(1~12)：\"))\n",
    "if 3 <= month <= 5 :\n",
    "        print(f\"{month}月は春です。\")\n",
    "elif 6 <= month <= 8 : \n",
    "        print(f\"{month}月は夏です。\")\n",
    "elif 9 <= month <= 11 : \n",
    "        print(f\"{month}月は秋です。\")\n",
    "else : \n",
    "        print(f\"{month}月は冬です。\")\n",
    "        "
   ]
  },
  {
   "cell_type": "code",
   "execution_count": 289,
   "metadata": {},
   "outputs": [
    {
     "name": "stdout",
     "output_type": "stream",
     "text": [
      "２以上の数字を入力してください：13\n",
      "13は素数です。\n"
     ]
    }
   ],
   "source": [
    "num = int(input(\"２以上の数字を入力してください：\"))\n",
    "i = 2 \n",
    "while True : \n",
    "    if num == i : \n",
    "        print(f\"{num}は素数です。\")\n",
    "        break \n",
    "    elif num % i == 0 : \n",
    "        print(f\"{num}は素数ではありません。\")\n",
    "        break \n",
    "    i += 1 \n",
    "    "
   ]
  },
  {
   "cell_type": "code",
   "execution_count": 295,
   "metadata": {},
   "outputs": [
    {
     "name": "stdout",
     "output_type": "stream",
     "text": [
      "1600~2020年までの閏年一覧\n",
      "1600年  1604年  1608年  1612年  1616年  1620年  1624年  1628年  1632年  1636年  1640年  1644年  1648年  1652年  1656年  1660年  1664年  1668年  1672年  1676年  1680年  1684年  1688年  1692年  1696年  1704年  1708年  1712年  1716年  1720年  1724年  1728年  1732年  1736年  1740年  1744年  1748年  1752年  1756年  1760年  1764年  1768年  1772年  1776年  1780年  1784年  1788年  1792年  1796年  1804年  1808年  1812年  1816年  1820年  1824年  1828年  1832年  1836年  1840年  1844年  1848年  1852年  1856年  1860年  1864年  1868年  1872年  1876年  1880年  1884年  1888年  1892年  1896年  1904年  1908年  1912年  1916年  1920年  1924年  1928年  1932年  1936年  1940年  1944年  1948年  1952年  1956年  1960年  1964年  1968年  1972年  1976年  1980年  1984年  1988年  1992年  1996年  2000年  2004年  2008年  2012年  2016年  2020年  "
     ]
    }
   ],
   "source": [
    "print(\"1600~2020年までの閏年一覧\")\n",
    "for year in range(1600, 2021) :\n",
    "    if (year % 400 ==0) or (year % 4 == 0) and (year % 100 != 0) :\n",
    "        print(f\"{year}年 \", end=\" \")"
   ]
  },
  {
   "cell_type": "code",
   "execution_count": 296,
   "metadata": {},
   "outputs": [
    {
     "name": "stdout",
     "output_type": "stream",
     "text": [
      "Inpiut Number：5\n",
      "------------------------\n",
      "    *     \n",
      "   * *    \n",
      "  * * *   \n",
      " * * * *  \n",
      "* * * * * \n"
     ]
    }
   ],
   "source": [
    "num = int(input(\"Inpiut Number：\"))\n",
    "print(\"------------------------\")\n",
    "for i in range(1, num+1) : \n",
    "    result = \"* \" * i \n",
    "    print(result.center(num*2, \" \"))"
   ]
  },
  {
   "cell_type": "code",
   "execution_count": null,
   "metadata": {},
   "outputs": [],
   "source": []
  }
 ],
 "metadata": {
  "kernelspec": {
   "display_name": "Python 3",
   "language": "python",
   "name": "python3"
  },
  "language_info": {
   "codemirror_mode": {
    "name": "ipython",
    "version": 3
   },
   "file_extension": ".py",
   "mimetype": "text/x-python",
   "name": "python",
   "nbconvert_exporter": "python",
   "pygments_lexer": "ipython3",
   "version": "3.7.3"
  }
 },
 "nbformat": 4,
 "nbformat_minor": 2
}
