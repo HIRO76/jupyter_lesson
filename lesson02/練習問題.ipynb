{
 "cells": [
  {
   "cell_type": "code",
   "execution_count": null,
   "metadata": {},
   "outputs": [
    {
     "name": "stdout",
     "output_type": "stream",
     "text": [
      "身長を入力してください：170\n"
     ]
    }
   ],
   "source": [
    "tall = float(input(\"身長を入力してください：\"))\n",
    "weight = float(input(\"体重を入力してください：\"))\n",
    "bmi = 22  \n",
    "sd_weight = bmi * (tall/100)**2 \n",
    "print(f\"身長：{tall}cm\")\n",
    "print(f\"体重：{weight}kg\")\n",
    "print(f\"標準体重：{round(sd_weight, 2)}kg\")"
   ]
  },
  {
   "cell_type": "code",
   "execution_count": null,
   "metadata": {},
   "outputs": [],
   "source": []
  }
 ],
 "metadata": {
  "kernelspec": {
   "display_name": "Python 3",
   "language": "python",
   "name": "python3"
  },
  "language_info": {
   "codemirror_mode": {
    "name": "ipython",
    "version": 3
   },
   "file_extension": ".py",
   "mimetype": "text/x-python",
   "name": "python",
   "nbconvert_exporter": "python",
   "pygments_lexer": "ipython3",
   "version": "3.7.3"
  }
 },
 "nbformat": 4,
 "nbformat_minor": 2
}
