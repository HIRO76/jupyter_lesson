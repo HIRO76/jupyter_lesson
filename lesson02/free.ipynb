{
 "cells": [
  {
   "cell_type": "code",
   "execution_count": 3,
   "metadata": {},
   "outputs": [
    {
     "name": "stdout",
     "output_type": "stream",
     "text": [
      "my name is : hoge\n"
     ]
    }
   ],
   "source": [
    "def name(func):\n",
    "    def wrapper():\n",
    "        return \"my name is : \" + func()\n",
    "    return wrapper\n",
    "\n",
    "@name\n",
    "def hoge():\n",
    "    return \"hoge\"\n",
    "\n",
    "print(hoge())"
   ]
  },
  {
   "cell_type": "code",
   "execution_count": 7,
   "metadata": {},
   "outputs": [
    {
     "name": "stdout",
     "output_type": "stream",
     "text": [
      "<a><i>hello world</i></a>\n"
     ]
    }
   ],
   "source": [
    "def make_a(func):\n",
    "    def wrapper():\n",
    "        return \"<a>\" + func() + \"</a>\"\n",
    "    return wrapper\n",
    "\n",
    "def make_i(func):\n",
    "    def wrapper():\n",
    "        return \"<i>\" + func() + \"</i>\"\n",
    "    return wrapper \n",
    "\n",
    "@make_a\n",
    "@make_i\n",
    "def hello():\n",
    "    return \"hello world\"\n",
    "\n",
    "print(hello())"
   ]
  },
  {
   "cell_type": "code",
   "execution_count": 10,
   "metadata": {},
   "outputs": [
    {
     "name": "stdout",
     "output_type": "stream",
     "text": [
      "called function name: a_func\n",
      "('Hello',)\n"
     ]
    }
   ],
   "source": [
    "def call(func):\n",
    "    def wrapper(*args, **kwargs):\n",
    "        print(\"called function name: {}\".format(func.__name__))\n",
    "        return func(*args, **kwargs)\n",
    "    return wrapper\n",
    "\n",
    "@call\n",
    "def a_func(*args):\n",
    "    print(args)\n",
    "\n",
    "a_func(\"Hello\")"
   ]
  },
  {
   "cell_type": "code",
   "execution_count": 23,
   "metadata": {},
   "outputs": [
    {
     "name": "stdout",
     "output_type": "stream",
     "text": [
      "called function name: b_func\n",
      "Hello\n"
     ]
    }
   ],
   "source": [
    "def call(func):\n",
    "    def wrapper(*args, **kwargs):\n",
    "        print(\"called function name: {}\".format(func.__name__))\n",
    "        return func(*args, **kwargs)\n",
    "    return wrapper\n",
    "\n",
    "@call\n",
    "def b_func():\n",
    "    print(\"Hello\")\n",
    "    \n",
    "b_func()"
   ]
  },
  {
   "cell_type": "code",
   "execution_count": 43,
   "metadata": {},
   "outputs": [
    {
     "ename": "SyntaxError",
     "evalue": "keyword argument repeated (<ipython-input-43-5ab6d182dfd8>, line 10)",
     "output_type": "error",
     "traceback": [
      "\u001b[0;36m  File \u001b[0;32m\"<ipython-input-43-5ab6d182dfd8>\"\u001b[0;36m, line \u001b[0;32m10\u001b[0m\n\u001b[0;31m    fun(k=11,k=12)\u001b[0m\n\u001b[0m            ^\u001b[0m\n\u001b[0;31mSyntaxError\u001b[0m\u001b[0;31m:\u001b[0m keyword argument repeated\n"
     ]
    }
   ],
   "source": [
    "def fun(*args, **kwargs):\n",
    "    print(f\"{args} :  , {kwargs}  :  \")\n",
    "    \n",
    "    \n",
    "fun()\n",
    "fun(1)\n",
    "fun(k=2)\n",
    "fun(3,4,5,k=6)\n",
    "fun(7,8,k=9,id=10)\n",
    "fun(k=11,k=12)"
   ]
  },
  {
   "cell_type": "code",
   "execution_count": 47,
   "metadata": {},
   "outputs": [
    {
     "name": "stdout",
     "output_type": "stream",
     "text": [
      "メッセージを入力しくてださい：hello world\n",
      "message for you : hello world\n"
     ]
    }
   ],
   "source": [
    "def deco(msg):\n",
    "    def _deco(func):\n",
    "        def wrapper(*args, **kwargs):\n",
    "            func(*args, **kwargs)\n",
    "            print(msg)\n",
    "        return wrapper\n",
    "    return _deco\n",
    "\n",
    "msg=input(\"メッセージを入力しくてださい：\")\n",
    "\n",
    "@deco(msg)\n",
    "def a_func():\n",
    "    print(\"message for you : \", end=\"\")\n",
    "\n",
    "a_func()"
   ]
  },
  {
   "cell_type": "code",
   "execution_count": 51,
   "metadata": {},
   "outputs": [
    {
     "name": "stdout",
     "output_type": "stream",
     "text": [
      "Do you like Python??:  Yes\n"
     ]
    }
   ],
   "source": [
    "def deco(msg):\n",
    "    def _deco(func):\n",
    "        def wrapper(*args, **kwargs):\n",
    "            func(*args, **kwargs)\n",
    "            print(msg)\n",
    "        return wrapper \n",
    "    return _deco\n",
    "\n",
    "@deco(\"Yes\")\n",
    "def b_func(msg):\n",
    "    print(msg, end=\"\")\n",
    "\n",
    "b_func(\"Do you like Python??:  \")"
   ]
  },
  {
   "cell_type": "code",
   "execution_count": 62,
   "metadata": {},
   "outputs": [
    {
     "name": "stdout",
     "output_type": "stream",
     "text": [
      "<html><body>Hello Python</body></html>\n"
     ]
    }
   ],
   "source": [
    "def html(tag):\n",
    "    def _html(func):\n",
    "        def wrapper(*args, **kwargs):\n",
    "            res = '<' + tag + '>'  \n",
    "            res += func(*args, **kwargs)\n",
    "            res += '</' + tag + '>'\n",
    "            return res\n",
    "        return wrapper\n",
    "    return _html\n",
    "\n",
    "@html(\"html\")\n",
    "@html(\"body\")\n",
    "def hello():\n",
    "    return \"Hello Python\"\n",
    "    \n",
    "print(hello())"
   ]
  },
  {
   "cell_type": "code",
   "execution_count": 69,
   "metadata": {},
   "outputs": [
    {
     "name": "stdout",
     "output_type": "stream",
     "text": [
      "suzuki 300 1\n"
     ]
    }
   ],
   "source": [
    "class Person:\n",
    "    count = 0\n",
    "    def __init__(self, name, age):\n",
    "        self.name = name\n",
    "        self.age = age \n",
    "        Person.count += 1\n",
    "        \n",
    "    def name(self):\n",
    "        return self.name\n",
    "    \n",
    "    def age(self):\n",
    "        return self.age\n",
    "    \n",
    "pr1 = Person(\"suzuki\", 300)\n",
    "print(pr1.name, pr1.age, Person.count)"
   ]
  },
  {
   "cell_type": "code",
   "execution_count": 83,
   "metadata": {},
   "outputs": [
    {
     "name": "stdout",
     "output_type": "stream",
     "text": [
      "suzukiです。250超人パワーです。\n",
      "kawasakiです。400超人パワーです。\n",
      "2人合わせて、バイカーズです。\n"
     ]
    }
   ],
   "source": [
    "class Person:\n",
    "    count = 0\n",
    "    \n",
    "    def __init__(self, name, age):\n",
    "        self.name = name\n",
    "        self.age = age \n",
    "        Person.count += 1\n",
    "        \n",
    "    def Name(self):\n",
    "        return self.name\n",
    "    \n",
    "    def Age(self):\n",
    "        return self.age\n",
    "    \n",
    "    @classmethod\n",
    "    def test(cls):\n",
    "        return cls.count\n",
    "    \n",
    "pr1 = Person(\"suzuki\", 250)\n",
    "pr2 = Person(\"kawasaki\", 400)\n",
    "print(f\"{pr1.name}です。{pr1.age}超人パワーです。\")\n",
    "print(f\"{pr2.name}です。{pr2.age}超人パワーです。\")\n",
    "print(f\"{Person.test()}人合わせて、バイカーズです。\")"
   ]
  },
  {
   "cell_type": "code",
   "execution_count": 103,
   "metadata": {},
   "outputs": [
    {
     "name": "stdout",
     "output_type": "stream",
     "text": [
      "wwwwwww 30\n"
     ]
    }
   ],
   "source": [
    "class Person:\n",
    "\n",
    "    def __init__(self, name, age):  \n",
    "        self.name=name\n",
    "        self.age=age\n",
    "        \n",
    "    def Name(self):\n",
    "        return self.name\n",
    "    \n",
    "    def Age(self):\n",
    "        return self.age\n",
    "    \n",
    "    \n",
    "    \n",
    "pr = Person(\"wwwwwww\", 30)\n",
    "\n",
    "print(f\"{pr.name} {pr.age}\")"
   ]
  },
  {
   "cell_type": "code",
   "execution_count": 124,
   "metadata": {},
   "outputs": [
    {
     "name": "stdout",
     "output_type": "stream",
     "text": [
      "氏名：　suzsuki　 年齢： 30\n",
      "アドレス：aaa@aaa.com　　TEL：123-4567\n"
     ]
    }
   ],
   "source": [
    "class Person:\n",
    "    def __init__(self, name, age):\n",
    "        self.name = name\n",
    "        self.age = age\n",
    "        \n",
    "    def getName(self):\n",
    "        return self.name\n",
    "    \n",
    "    def getAge(self):\n",
    "        return self.age\n",
    "    \n",
    "class Customer(Person):\n",
    "    def __init__(self, name, age, adr, tel):\n",
    "#         super().__init__(name, age)\n",
    "        self.name = name\n",
    "        self.age = age\n",
    "        self.adr = adr\n",
    "        self.tel = tel \n",
    "        \n",
    "    def getName(self):\n",
    "        self.name = \"氏名：　\" + self.name\n",
    "        return self.name\n",
    "    \n",
    "    def getAge(self):\n",
    "        self.age = \"年齢： \" + self.age\n",
    "    \n",
    "    def getAdr(self):\n",
    "        return self.adr\n",
    "    \n",
    "    def getTel(self):\n",
    "        return self.tel\n",
    "    \n",
    "pr = Customer(\"suzsuki\", \"30\", \"aaa@aaa.com\", \"123-4567\")\n",
    "name = pr.getName()\n",
    "age = pr.getAge()\n",
    "# print(nm)\n",
    "print(f\"{pr.name}　 {pr.age}\")\n",
    "print(f\"アドレス：{pr.adr}　　TEL：{pr.tel}\")\n"
   ]
  },
  {
   "cell_type": "code",
   "execution_count": 132,
   "metadata": {},
   "outputs": [
    {
     "name": "stdout",
     "output_type": "stream",
     "text": [
      "suzuki\n",
      "suzuki\n"
     ]
    }
   ],
   "source": [
    "class Person:\n",
    "    def __init__(self, name):\n",
    "        self.name = name\n",
    "        \n",
    "    def Name(self):\n",
    "        return self.name\n",
    "    \n",
    "    def __str__(self):\n",
    "        str = self.name + \"殿\"\n",
    "        return str\n",
    "    \n",
    "pr = Person(\"suzuki\")\n",
    "print(str(pr.name))\n",
    "print(str(\"suzuki\"))"
   ]
  },
  {
   "cell_type": "code",
   "execution_count": null,
   "metadata": {},
   "outputs": [],
   "source": []
  }
 ],
 "metadata": {
  "kernelspec": {
   "display_name": "Python 3",
   "language": "python",
   "name": "python3"
  },
  "language_info": {
   "codemirror_mode": {
    "name": "ipython",
    "version": 3
   },
   "file_extension": ".py",
   "mimetype": "text/x-python",
   "name": "python",
   "nbconvert_exporter": "python",
   "pygments_lexer": "ipython3",
   "version": "3.7.3"
  }
 },
 "nbformat": 4,
 "nbformat_minor": 2
}
