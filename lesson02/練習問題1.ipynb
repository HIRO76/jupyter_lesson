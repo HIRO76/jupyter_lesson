{
 "cells": [
  {
   "cell_type": "code",
   "execution_count": 1,
   "metadata": {},
   "outputs": [
    {
     "name": "stdout",
     "output_type": "stream",
     "text": [
      "身長を入力してください：170\n",
      "体重を入力してください：60\n",
      "身長：170.0cm\n",
      "体重：60.0kg\n",
      "標準体重：63.58kg\n"
     ]
    }
   ],
   "source": [
    "tall = float(input(\"身長を入力してください：\"))\n",
    "weight = float(input(\"体重を入力してください：\"))\n",
    "bmi = 22  \n",
    "sd_weight = bmi * (tall/100)**2 \n",
    "print(f\"身長：{tall}cm\")\n",
    "print(f\"体重：{weight}kg\")\n",
    "print(f\"標準体重：{round(sd_weight, 2)}kg\")"
   ]
  },
  {
   "cell_type": "code",
   "execution_count": 3,
   "metadata": {},
   "outputs": [
    {
     "name": "stdout",
     "output_type": "stream",
     "text": [
      "身長を入力しくてください：170\n",
      "体重を入力してください：60\n",
      "身長：170.0cm\n",
      "体重：60.0kg\n",
      "標準体重：63.58kg\n"
     ]
    }
   ],
   "source": [
    "tall=float(input(\"身長を入力しくてください：\"))\n",
    "weight = float(input(\"体重を入力してください：\"))\n",
    "std_weight = 22 * (tall/100)**2\n",
    "print(f\"身長：{tall}cm\")\n",
    "print(f\"体重：{weight}kg\")\n",
    "print(f\"標準体重：{round(std_weight, 2)}kg\")"
   ]
  },
  {
   "cell_type": "code",
   "execution_count": 6,
   "metadata": {},
   "outputs": [
    {
     "name": "stdout",
     "output_type": "stream",
     "text": [
      "好きな月を入力してください（１〜１２）：12\n",
      "12月は冬です。\n"
     ]
    }
   ],
   "source": [
    "month = int(input(\"好きな月を入力してください（１〜１２）：\"))\n",
    "if 3 <= month <= 5 : \n",
    "        print(f\"{month}月は春です。\")\n",
    "elif 6 <= month <= 8 : \n",
    "        print(f\"{month}月は夏です。\")\n",
    "elif 9 <= month <= 11 : \n",
    "        print(f\"{month}月は秋です。\")\n",
    "else : \n",
    "        print(f\"{month}月は冬です。\")\n"
   ]
  },
  {
   "cell_type": "code",
   "execution_count": 4,
   "metadata": {},
   "outputs": [
    {
     "name": "stdout",
     "output_type": "stream",
     "text": [
      "好きな月を入力：12\n",
      "12月は冬です\n"
     ]
    }
   ],
   "source": [
    "month=int(input(\"好きな月を入力：\"))\n",
    "if 3 <= month <= 5:\n",
    "    print(f\"{month}月は春です\")\n",
    "elif 6 <= month <= 8:\n",
    "    print(f\"{month}月は夏です\")\n",
    "elif 9 <= month <= 11:\n",
    "    print(f\"{month}月は秋です\")\n",
    "else:\n",
    "    print(f\"{month}月は冬です\")"
   ]
  },
  {
   "cell_type": "code",
   "execution_count": 53,
   "metadata": {},
   "outputs": [
    {
     "name": "stdout",
     "output_type": "stream",
     "text": [
      "２以上で好きな数字を入力してください：2\n",
      "2\n",
      "2は素数です。\n"
     ]
    }
   ],
   "source": [
    "num = int(input(\"２以上で好きな数字を入力してください：\"))\n",
    "i = 2 \n",
    "while True : \n",
    "        print(i)\n",
    "        if i == num : \n",
    "                print(f\"{num}は素数です。\") \n",
    "                break\n",
    "        elif num % i == 0 : \n",
    "                print(f\"{num}は素数ではありません。\")\n",
    "                break\n",
    "        i += 1 \n"
   ]
  },
  {
   "cell_type": "code",
   "execution_count": 29,
   "metadata": {},
   "outputs": [
    {
     "name": "stdout",
     "output_type": "stream",
     "text": [
      "２以上の好きな数字を入力してください：2\n",
      "2は素数です\n"
     ]
    }
   ],
   "source": [
    "num=int(input(\"２以上の好きな数字を入力してください：\"))\n",
    "for n in range(2,num+1):\n",
    "    if num == n: \n",
    "        print(f\"{num}は素数です\")\n",
    "    elif num % n == 0:\n",
    "        print(f\"{num}は素数ではありません\")\n",
    "        break"
   ]
  },
  {
   "cell_type": "code",
   "execution_count": 14,
   "metadata": {},
   "outputs": [
    {
     "name": "stdout",
     "output_type": "stream",
     "text": [
      "2以上の好きな数字を入力：9\n",
      "9は素数ではありません\n"
     ]
    }
   ],
   "source": [
    "n=int(input(\"2以上の好きな数字を入力：\"))\n",
    "i = 2\n",
    "while True:\n",
    "    if n == i:\n",
    "        print(f\"{n}は素数です\")\n",
    "        break \n",
    "    elif n % i == 0:\n",
    "        print(f\"{n}は素数ではありません\")\n",
    "        break\n",
    "    i += 1"
   ]
  },
  {
   "cell_type": "code",
   "execution_count": 40,
   "metadata": {},
   "outputs": [
    {
     "name": "stdout",
     "output_type": "stream",
     "text": [
      "2以上で好きな数字を入力してください：6\n",
      "6は素数ではありません。2\n",
      "6は素数ではありません。3\n",
      "6は素数です。6\n"
     ]
    }
   ],
   "source": [
    "num = int(input(\"2以上で好きな数字を入力してください：\"))\n",
    "for i in range(2, num+1) : \n",
    "    if num == i : \n",
    "        print(f\"{num}は素数です。\")\n",
    "    elif num % i == 0 : \n",
    "        print(f\"{num}は素数ではありません。\")\n",
    "        break\n"
   ]
  },
  {
   "cell_type": "code",
   "execution_count": 64,
   "metadata": {},
   "outputs": [
    {
     "name": "stdout",
     "output_type": "stream",
     "text": [
      "２以上の数字を入力してください23\n",
      "23は素数です。\n"
     ]
    }
   ],
   "source": [
    "while True : \n",
    "    num = int(input(\"２以上の数字を入力してください:\"))\n",
    "    if num >= 2 : \n",
    "        for i in range(2, num+1) : \n",
    "            if num == i :\n",
    "                print(f\"{num}は素数です。\") \n",
    "            elif num % i == 0 : \n",
    "                print(f\"{num}は素数ではありません。\")\n",
    "                break \n",
    "        break\n",
    "    else : \n",
    "        print(\"1以上で入力してください\")"
   ]
  },
  {
   "cell_type": "code",
   "execution_count": 71,
   "metadata": {},
   "outputs": [
    {
     "name": "stdout",
     "output_type": "stream",
     "text": [
      "1以上の数字を入力してください78\n",
      "78は素数ではありません。\n"
     ]
    }
   ],
   "source": [
    "i = 2\n",
    "while True : \n",
    "    num = int(input(\"1以上の数字を入力してください:\"))\n",
    "    if num >= 2 : \n",
    "        while True : \n",
    "            if num == i : \n",
    "                print(f\"{num}は素数です。\")\n",
    "                break \n",
    "            elif num % i == 0 : \n",
    "                print(f\"{num}は素数ではありません。\")\n",
    "                break \n",
    "            i += 1\n",
    "        break \n",
    "    else : \n",
    "        print(\"1以上で入力してください\")\n",
    "        "
   ]
  },
  {
   "cell_type": "code",
   "execution_count": 81,
   "metadata": {},
   "outputs": [
    {
     "name": "stdout",
     "output_type": "stream",
     "text": [
      "2以上の数字を入力してください：11\n",
      "11は素数です。\n"
     ]
    }
   ],
   "source": [
    "num = int(input(\"2以上の数字を入力してください：\"))\n",
    "for i in range(2, num+1) : \n",
    "    if num == i : \n",
    "        print(f\"{num}は素数です。\")\n",
    "    elif num % i == 0 : \n",
    "        print(f\"{num}は素数ではありません。\")\n",
    "        break \n",
    "        "
   ]
  },
  {
   "cell_type": "code",
   "execution_count": 91,
   "metadata": {},
   "outputs": [
    {
     "name": "stdout",
     "output_type": "stream",
     "text": [
      "2以上の数字を入力してください：7\n",
      "7は素数です。\n"
     ]
    }
   ],
   "source": [
    "num = int(input(\"2以上の数字を入力してください：\"))\n",
    "i = 2 \n",
    "while True : \n",
    "    if num == i : \n",
    "        print(f\"{num}は素数です。\")\n",
    "        break \n",
    "    elif num % i == 0 : \n",
    "        print(f\"{num}は素数ではありません。\")\n",
    "        break \n",
    "    i += 1"
   ]
  },
  {
   "cell_type": "code",
   "execution_count": 106,
   "metadata": {},
   "outputs": [
    {
     "name": "stdout",
     "output_type": "stream",
     "text": [
      "2以上の数字を入力してください1\n",
      "2以上の数字を入力してください2\n",
      "2は素数です。\n"
     ]
    }
   ],
   "source": [
    "while True : \n",
    "    num = int(input(\"2以上の数字を入力してください：\"))\n",
    "    if num > 1 : \n",
    "        for i in range(2, num+1) : \n",
    "            if num == i :\n",
    "                print(f\"{num}は素数です。\")\n",
    "            elif num % i == 0 : \n",
    "                print(f\"{num}は素数ではありません。\")\n",
    "                break \n",
    "        break\n",
    "            "
   ]
  },
  {
   "cell_type": "code",
   "execution_count": 120,
   "metadata": {},
   "outputs": [
    {
     "name": "stdout",
     "output_type": "stream",
     "text": [
      "2以上の数字を入力してください：1\n",
      "2以上の数字を入力してください：2\n",
      "2は素数です。\n"
     ]
    }
   ],
   "source": [
    "i = 2\n",
    "while True : \n",
    "    num = int(input(\"2以上の数字を入力してください：\"))\n",
    "    if num > 1 : \n",
    "        while True : \n",
    "            if num == i : \n",
    "                print(f\"{num}は素数です。\")\n",
    "                break \n",
    "            elif num % i == 0 : \n",
    "                print(f\"{num}は素数ではありません。\")\n",
    "                break \n",
    "            i += 1\n",
    "        break"
   ]
  },
  {
   "cell_type": "code",
   "execution_count": 128,
   "metadata": {},
   "outputs": [
    {
     "name": "stdout",
     "output_type": "stream",
     "text": [
      "1600~2020年の閏年一覧\n",
      "1600年  1604年  1608年  1612年  1616年  1620年  1624年  1628年  1632年  1636年  1640年  1644年  1648年  1652年  1656年  1660年  1664年  1668年  1672年  1676年  1680年  1684年  1688年  1692年  1696年  1704年  1708年  1712年  1716年  1720年  1724年  1728年  1732年  1736年  1740年  1744年  1748年  1752年  1756年  1760年  1764年  1768年  1772年  1776年  1780年  1784年  1788年  1792年  1796年  1804年  1808年  1812年  1816年  1820年  1824年  1828年  1832年  1836年  1840年  1844年  1848年  1852年  1856年  1860年  1864年  1868年  1872年  1876年  1880年  1884年  1888年  1892年  1896年  1904年  1908年  1912年  1916年  1920年  1924年  1928年  1932年  1936年  1940年  1944年  1948年  1952年  1956年  1960年  1964年  1968年  1972年  1976年  1980年  1984年  1988年  1992年  1996年  2000年  2004年  2008年  2012年  2016年  2020年  "
     ]
    }
   ],
   "source": [
    "print(\"1600~2020年の閏年一覧\")\n",
    "for year in range(1600, 2021) : \n",
    "    if (year % 400 == 0) or (year % 4 == 0) and (year % 100 != 0) : \n",
    "        print(f\"{year}年 \", end=\" \")"
   ]
  },
  {
   "cell_type": "code",
   "execution_count": 135,
   "metadata": {},
   "outputs": [
    {
     "name": "stdout",
     "output_type": "stream",
     "text": [
      "好きな年数を入力してください：1800\n",
      "１６００〜２０２０年までの閏年一覧\n",
      "1600年 1604年 1608年 1612年 1616年 1620年 1624年 1628年 1632年 1636年 1640年 1644年 1648年 1652年 1656年 1660年 1664年 1668年 1672年 1676年 1680年 1684年 1688年 1692年 1696年 1704年 1708年 1712年 1716年 1720年 1724年 1728年 1732年 1736年 1740年 1744年 1748年 1752年 1756年 1760年 1764年 1768年 1772年 1776年 1780年 1784年 1788年 1792年 1796年 1804年 1808年 1812年 1816年 1820年 1824年 1828年 1832年 1836年 1840年 1844年 1848年 1852年 1856年 1860年 1864年 1868年 1872年 1876年 1880年 1884年 1888年 1892年 1896年 1904年 1908年 1912年 1916年 1920年 1924年 1928年 1932年 1936年 1940年 1944年 1948年 1952年 1956年 1960年 1964年 1968年 1972年 1976年 1980年 1984年 1988年 1992年 1996年 2000年 2004年 2008年 2012年 2016年 2020年 \n",
      "入力した1800年は閏年です。\n"
     ]
    }
   ],
   "source": [
    "select_year = int(input(\"好きな年数を入力してください：\"))\n",
    "print(\"１６００〜２０２０年までの閏年一覧\")\n",
    "for year in range(1600, 2021) : \n",
    "    if (year % 400 == 0) or (year % 4 == 0) and (year % 100 != 0) : \n",
    "        print(f\"{year}年 \",  end=\"\")\n",
    "        \n",
    "print()\n",
    "if select_year == (year % 400 == 0) or (year % 4 == 0) and (year % 100 != 0) :\n",
    "    print(f\"入力した{select_year}年は閏年です。\")\n",
    "else: \n",
    "    print(f\"入力した{select_year}年は閏年ではありません\")"
   ]
  },
  {
   "cell_type": "code",
   "execution_count": 141,
   "metadata": {},
   "outputs": [
    {
     "name": "stdout",
     "output_type": "stream",
     "text": [
      "1600~2020年までの閏年一覧\n",
      "1600年  1604年  1608年  1612年  1616年  1620年  1624年  1628年  1632年  1636年  1640年  1644年  1648年  1652年  1656年  1660年  1664年  1668年  1672年  1676年  1680年  1684年  1688年  1692年  1696年  1704年  1708年  1712年  1716年  1720年  1724年  1728年  1732年  1736年  1740年  1744年  1748年  1752年  1756年  1760年  1764年  1768年  1772年  1776年  1780年  1784年  1788年  1792年  1796年  1804年  1808年  1812年  1816年  1820年  1824年  1828年  1832年  1836年  1840年  1844年  1848年  1852年  1856年  1860年  1864年  1868年  1872年  1876年  1880年  1884年  1888年  1892年  1896年  1904年  1908年  1912年  1916年  1920年  1924年  1928年  1932年  1936年  1940年  1944年  1948年  1952年  1956年  1960年  1964年  1968年  1972年  1976年  1980年  1984年  1988年  1992年  1996年  2000年  2004年  2008年  2012年  2016年  2020年  "
     ]
    }
   ],
   "source": [
    "print(\"1600~2020年までの閏年一覧\")\n",
    "for year in range(1600, 2021) : \n",
    "    if (year % 400 == 0) or (year % 4 == 0) and (year % 100 != 0) : \n",
    "        print(f\"{year}年 \", end=\" \")"
   ]
  },
  {
   "cell_type": "code",
   "execution_count": 142,
   "metadata": {},
   "outputs": [
    {
     "name": "stdout",
     "output_type": "stream",
     "text": [
      "1600~2020年までの閏年一覧\n",
      "1600年　 1604年　 1608年　 1612年　 1616年　 1620年　 1624年　 1628年　 1632年　 1636年　 1640年　 1644年　 1648年　 1652年　 1656年　 1660年　 1664年　 1668年　 1672年　 1676年　 1680年　 1684年　 1688年　 1692年　 1696年　 1704年　 1708年　 1712年　 1716年　 1720年　 1724年　 1728年　 1732年　 1736年　 1740年　 1744年　 1748年　 1752年　 1756年　 1760年　 1764年　 1768年　 1772年　 1776年　 1780年　 1784年　 1788年　 1792年　 1796年　 1804年　 1808年　 1812年　 1816年　 1820年　 1824年　 1828年　 1832年　 1836年　 1840年　 1844年　 1848年　 1852年　 1856年　 1860年　 1864年　 1868年　 1872年　 1876年　 1880年　 1884年　 1888年　 1892年　 1896年　 1904年　 1908年　 1912年　 1916年　 1920年　 1924年　 1928年　 1932年　 1936年　 1940年　 1944年　 1948年　 1952年　 1956年　 1960年　 1964年　 1968年　 1972年　 1976年　 1980年　 1984年　 1988年　 1992年　 1996年　 2000年　 2004年　 2008年　 2012年　 2016年　 2020年　 "
     ]
    }
   ],
   "source": [
    "print(\"1600~2020年までの閏年一覧\") \n",
    "for year in range(1600, 2021) : \n",
    "    if (year % 400 == 0) or  (year % 4 == 0) and (year % 100 != 0) : \n",
    "        print(f\"{year}年　\", end=\" \")"
   ]
  },
  {
   "cell_type": "code",
   "execution_count": 30,
   "metadata": {},
   "outputs": [
    {
     "name": "stdout",
     "output_type": "stream",
     "text": [
      "1600年 1604年 1608年 1612年 1616年 1620年 1624年 1628年 1632年 1636年 1640年 1644年 1648年 1652年 1656年 1660年 1664年 1668年 1672年 1676年 1680年 1684年 1688年 1692年 1696年 1704年 1708年 1712年 1716年 1720年 1724年 1728年 1732年 1736年 1740年 1744年 1748年 1752年 1756年 1760年 1764年 1768年 1772年 1776年 1780年 1784年 1788年 1792年 1796年 1804年 1808年 1812年 1816年 1820年 1824年 1828年 1832年 1836年 1840年 1844年 1848年 1852年 1856年 1860年 1864年 1868年 1872年 1876年 1880年 1884年 1888年 1892年 1896年 1904年 1908年 1912年 1916年 1920年 1924年 1928年 1932年 1936年 1940年 1944年 1948年 1952年 1956年 1960年 1964年 1968年 1972年 1976年 1980年 1984年 1988年 1992年 1996年 2000年 2004年 2008年 2012年 2016年 2020年 "
     ]
    }
   ],
   "source": [
    "for year in range(1600, 2021):\n",
    "    if (year%400==0) or (year%4==0) and (year%100!=0):\n",
    "        print(f\"{year}年\", end=\" \")"
   ]
  },
  {
   "cell_type": "code",
   "execution_count": 252,
   "metadata": {},
   "outputs": [
    {
     "name": "stdout",
     "output_type": "stream",
     "text": [
      "Input Number: 5\n",
      "-------------------\n",
      "    *     \n",
      "   * *    \n",
      "  * * *   \n",
      " * * * *  \n",
      "* * * * * \n"
     ]
    }
   ],
   "source": [
    "num = int(input(\"Input Number: \")) \n",
    "print(\"-------------------\")\n",
    "for i in range(1, num+1) : \n",
    "    result = \"* \" * i \n",
    "    print(result.center(num*2,\" \"))"
   ]
  },
  {
   "cell_type": "code",
   "execution_count": 34,
   "metadata": {},
   "outputs": [
    {
     "name": "stdout",
     "output_type": "stream",
     "text": [
      "5\n",
      "    *     \n",
      "   * *    \n",
      "  * * *   \n",
      " * * * *  \n",
      "* * * * * \n"
     ]
    }
   ],
   "source": [
    "n=int(input())\n",
    "for i in range(n):\n",
    "    re=\"* \"*(i+1)\n",
    "    print(re.center(n*2, \" \"))"
   ]
  },
  {
   "cell_type": "code",
   "execution_count": 152,
   "metadata": {},
   "outputs": [
    {
     "name": "stdout",
     "output_type": "stream",
     "text": [
      "数字を入力してください5\n",
      "\n",
      "X\n",
      "XX\n",
      "XXX\n",
      "XXXX\n",
      "XXXXX\n"
     ]
    }
   ],
   "source": [
    "n = int(input(\"数字を入力してください\"))\n",
    "for i in range(n+1) : \n",
    "    print(\"X\" * i)"
   ]
  },
  {
   "cell_type": "code",
   "execution_count": 262,
   "metadata": {},
   "outputs": [
    {
     "name": "stdout",
     "output_type": "stream",
     "text": [
      "number:10\n",
      "          \n",
      "         * \n",
      "        * * \n",
      "       * * * \n",
      "      * * * * \n",
      "     * * * * * \n",
      "    * * * * * * \n",
      "   * * * * * * * \n",
      "  * * * * * * * * \n",
      " * * * * * * * * * \n"
     ]
    }
   ],
   "source": [
    "n = int(input(\"number:\"))\n",
    "for i in range(n) : \n",
    "    print(\" \" * (n - i), end=\"\")\n",
    "    print(\"* \" * i)"
   ]
  },
  {
   "cell_type": "code",
   "execution_count": 261,
   "metadata": {},
   "outputs": [
    {
     "name": "stdout",
     "output_type": "stream",
     "text": [
      "Input Number：10\n",
      "--------------------\n",
      "         *          \n",
      "        * *         \n",
      "       * * *        \n",
      "      * * * *       \n",
      "     * * * * *      \n",
      "    * * * * * *     \n",
      "   * * * * * * *    \n",
      "  * * * * * * * *   \n",
      " * * * * * * * * *  \n",
      "* * * * * * * * * * \n"
     ]
    }
   ],
   "source": [
    "num = int(input(\"Input Number：\"))\n",
    "print(\"--------------------\")\n",
    "for i in range(1, num+1) : \n",
    "    result = \"* \" * i \n",
    "    print(result.center(num*2, \" \"))"
   ]
  },
  {
   "cell_type": "code",
   "execution_count": 265,
   "metadata": {},
   "outputs": [
    {
     "name": "stdout",
     "output_type": "stream",
     "text": [
      "身長を入力してください180.5\n",
      "体重を入力してください85.7\n",
      "身長：180.5cm\n",
      "体重：85.7kg\n",
      "標準体重：71.68kg\n"
     ]
    }
   ],
   "source": [
    "tall = float(input(\"身長を入力してください：\"))\n",
    "weight = float(input(\"体重を入力してください：\"))\n",
    "bmi = 22 \n",
    "sd_weight = bmi * (tall/100)**2 \n",
    "print(f\"身長：{tall}cm\")\n",
    "print(f\"体重：{weight}kg\")\n",
    "print(f\"標準体重：{round(sd_weight, 2)}kg\")"
   ]
  },
  {
   "cell_type": "code",
   "execution_count": 280,
   "metadata": {},
   "outputs": [
    {
     "name": "stdout",
     "output_type": "stream",
     "text": [
      "好きな月の数字を入力してください(1~12)12\n",
      "12月は冬です。\n"
     ]
    }
   ],
   "source": [
    "month = int(input(\"好きな月の数字を入力してください(1~12)：\"))\n",
    "if 3 <= month <= 5 :\n",
    "        print(f\"{month}月は春です。\")\n",
    "elif 6 <= month <= 8 : \n",
    "        print(f\"{month}月は夏です。\")\n",
    "elif 9 <= month <= 11 : \n",
    "        print(f\"{month}月は秋です。\")\n",
    "else : \n",
    "        print(f\"{month}月は冬です。\")\n",
    "        "
   ]
  },
  {
   "cell_type": "code",
   "execution_count": 289,
   "metadata": {},
   "outputs": [
    {
     "name": "stdout",
     "output_type": "stream",
     "text": [
      "２以上の数字を入力してください：13\n",
      "13は素数です。\n"
     ]
    }
   ],
   "source": [
    "num = int(input(\"２以上の数字を入力してください：\"))\n",
    "i = 2 \n",
    "while True : \n",
    "    if num == i : \n",
    "        print(f\"{num}は素数です。\")\n",
    "        break \n",
    "    elif num % i == 0 : \n",
    "        print(f\"{num}は素数ではありません。\")\n",
    "        break \n",
    "    i += 1 \n",
    "    "
   ]
  },
  {
   "cell_type": "code",
   "execution_count": 295,
   "metadata": {},
   "outputs": [
    {
     "name": "stdout",
     "output_type": "stream",
     "text": [
      "1600~2020年までの閏年一覧\n",
      "1600年  1604年  1608年  1612年  1616年  1620年  1624年  1628年  1632年  1636年  1640年  1644年  1648年  1652年  1656年  1660年  1664年  1668年  1672年  1676年  1680年  1684年  1688年  1692年  1696年  1704年  1708年  1712年  1716年  1720年  1724年  1728年  1732年  1736年  1740年  1744年  1748年  1752年  1756年  1760年  1764年  1768年  1772年  1776年  1780年  1784年  1788年  1792年  1796年  1804年  1808年  1812年  1816年  1820年  1824年  1828年  1832年  1836年  1840年  1844年  1848年  1852年  1856年  1860年  1864年  1868年  1872年  1876年  1880年  1884年  1888年  1892年  1896年  1904年  1908年  1912年  1916年  1920年  1924年  1928年  1932年  1936年  1940年  1944年  1948年  1952年  1956年  1960年  1964年  1968年  1972年  1976年  1980年  1984年  1988年  1992年  1996年  2000年  2004年  2008年  2012年  2016年  2020年  "
     ]
    }
   ],
   "source": [
    "print(\"1600~2020年までの閏年一覧\")\n",
    "for year in range(1600, 2021) :\n",
    "    if (year % 400 ==0) or (year % 4 == 0) and (year % 100 != 0) :\n",
    "        print(f\"{year}年 \", end=\" \")"
   ]
  },
  {
   "cell_type": "code",
   "execution_count": 297,
   "metadata": {},
   "outputs": [
    {
     "name": "stdout",
     "output_type": "stream",
     "text": [
      "Inpiut Number：10\n",
      "------------------------\n",
      "         *          \n",
      "        * *         \n",
      "       * * *        \n",
      "      * * * *       \n",
      "     * * * * *      \n",
      "    * * * * * *     \n",
      "   * * * * * * *    \n",
      "  * * * * * * * *   \n",
      " * * * * * * * * *  \n",
      "* * * * * * * * * * \n"
     ]
    }
   ],
   "source": [
    "num = int(input(\"Inpiut Number：\"))\n",
    "print(\"------------------------\")\n",
    "for i in range(1, num+1) : \n",
    "    result = \"* \" * i \n",
    "    print(result.center(num*2, \" \"))"
   ]
  },
  {
   "cell_type": "code",
   "execution_count": 39,
   "metadata": {},
   "outputs": [
    {
     "name": "stdout",
     "output_type": "stream",
     "text": [
      "1\t2\t3\t4\t5\t6\t7\t8\t9\t\n",
      "2\t4\t6\t8\t10\t12\t14\t16\t18\t\n",
      "3\t6\t9\t12\t15\t18\t21\t24\t27\t\n",
      "4\t8\t12\t16\t20\t24\t28\t32\t36\t\n",
      "5\t10\t15\t20\t25\t30\t35\t40\t45\t\n",
      "6\t12\t18\t24\t30\t36\t42\t48\t54\t\n",
      "7\t14\t21\t28\t35\t42\t49\t56\t63\t\n",
      "8\t16\t24\t32\t40\t48\t56\t64\t72\t\n",
      "9\t18\t27\t36\t45\t54\t63\t72\t81\t\n"
     ]
    }
   ],
   "source": [
    "for i in range(1,10):\n",
    "    for j in range(1,10):\n",
    "        print(i*j, end=\"\\t\")\n",
    "    print()"
   ]
  },
  {
   "cell_type": "code",
   "execution_count": 54,
   "metadata": {},
   "outputs": [
    {
     "name": "stdout",
     "output_type": "stream",
     "text": [
      "テストの点は74, 85, 69, 77, 81, 点です。\n",
      "最高点は85点です\n",
      "最低点は69点です\n",
      "平均点は77.2点です\n"
     ]
    }
   ],
   "source": [
    "data=[74,85,69,77,81]\n",
    "print(\"テストの点は\", end=\"\")\n",
    "for d in data:\n",
    "    print(d, end=\", \")\n",
    "print(\"点です。\")\n",
    "\n",
    "print(f\"最高点は{max(data)}点です\")\n",
    "print(f\"最低点は{min(data)}点です\")\n",
    "print(f\"平均点は{sum(data)/len(data)}点です\")"
   ]
  },
  {
   "cell_type": "code",
   "execution_count": 69,
   "metadata": {},
   "outputs": [
    {
     "name": "stdout",
     "output_type": "stream",
     "text": [
      "テストの点数は74, 85, 69, 77, 81, 点です\n",
      "昇順は69, 74, 77, 81, 85, 点です\n",
      "降順は85, 81, 77, 74, 69, 点です。\n"
     ]
    }
   ],
   "source": [
    "data=[74,85,69,77,81]\n",
    "print(\"テストの点数は\", end=\"\")\n",
    "for d in data:\n",
    "    print(d, end=\", \")\n",
    "print(\"点です\")\n",
    "\n",
    "print(\"昇順は\", end=\"\")\n",
    "for i in sorted(data):\n",
    "    print(i, end=\", \")\n",
    "print(\"点です\")\n",
    "\n",
    "print(\"降順は\", end=\"\")\n",
    "data.sort(reverse=True)\n",
    "for j in data:\n",
    "    print(j, end=\", \")\n",
    "print(\"点です。\")"
   ]
  },
  {
   "cell_type": "code",
   "execution_count": 73,
   "metadata": {},
   "outputs": [
    {
     "name": "stdout",
     "output_type": "stream",
     "text": [
      "テストの点は74, 85, 69, 77, 81, 点です。\n",
      "80点以上は85, 81, です。\n",
      "80点以上の人数は2人です。\n"
     ]
    }
   ],
   "source": [
    "data=[74,85,69,77,81]\n",
    "print(\"テストの点は\", end=\"\")\n",
    "for i in data:\n",
    "    print(i, end=\", \")\n",
    "print(\"点です。\")\n",
    "\n",
    "print(\"80点以上は\", end=\"\")\n",
    "score_80=[n for n in data if n>=80]\n",
    "for s80 in score_80:\n",
    "    print(s80, end=\", \")\n",
    "print(\"です。\")\n",
    "\n",
    "print(f\"80点以上の人数は{len(score_80)}人です。\")"
   ]
  },
  {
   "cell_type": "code",
   "execution_count": 75,
   "metadata": {},
   "outputs": [
    {
     "name": "stdout",
     "output_type": "stream",
     "text": [
      "東京の最高気温は32℃、最低気温は25℃です。\n",
      "横浜の最高気温は28℃、最低気温は21℃です。\n",
      "大阪の最高気温は27℃、最低気温は20℃です。\n",
      "京都の最高気温は26℃、最低気温は19℃です。\n",
      "福岡の最高気温は27℃、最低気温は22℃です。\n"
     ]
    }
   ],
   "source": [
    "city=[\"東京\",\"横浜\",\"大阪\",\"京都\",\"福岡\"]\n",
    "high_temp=[32,28,27,26,27]\n",
    "row_temp=[25,21,20,19,22]\n",
    "for c,ht,rt in zip(city, high_temp, row_temp):\n",
    "    print(f\"{c}の最高気温は{ht}℃、最低気温は{rt}℃です。\")"
   ]
  },
  {
   "cell_type": "code",
   "execution_count": 76,
   "metadata": {},
   "outputs": [
    {
     "ename": "SyntaxError",
     "evalue": "invalid syntax (<ipython-input-76-6c5f98fee18f>, line 1)",
     "output_type": "error",
     "traceback": [
      "\u001b[0;36m  File \u001b[0;32m\"<ipython-input-76-6c5f98fee18f>\"\u001b[0;36m, line \u001b[0;32m1\u001b[0m\n\u001b[0;31m    lst=[1,2,3,,]\u001b[0m\n\u001b[0m               ^\u001b[0m\n\u001b[0;31mSyntaxError\u001b[0m\u001b[0;31m:\u001b[0m invalid syntax\n"
     ]
    }
   ],
   "source": [
    "lst=[1,2,3,,]\n",
    "print(len(lst))"
   ]
  },
  {
   "cell_type": "code",
   "execution_count": 77,
   "metadata": {},
   "outputs": [
    {
     "name": "stdout",
     "output_type": "stream",
     "text": [
      "[3, 9, 15, 30]\n"
     ]
    }
   ],
   "source": [
    "num = [1, 3, 7, 10, 9, 15, 20, 30]\n",
    " \n",
    "mx3 = [n for n in num if n%3==0]\n",
    " \n",
    "print(mx3)"
   ]
  },
  {
   "cell_type": "code",
   "execution_count": 78,
   "metadata": {},
   "outputs": [
    {
     "name": "stdout",
     "output_type": "stream",
     "text": [
      "['安部信三', '堀江隆文', '前沢優作']\n"
     ]
    }
   ],
   "source": [
    "names = [(\"安部信三\",\"男\"), (\"犬塚久美子\",\"女\"),(\"堀江隆文\",\"男\"),(\"前沢優作\",\"男\"),(\"前田温子\",\"女\")]\n",
    " \n",
    "male = [n[0] for n in names if n[1] == \"男\"]\n",
    " \n",
    "print(male)"
   ]
  },
  {
   "cell_type": "code",
   "execution_count": 79,
   "metadata": {},
   "outputs": [
    {
     "name": "stdout",
     "output_type": "stream",
     "text": [
      "個数を入力してください：5\n",
      "*****\n"
     ]
    }
   ],
   "source": [
    "def rpast(num):\n",
    "    print(\"*\"*num)\n",
    "    \n",
    "num=int(input(\"個数を入力してください：\"))\n",
    "rpast(num)"
   ]
  },
  {
   "cell_type": "code",
   "execution_count": 83,
   "metadata": {},
   "outputs": [
    {
     "name": "stdout",
     "output_type": "stream",
     "text": [
      "文字列を入力してくさい：hi.\n",
      "個数を入力してください：3\n",
      "文字列ありーーー\n",
      "hi.hi.hi.\n",
      "文字列なしーーー\n",
      "***\n"
     ]
    }
   ],
   "source": [
    "def rpstr(n, s=\"*\"):\n",
    "    print(s * n)\n",
    "\n",
    "s=input(\"文字列を入力してくさい：\")\n",
    "n=int(input(\"個数を入力してください：\"))\n",
    "print(\"文字列ありーーー\")\n",
    "rpstr(s, n)\n",
    "print(\"文字列なしーーー\")\n",
    "rpstr(n)"
   ]
  },
  {
   "cell_type": "code",
   "execution_count": 85,
   "metadata": {},
   "outputs": [
    {
     "name": "stdout",
     "output_type": "stream",
     "text": [
      "開始値を入力してください：1\n",
      "停止値を入力してください：10\n",
      "1\n",
      "2\n",
      "3\n",
      "4\n",
      "5\n",
      "6\n",
      "7\n",
      "8\n",
      "9\n",
      "10\n"
     ]
    }
   ],
   "source": [
    "def gen(n):\n",
    "    while True:\n",
    "        yield n \n",
    "        n += 1\n",
    "    \n",
    "sn=int(input(\"開始値を入力してください：\"))\n",
    "en=int(input(\"停止値を入力してください：\"))\n",
    "for i in gen(sn):\n",
    "    if en < i :\n",
    "        break\n",
    "    print(i)"
   ]
  },
  {
   "cell_type": "code",
   "execution_count": 87,
   "metadata": {},
   "outputs": [
    {
     "name": "stdout",
     "output_type": "stream",
     "text": [
      "ナンバーは1234、ガソリン量は25.5です。\n",
      "ナンバーは2345、ガソリン量は30.5です。\n"
     ]
    }
   ],
   "source": [
    "class Car:\n",
    "    def __init__(self, num, gas):\n",
    "        self.num = num \n",
    "        self.gas = gas\n",
    "        \n",
    "    def getNum(self):\n",
    "        return self.num \n",
    "    \n",
    "    def getGas(self):\n",
    "        return self.gas\n",
    "    \n",
    "car1 = Car(1234, 25.5)\n",
    "car2 = Car(2345, 30.5)\n",
    "print(f\"ナンバーは{car1.num}、ガソリン量は{car1.gas}です。\")\n",
    "print(f\"ナンバーは{car2.num}、ガソリン量は{car2.gas}です。\")"
   ]
  },
  {
   "cell_type": "code",
   "execution_count": 89,
   "metadata": {},
   "outputs": [
    {
     "name": "stdout",
     "output_type": "stream",
     "text": [
      "ナンバーは1234、ガソリン量は25.5です。\n",
      "ナンバーは2345、ガソリン量は30.5です。\n"
     ]
    }
   ],
   "source": [
    "class Car:\n",
    "    def __init__(self, num, gas):\n",
    "        self.num = num \n",
    "        self.gas = gas \n",
    "        \n",
    "    def getNum(self):\n",
    "        return seld.num \n",
    "    \n",
    "    def getGas(self):\n",
    "        return self.gas\n",
    "    \n",
    "car1 = Car(1234, 25.5)\n",
    "n1 = car1.num\n",
    "g1 = car1.gas \n",
    "\n",
    "car2 = Car(2345, 30.5)\n",
    "n2 = car2.num\n",
    "g2 = car2.gas\n",
    "\n",
    "print(f\"ナンバーは{n1}、ガソリン量は{g1}です。\")\n",
    "print(f\"ナンバーは{n2}、ガソリン量は{g2}です。\")"
   ]
  },
  {
   "cell_type": "code",
   "execution_count": null,
   "metadata": {},
   "outputs": [],
   "source": []
  }
 ],
 "metadata": {
  "kernelspec": {
   "display_name": "Python 3",
   "language": "python",
   "name": "python3"
  },
  "language_info": {
   "codemirror_mode": {
    "name": "ipython",
    "version": 3
   },
   "file_extension": ".py",
   "mimetype": "text/x-python",
   "name": "python",
   "nbconvert_exporter": "python",
   "pygments_lexer": "ipython3",
   "version": "3.7.3"
  }
 },
 "nbformat": 4,
 "nbformat_minor": 2
}
