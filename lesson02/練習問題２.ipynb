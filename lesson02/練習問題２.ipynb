{
 "cells": [
  {
   "cell_type": "code",
   "execution_count": null,
   "metadata": {},
   "outputs": [],
   "source": [
    "# 問題1\n",
    "# 次のリスト(fruits)をインデクス付きで表示するプログラムを作成してください。\n",
    "# fruits = [\"Apple\",\"Banana\",\"Grape\",\"Orange\",\"Peach\"]\n",
    "\n",
    "# 表示\n",
    "# 0: Apple\n",
    "# 1: Banana\n",
    "# 2: Grape\n",
    "# 3: Orange\n",
    "# 4: Peach"
   ]
  },
  {
   "cell_type": "code",
   "execution_count": 2,
   "metadata": {},
   "outputs": [
    {
     "name": "stdout",
     "output_type": "stream",
     "text": [
      "0: Apple\n",
      "1: Banana\n",
      "2: Grape\n",
      "3: Orange\n",
      "4: Peach\n"
     ]
    }
   ],
   "source": [
    "fruits = [\"Apple\",\"Banana\",\"Grape\",\"Orange\",\"Peach\"]\n",
    "for i,v in enumerate(fruits):\n",
    "    print(f\"{i}: {v}\")"
   ]
  },
  {
   "cell_type": "code",
   "execution_count": 4,
   "metadata": {},
   "outputs": [],
   "source": [
    "# \"\"\"\"\"\"\n",
    "# 問題2\n",
    "# 次の２つのリスト(weekday_en, weekday_ja)を英:日で対応した表示をするプログラムを作成してください。\n",
    "# weekday_en = [\"Sun\",\"Mon\",\"Tue\",\"Wed\",\"Thu\",\"Fri\",\"Sat\"]\n",
    "# weekday_ja = [\"日\",\"月\",\"火\",\"水\",\"木\",\"金\",\"土\"]\n",
    "\n",
    "# 表示\n",
    "# Sun : 日\n",
    "# Mon : 月\n",
    "# Tue : 火\n",
    "# Wed : 水\n",
    "# Thu : 木\n",
    "# Fri : 金\n",
    "# Sat : 土\n",
    "# \"\"\"\"\"\""
   ]
  },
  {
   "cell_type": "code",
   "execution_count": 5,
   "metadata": {},
   "outputs": [
    {
     "name": "stdout",
     "output_type": "stream",
     "text": [
      "Sun: 日\n",
      "Mon: 月\n",
      "Tue: 火\n",
      "Wed: 水\n",
      "Thu: 木\n",
      "Fri: 金\n",
      "Sat: 土\n"
     ]
    }
   ],
   "source": [
    "weekday_en = [\"Sun\",\"Mon\",\"Tue\",\"Wed\",\"Thu\",\"Fri\",\"Sat\"]\n",
    "weekday_ja = [\"日\",\"月\",\"火\",\"水\",\"木\",\"金\",\"土\"]\n",
    "\n",
    "for we,wj in zip(weekday_en, weekday_ja):\n",
    "    print(f\"{we}: {wj}\")"
   ]
  },
  {
   "cell_type": "code",
   "execution_count": 6,
   "metadata": {},
   "outputs": [],
   "source": [
    "# 問題3\n",
    "# 次のような、プログラミング言語をキーに、利用者数を値にしたアンケート結果が格納された辞書langがあります。実行例のように、すべての要素を表示するプログラムを作成してください。\n",
    "# lang = {\"Python\":45, \"C\":14, \"Swift\":40, \"JavaScript\":40, \"Java\": 44}\n",
    "\n",
    "# 実行例\n",
    "# JavaScript の利用人数は 40 人\n",
    "# Java の利用人数は 44 人\n",
    "# Swift の利用人数は 40 人\n",
    "# Python の利用人数は 45 人\n",
    "# C の利用人数は 14 人"
   ]
  },
  {
   "cell_type": "code",
   "execution_count": 7,
   "metadata": {},
   "outputs": [
    {
     "name": "stdout",
     "output_type": "stream",
     "text": [
      "Pythonの利用人数は45人\n",
      "Cの利用人数は14人\n",
      "Swiftの利用人数は40人\n",
      "JavaScriptの利用人数は40人\n",
      "Javaの利用人数は44人\n"
     ]
    }
   ],
   "source": [
    "lang = {\"Python\":45, \"C\":14, \"Swift\":40, \"JavaScript\":40, \"Java\": 44}\n",
    "\n",
    "for k,v in lang.items():\n",
    "    print(f\"{k}の利用人数は{v}人\")\n",
    "    "
   ]
  },
  {
   "cell_type": "code",
   "execution_count": 8,
   "metadata": {},
   "outputs": [],
   "source": [
    "# 問題4\n",
    "# 名前と年齢のタプルを要素とするリストがあります。\n",
    "# customers = [(\"田中一郎\", 25), (\"山田太郎\", 23), (\"佐藤花子\", 15),\n",
    "# (\"稲垣五朗\", 33), (\"小林直子\", 26), (\"大木まこと\", 18)]\n",
    "\n",
    "# このリストをもとに、年齢が20以上の要素を取り出し、次のような「名前のリスト」をリスト内包を使って作成してください。\n",
    "# ['田中一郎', '山田太郎', '稲垣五朗', '小林直子']"
   ]
  },
  {
   "cell_type": "code",
   "execution_count": 11,
   "metadata": {},
   "outputs": [
    {
     "name": "stdout",
     "output_type": "stream",
     "text": [
      "['田中一郎', '山田太郎', '稲垣五朗', '小林直子']\n"
     ]
    }
   ],
   "source": [
    "customers = [(\"田中一郎\", 25), (\"山田太郎\", 23), (\"佐藤花子\", 15),(\"稲垣五朗\", 33), (\"小林直子\", 26), (\"大木まこと\", 18)]\n",
    "\n",
    "name_20 = [n[0] for n in customers if n[1] >= 20]\n",
    "print(name_20)"
   ]
  },
  {
   "cell_type": "code",
   "execution_count": 12,
   "metadata": {},
   "outputs": [],
   "source": [
    "# 問題5\n",
    "# 次のプログラムは、旅行に行きたい地域のアンケート結果を集計するものです。リストanswersにアンケート結果が格納されています。このプログラムの空欄※に、地域をキーに、投票数を値にした辞書resultsを作成するコードを追加して、プログラムを完成させてください。\n",
    "# answer = [\"京都\", \"北海道\", \"沖縄\", \"博多\", \"北海道\", \"大阪\",\n",
    "# \"京都\", \"京都\",\"大阪\", \"京都\", \"京都\", \"大阪\", \"京都\",\n",
    "# \"京都\", \"博多\", \"沖縄\",\"沖縄\", \"博多\", \"沖縄\", \"博多\",\n",
    "# \"沖縄\", \"北海道\", \"北海道\", \"沖縄\", \"沖縄\", \"北海道\", \"博多\",\n",
    "# \"北海道\", \"沖縄\", \"北海道\", \"大阪\", \"北海道\", \"博多\", \"博多\",\n",
    "# \"北海道\", \"北海道\", \"北海道\",\"沖縄\", \"沖縄\", \"京都\"]\n",
    " \n",
    "# # 空の辞書を用意\n",
    "# results = { }\n",
    " \n",
    "# # 辞書resultsに地域と得票数を格納する\n",
    " \n",
    "#    ※ここにコードを記述してください。\n",
    " \n",
    "# # 結果を表示する\n",
    "# print(results)\n",
    " \n",
    "# for region, num in results.items():\n",
    " \n",
    "#     print(region,\":\",num)\n",
    " \n",
    "# .\n",
    "# 実行結果\n",
    "# {'沖縄': 10, '大阪': 4, '京都': 8, '北海道': 11, '博多': 7}\n",
    "# 沖縄 : 10\n",
    "# 大阪 : 4\n",
    "# 京都 : 8\n",
    "# 北海道 : 11\n",
    "# 博多 : 7"
   ]
  },
  {
   "cell_type": "code",
   "execution_count": 15,
   "metadata": {},
   "outputs": [
    {
     "name": "stdout",
     "output_type": "stream",
     "text": [
      "{'京都': 8, '北海道': 11, '沖縄': 10, '博多': 7, '大阪': 4}\n",
      "京都：　8\n",
      "北海道：　11\n",
      "沖縄：　10\n",
      "博多：　7\n",
      "大阪：　4\n"
     ]
    }
   ],
   "source": [
    " answer = [\"京都\", \"北海道\", \"沖縄\", \"博多\", \"北海道\", \"大阪\",\n",
    "\"京都\", \"京都\",\"大阪\", \"京都\", \"京都\", \"大阪\", \"京都\",\n",
    "\"京都\", \"博多\", \"沖縄\",\"沖縄\", \"博多\", \"沖縄\", \"博多\",\n",
    "\"沖縄\", \"北海道\", \"北海道\", \"沖縄\", \"沖縄\", \"北海道\", \"博多\",\n",
    "\"北海道\", \"沖縄\", \"北海道\", \"大阪\", \"北海道\", \"博多\", \"博多\",\n",
    "\"北海道\", \"北海道\", \"北海道\",\"沖縄\", \"沖縄\", \"京都\"]\n",
    "    \n",
    "results = {}\n",
    "\n",
    "for key in answer :\n",
    "    if key not in results :\n",
    "        results[key] = 1 \n",
    "    else:\n",
    "        results[key] += 1\n",
    "        \n",
    "print(results)\n",
    "for k,v in results.items():\n",
    "    print(f\"{k}：　{v}\")"
   ]
  },
  {
   "cell_type": "code",
   "execution_count": 6,
   "metadata": {},
   "outputs": [
    {
     "name": "stdout",
     "output_type": "stream",
     "text": [
      "1: Apple\n",
      "2: Banana\n",
      "3: Orange\n",
      "4: Greap\n",
      "5: Peach\n"
     ]
    }
   ],
   "source": [
    "fruits=[\"Apple\",\"Banana\",\"Orange\",\"Greap\",\"Peach\"]\n",
    "for i,v in enumerate(fruits, 1):\n",
    "    print(f\"{i}: {v}\")"
   ]
  },
  {
   "cell_type": "code",
   "execution_count": 8,
   "metadata": {},
   "outputs": [
    {
     "name": "stdout",
     "output_type": "stream",
     "text": [
      "Sun: 日\n",
      "Mon: 月\n",
      "Tue: 火\n",
      "Wed: 水\n",
      "Thu: 木\n",
      "Fri: 金\n",
      "Sat: 土\n"
     ]
    }
   ],
   "source": [
    "w_e = [\"Sun\",\"Mon\",\"Tue\",\"Wed\",\"Thu\",\"Fri\",\"Sat\"]\n",
    "w_j = [\"日\",\"月\",\"火\",\"水\",\"木\",\"金\",\"土\"]\n",
    "for we,wj in zip(w_e, w_j):\n",
    "    print(f\"{we}: {wj}\")"
   ]
  },
  {
   "cell_type": "code",
   "execution_count": 37,
   "metadata": {},
   "outputs": [
    {
     "name": "stdout",
     "output_type": "stream",
     "text": [
      "{'Sun': '日', 'Mon': '月', 'Tue': '火', 'Wed': '水', 'Thu': '木', 'Fri': '金', 'Sat': '土'}\n"
     ]
    }
   ],
   "source": [
    "w_e = [\"Sun\",\"Mon\",\"Tue\",\"Wed\",\"Thu\",\"Fri\",\"Sat\"]\n",
    "w_j = [\"日\",\"月\",\"火\",\"水\",\"木\",\"金\",\"土\"]\n",
    "w={k:v for k,v in zip(w_e,w_j)}\n",
    "print(w)"
   ]
  },
  {
   "cell_type": "code",
   "execution_count": 15,
   "metadata": {},
   "outputs": [
    {
     "name": "stdout",
     "output_type": "stream",
     "text": [
      "Pythonの利用人数は、45人です。\n",
      "Cの利用人数は、14人です。\n",
      "Swiftの利用人数は、40人です。\n",
      "JavaScriptの利用人数は、40人です。\n",
      "Javaの利用人数は、44人です。\n"
     ]
    }
   ],
   "source": [
    "lang = {\"Python\":45,\"C\":14,\"Swift\":40,\"JavaScript\":40,\"Java\":44}\n",
    "for k,v in lang.items():\n",
    "    print(f\"{k}の利用人数は、{v}人です。\")"
   ]
  },
  {
   "cell_type": "code",
   "execution_count": 22,
   "metadata": {},
   "outputs": [
    {
     "name": "stdout",
     "output_type": "stream",
     "text": [
      "{'Python': 45, 'C': 14, 'Swift': 40, 'JavaScript': 40, 'Java': 44}\n"
     ]
    }
   ],
   "source": [
    "lang = {\"Python\":45,\"C\":14,\"Swift\":40,\"JavaScript\":40,\"Java\":44}\n"
   ]
  },
  {
   "cell_type": "code",
   "execution_count": 24,
   "metadata": {},
   "outputs": [
    {
     "name": "stdout",
     "output_type": "stream",
     "text": [
      "['田中一郎', '佐藤剛', '武田あかね', '鈴木けん', '孫正義']\n"
     ]
    }
   ],
   "source": [
    "customers = [(\"田中一郎\",38),(\"佐藤剛\",48),(\"武田あかね\",31),(\"武藤政義\",29),(\"霞ヶ丘歌波\",22),(\"霧島京子\",26),(\"鈴木けん\",32),(\"孫正義\",50)]\n",
    "person_30 = [n[0] for n in customers if n[1] >= 30]\n",
    "print(person_30)"
   ]
  },
  {
   "cell_type": "code",
   "execution_count": 29,
   "metadata": {},
   "outputs": [
    {
     "name": "stdout",
     "output_type": "stream",
     "text": [
      "{'京都': 8, '北海道': 11, '沖縄': 10, '博多': 7, '大阪': 4}\n",
      "京都 : 8\n",
      "北海道 : 11\n",
      "沖縄 : 10\n",
      "博多 : 7\n",
      "大阪 : 4\n"
     ]
    }
   ],
   "source": [
    " answer = [\"京都\", \"北海道\", \"沖縄\", \"博多\", \"北海道\", \"大阪\",\n",
    "\"京都\", \"京都\",\"大阪\", \"京都\", \"京都\", \"大阪\", \"京都\",\n",
    "\"京都\", \"博多\", \"沖縄\",\"沖縄\", \"博多\", \"沖縄\", \"博多\",\n",
    "\"沖縄\", \"北海道\", \"北海道\", \"沖縄\", \"沖縄\", \"北海道\", \"博多\",\n",
    "\"北海道\", \"沖縄\", \"北海道\", \"大阪\", \"北海道\", \"博多\", \"博多\",\n",
    "\"北海道\", \"北海道\", \"北海道\",\"沖縄\", \"沖縄\", \"京都\"]\n",
    "    \n",
    "result = {}\n",
    "for k in answer:\n",
    "    if k not in result:\n",
    "        result[k] = 1\n",
    "    elif k in result:\n",
    "        result[k] += 1\n",
    "\n",
    "print(result)\n",
    "for k,v in result.items():\n",
    "    print(f\"{k} : {v}\")"
   ]
  },
  {
   "cell_type": "code",
   "execution_count": 32,
   "metadata": {},
   "outputs": [
    {
     "name": "stdout",
     "output_type": "stream",
     "text": [
      "{'red': 1, 'green': 1, 'blue': 1}\n"
     ]
    }
   ],
   "source": [
    "colors = [\"red\",\"green\",\"blue\"]\n",
    "rgb = {k:1 for k in colors}\n",
    "print(rgb)"
   ]
  },
  {
   "cell_type": "code",
   "execution_count": 40,
   "metadata": {},
   "outputs": [
    {
     "name": "stdout",
     "output_type": "stream",
     "text": [
      "{1, 121, 225, 289, 9, 169, 361, 81, 49, 25}\n"
     ]
    }
   ],
   "source": [
    "data = list(range(20))\n",
    "n_data = {n**2 for n in data if n%2 ==1}\n",
    "print(n_data)"
   ]
  },
  {
   "cell_type": "code",
   "execution_count": 50,
   "metadata": {},
   "outputs": [
    {
     "name": "stdout",
     "output_type": "stream",
     "text": [
      "[22.86, 13.97, 15.24, 12.7, 16.51, 25.4]\n"
     ]
    }
   ],
   "source": [
    "def larger(n):\n",
    "    return n >= 5 \n",
    "\n",
    "inc=[9, 5.5, 6, 4, 5, 6.5, 10]\n",
    "inc_=[]\n",
    "for n in filter(larger, inc):\n",
    "    inc_.append(n * 2.54)\n",
    "print(inc_ )"
   ]
  },
  {
   "cell_type": "code",
   "execution_count": 51,
   "metadata": {},
   "outputs": [
    {
     "name": "stdout",
     "output_type": "stream",
     "text": [
      "[22.86, 13.97, 15.24, 12.7, 16.51, 25.4]\n"
     ]
    }
   ],
   "source": [
    "inc=[9, 5.5, 6, 4, 5, 6.5, 10]\n",
    "inc_=[n*2.54 for n in inc if n>=5]\n",
    "print(inc_)"
   ]
  },
  {
   "cell_type": "code",
   "execution_count": 70,
   "metadata": {},
   "outputs": [
    {
     "data": {
      "text/plain": [
       "[True, True, True, False, True, True, True]"
      ]
     },
     "execution_count": 70,
     "metadata": {},
     "output_type": "execute_result"
    }
   ],
   "source": [
    "inc=[9, 5.5, 6, 4, 5, 6.5, 10]\n",
    "inc_= list(map(lambda x:x>=5,inc))\n",
    "inc_"
   ]
  },
  {
   "cell_type": "code",
   "execution_count": 72,
   "metadata": {},
   "outputs": [
    {
     "data": {
      "text/plain": [
       "[26.666666666666668, 15.555555555555555, 37.77777777777778, 32.22222222222222]"
      ]
     },
     "execution_count": 72,
     "metadata": {},
     "output_type": "execute_result"
    }
   ],
   "source": [
    "def f2c(f):\n",
    "    return (f-32)*5/9\n",
    "\n",
    "f=[80, 60, 100, 90]\n",
    "c=list(map(f2c, f))\n",
    "c"
   ]
  },
  {
   "cell_type": "code",
   "execution_count": 74,
   "metadata": {},
   "outputs": [
    {
     "data": {
      "text/plain": [
       "[80.6, 60.8, 100.4, 89.6]"
      ]
     },
     "execution_count": 74,
     "metadata": {},
     "output_type": "execute_result"
    }
   ],
   "source": [
    "def c2f(c):\n",
    "    return c*9/5 + 32\n",
    " \n",
    "c = [27, 16, 38, 32]\n",
    "f=list(map(c2f, c))\n",
    "f"
   ]
  },
  {
   "cell_type": "code",
   "execution_count": 76,
   "metadata": {},
   "outputs": [
    {
     "data": {
      "text/plain": [
       "[26.666666666666668, 15.555555555555555, 37.77777777777778, 32.22222222222222]"
      ]
     },
     "execution_count": 76,
     "metadata": {},
     "output_type": "execute_result"
    }
   ],
   "source": [
    "f=[80,60,100,90]\n",
    "c=[(n-32)*5/9 for n in f]\n",
    "c"
   ]
  },
  {
   "cell_type": "code",
   "execution_count": 78,
   "metadata": {},
   "outputs": [
    {
     "data": {
      "text/plain": [
       "[26.666666666666668, 15.555555555555555, 37.77777777777778, 32.22222222222222]"
      ]
     },
     "execution_count": 78,
     "metadata": {},
     "output_type": "execute_result"
    }
   ],
   "source": [
    "f=[80,60,100,90]\n",
    "c=[n for n in map(lambda x:(x-32)*5/9, f)]\n",
    "c"
   ]
  },
  {
   "cell_type": "code",
   "execution_count": 81,
   "metadata": {},
   "outputs": [
    {
     "name": "stdout",
     "output_type": "stream",
     "text": [
      "('apple', 10)\n",
      "('banana', 3)\n",
      "('grape', 2)\n",
      "('orange', 5)\n",
      "('strawberry', 6)\n"
     ]
    }
   ],
   "source": [
    "fruits ={\"apple\":10, \"orange\":5, \"banana\":3, \"strawberry\":6, \"grape\":2 }\n",
    "for fruit in sorted(fruits. items()):\n",
    "    print(fruit)"
   ]
  },
  {
   "cell_type": "code",
   "execution_count": 83,
   "metadata": {},
   "outputs": [
    {
     "name": "stdout",
     "output_type": "stream",
     "text": [
      "('grape', 2)\n",
      "('banana', 3)\n",
      "('orange', 5)\n",
      "('strawberry', 6)\n",
      "('peach', 8)\n",
      "('apple', 10)\n"
     ]
    }
   ],
   "source": [
    "def val(n):\n",
    "    return n[1]\n",
    "\n",
    "fruits={\"apple\":10,\"orange\":5,\"banana\":3,\"strawberry\":6,\"grape\":2,\"peach\":8}\n",
    "for fruit in sorted(fruits.items(), key=val):\n",
    "    print(fruit)"
   ]
  },
  {
   "cell_type": "code",
   "execution_count": 84,
   "metadata": {},
   "outputs": [
    {
     "name": "stdout",
     "output_type": "stream",
     "text": [
      "('grape', 2)\n",
      "('banana', 3)\n",
      "('orange', 5)\n",
      "('strawberry', 6)\n",
      "('peach', 8)\n",
      "('apple', 10)\n"
     ]
    }
   ],
   "source": [
    "fruits={\"apple\":10,\"orange\":5,\"banana\":3,\"strawberry\":6,\"grape\":2,\"peach\":8}\n",
    "for fruit in sorted(fruits.items(), key=lambda x:x[1]): \n",
    "    print(fruit)"
   ]
  },
  {
   "cell_type": "code",
   "execution_count": 85,
   "metadata": {},
   "outputs": [
    {
     "name": "stdout",
     "output_type": "stream",
     "text": [
      "grape 2\n",
      "banana 3\n",
      "orange 5\n",
      "strawberry 6\n",
      "peach 8\n",
      "apple 10\n"
     ]
    }
   ],
   "source": [
    "fruits={\"apple\":10,\"orange\":5,\"banana\":3,\"strawberry\":6,\"grape\":2,\"peach\":8}\n",
    "for k,v in sorted(fruits.items(), key=lambda x:x[1]): \n",
    "    print(k,v)"
   ]
  },
  {
   "cell_type": "code",
   "execution_count": null,
   "metadata": {},
   "outputs": [],
   "source": []
  }
 ],
 "metadata": {
  "kernelspec": {
   "display_name": "Python 3",
   "language": "python",
   "name": "python3"
  },
  "language_info": {
   "codemirror_mode": {
    "name": "ipython",
    "version": 3
   },
   "file_extension": ".py",
   "mimetype": "text/x-python",
   "name": "python",
   "nbconvert_exporter": "python",
   "pygments_lexer": "ipython3",
   "version": "3.7.3"
  }
 },
 "nbformat": 4,
 "nbformat_minor": 2
}
