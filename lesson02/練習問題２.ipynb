{
 "cells": [
  {
   "cell_type": "code",
   "execution_count": null,
   "metadata": {},
   "outputs": [],
   "source": [
    "# 問題1\n",
    "# 次のリスト(fruits)をインデクス付きで表示するプログラムを作成してください。\n",
    "# fruits = [\"Apple\",\"Banana\",\"Grape\",\"Orange\",\"Peach\"]\n",
    "\n",
    "# 表示\n",
    "# 0: Apple\n",
    "# 1: Banana\n",
    "# 2: Grape\n",
    "# 3: Orange\n",
    "# 4: Peach"
   ]
  },
  {
   "cell_type": "code",
   "execution_count": 2,
   "metadata": {},
   "outputs": [
    {
     "name": "stdout",
     "output_type": "stream",
     "text": [
      "0: Apple\n",
      "1: Banana\n",
      "2: Grape\n",
      "3: Orange\n",
      "4: Peach\n"
     ]
    }
   ],
   "source": [
    "fruits = [\"Apple\",\"Banana\",\"Grape\",\"Orange\",\"Peach\"]\n",
    "for i,v in enumerate(fruits):\n",
    "    print(f\"{i}: {v}\")"
   ]
  },
  {
   "cell_type": "code",
   "execution_count": 4,
   "metadata": {},
   "outputs": [],
   "source": [
    "# \"\"\"\"\"\"\n",
    "# 問題2\n",
    "# 次の２つのリスト(weekday_en, weekday_ja)を英:日で対応した表示をするプログラムを作成してください。\n",
    "# weekday_en = [\"Sun\",\"Mon\",\"Tue\",\"Wed\",\"Thu\",\"Fri\",\"Sat\"]\n",
    "# weekday_ja = [\"日\",\"月\",\"火\",\"水\",\"木\",\"金\",\"土\"]\n",
    "\n",
    "# 表示\n",
    "# Sun : 日\n",
    "# Mon : 月\n",
    "# Tue : 火\n",
    "# Wed : 水\n",
    "# Thu : 木\n",
    "# Fri : 金\n",
    "# Sat : 土\n",
    "# \"\"\"\"\"\""
   ]
  },
  {
   "cell_type": "code",
   "execution_count": 5,
   "metadata": {},
   "outputs": [
    {
     "name": "stdout",
     "output_type": "stream",
     "text": [
      "Sun: 日\n",
      "Mon: 月\n",
      "Tue: 火\n",
      "Wed: 水\n",
      "Thu: 木\n",
      "Fri: 金\n",
      "Sat: 土\n"
     ]
    }
   ],
   "source": [
    "weekday_en = [\"Sun\",\"Mon\",\"Tue\",\"Wed\",\"Thu\",\"Fri\",\"Sat\"]\n",
    "weekday_ja = [\"日\",\"月\",\"火\",\"水\",\"木\",\"金\",\"土\"]\n",
    "\n",
    "for we,wj in zip(weekday_en, weekday_ja):\n",
    "    print(f\"{we}: {wj}\")"
   ]
  },
  {
   "cell_type": "code",
   "execution_count": 6,
   "metadata": {},
   "outputs": [],
   "source": [
    "# 問題3\n",
    "# 次のような、プログラミング言語をキーに、利用者数を値にしたアンケート結果が格納された辞書langがあります。実行例のように、すべての要素を表示するプログラムを作成してください。\n",
    "# lang = {\"Python\":45, \"C\":14, \"Swift\":40, \"JavaScript\":40, \"Java\": 44}\n",
    "\n",
    "# 実行例\n",
    "# JavaScript の利用人数は 40 人\n",
    "# Java の利用人数は 44 人\n",
    "# Swift の利用人数は 40 人\n",
    "# Python の利用人数は 45 人\n",
    "# C の利用人数は 14 人"
   ]
  },
  {
   "cell_type": "code",
   "execution_count": 7,
   "metadata": {},
   "outputs": [
    {
     "name": "stdout",
     "output_type": "stream",
     "text": [
      "Pythonの利用人数は45人\n",
      "Cの利用人数は14人\n",
      "Swiftの利用人数は40人\n",
      "JavaScriptの利用人数は40人\n",
      "Javaの利用人数は44人\n"
     ]
    }
   ],
   "source": [
    "lang = {\"Python\":45, \"C\":14, \"Swift\":40, \"JavaScript\":40, \"Java\": 44}\n",
    "\n",
    "for k,v in lang.items():\n",
    "    print(f\"{k}の利用人数は{v}人\")\n",
    "    "
   ]
  },
  {
   "cell_type": "code",
   "execution_count": 8,
   "metadata": {},
   "outputs": [],
   "source": [
    "# 問題4\n",
    "# 名前と年齢のタプルを要素とするリストがあります。\n",
    "# customers = [(\"田中一郎\", 25), (\"山田太郎\", 23), (\"佐藤花子\", 15),\n",
    "# (\"稲垣五朗\", 33), (\"小林直子\", 26), (\"大木まこと\", 18)]\n",
    "\n",
    "# このリストをもとに、年齢が20以上の要素を取り出し、次のような「名前のリスト」をリスト内包を使って作成してください。\n",
    "# ['田中一郎', '山田太郎', '稲垣五朗', '小林直子']"
   ]
  },
  {
   "cell_type": "code",
   "execution_count": 11,
   "metadata": {},
   "outputs": [
    {
     "name": "stdout",
     "output_type": "stream",
     "text": [
      "['田中一郎', '山田太郎', '稲垣五朗', '小林直子']\n"
     ]
    }
   ],
   "source": [
    "customers = [(\"田中一郎\", 25), (\"山田太郎\", 23), (\"佐藤花子\", 15),(\"稲垣五朗\", 33), (\"小林直子\", 26), (\"大木まこと\", 18)]\n",
    "\n",
    "name_20 = [n[0] for n in customers if n[1] >= 20]\n",
    "print(name_20)"
   ]
  },
  {
   "cell_type": "code",
   "execution_count": 12,
   "metadata": {},
   "outputs": [],
   "source": [
    "# 問題5\n",
    "# 次のプログラムは、旅行に行きたい地域のアンケート結果を集計するものです。リストanswersにアンケート結果が格納されています。このプログラムの空欄※に、地域をキーに、投票数を値にした辞書resultsを作成するコードを追加して、プログラムを完成させてください。\n",
    "# answer = [\"京都\", \"北海道\", \"沖縄\", \"博多\", \"北海道\", \"大阪\",\n",
    "# \"京都\", \"京都\",\"大阪\", \"京都\", \"京都\", \"大阪\", \"京都\",\n",
    "# \"京都\", \"博多\", \"沖縄\",\"沖縄\", \"博多\", \"沖縄\", \"博多\",\n",
    "# \"沖縄\", \"北海道\", \"北海道\", \"沖縄\", \"沖縄\", \"北海道\", \"博多\",\n",
    "# \"北海道\", \"沖縄\", \"北海道\", \"大阪\", \"北海道\", \"博多\", \"博多\",\n",
    "# \"北海道\", \"北海道\", \"北海道\",\"沖縄\", \"沖縄\", \"京都\"]\n",
    " \n",
    "# # 空の辞書を用意\n",
    "# results = { }\n",
    " \n",
    "# # 辞書resultsに地域と得票数を格納する\n",
    " \n",
    "#    ※ここにコードを記述してください。\n",
    " \n",
    "# # 結果を表示する\n",
    "# print(results)\n",
    " \n",
    "# for region, num in results.items():\n",
    " \n",
    "#     print(region,\":\",num)\n",
    " \n",
    "# .\n",
    "# 実行結果\n",
    "# {'沖縄': 10, '大阪': 4, '京都': 8, '北海道': 11, '博多': 7}\n",
    "# 沖縄 : 10\n",
    "# 大阪 : 4\n",
    "# 京都 : 8\n",
    "# 北海道 : 11\n",
    "# 博多 : 7"
   ]
  },
  {
   "cell_type": "code",
   "execution_count": 15,
   "metadata": {},
   "outputs": [
    {
     "name": "stdout",
     "output_type": "stream",
     "text": [
      "{'京都': 8, '北海道': 11, '沖縄': 10, '博多': 7, '大阪': 4}\n",
      "京都：　8\n",
      "北海道：　11\n",
      "沖縄：　10\n",
      "博多：　7\n",
      "大阪：　4\n"
     ]
    }
   ],
   "source": [
    " answer = [\"京都\", \"北海道\", \"沖縄\", \"博多\", \"北海道\", \"大阪\",\n",
    "\"京都\", \"京都\",\"大阪\", \"京都\", \"京都\", \"大阪\", \"京都\",\n",
    "\"京都\", \"博多\", \"沖縄\",\"沖縄\", \"博多\", \"沖縄\", \"博多\",\n",
    "\"沖縄\", \"北海道\", \"北海道\", \"沖縄\", \"沖縄\", \"北海道\", \"博多\",\n",
    "\"北海道\", \"沖縄\", \"北海道\", \"大阪\", \"北海道\", \"博多\", \"博多\",\n",
    "\"北海道\", \"北海道\", \"北海道\",\"沖縄\", \"沖縄\", \"京都\"]\n",
    "    \n",
    "results = {}\n",
    "\n",
    "for key in answer :\n",
    "    if key not in results :\n",
    "        results[key] = 1 \n",
    "    else:\n",
    "        results[key] += 1\n",
    "        \n",
    "print(results)\n",
    "for k,v in results.items():\n",
    "    print(f\"{k}：　{v}\")"
   ]
  },
  {
   "cell_type": "code",
   "execution_count": null,
   "metadata": {},
   "outputs": [],
   "source": []
  }
 ],
 "metadata": {
  "kernelspec": {
   "display_name": "Python 3",
   "language": "python",
   "name": "python3"
  },
  "language_info": {
   "codemirror_mode": {
    "name": "ipython",
    "version": 3
   },
   "file_extension": ".py",
   "mimetype": "text/x-python",
   "name": "python",
   "nbconvert_exporter": "python",
   "pygments_lexer": "ipython3",
   "version": "3.7.3"
  }
 },
 "nbformat": 4,
 "nbformat_minor": 2
}
