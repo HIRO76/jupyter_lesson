{
 "cells": [
  {
   "cell_type": "markdown",
   "metadata": {},
   "source": [
    "# リスト"
   ]
  },
  {
   "cell_type": "code",
   "execution_count": 3,
   "metadata": {},
   "outputs": [
    {
     "name": "stdout",
     "output_type": "stream",
     "text": [
      "[80, 60, 22, 50, 75]\n"
     ]
    }
   ],
   "source": [
    "sale = [80, 60, 22, 50, 75]\n",
    "print(sale)"
   ]
  },
  {
   "cell_type": "code",
   "execution_count": 4,
   "metadata": {},
   "outputs": [
    {
     "name": "stdout",
     "output_type": "stream",
     "text": [
      "[]\n"
     ]
    }
   ],
   "source": [
    "sale = []\n",
    "print(sale)"
   ]
  },
  {
   "cell_type": "code",
   "execution_count": 6,
   "metadata": {},
   "outputs": [
    {
     "name": "stdout",
     "output_type": "stream",
     "text": [
      "80\n",
      "60\n",
      "22\n",
      "50\n",
      "75\n",
      "リストの長さは、5です。\n"
     ]
    }
   ],
   "source": [
    "sale = [80, 60, 22, 50, 75]\n",
    "print(sale[0])\n",
    "print(sale[1])\n",
    "print(sale[2])\n",
    "print(sale[3])\n",
    "print(sale[4])\n",
    "print(f\"リストの長さは、{len(sale)}です。\")"
   ]
  },
  {
   "cell_type": "code",
   "execution_count": 12,
   "metadata": {},
   "outputs": [
    {
     "name": "stdout",
     "output_type": "stream",
     "text": [
      "80 60 22 50 75 \n",
      "リストの長さは、5です。\n"
     ]
    }
   ],
   "source": [
    "sale = [80, 60, 22, 50, 75] \n",
    "for s in sale : \n",
    "        print(s, end=\" \") \n",
    "print()      \n",
    "print(f\"リストの長さは、{len(sale)}です。\")\n",
    "        "
   ]
  },
  {
   "cell_type": "code",
   "execution_count": 21,
   "metadata": {},
   "outputs": [
    {
     "name": "stdout",
     "output_type": "stream",
     "text": [
      "[80, 60, 22, 50, 75]\n",
      "何番のデータを変更しますか？：2\n",
      "変更後のデータを入力してください：100\n",
      "2番目のデータ : 60 を変更します。\n",
      "2番目のデータは、100に変更されました。\n",
      "[80, 100, 22, 50, 75]\n"
     ]
    }
   ],
   "source": [
    "sale = [80, 60, 22, 50, 75] \n",
    "print(sale)\n",
    "i = int(input(\"何番のデータを変更しますか？：\"))\n",
    "num = int(input(\"変更後のデータを入力してください：\"))\n",
    "print(f\"{i}番目のデータ : {sale[i-1]} を変更します。\")\n",
    "sale[i-1] = num \n",
    "print(f\"{i}番目のデータは、{sale[i-1]}に変更されました。\")\n",
    "print(sale)"
   ]
  },
  {
   "cell_type": "code",
   "execution_count": 24,
   "metadata": {},
   "outputs": [
    {
     "name": "stdout",
     "output_type": "stream",
     "text": [
      "現在のデータは、[80, 60, 22, 50, 75]です。\n",
      "末尾に、100を追加します。\n",
      "現在のデータは、[80, 60, 22, 50, 75, 100]です。\n",
      "2番目のデータに25を追加します。\n",
      "現在のデータは、[80, 25, 60, 22, 50, 75, 100]です。\n"
     ]
    }
   ],
   "source": [
    "sale = [80, 60, 22, 50, 75]\n",
    "print(f\"現在のデータは、{sale}です。\") \n",
    "print(\"末尾に、100を追加します。\")\n",
    "sale.append(100)\n",
    "print(f\"現在のデータは、{sale}です。\")\n",
    "print(f\"2番目のデータに25を追加します。\")\n",
    "sale.insert(1, 25)\n",
    "print(f\"現在のデータは、{sale}です。\")"
   ]
  },
  {
   "cell_type": "code",
   "execution_count": 25,
   "metadata": {},
   "outputs": [
    {
     "name": "stdout",
     "output_type": "stream",
     "text": [
      "現在のデータは、[80, 60, 22, 50, 75]です。\n",
      "先頭のデータを削除します。\n",
      "現在のデータは、[60, 22, 50, 75]です。\n",
      "22を削除します。\n",
      "現在のデータは、[60, 50, 75]です。\n"
     ]
    }
   ],
   "source": [
    "sale = [80, 60, 22, 50, 75]\n",
    "print(f\"現在のデータは、{sale}です。\")\n",
    "\n",
    "print(\"先頭のデータを削除します。\")\n",
    "del sale[0] \n",
    "print(f\"現在のデータは、{sale}です。\")\n",
    "\n",
    "print(\"22を削除します。\")\n",
    "sale.remove(22)\n",
    "print(f\"現在のデータは、{sale}です。\")\n"
   ]
  },
  {
   "cell_type": "code",
   "execution_count": 26,
   "metadata": {},
   "outputs": [
    {
     "name": "stdout",
     "output_type": "stream",
     "text": [
      "data1は、[1, 2, 3, 4, 5]です。\n",
      "data2は、[1, 2, 3, 4, 5]です。\n",
      "data1を変更します。\n",
      "data1は、[10, 2, 3, 4, 5]です。\n",
      "data2は、[10, 2, 3, 4, 5]です。\n"
     ]
    }
   ],
   "source": [
    "data1 = [1,2,3,4,5]\n",
    "data2 = data1 \n",
    "print(f\"data1は、{data1}です。\")\n",
    "print(f\"data2は、{data2}です。\")\n",
    "\n",
    "data1[0] = 10\n",
    "print(\"data1を変更します。\")\n",
    "\n",
    "print(f\"data1は、{data1}です。\")\n",
    "print(f\"data2は、{data2}です。\")"
   ]
  },
  {
   "cell_type": "code",
   "execution_count": 27,
   "metadata": {},
   "outputs": [
    {
     "name": "stdout",
     "output_type": "stream",
     "text": [
      "data1は、[1, 2, 3, 4, 5]です。\n",
      "data2は、[1, 2, 3, 4, 5]です。\n",
      "data1を変更します。\n",
      "data1は、[10, 2, 3, 4, 5]です。\n",
      "data2は、[1, 2, 3, 4, 5]です。\n"
     ]
    }
   ],
   "source": [
    "data1 = [1,2,3,4,5]\n",
    "data2 = list(data1)\n",
    "print(f\"data1は、{data1}です。\")\n",
    "print(f\"data2は、{data2}です。\")\n",
    "\n",
    "data1[0] = 10 \n",
    "print(\"data1を変更します。\")\n",
    "\n",
    "print(f\"data1は、{data1}です。\")\n",
    "print(f\"data2は、{data2}です。\")\n"
   ]
  },
  {
   "cell_type": "code",
   "execution_count": 29,
   "metadata": {},
   "outputs": [
    {
     "name": "stdout",
     "output_type": "stream",
     "text": [
      "data1は、[1, 2, 3, 4, 5]です。\n",
      "data2は、[1, 2, 3, 4, 5]です。\n",
      "data1を変更します。\n",
      "data1は、[10, 2, 3, 4, 5]です。\n",
      "data2は、[1, 2, 3, 4, 5]です。\n"
     ]
    }
   ],
   "source": [
    "data1 = [1,2,3,4,5]\n",
    "data2 = data1.copy()\n",
    "print(f\"data1は、{data1}です。\")\n",
    "print(f\"data2は、{data2}です。\")\n",
    "\n",
    "data1[0] = 10 \n",
    "print(\"data1を変更します。\")\n",
    "\n",
    "print(f\"data1は、{data1}です。\")\n",
    "print(f\"data2は、{data2}です。\")\n"
   ]
  },
  {
   "cell_type": "code",
   "execution_count": 30,
   "metadata": {},
   "outputs": [
    {
     "name": "stdout",
     "output_type": "stream",
     "text": [
      "上半期のデータは、[1, 2, 3, 4, 5, 6]です。\n",
      "下半期のデータは、[7, 8, 9, 10, 11, 12]です。\n",
      "年間のデータは、[1, 2, 3, 4, 5, 6, 7, 8, 9, 10, 11, 12]です。\n"
     ]
    }
   ],
   "source": [
    "sale1 = [1,2,3,4,5,6]\n",
    "print(f\"上半期のデータは、{sale1}です。\")\n",
    "sale2 = [7,8,9,10,11,12]\n",
    "print(f\"下半期のデータは、{sale2}です。\")\n",
    "\n",
    "ysale = sale1 + sale2 \n",
    "print(f\"年間のデータは、{ysale}です。\")\n"
   ]
  },
  {
   "cell_type": "code",
   "execution_count": 40,
   "metadata": {},
   "outputs": [
    {
     "data": {
      "text/plain": [
       "[1, 2, 3, 4, 5, 6, 7, 8, 9, 10, 11, 12, 7, 8, 9, 10, 11, 12]"
      ]
     },
     "execution_count": 40,
     "metadata": {},
     "output_type": "execute_result"
    }
   ],
   "source": [
    "sale1 = [1,2,3,4,5,6]\n",
    "# print(f\"上半期のデータは、{sale1}です。\")\n",
    "sale2 = [7,8,9,10,11,12]\n",
    "# print(f\"下半期のデータは、{sale2}です。\")\n",
    "sale1 += sale2\n",
    "sale1\n",
    "\n",
    "sale1.extend(sale2)\n",
    "sale1\n",
    "# print(f\"年間のデータは、{ysale}です。\")\n"
   ]
  },
  {
   "cell_type": "code",
   "execution_count": 45,
   "metadata": {},
   "outputs": [
    {
     "data": {
      "text/plain": [
       "[12, 11, 10, 9, 8, 7, 6, 5, 4, 3, 2, 1]"
      ]
     },
     "execution_count": 45,
     "metadata": {},
     "output_type": "execute_result"
    }
   ],
   "source": [
    "ysale = [1,2,3,4,5,6,7,8,9,10,11,12]\n",
    "ysale[:6] \n",
    "ysale[6:]\n",
    "ysale[::2] \n",
    "ysale[::-1]"
   ]
  },
  {
   "cell_type": "code",
   "execution_count": 52,
   "metadata": {},
   "outputs": [
    {
     "name": "stdout",
     "output_type": "stream",
     "text": [
      "年間のデータは、[1, 2, 3, 4, 5, 6, 7, 8, 9, 10, 11, 12]です。\n",
      "\n",
      "上半期のデータは、[1, 2, 3, 4, 5, 6]です。\n",
      "下半期のデータは、[7, 8, 9, 10, 11, 12]です。\n",
      "1ヶ月おきのデータは、[1, 3, 5, 7, 9, 11]です。\n",
      "逆順のデータは、[12, 11, 10, 9, 8, 7, 6, 5, 4, 3, 2, 1]です。\n",
      "\n",
      "年間のデータは、[1, 2, 3, 4, 5, 6, 7, 8, 9, 10, 11, 12]です。\n",
      "上半期のデータを差し替えます。\n",
      "年間のデータは、[0, 0, 0, 0, 0, 0, 7, 8, 9, 10, 11, 12]です。\n"
     ]
    }
   ],
   "source": [
    "ysale = [1,2,3,4,5,6,7,8,9,10,11,12]\n",
    "print(f\"年間のデータは、{ysale}です。\")\n",
    "print()\n",
    "\n",
    "sale1 = ysale[:6]\n",
    "print(f\"上半期のデータは、{sale1}です。\")\n",
    "\n",
    "sale2 = ysale[6:]\n",
    "print(f\"下半期のデータは、{sale2}です。\")\n",
    "\n",
    "sale3 = ysale[::2]\n",
    "print(f\"1ヶ月おきのデータは、{sale3}です。\")\n",
    "\n",
    "sale4 = ysale[::-1]\n",
    "print(f\"逆順のデータは、{sale4}です。\")\n",
    "\n",
    "print()\n",
    "print(f\"年間のデータは、{ysale}です。\")\n",
    "print(\"上半期のデータを差し替えます。\")\n",
    "ysale[:6] = [0,0,0,0,0,0] \n",
    "print(f\"年間のデータは、{ysale}です。\")"
   ]
  },
  {
   "cell_type": "code",
   "execution_count": 53,
   "metadata": {},
   "outputs": [
    {
     "name": "stdout",
     "output_type": "stream",
     "text": [
      "現在のデータは、[1, 2, 3, 4, 5]です。\n",
      "\n",
      "data[::-1]をfor文で処理します。\n",
      "5\n",
      "4\n",
      "3\n",
      "2\n",
      "1\n",
      "data[:-1]は、[5, 4, 3, 2, 1]です。\n",
      "現在のデータは、[1, 2, 3, 4, 5]です。\n",
      "\n",
      "reversed(data)をfor文で処理します。\n",
      "5\n",
      "4\n",
      "3\n",
      "2\n",
      "1\n",
      "reversed(data)は、<list_reverseiterator object at 0x1032d0dd8>です。\n",
      "現在のデータは、[1, 2, 3, 4, 5]です。\n",
      "\n",
      "data.reverse()を処理します。\n",
      "現在のデータは、[5, 4, 3, 2, 1]です。\n"
     ]
    }
   ],
   "source": [
    "data = [1,2,3,4,5]\n",
    "print(f\"現在のデータは、{data}です。\")\n",
    "print()\n",
    "\n",
    "print(\"data[::-1]をfor文で処理します。\")\n",
    "for d in data[::-1] : \n",
    "        print(d)\n",
    "print(f\"data[:-1]は、{data[::-1]}です。\")\n",
    "print(f\"現在のデータは、{data}です。\")\n",
    "print()\n",
    "\n",
    "print(\"reversed(data)をfor文で処理します。\")\n",
    "for d in reversed(data) : \n",
    "        print(d)\n",
    "print(f\"reversed(data)は、{reversed(data)}です。\")\n",
    "print(f\"現在のデータは、{data}です。\")\n",
    "print()\n",
    "\n",
    "print(\"data.reverse()を処理します。\")\n",
    "data.reverse()\n",
    "print(f\"現在のデータは、{data}です。\")"
   ]
  },
  {
   "cell_type": "code",
   "execution_count": 4,
   "metadata": {},
   "outputs": [
    {
     "name": "stdout",
     "output_type": "stream",
     "text": [
      "1\n",
      "2 \n",
      "\n",
      "5\n",
      "4\n"
     ]
    }
   ],
   "source": [
    "data = [1,2,3,4,5]\n",
    "it = iter(data)\n",
    "print(next(it))\n",
    "print(next(it), \"\\n\")\n",
    "rv = reversed(data) \n",
    "print(next(rv))\n",
    "print(next(rv))"
   ]
  },
  {
   "cell_type": "code",
   "execution_count": 6,
   "metadata": {},
   "outputs": [
    {
     "name": "stdout",
     "output_type": "stream",
     "text": [
      "都市名データは['東京', '名古屋', '大阪', '京都']です。\n",
      "売り上げデータは[80, 60, 22, 50, 75]です。\n",
      "データを組み合わせます。\n",
      "\n",
      "('東京', 80) \n",
      "\n",
      "('名古屋', 60) \n",
      "\n",
      "('大阪', 22) \n",
      "\n",
      "('京都', 50) \n",
      "\n",
      "データとインデックスを組み合わせます。\n",
      "\n",
      "(0, '東京')\n",
      "(1, '名古屋')\n",
      "(2, '大阪')\n",
      "(3, '京都')\n"
     ]
    }
   ],
   "source": [
    "city = [\"東京\", \"名古屋\", \"大阪\", \"京都\"]\n",
    "sale = [80, 60, 22, 50, 75]\n",
    "\n",
    "print(f\"都市名データは{city}です。\")\n",
    "print(f\"売り上げデータは{sale}です。\")\n",
    "print(\"データを組み合わせます。\\n\")\n",
    "\n",
    "for d in zip(city, sale) : \n",
    "    print(d, \"\\n\") \n",
    "    \n",
    "print(\"データとインデックスを組み合わせます。\\n\")\n",
    "\n",
    "for d in enumerate(city) :\n",
    "    print(d) \n",
    "    "
   ]
  },
  {
   "cell_type": "code",
   "execution_count": 10,
   "metadata": {},
   "outputs": [
    {
     "name": "stdout",
     "output_type": "stream",
     "text": [
      "都市名データは['東京', '名古屋', '大阪', '京都']です。\n",
      "売り上げデータは[80, 60, 22, 50, 75]です。\n",
      "データを組み合わせます。\n",
      "\n",
      "('東京', 80) \n",
      "\n",
      "('名古屋', 60) \n",
      "\n",
      "('大阪', 22) \n",
      "\n",
      "('京都', 50) \n",
      "\n",
      "データを分解します。\n",
      "都市名は東京、売り上げは80万円です。\n",
      "都市名は名古屋、売り上げは60万円です。\n",
      "都市名は大阪、売り上げは22万円です。\n",
      "都市名は京都、売り上げは50万円です。\n"
     ]
    }
   ],
   "source": [
    "city = [\"東京\",\"名古屋\",\"大阪\",\"京都\"]\n",
    "sale = [80, 60, 22, 50, 75]\n",
    "print(f\"都市名データは{city}です。\")\n",
    "print(f\"売り上げデータは{sale}です。\")\n",
    "print(\"データを組み合わせます。\\n\")\n",
    "\n",
    "for d in zip(city, sale) : \n",
    "    print(d, \"\\n\")\n",
    "    \n",
    "print(\"データを分解します。\")\n",
    "\n",
    "for c, s in zip(city, sale) : \n",
    "    print(f\"都市名は{c}、売り上げは{s}万円です。\")\n",
    "    "
   ]
  },
  {
   "cell_type": "code",
   "execution_count": 12,
   "metadata": {},
   "outputs": [
    {
     "name": "stdout",
     "output_type": "stream",
     "text": [
      "都市名データは['東京', '名古屋', '大阪', '京都']です。\n",
      "売り上げデータは[80, 60, 22, 50, 75]です。\n",
      "データを組み合わせます。\n",
      "\n",
      "('東京', 80) \n",
      "\n",
      "('名古屋', 60) \n",
      "\n",
      "('大阪', 22) \n",
      "\n",
      "('京都', 50) \n",
      "\n",
      "データを分解します。\n",
      "都市名：東京   売り上げ：80   担当：田中\n",
      "都市名：名古屋   売り上げ：60   担当：佐藤\n",
      "都市名：大阪   売り上げ：22   担当：鈴木\n",
      "都市名：京都   売り上げ：50   担当：伊藤\n"
     ]
    }
   ],
   "source": [
    "city = [\"東京\",\"名古屋\",\"大阪\",\"京都\"]\n",
    "sale = [80, 60, 22, 50, 75]\n",
    "seler = [\"田中\", \"佐藤\", \"鈴木\", \"伊藤\"]\n",
    "print(f\"都市名データは{city}です。\")\n",
    "print(f\"売り上げデータは{sale}です。\")\n",
    "print(\"データを組み合わせます。\\n\")\n",
    "\n",
    "for d in zip(city, sale) : \n",
    "    print(d, \"\\n\")\n",
    "    \n",
    "print(\"データを分解します。\")\n",
    "\n",
    "for c, s, se in zip(city, sale, seler) : \n",
    "    print(f\"都市名：{c}   売り上げ：{s}   担当：{se}\")\n",
    "    "
   ]
  },
  {
   "cell_type": "code",
   "execution_count": 15,
   "metadata": {},
   "outputs": [
    {
     "name": "stdout",
     "output_type": "stream",
     "text": [
      "3\n"
     ]
    }
   ],
   "source": [
    "a, b, c = [1, 2, 3]\n",
    "print(c)"
   ]
  },
  {
   "cell_type": "code",
   "execution_count": 17,
   "metadata": {},
   "outputs": [
    {
     "name": "stdout",
     "output_type": "stream",
     "text": [
      "現在のデータは[1, 2, 3, 4, 5]です。\n",
      "\n",
      "新しいデータは[2, 4, 8, 10]です。\n"
     ]
    }
   ],
   "source": [
    "data = [1,2,3,4,5] \n",
    "print(f\"現在のデータは{data}です。\\n\")\n",
    "\n",
    "ndata = [n*2 for n in data if n !=3] \n",
    "print(f\"新しいデータは{ndata}です。\")"
   ]
  },
  {
   "cell_type": "code",
   "execution_count": 19,
   "metadata": {},
   "outputs": [
    {
     "name": "stdout",
     "output_type": "stream",
     "text": [
      "現在のデータは[1, 2, 3, 4, 5]です。\n",
      "\n",
      "新しいデータは[2, 6, 10]です。\n"
     ]
    }
   ],
   "source": [
    "data = [1,2,3,4,5] \n",
    "print(f\"現在のデータは{data}です。\\n\")\n",
    "\n",
    "ndata = [n*2 for n in data if n % 2 == 1] \n",
    "print(f\"新しいデータは{ndata}です。\")"
   ]
  },
  {
   "cell_type": "code",
   "execution_count": 20,
   "metadata": {},
   "outputs": [
    {
     "name": "stdout",
     "output_type": "stream",
     "text": [
      "現在のデータは[80, 60, 22, 50, 75]です。\n",
      "\n",
      "最大のデータは80です。\n",
      "最小のデータは22です。\n",
      "データの合計は287です。\n",
      "ソートされたデータは[22, 50, 60, 75, 80]です。\n"
     ]
    }
   ],
   "source": [
    "sale = [80, 60, 22, 50, 75]\n",
    "print(f\"現在のデータは{sale}です。\\n\")\n",
    "\n",
    "print(f\"最大のデータは{max(sale)}です。\")\n",
    "print(f\"最小のデータは{min(sale)}です。\")\n",
    "print(f\"データの合計は{sum(sale)}です。\")\n",
    "print(f\"ソートされたデータは{sorted(sale)}です。\")"
   ]
  },
  {
   "cell_type": "code",
   "execution_count": 27,
   "metadata": {},
   "outputs": [
    {
     "name": "stdout",
     "output_type": "stream",
     "text": [
      "現在のデータは[80, 60, 22, 50, 75]です。\n",
      "\n",
      "sorted処理\n",
      "昇順で表示：[22, 50, 60, 75, 80]\n",
      "降順で表示：[80, 75, 60, 50, 22]\n",
      "[80, 60, 22, 50, 75]\n"
     ]
    }
   ],
   "source": [
    "sale = [80, 60, 22, 50, 75]\n",
    "print(f\"現在のデータは{sale}です。\\n\")\n",
    "\n",
    "# print(f\"最大のデータは{max(sale)}です。\")\n",
    "# print(f\"最小のデータは{min(sale)}です。\")\n",
    "# print(f\"データの合計は{sum(sale)}です。\")\n",
    "print(\"sorted処理\")\n",
    "print(f\"昇順で表示：{sorted(sale)}\")\n",
    "print(f\"降順で表示：{sorted(sale, reverse=True)}\")\n",
    "print(sale)"
   ]
  },
  {
   "cell_type": "code",
   "execution_count": 42,
   "metadata": {},
   "outputs": [
    {
     "name": "stdout",
     "output_type": "stream",
     "text": [
      "現在のデータは[80, 60, 22, 50, 75]です。\n",
      "\n",
      "sort処理\n",
      "昇順で表示：\n",
      "[80, 60, 22, 50, 75]\n"
     ]
    }
   ],
   "source": [
    "sale = [80, 60, 22, 50, 75]\n",
    "print(f\"現在のデータは{sale}です。\\n\")\n",
    "\n",
    "print(\"sort処理\")\n",
    "print(f\"昇順で表示：\")\n",
    "sale.sort()\n",
    "print(sale)"
   ]
  },
  {
   "cell_type": "code",
   "execution_count": 43,
   "metadata": {},
   "outputs": [
    {
     "name": "stdout",
     "output_type": "stream",
     "text": [
      "現在のデータは[80, 60, 22, 50, 75]です。\n",
      "\n",
      "sort処理\n",
      "降順で表示：\n",
      "[80, 75, 60, 50, 22]\n"
     ]
    }
   ],
   "source": [
    "sale = [80, 60, 22, 50, 75]\n",
    "print(f\"現在のデータは{sale}です。\\n\")\n",
    "\n",
    "print(\"sort処理\")\n",
    "print(f\"降順で表示：\")\n",
    "sale.sort(reverse=True)\n",
    "print(sale)"
   ]
  },
  {
   "cell_type": "code",
   "execution_count": 45,
   "metadata": {},
   "outputs": [
    {
     "name": "stdout",
     "output_type": "stream",
     "text": [
      "現在のデータは[['東京', 32, 25], ['名古屋', 28, 21], ['大阪', 27, 20], ['京都', 26, 19], ['福岡', 27, 22]]です。\n",
      "\n",
      "都市別データは['東京', 32, 25]です。\n",
      "東京\t32\t25\t\n",
      "都市別データは['名古屋', 28, 21]です。\n",
      "名古屋\t28\t21\t\n",
      "都市別データは['大阪', 27, 20]です。\n",
      "大阪\t27\t20\t\n",
      "都市別データは['京都', 26, 19]です。\n",
      "京都\t26\t19\t\n",
      "都市別データは['福岡', 27, 22]です。\n",
      "福岡\t27\t22\t\n",
      "東京の最高気温は、32、最低気温は25です。\n"
     ]
    }
   ],
   "source": [
    "data = [\n",
    "    [\"東京\", 32, 25],\n",
    "    [\"名古屋\", 28, 21],\n",
    "    [\"大阪\", 27, 20],\n",
    "    [\"京都\", 26, 19],\n",
    "    [\"福岡\", 27, 22]\n",
    "]\n",
    "\n",
    "print(f\"現在のデータは{data}です。\\n\")\n",
    "\n",
    "for dat in data : \n",
    "    print(f\"都市別データは{dat}です。\")\n",
    "    for d in dat : \n",
    "        print(d, end=\"\\t\")\n",
    "    print()\n",
    "    \n",
    "print(f\"{data[0][0]}の最高気温は、{data[0][1]}、最低気温は{data[0][2]}です。\")"
   ]
  },
  {
   "cell_type": "code",
   "execution_count": 2,
   "metadata": {},
   "outputs": [
    {
     "name": "stdout",
     "output_type": "stream",
     "text": [
      "テストの点は[74, 85, 69, 77, 81]です。\n",
      "最高点は85点です。\n",
      "最低点は69点です。\n",
      "平均点は77.2点です。\n"
     ]
    }
   ],
   "source": [
    "test = [74, 85,69,77,81]\n",
    "print(f\"テストの点は{test}です。\")\n",
    "print(f\"最高点は{max(test)}点です。\")\n",
    "print(f\"最低点は{min(test)}点です。\")\n",
    "total = sum(test)\n",
    "print(f\"平均点は{total/len(test)}点です。\")"
   ]
  },
  {
   "cell_type": "code",
   "execution_count": 5,
   "metadata": {},
   "outputs": [
    {
     "name": "stdout",
     "output_type": "stream",
     "text": [
      "テストの点は[74, 85, 69, 77, 81]です。\n",
      "昇順は[69, 74, 77, 81, 85]です。\n",
      "降順は[85, 81, 77, 74, 69]です。\n"
     ]
    }
   ],
   "source": [
    "test = [74,85,69,77,81]\n",
    "print(f\"テストの点は{test}です。\")\n",
    "print(f\"昇順は{sorted(test)}です。\")\n",
    "print(f\"降順は{sorted(test, reverse=True)}です。\")"
   ]
  },
  {
   "cell_type": "code",
   "execution_count": 8,
   "metadata": {},
   "outputs": [
    {
     "name": "stdout",
     "output_type": "stream",
     "text": [
      "テストの点は[74, 85, 69, 77, 81]です。\n",
      "８０点以上は[85, 81]です。\n",
      "８０点以上の人数は2人です。\n"
     ]
    }
   ],
   "source": [
    "test = [74,85,69,77,81]\n",
    "print(f\"テストの点は{test}です。\")\n",
    "n_test = [n for n in test if n >= 80]\n",
    "print(f\"８０点以上は{n_test}です。\")\n",
    "print(f\"８０点以上の人数は{len(n_test)}人です。\")"
   ]
  },
  {
   "cell_type": "code",
   "execution_count": 10,
   "metadata": {},
   "outputs": [
    {
     "name": "stdout",
     "output_type": "stream",
     "text": [
      "都市名データは['東京', '名古屋', '大阪', '京都', '福岡']です。\n",
      "最高気温データは[32, 28, 27, 26, 27]です。\n",
      "最低気温データは[25, 21, 20, 19, 22]です。\n",
      "\n",
      "東京の最高気温は32℃です。最低気温は25℃です。\n",
      "名古屋の最高気温は28℃です。最低気温は21℃です。\n",
      "大阪の最高気温は27℃です。最低気温は20℃です。\n",
      "京都の最高気温は26℃です。最低気温は19℃です。\n",
      "福岡の最高気温は27℃です。最低気温は22℃です。\n"
     ]
    }
   ],
   "source": [
    "city = [\"東京\", \"名古屋\", \"大阪\", \"京都\", \"福岡\",]\n",
    "h_temp = [32, 28, 27, 26, 27]\n",
    "r_temp = [25, 21, 20, 19, 22]\n",
    "print(f\"都市名データは{city}です。\")\n",
    "print(f\"最高気温データは{h_temp}です。\")\n",
    "print(f\"最低気温データは{r_temp}です。\\n\")\n",
    "for c, h, r in zip(city, h_temp, r_temp) : \n",
    "    print(f\"{c}の最高気温は{h}℃です。最低気温は{r}℃です。\")"
   ]
  },
  {
   "cell_type": "code",
   "execution_count": null,
   "metadata": {},
   "outputs": [],
   "source": []
  }
 ],
 "metadata": {
  "kernelspec": {
   "display_name": "Python 3",
   "language": "python",
   "name": "python3"
  },
  "language_info": {
   "codemirror_mode": {
    "name": "ipython",
    "version": 3
   },
   "file_extension": ".py",
   "mimetype": "text/x-python",
   "name": "python",
   "nbconvert_exporter": "python",
   "pygments_lexer": "ipython3",
   "version": "3.7.3"
  }
 },
 "nbformat": 4,
 "nbformat_minor": 2
}
