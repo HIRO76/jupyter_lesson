{
 "cells": [
  {
   "cell_type": "markdown",
   "metadata": {},
   "source": [
    "# リスト"
   ]
  },
  {
   "cell_type": "code",
   "execution_count": 3,
   "metadata": {},
   "outputs": [
    {
     "name": "stdout",
     "output_type": "stream",
     "text": [
      "[80, 60, 22, 50, 75]\n"
     ]
    }
   ],
   "source": [
    "sale = [80, 60, 22, 50, 75]\n",
    "print(sale)"
   ]
  },
  {
   "cell_type": "code",
   "execution_count": 4,
   "metadata": {},
   "outputs": [
    {
     "name": "stdout",
     "output_type": "stream",
     "text": [
      "[]\n"
     ]
    }
   ],
   "source": [
    "sale = []\n",
    "print(sale)"
   ]
  },
  {
   "cell_type": "code",
   "execution_count": 6,
   "metadata": {},
   "outputs": [
    {
     "name": "stdout",
     "output_type": "stream",
     "text": [
      "80\n",
      "60\n",
      "22\n",
      "50\n",
      "75\n",
      "リストの長さは、5です。\n"
     ]
    }
   ],
   "source": [
    "sale = [80, 60, 22, 50, 75]\n",
    "print(sale[0])\n",
    "print(sale[1])\n",
    "print(sale[2])\n",
    "print(sale[3])\n",
    "print(sale[4])\n",
    "print(f\"リストの長さは、{len(sale)}です。\")"
   ]
  },
  {
   "cell_type": "code",
   "execution_count": 12,
   "metadata": {},
   "outputs": [
    {
     "name": "stdout",
     "output_type": "stream",
     "text": [
      "80 60 22 50 75 \n",
      "リストの長さは、5です。\n"
     ]
    }
   ],
   "source": [
    "sale = [80, 60, 22, 50, 75] \n",
    "for s in sale : \n",
    "        print(s, end=\" \") \n",
    "print()      \n",
    "print(f\"リストの長さは、{len(sale)}です。\")\n",
    "        "
   ]
  },
  {
   "cell_type": "code",
   "execution_count": 21,
   "metadata": {},
   "outputs": [
    {
     "name": "stdout",
     "output_type": "stream",
     "text": [
      "[80, 60, 22, 50, 75]\n",
      "何番のデータを変更しますか？：2\n",
      "変更後のデータを入力してください：100\n",
      "2番目のデータ : 60 を変更します。\n",
      "2番目のデータは、100に変更されました。\n",
      "[80, 100, 22, 50, 75]\n"
     ]
    }
   ],
   "source": [
    "sale = [80, 60, 22, 50, 75] \n",
    "print(sale)\n",
    "i = int(input(\"何番のデータを変更しますか？：\"))\n",
    "num = int(input(\"変更後のデータを入力してください：\"))\n",
    "print(f\"{i}番目のデータ : {sale[i-1]} を変更します。\")\n",
    "sale[i-1] = num \n",
    "print(f\"{i}番目のデータは、{sale[i-1]}に変更されました。\")\n",
    "print(sale)"
   ]
  },
  {
   "cell_type": "code",
   "execution_count": 24,
   "metadata": {},
   "outputs": [
    {
     "name": "stdout",
     "output_type": "stream",
     "text": [
      "現在のデータは、[80, 60, 22, 50, 75]です。\n",
      "末尾に、100を追加します。\n",
      "現在のデータは、[80, 60, 22, 50, 75, 100]です。\n",
      "2番目のデータに25を追加します。\n",
      "現在のデータは、[80, 25, 60, 22, 50, 75, 100]です。\n"
     ]
    }
   ],
   "source": [
    "sale = [80, 60, 22, 50, 75]\n",
    "print(f\"現在のデータは、{sale}です。\") \n",
    "print(\"末尾に、100を追加します。\")\n",
    "sale.append(100)\n",
    "print(f\"現在のデータは、{sale}です。\")\n",
    "print(f\"2番目のデータに25を追加します。\")\n",
    "sale.insert(1, 25)\n",
    "print(f\"現在のデータは、{sale}です。\")"
   ]
  },
  {
   "cell_type": "code",
   "execution_count": 25,
   "metadata": {},
   "outputs": [
    {
     "name": "stdout",
     "output_type": "stream",
     "text": [
      "現在のデータは、[80, 60, 22, 50, 75]です。\n",
      "先頭のデータを削除します。\n",
      "現在のデータは、[60, 22, 50, 75]です。\n",
      "22を削除します。\n",
      "現在のデータは、[60, 50, 75]です。\n"
     ]
    }
   ],
   "source": [
    "sale = [80, 60, 22, 50, 75]\n",
    "print(f\"現在のデータは、{sale}です。\")\n",
    "\n",
    "print(\"先頭のデータを削除します。\")\n",
    "del sale[0] \n",
    "print(f\"現在のデータは、{sale}です。\")\n",
    "\n",
    "print(\"22を削除します。\")\n",
    "sale.remove(22)\n",
    "print(f\"現在のデータは、{sale}です。\")\n"
   ]
  },
  {
   "cell_type": "code",
   "execution_count": 26,
   "metadata": {},
   "outputs": [
    {
     "name": "stdout",
     "output_type": "stream",
     "text": [
      "data1は、[1, 2, 3, 4, 5]です。\n",
      "data2は、[1, 2, 3, 4, 5]です。\n",
      "data1を変更します。\n",
      "data1は、[10, 2, 3, 4, 5]です。\n",
      "data2は、[10, 2, 3, 4, 5]です。\n"
     ]
    }
   ],
   "source": [
    "data1 = [1,2,3,4,5]\n",
    "data2 = data1 \n",
    "print(f\"data1は、{data1}です。\")\n",
    "print(f\"data2は、{data2}です。\")\n",
    "\n",
    "data1[0] = 10\n",
    "print(\"data1を変更します。\")\n",
    "\n",
    "print(f\"data1は、{data1}です。\")\n",
    "print(f\"data2は、{data2}です。\")"
   ]
  },
  {
   "cell_type": "code",
   "execution_count": 27,
   "metadata": {},
   "outputs": [
    {
     "name": "stdout",
     "output_type": "stream",
     "text": [
      "data1は、[1, 2, 3, 4, 5]です。\n",
      "data2は、[1, 2, 3, 4, 5]です。\n",
      "data1を変更します。\n",
      "data1は、[10, 2, 3, 4, 5]です。\n",
      "data2は、[1, 2, 3, 4, 5]です。\n"
     ]
    }
   ],
   "source": [
    "data1 = [1,2,3,4,5]\n",
    "data2 = list(data1)\n",
    "print(f\"data1は、{data1}です。\")\n",
    "print(f\"data2は、{data2}です。\")\n",
    "\n",
    "data1[0] = 10 \n",
    "print(\"data1を変更します。\")\n",
    "\n",
    "print(f\"data1は、{data1}です。\")\n",
    "print(f\"data2は、{data2}です。\")\n"
   ]
  },
  {
   "cell_type": "code",
   "execution_count": 29,
   "metadata": {},
   "outputs": [
    {
     "name": "stdout",
     "output_type": "stream",
     "text": [
      "data1は、[1, 2, 3, 4, 5]です。\n",
      "data2は、[1, 2, 3, 4, 5]です。\n",
      "data1を変更します。\n",
      "data1は、[10, 2, 3, 4, 5]です。\n",
      "data2は、[1, 2, 3, 4, 5]です。\n"
     ]
    }
   ],
   "source": [
    "data1 = [1,2,3,4,5]\n",
    "data2 = data1.copy()\n",
    "print(f\"data1は、{data1}です。\")\n",
    "print(f\"data2は、{data2}です。\")\n",
    "\n",
    "data1[0] = 10 \n",
    "print(\"data1を変更します。\")\n",
    "\n",
    "print(f\"data1は、{data1}です。\")\n",
    "print(f\"data2は、{data2}です。\")\n"
   ]
  },
  {
   "cell_type": "code",
   "execution_count": 30,
   "metadata": {},
   "outputs": [
    {
     "name": "stdout",
     "output_type": "stream",
     "text": [
      "上半期のデータは、[1, 2, 3, 4, 5, 6]です。\n",
      "下半期のデータは、[7, 8, 9, 10, 11, 12]です。\n",
      "年間のデータは、[1, 2, 3, 4, 5, 6, 7, 8, 9, 10, 11, 12]です。\n"
     ]
    }
   ],
   "source": [
    "sale1 = [1,2,3,4,5,6]\n",
    "print(f\"上半期のデータは、{sale1}です。\")\n",
    "sale2 = [7,8,9,10,11,12]\n",
    "print(f\"下半期のデータは、{sale2}です。\")\n",
    "\n",
    "ysale = sale1 + sale2 \n",
    "print(f\"年間のデータは、{ysale}です。\")\n"
   ]
  },
  {
   "cell_type": "code",
   "execution_count": 40,
   "metadata": {},
   "outputs": [
    {
     "data": {
      "text/plain": [
       "[1, 2, 3, 4, 5, 6, 7, 8, 9, 10, 11, 12, 7, 8, 9, 10, 11, 12]"
      ]
     },
     "execution_count": 40,
     "metadata": {},
     "output_type": "execute_result"
    }
   ],
   "source": [
    "sale1 = [1,2,3,4,5,6]\n",
    "# print(f\"上半期のデータは、{sale1}です。\")\n",
    "sale2 = [7,8,9,10,11,12]\n",
    "# print(f\"下半期のデータは、{sale2}です。\")\n",
    "sale1 += sale2\n",
    "sale1\n",
    "\n",
    "sale1.extend(sale2)\n",
    "sale1\n",
    "# print(f\"年間のデータは、{ysale}です。\")\n"
   ]
  },
  {
   "cell_type": "code",
   "execution_count": 45,
   "metadata": {},
   "outputs": [
    {
     "data": {
      "text/plain": [
       "[12, 11, 10, 9, 8, 7, 6, 5, 4, 3, 2, 1]"
      ]
     },
     "execution_count": 45,
     "metadata": {},
     "output_type": "execute_result"
    }
   ],
   "source": [
    "ysale = [1,2,3,4,5,6,7,8,9,10,11,12]\n",
    "ysale[:6] \n",
    "ysale[6:]\n",
    "ysale[::2] \n",
    "ysale[::-1]"
   ]
  },
  {
   "cell_type": "code",
   "execution_count": 52,
   "metadata": {},
   "outputs": [
    {
     "name": "stdout",
     "output_type": "stream",
     "text": [
      "年間のデータは、[1, 2, 3, 4, 5, 6, 7, 8, 9, 10, 11, 12]です。\n",
      "\n",
      "上半期のデータは、[1, 2, 3, 4, 5, 6]です。\n",
      "下半期のデータは、[7, 8, 9, 10, 11, 12]です。\n",
      "1ヶ月おきのデータは、[1, 3, 5, 7, 9, 11]です。\n",
      "逆順のデータは、[12, 11, 10, 9, 8, 7, 6, 5, 4, 3, 2, 1]です。\n",
      "\n",
      "年間のデータは、[1, 2, 3, 4, 5, 6, 7, 8, 9, 10, 11, 12]です。\n",
      "上半期のデータを差し替えます。\n",
      "年間のデータは、[0, 0, 0, 0, 0, 0, 7, 8, 9, 10, 11, 12]です。\n"
     ]
    }
   ],
   "source": [
    "ysale = [1,2,3,4,5,6,7,8,9,10,11,12]\n",
    "print(f\"年間のデータは、{ysale}です。\")\n",
    "print()\n",
    "\n",
    "sale1 = ysale[:6]\n",
    "print(f\"上半期のデータは、{sale1}です。\")\n",
    "\n",
    "sale2 = ysale[6:]\n",
    "print(f\"下半期のデータは、{sale2}です。\")\n",
    "\n",
    "sale3 = ysale[::2]\n",
    "print(f\"1ヶ月おきのデータは、{sale3}です。\")\n",
    "\n",
    "sale4 = ysale[::-1]\n",
    "print(f\"逆順のデータは、{sale4}です。\")\n",
    "\n",
    "print()\n",
    "print(f\"年間のデータは、{ysale}です。\")\n",
    "print(\"上半期のデータを差し替えます。\")\n",
    "ysale[:6] = [0,0,0,0,0,0] \n",
    "print(f\"年間のデータは、{ysale}です。\")"
   ]
  },
  {
   "cell_type": "code",
   "execution_count": 53,
   "metadata": {},
   "outputs": [
    {
     "name": "stdout",
     "output_type": "stream",
     "text": [
      "現在のデータは、[1, 2, 3, 4, 5]です。\n",
      "\n",
      "data[::-1]をfor文で処理します。\n",
      "5\n",
      "4\n",
      "3\n",
      "2\n",
      "1\n",
      "data[:-1]は、[5, 4, 3, 2, 1]です。\n",
      "現在のデータは、[1, 2, 3, 4, 5]です。\n",
      "\n",
      "reversed(data)をfor文で処理します。\n",
      "5\n",
      "4\n",
      "3\n",
      "2\n",
      "1\n",
      "reversed(data)は、<list_reverseiterator object at 0x1032d0dd8>です。\n",
      "現在のデータは、[1, 2, 3, 4, 5]です。\n",
      "\n",
      "data.reverse()を処理します。\n",
      "現在のデータは、[5, 4, 3, 2, 1]です。\n"
     ]
    }
   ],
   "source": [
    "data = [1,2,3,4,5]\n",
    "print(f\"現在のデータは、{data}です。\")\n",
    "print()\n",
    "\n",
    "print(\"data[::-1]をfor文で処理します。\")\n",
    "for d in data[::-1] : \n",
    "        print(d)\n",
    "print(f\"data[:-1]は、{data[::-1]}です。\")\n",
    "print(f\"現在のデータは、{data}です。\")\n",
    "print()\n",
    "\n",
    "print(\"reversed(data)をfor文で処理します。\")\n",
    "for d in reversed(data) : \n",
    "        print(d)\n",
    "print(f\"reversed(data)は、{reversed(data)}です。\")\n",
    "print(f\"現在のデータは、{data}です。\")\n",
    "print()\n",
    "\n",
    "print(\"data.reverse()を処理します。\")\n",
    "data.reverse()\n",
    "print(f\"現在のデータは、{data}です。\")"
   ]
  },
  {
   "cell_type": "code",
   "execution_count": null,
   "metadata": {},
   "outputs": [],
   "source": []
  }
 ],
 "metadata": {
  "kernelspec": {
   "display_name": "Python 3",
   "language": "python",
   "name": "python3"
  },
  "language_info": {
   "codemirror_mode": {
    "name": "ipython",
    "version": 3
   },
   "file_extension": ".py",
   "mimetype": "text/x-python",
   "name": "python",
   "nbconvert_exporter": "python",
   "pygments_lexer": "ipython3",
   "version": "3.7.3"
  }
 },
 "nbformat": 4,
 "nbformat_minor": 2
}
